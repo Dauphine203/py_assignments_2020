{
 "cells": [
  {
   "cell_type": "markdown",
   "metadata": {},
   "source": [
    "# PEP 8 & FLAKE 8 \n",
    "\n",
    "## MSc 203 - Python Presentation\n",
    "\n",
    "### LOUZIER Amélie, LUCA DE TENA Jimena, SADAKA Alexandra"
   ]
  },
  {
   "cell_type": "markdown",
   "metadata": {},
   "source": [
    "\n",
    "\n",
    "\n",
    "# PEP 8 - Style Guide for Python Code\n",
    "\n",
    "## What is PEP 8?\n",
    "\n",
    "PEP 8, Python Enhacement Proposals, is a document that provides guidelines and best practices on how to write Python.\n",
    "\n",
    "\n",
    "It was written in 2001 by Guido Van Rossum, Barry Warsaw and Nick Coghlan.\n",
    "\n",
    "\"A code is read much more often than it is written\"\n",
    "\n",
    "The primary focus of PEP 8 is to improve the readability and consistency of Python code. It provides the basis for the big choices (tabs vs. spaces for indenting, indent width, line length, etc).\n",
    "\n",
    "\n",
    "To access full PEP8 document please go to: https://www.python.org/dev/peps/pep-0008/"
   ]
  },
  {
   "cell_type": "markdown",
   "metadata": {},
   "source": [
    "## 1. Code Lay-Out \n",
    "\n",
    "### 1.1 Indentation\n",
    "\n",
    "Code indentation refers to the spaces at the beginning of a code line.\n",
    "\n",
    "It is very important in Python language as it is used to indicate a block of code.\n",
    "\n",
    "#### Tabs or Spaces ?\n",
    "\n",
    "Spaces are the preferred indentation method.\n",
    "\n",
    "Tabs should be used solely to remain consistent with code that is already indented with tabs.\n",
    "\n",
    "#### Indentation Rules: \n",
    "\n",
    "1. Use 4 spaces per indentation level\n",
    "\n",
    "2. Continuation lines  should align wrapped elements: \n",
    "\n",
    "    2.1. Vertically using Python's implicit line joining inside parentheses, brackets and braces.\n",
    "\n",
    "    2.2. Using a hanging indent \n"
   ]
  },
  {
   "cell_type": "code",
   "execution_count": 23,
   "metadata": {},
   "outputs": [
    {
     "name": "stdout",
     "output_type": "stream",
     "text": [
      "var_three\n",
      "var_three\n"
     ]
    }
   ],
   "source": [
    "# 1. Add 4 spaces\n",
    "\n",
    "def long_function(\n",
    "        var_one, var_two, \n",
    "        var_three,var_four):\n",
    "    return var_three\n",
    "\n",
    "# 2. Aligned with opening delimiter\n",
    "\n",
    "var_1 = long_function('var_one', 'var_two',\n",
    "                      'var_three', 'var_four')\n",
    "\n",
    "print(var_1)\n",
    "\n",
    "# 3. Hanging indents\n",
    "# Nothing should be written in the first line further info in the second \n",
    "# Extra indentation is possible\n",
    "\n",
    "var_2 = long_function(\n",
    "    'var_one', 'var_two',\n",
    "    'var_three', 'var_four')\n",
    "\n",
    "print(var_2)"
   ]
  },
  {
   "cell_type": "markdown",
   "metadata": {},
   "source": [
    "### 1.2 Maximum Line Length\n",
    "\n",
    "Limit all lines to a maximum of 79 characters.\n",
    "\n",
    "For flowing long blocks of text with fewer structural restrictions (docstrings or comments), the line length should be limited to 72 characters.\n",
    "\n",
    "#### How to break a line?\n",
    "\n",
    "1. Wrapping long lines by using implied continuation inside parentheses, brackets and braces.\n",
    "\n",
    "2. Use of backlash for line continuation when it is not implicit.\n"
   ]
  },
  {
   "cell_type": "code",
   "execution_count": null,
   "metadata": {},
   "outputs": [],
   "source": [
    "#Using backlashes to break a line\n",
    "\n",
    "with open('/path/to/some/file/you/want/to/read') as file_1, \\\n",
    "     open('/path/to/some/file/being/written', 'w') as file_2\n"
   ]
  },
  {
   "cell_type": "markdown",
   "metadata": {},
   "source": [
    "### 1.3 Line Break Before or After a Binary Operator\n",
    "\n",
    "To increase readability it is better to break before binary operations, easier to match operators with operands"
   ]
  },
  {
   "cell_type": "code",
   "execution_count": null,
   "metadata": {},
   "outputs": [],
   "source": [
    "#Example of binary operation\n",
    "\n",
    "GDP = ( Consumption\n",
    "        + Investment\n",
    "        + (Government Spending - Taxes)\n",
    "        + (Exports - Imports))"
   ]
  },
  {
   "cell_type": "markdown",
   "metadata": {},
   "source": [
    "### 1.4 Blank Lines\n",
    "\n",
    "Use blank lines:\n",
    "1. Two blank lines to separate top functions, class definitions\n",
    "2. One blank line for method definitions inside a class\n",
    "3. Extra blank lines to separate groups of related functions or inside functions to indicate logical order"
   ]
  },
  {
   "cell_type": "code",
   "execution_count": 27,
   "metadata": {},
   "outputs": [
    {
     "name": "stdout",
     "output_type": "stream",
     "text": [
      "There are  5 odd numbers and 5 even numbers\n"
     ]
    }
   ],
   "source": [
    "import math\n",
    "\n",
    "\n",
    "odd_num=0\n",
    "even_num=0\n",
    "\n",
    "\n",
    "for i in range(10):\n",
    "    \n",
    "    if i%2:\n",
    "        odd_num += 1\n",
    "    else:\n",
    "        even_num += 1\n",
    "\n",
    "        \n",
    "print(\"There are \", odd_num, \"odd numbers and\", even_num, \"even numbers\")"
   ]
  },
  {
   "cell_type": "markdown",
   "metadata": {},
   "source": [
    "### 1.5 Imports\n",
    "\n",
    "Imports are always put at the top of the file, before module globals and constants\n",
    "\n",
    "Imports should usually be on separete lines"
   ]
  },
  {
   "cell_type": "code",
   "execution_count": 27,
   "metadata": {},
   "outputs": [],
   "source": [
    "#Correct\n",
    "\n",
    "import numpy \n",
    "import pandas \n",
    "\n",
    "#Wrong\n",
    "\n",
    "import numpy, pandas\n",
    "\n",
    "#It is correct though\n",
    "\n",
    "from numpy import zeros, ones\n",
    "\n",
    "#Libraries can also be renamed, easier to call\n",
    "\n",
    "import numpy as np\n",
    "import pandas as pd"
   ]
  },
  {
   "cell_type": "markdown",
   "metadata": {},
   "source": [
    "#### Different Import Methods"
   ]
  },
  {
   "cell_type": "code",
   "execution_count": 28,
   "metadata": {},
   "outputs": [
    {
     "name": "stdout",
     "output_type": "stream",
     "text": [
      "3.141592653589793\n"
     ]
    }
   ],
   "source": [
    "#1.Import Library \n",
    "# Using this method we must use math. to use any function in the math library\n",
    "\n",
    "import math\n",
    "\n",
    "print(math.pi)"
   ]
  },
  {
   "cell_type": "code",
   "execution_count": 33,
   "metadata": {},
   "outputs": [
    {
     "name": "stdout",
     "output_type": "stream",
     "text": [
      "3.141592653589793\n"
     ]
    }
   ],
   "source": [
    "#2. Import a function in a Library\n",
    "# Only pi function from math library is imported\n",
    "\n",
    "from math import pi\n",
    "\n",
    "print(pi)"
   ]
  },
  {
   "cell_type": "code",
   "execution_count": 34,
   "metadata": {
    "scrolled": true
   },
   "outputs": [
    {
     "name": "stdout",
     "output_type": "stream",
     "text": [
      "3.141592653589793\n",
      "720\n"
     ]
    }
   ],
   "source": [
    "#3. Import all funcion from al library\n",
    "# Using the name library is not necessary anymore to use any function\n",
    "\n",
    "from math import *\n",
    "\n",
    "print(pi)\n",
    "print(factorial(6))"
   ]
  },
  {
   "cell_type": "markdown",
   "metadata": {},
   "source": [
    "## 2. String Quotes\n",
    "\n",
    "In Python, single-quoted strings and double-quoted strings are the same. PEP 8 does not make any recommendation, just pick a rule and stick to it.\n"
   ]
  },
  {
   "cell_type": "code",
   "execution_count": 35,
   "metadata": {},
   "outputs": [],
   "source": [
    "#Double-quoted\n",
    "string_1 = [\"Alex\", \"Amelie\", \"Jimena\"]\n",
    "\n",
    "#Same as Single-quoted\n",
    "string_1 = ['Alex', 'Amelie','Jimena']"
   ]
  },
  {
   "cell_type": "markdown",
   "metadata": {},
   "source": [
    "#### What about special characteres in a string?\n",
    "\n",
    "When a string contains single or double quote characters:\n",
    "\n",
    "1. You can put a backslash character followed by a quote (\\\" or \\'). This is called an escape sequence and Python will remove the backslash, and put just the quote in the string.\n",
    "\n",
    "2. Use the other quotation to avoid balcklashes in the string. This is the prefered method in PEP 8."
   ]
  },
  {
   "cell_type": "code",
   "execution_count": 39,
   "metadata": {},
   "outputs": [
    {
     "name": "stdout",
     "output_type": "stream",
     "text": [
      "Here's a single-quote escape\n",
      "This is an \"escape\" of a double-quote\n"
     ]
    }
   ],
   "source": [
    "#Method One\n",
    "\n",
    "print('Here\\'s a single-quote escape')\n",
    "print(\"This is an \\\"escape\\\" of a double-quote\")"
   ]
  },
  {
   "cell_type": "code",
   "execution_count": 40,
   "metadata": {},
   "outputs": [
    {
     "name": "stdout",
     "output_type": "stream",
     "text": [
      "Here's a single-quote escape\n",
      "This is an \"escape\" of a double-quote\n"
     ]
    }
   ],
   "source": [
    "#Methond Two\n",
    "\n",
    "print(\"Here's a single-quote escape\")\n",
    "print('This is an \"escape\" of a double-quote')"
   ]
  },
  {
   "cell_type": "markdown",
   "metadata": {},
   "source": [
    "## 3. Whitespaces in Expressions and Statements\n",
    "\n",
    "PEP8 recommends to avoid whitespaces in the following situations:\n",
    "\n",
    "1. Immediately inside parentheses, brackets or braces:"
   ]
  },
  {
   "cell_type": "code",
   "execution_count": 42,
   "metadata": {},
   "outputs": [],
   "source": [
    "#Correct\n",
    "Tuple_1 = ([1], {'key1': 2})\n",
    "\n",
    "#Wrong\n",
    "Tuple_2 = ( [ 1 ], { 'key1': 2 } )"
   ]
  },
  {
   "cell_type": "markdown",
   "metadata": {},
   "source": [
    "2. Between a trailing comma and a following close parenthesis:"
   ]
  },
  {
   "cell_type": "code",
   "execution_count": 43,
   "metadata": {},
   "outputs": [],
   "source": [
    "#Correct\n",
    "Tuple_1 = (0,)\n",
    "\n",
    "#Wrong\n",
    "Tuple_2 = (0, )"
   ]
  },
  {
   "cell_type": "markdown",
   "metadata": {},
   "source": [
    "3. Immediately before a comma, semicolon, or colon:\n",
    "    **Exception, if the colon acts as an operator it should have an equal amout of spacing applied"
   ]
  },
  {
   "cell_type": "code",
   "execution_count": 50,
   "metadata": {},
   "outputs": [
    {
     "data": {
      "text/plain": [
       "[2, 3]"
      ]
     },
     "execution_count": 50,
     "metadata": {},
     "output_type": "execute_result"
    }
   ],
   "source": [
    "#Correct\n",
    "if x == 4 and y == 0:\n",
    "    x, y = y, x\n",
    "    print(x, y)\n",
    "\n",
    "l = [1, 2, 3]\n",
    "l[1:3]\n",
    "    \n",
    "#Wrong\n",
    "if x == 4 and y == 0 :\n",
    "    x , y = y , x\n",
    "    print(x , y)\n",
    "\n",
    "l = [1 , 2 , 3]\n",
    "l[1: 3]"
   ]
  },
  {
   "cell_type": "markdown",
   "metadata": {},
   "source": [
    "4. Immidiately before the open parenthesis that starts argument list, indexing or slicing:"
   ]
  },
  {
   "cell_type": "code",
   "execution_count": 54,
   "metadata": {},
   "outputs": [
    {
     "data": {
      "text/plain": [
       "3"
      ]
     },
     "execution_count": 54,
     "metadata": {},
     "output_type": "execute_result"
    }
   ],
   "source": [
    "#Correct\n",
    "l[2]\n",
    "\n",
    "#Wrong\n",
    "l [2]"
   ]
  },
  {
   "cell_type": "markdown",
   "metadata": {},
   "source": [
    "5. Always surround these binary operators with a single space on either side: \n",
    "    - Assignment (=)\n",
    "    - Augmented assignment (+=, -= etc.)\n",
    "    - Comparisons (==, <, >, !=, <>, <=, >=, in, not in, is, is not)\n",
    "    - Booleans (and, or, not).\n",
    "\n",
    "** If operators with different priorities are used, consider adding whitespace around the operators with the lowest priority."
   ]
  },
  {
   "cell_type": "code",
   "execution_count": 64,
   "metadata": {},
   "outputs": [
    {
     "name": "stdout",
     "output_type": "stream",
     "text": [
      "81\n",
      "99\n",
      "81\n",
      "99\n"
     ]
    }
   ],
   "source": [
    "#Correct\n",
    "\n",
    "sum_odd_num = 0\n",
    "sum_even_num = 0\n",
    "\n",
    "for i in range(1,10):\n",
    "    \n",
    "    sum_odd_num += 2*i - 1 \n",
    "    sum_even_num += 2*i + 1\n",
    "    \n",
    "print(sum_odd_num)\n",
    "print(sum_even_num)\n",
    "\n",
    "#Wrong\n",
    "\n",
    "sum_odd_num=0\n",
    "sum_even_num=0\n",
    "\n",
    "for i in range(1,10):\n",
    "    \n",
    "    sum_odd_num+=2*i-1 \n",
    "    sum_even_num+=2*i+1\n",
    "    \n",
    "print(sum_odd_num)\n",
    "print(sum_even_num)\n",
    "  \n"
   ]
  },
  {
   "cell_type": "markdown",
   "metadata": {},
   "source": [
    "6. Compound statements (multiple statements on the same line) are generally discouraged"
   ]
  },
  {
   "cell_type": "code",
   "execution_count": null,
   "metadata": {},
   "outputs": [],
   "source": [
    "# Correct\n",
    "if foo == 'blah':\n",
    "    do_blah_thing()\n",
    "do_one()\n",
    "do_two()\n",
    "do_three()\n",
    "\n",
    "# Wrong\n",
    "if foo == 'blah': do_blah_thing()\n",
    "do_one(); do_two(); do_three()"
   ]
  },
  {
   "cell_type": "markdown",
   "metadata": {},
   "source": [
    "## 4. When to Use Trailing Commas\n",
    "\n",
    "Trailing commas are usually optional, except they are mandatory when making a tuple of one element. Otherwise it doesn't make sence to have a trailing comma on the same line as a closing delimiter.\n",
    "\n",
    "Also usefull when a list of values or arguments is expected to be extended over time, we put each element in a line and add a trailing comma. "
   ]
  },
  {
   "cell_type": "code",
   "execution_count": 66,
   "metadata": {},
   "outputs": [],
   "source": [
    "#Correct\n",
    "Names = [\n",
    "    'Alex',\n",
    "    'Amelie',\n",
    "    'Jimena',\n",
    "    ]\n",
    "\n",
    "Name = ('Michael',)\n",
    "\n",
    "#Wrong\n",
    "Names = ['Alex','Amelie','Jimena',]\n",
    "\n",
    "Name = ('Michael')"
   ]
  },
  {
   "cell_type": "markdown",
   "metadata": {},
   "source": [
    "## 5. Comments\n",
    "\n",
    "Comment Rules:\n",
    "\n",
    "1. No comment is better than a comment that contradicts the code. Update your coments with your code!\n",
    "\n",
    "2. Commets should be complete sentences!\n",
    "\n",
    "3. Clear comments and easy understandable\n",
    "\n",
    "4. Comments should be written in English\n",
    "\n",
    "### 5.1 Block Comments\n",
    "\n",
    "- Block comments apply and are indented to the same level as the code they apply\n",
    "\n",
    "- Each line of a block comment starts with # and single space\n",
    "\n",
    "- Paragraphs inside a block comment are separated by a line containing a single #\n",
    "\n",
    "### 5.2 Inline Comments\n",
    "\n",
    "- An inline comment is a comment on the same line as a statement \n",
    "- Inline comments should be separated by at least two spaces from the statement\n",
    "- They should start with a # and a single space\n",
    "\n",
    "### 5.3 Documentation Strings\n",
    "\n",
    "- Write docstrings for all public modules, functions, classes, and methods to describe what the method does.\n",
    "- The \"\"\" that ends a multiline docstring should be on a line by itself"
   ]
  },
  {
   "cell_type": "code",
   "execution_count": null,
   "metadata": {},
   "outputs": [],
   "source": [
    "#This is an example of a Block Comment\n",
    "#\n",
    "#Block comments apply and are indented to the same level as the code they apply\n",
    "#Each line of a block comment starts with # and single space\n",
    "#Paragraphs inside a block comment are separated by a line containing a single #\n",
    "\n",
    "#Inline Comment\n",
    "\n",
    "Name = 'Michael'    #Teacher's Name\n",
    "\n",
    "\"\"\" Documentation Strings Example\n",
    "\n",
    "- Write docstrings for all public modules, functions, classes, and methods to describe what the method does.\n",
    "- The \\\"\"\" that ends a multiline docstring should be on a line by itself\n",
    "\n",
    "\"\"\""
   ]
  },
  {
   "cell_type": "markdown",
   "metadata": {},
   "source": [
    "## 6. Naming Conventions\n",
    "\n",
    "Names that are visible to the user as public should follow conventions that reflect usage rather than implementation\n",
    "\n",
    "\n",
    "### 6.1 Naming Styles\n",
    "\n",
    "The following naming styles are commonly distinguished:\n",
    "\n",
    "- b (single lowercase letter)\n",
    "- B (single uppercase letter)\n",
    "- lowercase\n",
    "- lower_case_with_underscores\n",
    "- UPPERCASE\n",
    "- UPPER_CASE_WITH_UNDERSCORES\n",
    "- CapitalizedWords\n",
    "- mixedCase \n",
    "- Capitalized_Words_With_Underscores (ugly!)\n",
    "- single_trailing_underscore_ (used by convention to avoid conflicts with Python keyword)\n",
    "- \\__double_leading_and_trailing_underscore__  ( only for \"magic\" objects, never invent such names)\n",
    "\n",
    "You can also use a unique prefix to refer to same group names, \n",
    "\n",
    "For example with returns (ret): ret_mean, ret_std, ret_max...\n",
    "\n",
    "### 6.2 Naming Conventions\n",
    "\n",
    "#### General\n",
    "\n",
    "- Avoid using names that are too general or too wordy. Strike a good balance between the two.\n",
    "\n",
    "Wrong:\n",
    "\n",
    "Data_structure, my_list, info_map, dictionary_for_the_purpose_of_storing_data_representing_word_definitions\n",
    "\n",
    "Correct:\n",
    "\n",
    "user_profile, menu_options, word_definitions\n",
    "\n",
    "- Don’t be a jackass and name things “O”, “l”, or “I”\n",
    "- When using CapitalizedWords names, capitalize all letters of an abbreviation (Ex: HTTPServer)\n",
    "\n",
    "#### Package Names\n",
    "\n",
    "- Short and all lowercase names\n",
    "- When multiple words are needed, an underscore should separate them but not recommended\n",
    "- Preferable to stick to one word names\n",
    "\n",
    "Ex: numpy, pandas, math...\n",
    "\n",
    "#### Modules Names (Python files with a .py extension)\n",
    "\n",
    "- Short and all lowercase names\n",
    "- When multiple words are needed, an underscore should separate them \n",
    "\n",
    "Ex: python_presentation\n",
    "\n",
    "#### Class Names\n",
    "\n",
    "- Normally use the CapitalizedWords convention\n",
    "\n",
    "Ex: Car(), Trade()\n",
    "\n",
    "#### Built-in Names\n",
    "\n",
    "- Builtin names are single words (or two words run together)\n",
    "- lowercase convention for built-in classes\n",
    "- CapWords convention used only for exception names and built-in constants\n",
    "\n",
    "Ex: Built-in function \"print()\", Built-in Constant \"False\"\n",
    "\n",
    "#### Global Variables\n",
    "\n",
    "- lowercase names\n",
    "- When multiple words are needed, an underscore should separate them \n",
    "\n",
    "Ex: x, y, total_periods\n",
    "\n",
    "\n",
    "#### Instance Variables and Method Names\n",
    "\n",
    "- lowercase names\n",
    "- When multiple words are needed, an underscore should separate them \n",
    "- Non-public instance variables should begin with a single underscore\n",
    "- If an instance name needs to be mangled, two underscores may begin its name\n",
    "\n",
    "#### Method Arguments\n",
    "\n",
    "- Instance methods should have their first argument named ‘self’.\n",
    "- Class methods should have their first argument named ‘cls’\n",
    "\n",
    "#### Function and Variable Names\n",
    "\n",
    "- lowercase names\n",
    "- When multiple words are needed, an underscore should separate them \n",
    "\n",
    "Ex: sum_odd_num, fibo()...\n",
    "\n",
    "#### Constants\n",
    "\n",
    "- UPPERCASE names\n",
    "- When multiple words are needed, an underscore should separate them \n",
    "\n",
    "Ex: MAX_OVERFLOW, TOTAL"
   ]
  },
  {
   "cell_type": "markdown",
   "metadata": {},
   "source": [
    "## 7. Other Programming Recommendations\n",
    "\n",
    "The list of programming recommendations can be found in PEP8 document.\n",
    "\n",
    "This is a non exhaustive list of some of the most important recommendations:\n",
    "\n",
    "1. Comparisons to singletons like None should always be done with is or is not, never the equality operators"
   ]
  },
  {
   "cell_type": "code",
   "execution_count": 30,
   "metadata": {},
   "outputs": [],
   "source": [
    "x = None\n",
    "\n",
    "#Correct\n",
    "if x is None: \n",
    "    x = 0\n",
    "\n",
    "#Wrong\n",
    "if x == None: \n",
    "    x = 0"
   ]
  },
  {
   "cell_type": "markdown",
   "metadata": {},
   "source": [
    "2. Always use a def statement instead of an assignment statement that binds a lambda expression directly to an identifier"
   ]
  },
  {
   "cell_type": "code",
   "execution_count": 29,
   "metadata": {},
   "outputs": [],
   "source": [
    "# Correct\n",
    "def f(x): return 2*x\n",
    "\n",
    "# Wrong\n",
    "f = lambda x: 2*x"
   ]
  },
  {
   "cell_type": "markdown",
   "metadata": {},
   "source": [
    "3.  Be consistent in return statements. Either all return statements in a function should return an expression, or none of them should\n",
    "\n",
    "    If any return statement returns an expression, any return statements where no value is returned should explicitly state this as return None\n"
   ]
  },
  {
   "cell_type": "code",
   "execution_count": 16,
   "metadata": {},
   "outputs": [],
   "source": [
    "# Correct\n",
    "def is_positive(x):\n",
    "    \n",
    "    if x > 0:\n",
    "        return 'is positive'\n",
    "    else:\n",
    "        return None\n",
    "\n",
    "# Wrong\n",
    "def is_positive(x):\n",
    "    \n",
    "    if x > 0:\n",
    "        return 'is positive'"
   ]
  },
  {
   "cell_type": "markdown",
   "metadata": {},
   "source": [
    "4. Object type comparisons should always use isinstance() instead of comparing types directly"
   ]
  },
  {
   "cell_type": "code",
   "execution_count": 18,
   "metadata": {},
   "outputs": [],
   "source": [
    "# Correct\n",
    "if isinstance(obj, int): obj += 1\n",
    "\n",
    "# Wrong\n",
    "if type(obj) is type(1): obj += 1"
   ]
  },
  {
   "cell_type": "markdown",
   "metadata": {},
   "source": [
    "5. Don't compare boolean values to True or False using == "
   ]
  },
  {
   "cell_type": "code",
   "execution_count": 1,
   "metadata": {},
   "outputs": [
    {
     "name": "stdout",
     "output_type": "stream",
     "text": [
      "Don't forget your umbrella!\n",
      "Don't forget your umbrella!\n",
      "Don't forget your umbrella!\n"
     ]
    }
   ],
   "source": [
    "rain = True\n",
    "\n",
    "# Correct\n",
    "if rain: \n",
    "    print(\"Don't forget your umbrella!\")\n",
    "\n",
    "#Correct\n",
    "if rain is True: \n",
    "    print(\"Don't forget your umbrella!\")\n",
    "\n",
    "#Wrong\n",
    "if rain == True: print(\"Don't forget your umbrella!\")"
   ]
  },
  {
   "cell_type": "markdown",
   "metadata": {},
   "source": [
    "# FLAKE 8\n",
    "\n",
    "### What is \"Linting\"?\n",
    "\n",
    "“Linting” means running a basic quality tool against your code. The tool will check your code syntax and provide instructions on how to clean it.\n",
    "\n",
    "### Why is “linting” important and why should we use it?\n",
    "- Linting helps to prevent bugs in your program\n",
    "- Linting makes you a better developer by helping write a better code (checking against coding standards)\n",
    "- Helps prevent things like syntax errors, typos, bad formatting, incorrect styling, etc\n",
    "- If you are working with a team, it saves time for people who are reviewing your code (no need to distrust for typos and formatting issues)\n",
    "\n",
    "### What is Flake8?\n",
    "\n",
    "It is a python code linter tool used for style guide enforcement. We can use it to find errors in the code or warnings about style so it is used as a way to lint the code and enforce PEP8 compliance.\n",
    "\n",
    "### How to install Flake8?\n",
    "\n",
    "Just run \"python -m pip install flake8\" in your console (terminal on mac)\n",
    "\n",
    "### How to use Flake8?\n",
    "\n",
    "\n",
    "Run this code \"flake8 path/to/file.py\" in your console"
   ]
  },
  {
   "cell_type": "markdown",
   "metadata": {},
   "source": [
    "### Wrong code to test Flake8\n",
    "\n",
    "Save the code in a .py file and run the command \"flake8 path/to/file.py\" in the prompt"
   ]
  },
  {
   "cell_type": "code",
   "execution_count": 2,
   "metadata": {},
   "outputs": [
    {
     "data": {
      "text/plain": [
       "[1, 1, 2, 3, 5]"
      ]
     },
     "execution_count": 2,
     "metadata": {},
     "output_type": "execute_result"
    }
   ],
   "source": [
    "def fibo(n):\n",
    "    output=[]\n",
    "    a , b= 0 , 1\n",
    "    for i in range(n):\n",
    "        temp=a\n",
    "        a=b\n",
    "        b=a+temp\n",
    "        output.append(a)\n",
    "    return output\n",
    "fibo(5)"
   ]
  },
  {
   "cell_type": "code",
   "execution_count": 3,
   "metadata": {},
   "outputs": [],
   "source": [
    "import numpy, math"
   ]
  },
  {
   "cell_type": "code",
   "execution_count": 4,
   "metadata": {},
   "outputs": [
    {
     "name": "stdout",
     "output_type": "stream",
     "text": [
      "Hello, everyone! How are you doing today? Hope you’re all well. Have a nice day and see you next week!!\n"
     ]
    }
   ],
   "source": [
    "print(\"Hello, everyone! How are you doing today? Hope you’re all well. Have a nice day and see you next week!!\")"
   ]
  },
  {
   "cell_type": "code",
   "execution_count": null,
   "metadata": {},
   "outputs": [],
   "source": [
    "GDP = ( Consumption+Investment + ( GovernmentSpending - Taxes ) + (Exports - Imports))"
   ]
  },
  {
   "cell_type": "code",
   "execution_count": 6,
   "metadata": {},
   "outputs": [],
   "source": [
    "Names = ['Alex','Amelie','Jimena',]"
   ]
  },
  {
   "cell_type": "code",
   "execution_count": 7,
   "metadata": {},
   "outputs": [],
   "source": [
    "x = None\n",
    "\n",
    "#Wrong\n",
    "if x == None: \n",
    "    x = 0"
   ]
  },
  {
   "cell_type": "code",
   "execution_count": 8,
   "metadata": {},
   "outputs": [],
   "source": [
    "def is_positive(x):\n",
    "    \n",
    "    if x > 0:\n",
    "        return 'is positive'"
   ]
  },
  {
   "cell_type": "code",
   "execution_count": 9,
   "metadata": {},
   "outputs": [
    {
     "name": "stdout",
     "output_type": "stream",
     "text": [
      "Don't forget your umbrella!\n",
      "Don't forget your umbrella!\n",
      "Don't forget your umbrella!\n"
     ]
    }
   ],
   "source": [
    "rain = True\n",
    "\n",
    "if rain:\n",
    "    print(\"Don't forget your umbrella!\")\n",
    "if rain is True:\n",
    "    print(\"Don't forget your umbrella!\")\n",
    "\n",
    "if rain == True: print(\"Don't forget your umbrella!\")"
   ]
  },
  {
   "cell_type": "code",
   "execution_count": null,
   "metadata": {},
   "outputs": [],
   "source": []
  }
 ],
 "metadata": {
  "kernelspec": {
   "display_name": "Python 3",
   "language": "python",
   "name": "python3"
  },
  "language_info": {
   "codemirror_mode": {
    "name": "ipython",
    "version": 3
   },
   "file_extension": ".py",
   "mimetype": "text/x-python",
   "name": "python",
   "nbconvert_exporter": "python",
   "pygments_lexer": "ipython3",
   "version": "3.8.3"
  }
 },
 "nbformat": 4,
 "nbformat_minor": 4
}
