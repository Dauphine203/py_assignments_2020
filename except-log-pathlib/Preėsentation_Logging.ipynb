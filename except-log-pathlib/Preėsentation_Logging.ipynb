{
 "cells": [
  {
   "cell_type": "markdown",
   "metadata": {},
   "source": [
    "# Logging\n",
    "&nbsp;\n",
    "\n",
    "\n",
    "<p> Logging allow to track events that happen when some software runs.  </p>\n",
    "\n",
    "<p>The software’s developer adds logging calls to their code to indicate that certain events have occurred. </p>\n",
    "\n",
    "<p>An event is described by a descriptive message which can optionally contain variable data (i.e. data that is potentially different for each occurrence of the event). Events also have an importance which the developer ascribes to the event; the importance can also be called the level or severity.</p>\n",
    "\n",
    "&nbsp;"
   ]
  },
  {
   "cell_type": "code",
   "execution_count": 1,
   "metadata": {},
   "outputs": [],
   "source": [
    "import logging"
   ]
  },
  {
   "cell_type": "markdown",
   "metadata": {},
   "source": [
    "&nbsp;\n",
    "\n",
    "<p>Python comes with a logging module in the standard library that provides a flexible framework for emitting log messages from Python programs. This module is widely used by libraries and is the first go-to point for most developers when it comes to logging.</p>\n",
    "\n",
    "&nbsp; \n",
    "\n",
    "<p>The module provides a way for applications to configure different log handlers and a way of routing log messages to these handlers. This allows for a highly flexible configuration that can deal with a lot of different use cases.\n",
    "Here follows an example of a warning saying \"Watch out!\"</p>\n",
    "\n",
    "\n",
    "&nbsp;\n",
    "\n",
    "\n",
    "\n",
    "\n",
    "\n"
   ]
  },
  {
   "cell_type": "code",
   "execution_count": 2,
   "metadata": {
    "scrolled": true
   },
   "outputs": [
    {
     "name": "stderr",
     "output_type": "stream",
     "text": [
      "WARNING:root:Watch out!\n"
     ]
    }
   ],
   "source": [
    "logging.warning('Watch out!')"
   ]
  },
  {
   "cell_type": "markdown",
   "metadata": {},
   "source": [
    "  "
   ]
  },
  {
   "cell_type": "markdown",
   "metadata": {},
   "source": [
    "### Level of Logging\n",
    "&nbsp;\n",
    "\n",
    "There exist <strong>5 levels of logging</strong> (from the most to the least serious):\n",
    "\n",
    "- <strong>CRITICAL</strong> : This is the most serious error, indicating that the program itself may be unable to continue running.\n",
    "\n",
    "\n",
    "- <strong>ERROR</strong> : This is due to a more serious problem. The program has not been able to perform some function(s).\n",
    "\n",
    "\n",
    "- <strong>WARNING</strong> : This is an indication that something unexpected happened or indicative of some problem arriving soon (for example: Disk space low). The program still working as expected.\n",
    "\n",
    "\n",
    "- <strong>INFO</strong> : This is typically confirmation that things are working as expected.\n",
    "\n",
    "\n",
    "- <strong>DEBUG</strong> : This is a detailed information, typically of interest only when diagnosing problems.\n",
    "\n",
    "&nbsp;\n"
   ]
  },
  {
   "cell_type": "code",
   "execution_count": 10,
   "metadata": {},
   "outputs": [
    {
     "name": "stderr",
     "output_type": "stream",
     "text": [
      "CRITICAL:root:This is the most critical level of logging. It may be dangerous\n",
      "ERROR:root:This is an error, take care.\n",
      "WARNING:root:Be careful, something unexpected happened.\n",
      "INFO:root:It worked\n",
      "DEBUG:root:Just to let you know that everytging is ok with this program\n"
     ]
    }
   ],
   "source": [
    "logging.critical('This is the most critical level of logging. It may be dangerous')\n",
    "logging.error('This is an error, take care.')\n",
    "logging.warning(\"Be careful, something unexpected happened.\")\n",
    "logging.info(\"It worked\")\n",
    "logging.debug(\"Just to let you know that everytging is ok with this program\")"
   ]
  },
  {
   "cell_type": "markdown",
   "metadata": {},
   "source": [
    "&nbsp;\n",
    "\n",
    "By default, the system will log into Warning by default. \n",
    "Meaning, it will ignore INFO and DEBUG. So they won't be displayed.. this means that system is going to display the following logging calls:\n",
    "- <strong>CRITICAL</strong>\n",
    "- <strong>ERROR</strong>\n",
    "- <strong>WARNING</strong>\n",
    "\n",
    "&nbsp;\n",
    "\n",
    "If we want to display all of the calls, we have to change the default logging level. In some cases, displaying messages can slow down the execution and as a result increase the execution time of the program. Here follow how to change the log default. Now logging calls are displayed for the 5 levels.\n",
    "\n",
    "\n",
    "&nbsp;"
   ]
  },
  {
   "cell_type": "code",
   "execution_count": 11,
   "metadata": {},
   "outputs": [
    {
     "name": "stderr",
     "output_type": "stream",
     "text": [
      "CRITICAL:root:This is the most critical level of logging. It may be dangerous\n",
      "ERROR:root:This is an error, take care.\n",
      "WARNING:root:Be careful, something unexpected happened.\n",
      "INFO:root:It worked\n",
      "DEBUG:root:Just to let you know that everything is ok with this program\n"
     ]
    }
   ],
   "source": [
    "logger1 = logging.getLogger()\n",
    "logger1.setLevel(logging.DEBUG)\n",
    "logger1.critical('This is the most critical level of logging. It may be dangerous')\n",
    "logger1.error('This is an error, take care.')\n",
    "logger1.warning(\"Be careful, something unexpected happened.\")\n",
    "logger1.info(\"It worked\")\n",
    "logger1.debug(\"Just to let you know that everything is ok with this program\")"
   ]
  },
  {
   "cell_type": "markdown",
   "metadata": {},
   "source": [
    "### Format\n",
    "\n",
    "&nbsp;\n",
    "\n",
    "With the Logging Library, you can actually format how you want the logging call to appear.\n",
    "You can add parameters such as the Date, the Time, the time with miliseconds. You can also chose not to display the message or not the level. \n",
    "\n",
    "Here follows an example with the default logging format and the new one with the level, the date, the time and the message. \n"
   ]
  },
  {
   "cell_type": "code",
   "execution_count": 7,
   "metadata": {},
   "outputs": [
    {
     "name": "stderr",
     "output_type": "stream",
     "text": [
      "CRITICAL - 2020-10-13 15:11:36,686 -  This is the most critical level of logging. It may be dangerous\n",
      "CRITICAL:Default Example:This is the most critical level of logging. It may be dangerous\n",
      "ERROR - 2020-10-13 15:11:36,688 -  This is an error, take care.\n",
      "ERROR:Default Example:This is an error, take care.\n",
      "WARNING - 2020-10-13 15:11:36,690 -  Be careful, something unexpected happened.\n",
      "WARNING:Default Example:Be careful, something unexpected happened.\n",
      "INFO - 2020-10-13 15:11:36,691 -  It worked\n",
      "INFO:Default Example:It worked\n",
      "DEBUG - 2020-10-13 15:11:36,693 -  Just to let you know that everytging is ok with this program\n",
      "DEBUG:Default Example:Just to let you know that everytging is ok with this program\n"
     ]
    }
   ],
   "source": [
    "import sys\n",
    "# create logger\n",
    "logger = logging.getLogger(\"Default Example\")\n",
    "logger.setLevel(logging.DEBUG)\n",
    "\n",
    "# create console handler and set level to debug\n",
    "ch = logging.StreamHandler()\n",
    "ch.setLevel(logging.DEBUG)\n",
    "\n",
    "# create formatter\n",
    "formatter = logging.Formatter('%(levelname)s - %(asctime)s -  %(message)s')\n",
    "\n",
    "# add formatter to ch\n",
    "ch.setFormatter(formatter)\n",
    "\n",
    "# add ch to logger\n",
    "logger.addHandler(ch)\n",
    "\n",
    "logger.critical('This is the most critical level of logging. It may be dangerous')\n",
    "logger.error('This is an error, take care.')\n",
    "logger.warning(\"Be careful, something unexpected happened.\")\n",
    "logger.info(\"It worked\")\n",
    "logger.debug(\"Just to let you know that everytging is ok with this program\")"
   ]
  },
  {
   "cell_type": "markdown",
   "metadata": {},
   "source": [
    "Here we can compare the initial version of the logs with the formatted one.\n",
    "\n",
    "&nbsp;\n",
    "\n",
    "In the previous code section, I used an object called <strong>Handler</strong>.\n",
    "\n",
    "<strong>Handler</strong> objects are responsible for dispatching the appropriate log messages to the handler’s specified destination. Logger objects can add zero or more handler objects to themselves with an <strong>addHandler()</strong> method. \n",
    "As an example scenario, an application may want to send all log messages to a log file or send all messages of critical level to an email address and Error to another email address. This scenario require individual handlers where each handler is responsible for sending messages of a specific severity to a specific location.\n",
    "\n",
    "<strong>Formatter</strong> objects have used to specify the final order, structure, and contents of the log messages.  This constructor takes two optional arguments – a message format string and a date format string.\n",
    "\n",
    "\n",
    "Some of the logging functions presented here are quite ardous coding on Jupyter Notebook but they are very praticial when using for example Spyder.\n"
   ]
  },
  {
   "cell_type": "markdown",
   "metadata": {},
   "source": [
    "&nbsp;\n",
    "\n",
    "## Conclusion\n",
    "\n",
    "&nbsp;\n",
    "\n",
    "\n",
    "\n",
    "Logging in Python is pretty simple and well-standardized, thanks to a powerful logging framework right in the standard library.\n",
    "\n",
    "Modules should simply log everything to a logger instance for their module name. This makes it easy for the application to carry log messages of different modules and eventually send them to different places, if necessary.\n",
    "\n",
    "Finally, Applications have several options to configure logging. Unless specifically needed, simply logging and letting system or your container handle log messages is sufficient and the best approach.\n",
    "\n",
    "That concludes the basic tutorial. It should be enough to get you up and running with logging. There’s a lot more that the logging package offers, but to get the best out of it, you’ll need to invest a little more of your time in struggling with the Python documentation. If you’re ready for that, grab some of your favourite beverage and carry on.\n",
    "\n"
   ]
  },
  {
   "cell_type": "code",
   "execution_count": null,
   "metadata": {},
   "outputs": [],
   "source": []
  }
 ],
 "metadata": {
  "kernelspec": {
   "display_name": "Python 3",
   "language": "python",
   "name": "python3"
  },
  "language_info": {
   "codemirror_mode": {
    "name": "ipython",
    "version": 3
   },
   "file_extension": ".py",
   "mimetype": "text/x-python",
   "name": "python",
   "nbconvert_exporter": "python",
   "pygments_lexer": "ipython3",
   "version": "3.7.4"
  }
 },
 "nbformat": 4,
 "nbformat_minor": 2
}
