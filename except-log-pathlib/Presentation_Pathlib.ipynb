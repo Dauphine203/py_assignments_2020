{
 "cells": [
  {
   "cell_type": "markdown",
   "metadata": {},
   "source": [
    "#  The Pathlib module"
   ]
  },
  {
   "cell_type": "markdown",
   "metadata": {},
   "source": [
    "## Windows or not Windows ...  "
   ]
  },
  {
   "cell_type": "markdown",
   "metadata": {},
   "source": [
    "As you may know, there are different Operating Systems (Windows or Mac among others). These Operating Systems have an impact when you need for instance to open files. \n"
   ]
  },
  {
   "cell_type": "code",
   "execution_count": 1,
   "metadata": {},
   "outputs": [
    {
     "name": "stdout",
     "output_type": "stream",
     "text": [
      "Hi there !\n",
      "\n",
      "\n",
      "\n",
      "Blabla\n"
     ]
    }
   ],
   "source": [
    "# Opening a file with a Mac : \n",
    "\n",
    "with open(r'/Users/Basile/Documents/Dauphine/M2_203/Python/Session_5/testfile.txt','r') as f:\n",
    "    for line in f:\n",
    "        print(line)\n",
    "        \n",
    "# <with> : protocol manager. Automatically shuts down the file once we exit the instruction bloc\n",
    "# <r> : precise that the incoming input will be a string\n",
    "# <, 'r'> : precise that we will be reading the file\n",
    "# <as f:> : name given to the file, \":\" delimitates the instruction bloc"
   ]
  },
  {
   "cell_type": "code",
   "execution_count": 2,
   "metadata": {},
   "outputs": [
    {
     "ename": "FileNotFoundError",
     "evalue": "[Errno 2] No such file or directory: '\\\\Users\\\\Basile\\\\Documents\\\\Dauphine\\\\M2_203\\\\Python\\\\Session_5\\\\testfile.txt'",
     "output_type": "error",
     "traceback": [
      "\u001b[0;31m---------------------------------------------------------------------------\u001b[0m",
      "\u001b[0;31mFileNotFoundError\u001b[0m                         Traceback (most recent call last)",
      "\u001b[0;32m<ipython-input-2-cc06d3608bf0>\u001b[0m in \u001b[0;36m<module>\u001b[0;34m\u001b[0m\n\u001b[1;32m      1\u001b[0m \u001b[0;31m# Same code with a Windows :\u001b[0m\u001b[0;34m\u001b[0m\u001b[0;34m\u001b[0m\u001b[0;34m\u001b[0m\u001b[0m\n\u001b[1;32m      2\u001b[0m \u001b[0;34m\u001b[0m\u001b[0m\n\u001b[0;32m----> 3\u001b[0;31m \u001b[0;32mwith\u001b[0m \u001b[0mopen\u001b[0m\u001b[0;34m(\u001b[0m\u001b[0;34mr'\\Users\\Basile\\Documents\\Dauphine\\M2_203\\Python\\Session_5\\testfile.txt'\u001b[0m\u001b[0;34m,\u001b[0m\u001b[0;34m'r'\u001b[0m\u001b[0;34m)\u001b[0m \u001b[0;32mas\u001b[0m \u001b[0mf\u001b[0m\u001b[0;34m:\u001b[0m\u001b[0;34m\u001b[0m\u001b[0;34m\u001b[0m\u001b[0m\n\u001b[0m\u001b[1;32m      4\u001b[0m     \u001b[0;32mfor\u001b[0m \u001b[0mline\u001b[0m \u001b[0;32min\u001b[0m \u001b[0mf\u001b[0m\u001b[0;34m:\u001b[0m\u001b[0;34m\u001b[0m\u001b[0;34m\u001b[0m\u001b[0m\n\u001b[1;32m      5\u001b[0m         \u001b[0mprint\u001b[0m\u001b[0;34m(\u001b[0m\u001b[0mline\u001b[0m\u001b[0;34m)\u001b[0m\u001b[0;34m\u001b[0m\u001b[0;34m\u001b[0m\u001b[0m\n",
      "\u001b[0;31mFileNotFoundError\u001b[0m: [Errno 2] No such file or directory: '\\\\Users\\\\Basile\\\\Documents\\\\Dauphine\\\\M2_203\\\\Python\\\\Session_5\\\\testfile.txt'"
     ]
    }
   ],
   "source": [
    "# Same code with a Windows : \n",
    "\n",
    "with open(r'\\Users\\Basile\\Documents\\Dauphine\\M2_203\\Python\\Session_5\\testfile.txt','r') as f:\n",
    "    for line in f:\n",
    "        print(line)\n",
    "        "
   ]
  },
  {
   "cell_type": "markdown",
   "metadata": {},
   "source": [
    "The only difference is the utilisation of </> with Mac whereas <\\> is used with Windows. "
   ]
  },
  {
   "cell_type": "markdown",
   "metadata": {},
   "source": [
    "To avoid such mismatch which can be really troubling and hard to find, Python developed a module, Pathlib. It creates paths objects with a appropriate semantic for the considered operating system. In other words, with such Paths, you can manipulate files whatever the computer your working on.   "
   ]
  },
  {
   "cell_type": "markdown",
   "metadata": {},
   "source": [
    "## First operation"
   ]
  },
  {
   "cell_type": "code",
   "execution_count": 3,
   "metadata": {},
   "outputs": [],
   "source": [
    "import pathlib"
   ]
  },
  {
   "cell_type": "markdown",
   "metadata": {},
   "source": [
    "## Pure Paths and Concrete Paths"
   ]
  },
  {
   "cell_type": "markdown",
   "metadata": {},
   "source": [
    "A Pure Path allows to handle path operations. These operations do not access a filesystem. In other words, you can travel among the different paths but you cannot enter a '.txt' file for instance.\n",
    "\n",
    "A Concrete Path is a sub-class of Pure Paths. They provide the same methods as of Pure Paths, differentiating themselves by the available in and out operations. In other words, with Concrete Paths, you can enter a '.txt' file for instance. \n"
   ]
  },
  {
   "cell_type": "markdown",
   "metadata": {},
   "source": [
    "There are 3 \"flavours\" (=class) for Pure Paths : \n",
    "    - PurePath : Generic term. When you don't specify whether you have a Windows filesystem or not\n",
    "    - PurePosixPath : When you don't have a Windows filesystem\n",
    "    - PureWindowsPath : When you specify you have a Windows filesystem"
   ]
  },
  {
   "cell_type": "markdown",
   "metadata": {},
   "source": [
    "There are 3 \"flavours\" (=class) for Concrete Paths : \n",
    "    - Path : Generic term. When you don't specify whether you have a Windows filesystem or not\n",
    "    - PosixPath : When you don't have a Windows filesystem\n",
    "    - WindowsPath : When you specify you have a Windows filesystem"
   ]
  },
  {
   "cell_type": "markdown",
   "metadata": {},
   "source": [
    "We will focus on Concrete Paths because they are the most used ones and because ultimately we will need to access the data within the files. "
   ]
  },
  {
   "cell_type": "markdown",
   "metadata": {},
   "source": [
    "## Creating a (Concrete) Path ..."
   ]
  },
  {
   "cell_type": "markdown",
   "metadata": {},
   "source": [
    "There are several ways to create a Path (as all the Paths lead to Roma) :"
   ]
  },
  {
   "cell_type": "markdown",
   "metadata": {},
   "source": [
    "### ... With an explicit string "
   ]
  },
  {
   "cell_type": "code",
   "execution_count": 4,
   "metadata": {},
   "outputs": [
    {
     "data": {
      "text/plain": [
       "PosixPath('/Users/Basile/Documents/Dauphine/M2_203/Python/Session_5/testfile.txt')"
      ]
     },
     "execution_count": 4,
     "metadata": {},
     "output_type": "execute_result"
    }
   ],
   "source": [
    "Path_1 = pathlib.Path(r'/Users/Basile/Documents/Dauphine/M2_203/Python/Session_5/testfile.txt')\n",
    "Path_1"
   ]
  },
  {
   "cell_type": "markdown",
   "metadata": {},
   "source": [
    "We see that we correctly obtain a path object, adapted to my Operating System !"
   ]
  },
  {
   "cell_type": "markdown",
   "metadata": {},
   "source": [
    "### ... Building it"
   ]
  },
  {
   "cell_type": "code",
   "execution_count": 5,
   "metadata": {},
   "outputs": [
    {
     "data": {
      "text/plain": [
       "PosixPath('/Users/Basile/Documents/Dauphine/M2_203/Python/Session_5/testfile.txt')"
      ]
     },
     "execution_count": 5,
     "metadata": {},
     "output_type": "execute_result"
    }
   ],
   "source": [
    "import pathlib\n",
    "\n",
    "pathlib.Path.home()/'Documents'/'Dauphine'/'M2_203'/'Python'/'Session_5'/'testfile.txt'\n",
    "\n",
    "\n",
    "# <pathlib.Path.hom()> Return a new path object representing \n",
    "# the user’s home directory\n",
    "# </> correspond automatically to your Operating System"
   ]
  },
  {
   "cell_type": "code",
   "execution_count": 6,
   "metadata": {},
   "outputs": [
    {
     "data": {
      "text/plain": [
       "PosixPath('/Users/Basile/Documents/Dauphine/M2_203/Python/Session_1/testfile.txt')"
      ]
     },
     "execution_count": 6,
     "metadata": {},
     "output_type": "execute_result"
    }
   ],
   "source": [
    "# Or equivalently \n",
    "pathlib.Path.home().joinpath('Documents', 'Dauphine', 'M2_203','Python','Session_1','testfile.txt')"
   ]
  },
  {
   "cell_type": "markdown",
   "metadata": {},
   "source": [
    "## Some important Methods and Properties of Pure and Concrete Paths"
   ]
  },
  {
   "cell_type": "markdown",
   "metadata": {},
   "source": [
    "Property : has a value\n",
    "Method : do an action and return a value"
   ]
  },
  {
   "cell_type": "markdown",
   "metadata": {},
   "source": [
    "### .parts"
   ]
  },
  {
   "cell_type": "markdown",
   "metadata": {},
   "source": [
    "You can cut a Path and access the different parts with the following methods and properties : "
   ]
  },
  {
   "cell_type": "code",
   "execution_count": 7,
   "metadata": {},
   "outputs": [
    {
     "data": {
      "text/plain": [
       "('/',\n",
       " 'Users',\n",
       " 'Basile',\n",
       " 'Documents',\n",
       " 'Dauphine',\n",
       " 'M2_203',\n",
       " 'Python',\n",
       " 'Session_5',\n",
       " 'testfile.txt')"
      ]
     },
     "execution_count": 7,
     "metadata": {},
     "output_type": "execute_result"
    }
   ],
   "source": [
    "Path_1.parts # Return a tuple with the path's components\n",
    "\n",
    "# you can thus access each element of a path easily\n"
   ]
  },
  {
   "cell_type": "markdown",
   "metadata": {},
   "source": [
    "### .parents[x] "
   ]
  },
  {
   "cell_type": "markdown",
   "metadata": {},
   "source": [
    "You can also access the ancestors of the path : "
   ]
  },
  {
   "cell_type": "code",
   "execution_count": 10,
   "metadata": {},
   "outputs": [
    {
     "data": {
      "text/plain": [
       "PosixPath('/Users/Basile/Documents/Dauphine/M2_203/Python')"
      ]
     },
     "execution_count": 10,
     "metadata": {},
     "output_type": "execute_result"
    }
   ],
   "source": [
    "Path_1.parents[0]\n",
    "# here, you want to access the first ancestor of the 'testfile.txt' file\n",
    "# i.e. the folder 'Session_5'\n",
    "\n",
    "Path_1.parents[1]\n",
    "\n",
    "Path_1.parents[0].parents[0]\n",
    "# here, you want to access the first ancestor of the first ancestor\n",
    "# i.e. the folder 'Python'"
   ]
  },
  {
   "cell_type": "markdown",
   "metadata": {},
   "source": [
    "### .name / .suffix / .stem"
   ]
  },
  {
   "cell_type": "markdown",
   "metadata": {},
   "source": [
    "you can also decompose the filename in its sub components : \n",
    "\n",
    "filename = stem + suffix\n",
    "\n",
    "It can be useful when you want to access each file which has a Python\n",
    "extension (.py) for instance !"
   ]
  },
  {
   "cell_type": "code",
   "execution_count": 12,
   "metadata": {},
   "outputs": [
    {
     "data": {
      "text/plain": [
       "'testfile.txt'"
      ]
     },
     "execution_count": 12,
     "metadata": {},
     "output_type": "execute_result"
    }
   ],
   "source": [
    "Path_1.name"
   ]
  },
  {
   "cell_type": "code",
   "execution_count": 11,
   "metadata": {},
   "outputs": [
    {
     "data": {
      "text/plain": [
       "'.txt'"
      ]
     },
     "execution_count": 11,
     "metadata": {},
     "output_type": "execute_result"
    }
   ],
   "source": [
    "Path_1.suffix"
   ]
  },
  {
   "cell_type": "code",
   "execution_count": 13,
   "metadata": {},
   "outputs": [
    {
     "data": {
      "text/plain": [
       "'testfile'"
      ]
     },
     "execution_count": 13,
     "metadata": {},
     "output_type": "execute_result"
    }
   ],
   "source": [
    "Path_1.stem"
   ]
  },
  {
   "cell_type": "markdown",
   "metadata": {},
   "source": [
    "## Concrete Paths Methods"
   ]
  },
  {
   "cell_type": "markdown",
   "metadata": {},
   "source": [
    "### .cwd()"
   ]
  },
  {
   "cell_type": "code",
   "execution_count": 14,
   "metadata": {},
   "outputs": [
    {
     "data": {
      "text/plain": [
       "PosixPath('/Users/Basile/Documents/Dauphine/M2_203/Python/Session_5')"
      ]
     },
     "execution_count": 14,
     "metadata": {},
     "output_type": "execute_result"
    }
   ],
   "source": [
    "# Return a Path representing the current directory \n",
    "# (i.e the folder Session_5 here)\n",
    "\n",
    "Path_1.cwd()\n"
   ]
  },
  {
   "cell_type": "markdown",
   "metadata": {},
   "source": [
    "### .home()"
   ]
  },
  {
   "cell_type": "code",
   "execution_count": 15,
   "metadata": {},
   "outputs": [
    {
     "data": {
      "text/plain": [
       "PosixPath('/Users/Basile')"
      ]
     },
     "execution_count": 15,
     "metadata": {},
     "output_type": "execute_result"
    }
   ],
   "source": [
    "# Return a Path representing the user's home directory\n",
    "\n",
    "Path_1.home()"
   ]
  },
  {
   "cell_type": "markdown",
   "metadata": {},
   "source": [
    "### .exists()"
   ]
  },
  {
   "cell_type": "code",
   "execution_count": 16,
   "metadata": {},
   "outputs": [
    {
     "data": {
      "text/plain": [
       "True"
      ]
     },
     "execution_count": 16,
     "metadata": {},
     "output_type": "execute_result"
    }
   ],
   "source": [
    "# Return a boolean whether the path points to an existing file or directory\n",
    "\n",
    "Path_1.exists()\n"
   ]
  },
  {
   "cell_type": "code",
   "execution_count": 17,
   "metadata": {},
   "outputs": [
    {
     "data": {
      "text/plain": [
       "True"
      ]
     },
     "execution_count": 17,
     "metadata": {},
     "output_type": "execute_result"
    }
   ],
   "source": [
    "pathlib.Path(r'/Users/Basile/Documents/Dauphine').exists()"
   ]
  },
  {
   "cell_type": "code",
   "execution_count": 18,
   "metadata": {},
   "outputs": [
    {
     "data": {
      "text/plain": [
       "False"
      ]
     },
     "execution_count": 18,
     "metadata": {},
     "output_type": "execute_result"
    }
   ],
   "source": [
    "pathlib.Path(r'/Users/Basile/Documents/Dauphine/MoreThan14InSto1').exists()"
   ]
  },
  {
   "cell_type": "markdown",
   "metadata": {},
   "source": [
    "### .glob(x) "
   ]
  },
  {
   "cell_type": "code",
   "execution_count": 19,
   "metadata": {},
   "outputs": [
    {
     "data": {
      "text/plain": [
       "[PosixPath('/Users/Basile/Documents/Dauphine/M2_203/Python/Session_5/testfile copy.txt'),\n",
       " PosixPath('/Users/Basile/Documents/Dauphine/M2_203/Python/Session_5/testfile.txt')]"
      ]
     },
     "execution_count": 19,
     "metadata": {},
     "output_type": "execute_result"
    }
   ],
   "source": [
    "sorted(Path_1.cwd().glob('*.txt'))\n",
    "\n",
    "# here, using the method .cwd() which points at the current directory \n",
    "\n"
   ]
  },
  {
   "cell_type": "markdown",
   "metadata": {},
   "source": [
    ".glob(x) is can be used as a recursive method. Indeed, you can ask Python to search also in the other folders with the same ancestor :"
   ]
  },
  {
   "cell_type": "code",
   "execution_count": 20,
   "metadata": {},
   "outputs": [
    {
     "data": {
      "text/plain": [
       "[PosixPath('/Users/Basile/Documents/Dauphine/M2_203/Python/Session_1/Another_Text_File.txt'),\n",
       " PosixPath('/Users/Basile/Documents/Dauphine/M2_203/Python/Session_1/testfile copy.txt'),\n",
       " PosixPath('/Users/Basile/Documents/Dauphine/M2_203/Python/Session_5/testfile copy.txt'),\n",
       " PosixPath('/Users/Basile/Documents/Dauphine/M2_203/Python/Session_5/testfile.txt')]"
      ]
     },
     "execution_count": 20,
     "metadata": {},
     "output_type": "execute_result"
    }
   ],
   "source": [
    "sorted(Path_1.parents[1].glob('*/*.txt'))\n",
    "# here : parents[1] points at the 'Python' folder, the ancestor of \n",
    "# the ancestor of 'testfile.txt'\n",
    "# <*/*.txt> : you ask Python to search in all the folders in 'Python' to \n",
    "# to find all the files '.txt'\n",
    "\n"
   ]
  },
  {
   "cell_type": "markdown",
   "metadata": {},
   "source": [
    "### .mkdir()"
   ]
  },
  {
   "cell_type": "code",
   "execution_count": 21,
   "metadata": {},
   "outputs": [],
   "source": [
    "# Create a folder at the given path (here Sub_Foler_3 does not exist yet !)\n",
    "pathlib.Path(r'/Users/Basile/Documents/Dauphine/M2_203/Python/Session_5/Sub_Folder_3').mkdir()"
   ]
  },
  {
   "cell_type": "markdown",
   "metadata": {},
   "source": [
    "### .open()"
   ]
  },
  {
   "cell_type": "code",
   "execution_count": 22,
   "metadata": {},
   "outputs": [
    {
     "name": "stdout",
     "output_type": "stream",
     "text": [
      "['Hi there !\\n', '\\n', 'Blabla']\n"
     ]
    }
   ],
   "source": [
    "with Path_1.open() as f:\n",
    "    print(f.readlines())\n",
    "    \n",
    "# Leaving the indentation block will automatically close the file"
   ]
  },
  {
   "cell_type": "markdown",
   "metadata": {},
   "source": [
    "### .read_text()"
   ]
  },
  {
   "cell_type": "code",
   "execution_count": 23,
   "metadata": {},
   "outputs": [
    {
     "data": {
      "text/plain": [
       "'Hi there !\\n\\nBlabla'"
      ]
     },
     "execution_count": 23,
     "metadata": {},
     "output_type": "execute_result"
    }
   ],
   "source": [
    "Path_1.read_text()"
   ]
  },
  {
   "cell_type": "markdown",
   "metadata": {},
   "source": [
    "### .write_text(x) "
   ]
  },
  {
   "cell_type": "code",
   "execution_count": 24,
   "metadata": {},
   "outputs": [
    {
     "data": {
      "text/plain": [
       "27"
      ]
     },
     "execution_count": 24,
     "metadata": {},
     "output_type": "execute_result"
    }
   ],
   "source": [
    "temp = Path_1.read_text()\n",
    "Path_1.write_text(temp + '\\nNew text')\n",
    "\n",
    "# be careful with write_text : it will erase all the previous content in \n",
    "# the file ! That's why I use a temporary variable"
   ]
  },
  {
   "cell_type": "markdown",
   "metadata": {},
   "source": [
    "### replace(x)"
   ]
  },
  {
   "cell_type": "code",
   "execution_count": 25,
   "metadata": {},
   "outputs": [
    {
     "data": {
      "text/plain": [
       "PosixPath('Sub_Folder_1/testfile_v2.txt')"
      ]
     },
     "execution_count": 25,
     "metadata": {},
     "output_type": "execute_result"
    }
   ],
   "source": [
    "Path_1.parents[0].joinpath('testfile copy.txt').replace('Sub_Folder_1/testfile_v2.txt')"
   ]
  },
  {
   "cell_type": "markdown",
   "metadata": {},
   "source": [
    "# Conclusion"
   ]
  },
  {
   "cell_type": "markdown",
   "metadata": {},
   "source": [
    "Pathlib is a library useful in order to manipulate easily some files and folders. In order to avoid mistakes due to different operating systems, using Pathlib will make your life easier and brighter ! "
   ]
  }
 ],
 "metadata": {
  "kernelspec": {
   "display_name": "Python 3",
   "language": "python",
   "name": "python3"
  },
  "language_info": {
   "codemirror_mode": {
    "name": "ipython",
    "version": 3
   },
   "file_extension": ".py",
   "mimetype": "text/x-python",
   "name": "python",
   "nbconvert_exporter": "python",
   "pygments_lexer": "ipython3",
   "version": "3.8.3"
  }
 },
 "nbformat": 4,
 "nbformat_minor": 4
}
