{
  "nbformat": 4,
  "nbformat_minor": 0,
  "metadata": {
    "colab": {
      "name": "rapids_finance.ipynb",
      "provenance": [],
      "collapsed_sections": [],
      "history_visible": true
    },
    "kernelspec": {
      "name": "python3",
      "display_name": "Python 3"
    },
    "accelerator": "GPU"
  },
  "cells": [
    {
      "cell_type": "code",
      "metadata": {
        "id": "uWneRMSSBgPa",
        "colab": {
          "base_uri": "https://localhost:8080/"
        },
        "outputId": "e161bd91-3c68-4ea5-cb18-4a7a4925601e"
      },
      "source": [
        "!nvidia-smi"
      ],
      "execution_count": null,
      "outputs": [
        {
          "output_type": "stream",
          "text": [
            "Fri Nov 20 07:16:13 2020       \n",
            "+-----------------------------------------------------------------------------+\n",
            "| NVIDIA-SMI 455.38       Driver Version: 418.67       CUDA Version: 10.1     |\n",
            "|-------------------------------+----------------------+----------------------+\n",
            "| GPU  Name        Persistence-M| Bus-Id        Disp.A | Volatile Uncorr. ECC |\n",
            "| Fan  Temp  Perf  Pwr:Usage/Cap|         Memory-Usage | GPU-Util  Compute M. |\n",
            "|                               |                      |               MIG M. |\n",
            "|===============================+======================+======================|\n",
            "|   0  Tesla P100-PCIE...  Off  | 00000000:00:04.0 Off |                    0 |\n",
            "| N/A   36C    P0    27W / 250W |      0MiB / 16280MiB |      0%      Default |\n",
            "|                               |                      |                 ERR! |\n",
            "+-------------------------------+----------------------+----------------------+\n",
            "                                                                               \n",
            "+-----------------------------------------------------------------------------+\n",
            "| Processes:                                                                  |\n",
            "|  GPU   GI   CI        PID   Type   Process name                  GPU Memory |\n",
            "|        ID   ID                                                   Usage      |\n",
            "|=============================================================================|\n",
            "|  No running processes found                                                 |\n",
            "+-----------------------------------------------------------------------------+\n"
          ],
          "name": "stdout"
        }
      ]
    },
    {
      "cell_type": "code",
      "metadata": {
        "id": "FgxfzdxcBuW-",
        "colab": {
          "base_uri": "https://localhost:8080/"
        },
        "outputId": "36bf2f3b-d058-4272-f390-f263b57435c2"
      },
      "source": [
        "# Install RAPIDS\n",
        "!git clone https://github.com/rapidsai/rapidsai-csp-utils.git\n",
        "!bash rapidsai-csp-utils/colab/rapids-colab.sh stable\n",
        "\n",
        "import sys, os\n",
        "\n",
        "dist_package_index = sys.path.index('/usr/local/lib/python3.6/dist-packages')\n",
        "sys.path = sys.path[:dist_package_index] + ['/usr/local/lib/python3.6/site-packages'] + sys.path[dist_package_index:]\n",
        "sys.path\n",
        "exec(open('rapidsai-csp-utils/colab/update_modules.py').read(), globals())"
      ],
      "execution_count": null,
      "outputs": [
        {
          "output_type": "stream",
          "text": [
            "Cloning into 'rapidsai-csp-utils'...\n",
            "remote: Enumerating objects: 14, done.\u001b[K\n",
            "remote: Counting objects: 100% (14/14), done.\u001b[K\n",
            "remote: Compressing objects: 100% (14/14), done.\u001b[K\n",
            "remote: Total 185 (delta 5), reused 0 (delta 0), pack-reused 171\u001b[K\n",
            "Receiving objects: 100% (185/185), 57.14 KiB | 317.00 KiB/s, done.\n",
            "Resolving deltas: 100% (67/67), done.\n",
            "PLEASE READ\n",
            "********************************************************************************************************\n",
            "Changes:\n",
            "1. IMPORTANT CHANGES: RAPIDS on Colab will be pegged to 0.14 Stable until further notice.\n",
            "2. Default stable version is now 0.14.  Nightly will redirect to 0.14.\n",
            "3. You can now declare your RAPIDSAI version as a CLI option and skip the user prompts (ex: '0.14' or '0.15', between 0.13 to 0.14, without the quotes): \n",
            "        \"!bash rapidsai-csp-utils/colab/rapids-colab.sh <version/label>\"\n",
            "        Examples: '!bash rapidsai-csp-utils/colab/rapids-colab.sh 0.14', or '!bash rapidsai-csp-utils/colab/rapids-colab.sh stable', or '!bash rapidsai-csp-utils/colab/rapids-colab.sh s'\n",
            "                  '!bash rapidsai-csp-utils/colab/rapids-colab.sh 0.15, or '!bash rapidsai-csp-utils/colab/rapids-colab.sh nightly', or '!bash rapidsai-csp-utils/colab/rapids-colab.sh n'\n",
            "Enjoy using RAPIDS!  If you have any issues with or suggestions for RAPIDSAI on Colab, please create a bug request on https://github.com/rapidsai/rapidsai-csp-utils/issues/new.  Thanks!\n",
            "Starting to prep Colab for install RAPIDS Version 0.14 stable\n",
            "Checking for GPU type:\n",
            "***********************************************************************\n",
            "Woo! Your instance has the right kind of GPU, a 'Tesla P100-PCIE-16GB'!\n",
            "***********************************************************************\n",
            "\n",
            "Removing conflicting packages, will replace with RAPIDS compatible versions\n",
            "Uninstalling xgboost-0.90:\n",
            "  Successfully uninstalled xgboost-0.90\n",
            "Uninstalling dask-2.12.0:\n",
            "  Successfully uninstalled dask-2.12.0\n",
            "Uninstalling distributed-1.25.3:\n",
            "  Successfully uninstalled distributed-1.25.3\n",
            "Installing conda\n",
            "--2020-11-20 07:16:26--  https://repo.continuum.io/miniconda/Miniconda3-4.5.4-Linux-x86_64.sh\n",
            "Resolving repo.continuum.io (repo.continuum.io)... 104.18.200.79, 104.18.201.79, 2606:4700::6812:c84f, ...\n",
            "Connecting to repo.continuum.io (repo.continuum.io)|104.18.200.79|:443... connected.\n",
            "HTTP request sent, awaiting response... 301 Moved Permanently\n",
            "Location: https://repo.anaconda.com/miniconda/Miniconda3-4.5.4-Linux-x86_64.sh [following]\n",
            "--2020-11-20 07:16:26--  https://repo.anaconda.com/miniconda/Miniconda3-4.5.4-Linux-x86_64.sh\n",
            "Resolving repo.anaconda.com (repo.anaconda.com)... 104.16.131.3, 104.16.130.3, 2606:4700::6810:8303, ...\n",
            "Connecting to repo.anaconda.com (repo.anaconda.com)|104.16.131.3|:443... connected.\n",
            "HTTP request sent, awaiting response... 200 OK\n",
            "Length: 58468498 (56M) [application/x-sh]\n",
            "Saving to: ‘Miniconda3-4.5.4-Linux-x86_64.sh’\n",
            "\n",
            "Miniconda3-4.5.4-Li 100%[===================>]  55.76M   168MB/s    in 0.3s    \n",
            "\n",
            "2020-11-20 07:16:26 (168 MB/s) - ‘Miniconda3-4.5.4-Linux-x86_64.sh’ saved [58468498/58468498]\n",
            "\n",
            "PREFIX=/usr/local\n",
            "installing: python-3.6.5-hc3d631a_2 ...\n",
            "Python 3.6.5 :: Anaconda, Inc.\n",
            "installing: ca-certificates-2018.03.07-0 ...\n",
            "installing: conda-env-2.6.0-h36134e3_1 ...\n",
            "installing: libgcc-ng-7.2.0-hdf63c60_3 ...\n",
            "installing: libstdcxx-ng-7.2.0-hdf63c60_3 ...\n",
            "installing: libffi-3.2.1-hd88cf55_4 ...\n",
            "installing: ncurses-6.1-hf484d3e_0 ...\n",
            "installing: openssl-1.0.2o-h20670df_0 ...\n",
            "installing: tk-8.6.7-hc745277_3 ...\n",
            "installing: xz-5.2.4-h14c3975_4 ...\n",
            "installing: yaml-0.1.7-had09818_2 ...\n",
            "installing: zlib-1.2.11-ha838bed_2 ...\n",
            "installing: libedit-3.1.20170329-h6b74fdf_2 ...\n",
            "installing: readline-7.0-ha6073c6_4 ...\n",
            "installing: sqlite-3.23.1-he433501_0 ...\n",
            "installing: asn1crypto-0.24.0-py36_0 ...\n",
            "installing: certifi-2018.4.16-py36_0 ...\n",
            "installing: chardet-3.0.4-py36h0f667ec_1 ...\n",
            "installing: idna-2.6-py36h82fb2a8_1 ...\n",
            "installing: pycosat-0.6.3-py36h0a5515d_0 ...\n",
            "installing: pycparser-2.18-py36hf9f622e_1 ...\n",
            "installing: pysocks-1.6.8-py36_0 ...\n",
            "installing: ruamel_yaml-0.15.37-py36h14c3975_2 ...\n",
            "installing: six-1.11.0-py36h372c433_1 ...\n",
            "installing: cffi-1.11.5-py36h9745a5d_0 ...\n",
            "installing: setuptools-39.2.0-py36_0 ...\n",
            "installing: cryptography-2.2.2-py36h14c3975_0 ...\n",
            "installing: wheel-0.31.1-py36_0 ...\n",
            "installing: pip-10.0.1-py36_0 ...\n",
            "installing: pyopenssl-18.0.0-py36_0 ...\n",
            "installing: urllib3-1.22-py36hbe7ace6_0 ...\n",
            "installing: requests-2.18.4-py36he2e5f8d_1 ...\n",
            "installing: conda-4.5.4-py36_0 ...\n",
            "installation finished.\n",
            "WARNING:\n",
            "    You currently have a PYTHONPATH environment variable set. This may cause\n",
            "    unexpected behavior when running the Python interpreter in Miniconda3.\n",
            "    For best results, please verify that your PYTHONPATH only points to\n",
            "    directories of packages that are compatible with the Python interpreter\n",
            "    in Miniconda3: /usr/local\n",
            "Solving environment: - \b\b\\ \b\b| \b\b/ \b\b- \b\b\\ \b\b| \b\b/ \b\b- \b\b\\ \b\b| \b\b/ \b\b- \b\b\\ \b\b| \b\b/ \b\b- \b\b\\ \b\b| \b\b/ \b\b- \b\b\\ \b\b| \b\b/ \b\b- \b\b\\ \b\b| \b\b/ \b\b- \b\b\\ \b\b| \b\b/ \b\b- \b\b\\ \b\b| \b\b/ \b\b- \b\b\\ \b\b| \b\b/ \b\b- \b\b\\ \b\b| \b\b/ \b\b- \b\b\\ \b\b| \b\b/ \b\b- \b\b\\ \b\b| \b\b/ \b\b- \b\b\\ \b\b| \b\b/ \b\b- \b\b\\ \b\b| \b\b/ \b\b- \b\b\\ \b\b| \b\b/ \b\b- \b\b\\ \b\b| \b\b/ \b\b- \b\b\\ \b\b| \b\b/ \b\b- \b\b\\ \b\b| \b\b/ \b\b- \b\b\\ \b\b| \b\b/ \b\b- \b\b\\ \b\b| \b\b/ \b\b- \b\b\\ \b\b| \b\b/ \b\b- \b\b\\ \b\b| \b\b/ \b\b- \b\b\\ \b\b| \b\b/ \b\b- \b\b\\ \b\b| \b\b/ \b\b- \b\b\\ \b\b| \b\b/ \b\bdone\n",
            "\n",
            "## Package Plan ##\n",
            "\n",
            "  environment location: /usr/local\n",
            "\n",
            "  added / updated specs: \n",
            "    - conda\n",
            "    - python=3.6\n",
            "\n",
            "\n",
            "The following packages will be downloaded:\n",
            "\n",
            "    package                    |            build\n",
            "    ---------------------------|-----------------\n",
            "    xz-5.2.5                   |       h7b6447c_0         438 KB\n",
            "    six-1.15.0                 |   py36h06a4308_0          27 KB\n",
            "    libffi-3.3                 |       he6710b0_2          54 KB\n",
            "    cryptography-3.2.1         |   py36h3c74f83_1         631 KB\n",
            "    pysocks-1.7.1              |   py36h06a4308_0          30 KB\n",
            "    urllib3-1.25.11            |             py_0          93 KB\n",
            "    ruamel_yaml-0.15.87        |   py36h7b6447c_1         256 KB\n",
            "    ncurses-6.2                |       he6710b0_1         1.1 MB\n",
            "    openssl-1.1.1h             |       h7b6447c_0         3.8 MB\n",
            "    yaml-0.2.5                 |       h7b6447c_0          87 KB\n",
            "    requests-2.24.0            |             py_0          54 KB\n",
            "    tqdm-4.51.0                |     pyhd3eb1b0_0          66 KB\n",
            "    pip-20.2.4                 |   py36h06a4308_0         2.1 MB\n",
            "    certifi-2020.6.20          |     pyhd3eb1b0_3         159 KB\n",
            "    libgcc-ng-9.1.0            |       hdf63c60_0         8.1 MB\n",
            "    pycosat-0.6.3              |   py36h27cfd23_0         107 KB\n",
            "    wheel-0.35.1               |     pyhd3eb1b0_0          37 KB\n",
            "    pycparser-2.20             |             py_2          94 KB\n",
            "    brotlipy-0.7.0             |py36h27cfd23_1003         349 KB\n",
            "    ca-certificates-2020.10.14 |                0         128 KB\n",
            "    sqlite-3.33.0              |       h62c20be_0         2.0 MB\n",
            "    tk-8.6.10                  |       hbc83047_0         3.2 MB\n",
            "    setuptools-50.3.1          |   py36h06a4308_1         900 KB\n",
            "    readline-8.0               |       h7b6447c_0         428 KB\n",
            "    libedit-3.1.20191231       |       h14c3975_1         121 KB\n",
            "    ld_impl_linux-64-2.33.1    |       h53a641e_7         645 KB\n",
            "    zlib-1.2.11                |       h7b6447c_3         120 KB\n",
            "    conda-4.9.2                |   py36h06a4308_0         3.1 MB\n",
            "    _libgcc_mutex-0.1          |             main           3 KB\n",
            "    pyopenssl-19.1.0           |     pyhd3eb1b0_1          52 KB\n",
            "    conda-package-handling-1.7.2|   py36h03888b9_0         967 KB\n",
            "    libstdcxx-ng-9.1.0         |       hdf63c60_0         4.0 MB\n",
            "    idna-2.10                  |             py_0          56 KB\n",
            "    python-3.6.12              |       hcff3b4d_2        34.0 MB\n",
            "    chardet-3.0.4              |py36h06a4308_1003         197 KB\n",
            "    cffi-1.14.3                |   py36h261ae71_2         229 KB\n",
            "    ------------------------------------------------------------\n",
            "                                           Total:        67.6 MB\n",
            "\n",
            "The following NEW packages will be INSTALLED:\n",
            "\n",
            "    _libgcc_mutex:          0.1-main               \n",
            "    brotlipy:               0.7.0-py36h27cfd23_1003\n",
            "    conda-package-handling: 1.7.2-py36h03888b9_0   \n",
            "    ld_impl_linux-64:       2.33.1-h53a641e_7      \n",
            "    tqdm:                   4.51.0-pyhd3eb1b0_0    \n",
            "\n",
            "The following packages will be UPDATED:\n",
            "\n",
            "    ca-certificates:        2018.03.07-0            --> 2020.10.14-0           \n",
            "    certifi:                2018.4.16-py36_0        --> 2020.6.20-pyhd3eb1b0_3 \n",
            "    cffi:                   1.11.5-py36h9745a5d_0   --> 1.14.3-py36h261ae71_2  \n",
            "    chardet:                3.0.4-py36h0f667ec_1    --> 3.0.4-py36h06a4308_1003\n",
            "    conda:                  4.5.4-py36_0            --> 4.9.2-py36h06a4308_0   \n",
            "    cryptography:           2.2.2-py36h14c3975_0    --> 3.2.1-py36h3c74f83_1   \n",
            "    idna:                   2.6-py36h82fb2a8_1      --> 2.10-py_0              \n",
            "    libedit:                3.1.20170329-h6b74fdf_2 --> 3.1.20191231-h14c3975_1\n",
            "    libffi:                 3.2.1-hd88cf55_4        --> 3.3-he6710b0_2         \n",
            "    libgcc-ng:              7.2.0-hdf63c60_3        --> 9.1.0-hdf63c60_0       \n",
            "    libstdcxx-ng:           7.2.0-hdf63c60_3        --> 9.1.0-hdf63c60_0       \n",
            "    ncurses:                6.1-hf484d3e_0          --> 6.2-he6710b0_1         \n",
            "    openssl:                1.0.2o-h20670df_0       --> 1.1.1h-h7b6447c_0      \n",
            "    pip:                    10.0.1-py36_0           --> 20.2.4-py36h06a4308_0  \n",
            "    pycosat:                0.6.3-py36h0a5515d_0    --> 0.6.3-py36h27cfd23_0   \n",
            "    pycparser:              2.18-py36hf9f622e_1     --> 2.20-py_2              \n",
            "    pyopenssl:              18.0.0-py36_0           --> 19.1.0-pyhd3eb1b0_1    \n",
            "    pysocks:                1.6.8-py36_0            --> 1.7.1-py36h06a4308_0   \n",
            "    python:                 3.6.5-hc3d631a_2        --> 3.6.12-hcff3b4d_2      \n",
            "    readline:               7.0-ha6073c6_4          --> 8.0-h7b6447c_0         \n",
            "    requests:               2.18.4-py36he2e5f8d_1   --> 2.24.0-py_0            \n",
            "    ruamel_yaml:            0.15.37-py36h14c3975_2  --> 0.15.87-py36h7b6447c_1 \n",
            "    setuptools:             39.2.0-py36_0           --> 50.3.1-py36h06a4308_1  \n",
            "    six:                    1.11.0-py36h372c433_1   --> 1.15.0-py36h06a4308_0  \n",
            "    sqlite:                 3.23.1-he433501_0       --> 3.33.0-h62c20be_0      \n",
            "    tk:                     8.6.7-hc745277_3        --> 8.6.10-hbc83047_0      \n",
            "    urllib3:                1.22-py36hbe7ace6_0     --> 1.25.11-py_0           \n",
            "    wheel:                  0.31.1-py36_0           --> 0.35.1-pyhd3eb1b0_0    \n",
            "    xz:                     5.2.4-h14c3975_4        --> 5.2.5-h7b6447c_0       \n",
            "    yaml:                   0.1.7-had09818_2        --> 0.2.5-h7b6447c_0       \n",
            "    zlib:                   1.2.11-ha838bed_2       --> 1.2.11-h7b6447c_3      \n",
            "\n",
            "\n",
            "Downloading and Extracting Packages\n",
            "xz-5.2.5             |  438 KB | : 100% 1.0/1 [00:00<00:00,  8.01it/s]              \n",
            "six-1.15.0           |   27 KB | : 100% 1.0/1 [00:00<00:00, 35.23it/s]\n",
            "libffi-3.3           |   54 KB | : 100% 1.0/1 [00:00<00:00, 37.43it/s]\n",
            "cryptography-3.2.1   |  631 KB | : 100% 1.0/1 [00:00<00:00,  4.91it/s]               \n",
            "pysocks-1.7.1        |   30 KB | : 100% 1.0/1 [00:00<00:00, 45.62it/s]\n",
            "urllib3-1.25.11      |   93 KB | : 100% 1.0/1 [00:00<00:00, 23.81it/s]\n",
            "ruamel_yaml-0.15.87  |  256 KB | : 100% 1.0/1 [00:00<00:00, 14.04it/s]\n",
            "ncurses-6.2          |  1.1 MB | : 100% 1.0/1 [00:00<00:00,  1.36it/s]               \n",
            "openssl-1.1.1h       |  3.8 MB | : 100% 1.0/1 [00:00<00:00,  1.68it/s]              \n",
            "yaml-0.2.5           |   87 KB | : 100% 1.0/1 [00:00<00:00, 31.90it/s]\n",
            "requests-2.24.0      |   54 KB | : 100% 1.0/1 [00:00<00:00, 30.75it/s]\n",
            "tqdm-4.51.0          |   66 KB | : 100% 1.0/1 [00:00<00:00, 21.41it/s]\n",
            "pip-20.2.4           |  2.1 MB | : 100% 1.0/1 [00:00<00:00,  1.76it/s]               \n",
            "certifi-2020.6.20    |  159 KB | : 100% 1.0/1 [00:00<00:00, 25.39it/s]\n",
            "libgcc-ng-9.1.0      |  8.1 MB | : 100% 1.0/1 [00:01<00:00,  1.16s/it]               \n",
            "pycosat-0.6.3        |  107 KB | : 100% 1.0/1 [00:00<00:00, 25.59it/s]\n",
            "wheel-0.35.1         |   37 KB | : 100% 1.0/1 [00:00<00:00, 34.94it/s]\n",
            "pycparser-2.20       |   94 KB | : 100% 1.0/1 [00:00<00:00, 15.95it/s]\n",
            "brotlipy-0.7.0       |  349 KB | : 100% 1.0/1 [00:00<00:00, 16.88it/s]\n",
            "ca-certificates-2020 |  128 KB | : 100% 1.0/1 [00:00<00:00, 30.25it/s]\n",
            "sqlite-3.33.0        |  2.0 MB | : 100% 1.0/1 [00:00<00:00,  3.31it/s]               \n",
            "tk-8.6.10            |  3.2 MB | : 100% 1.0/1 [00:00<00:00,  1.44it/s]               \n",
            "setuptools-50.3.1    |  900 KB | : 100% 1.0/1 [00:00<00:00,  3.10it/s]               \n",
            "readline-8.0         |  428 KB | : 100% 1.0/1 [00:00<00:00,  9.68it/s]\n",
            "libedit-3.1.20191231 |  121 KB | : 100% 1.0/1 [00:00<00:00, 23.58it/s]\n",
            "ld_impl_linux-64-2.3 |  645 KB | : 100% 1.0/1 [00:00<00:00,  7.71it/s]               \n",
            "zlib-1.2.11          |  120 KB | : 100% 1.0/1 [00:00<00:00, 26.98it/s]\n",
            "conda-4.9.2          |  3.1 MB | : 100% 1.0/1 [00:00<00:00,  1.54it/s]               \n",
            "_libgcc_mutex-0.1    |    3 KB | : 100% 1.0/1 [00:00<00:00, 54.95it/s]\n",
            "pyopenssl-19.1.0     |   52 KB | : 100% 1.0/1 [00:00<00:00, 30.24it/s]\n",
            "conda-package-handli |  967 KB | : 100% 1.0/1 [00:00<00:00,  6.89it/s]               \n",
            "libstdcxx-ng-9.1.0   |  4.0 MB | : 100% 1.0/1 [00:00<00:00,  1.70it/s]               \n",
            "idna-2.10            |   56 KB | : 100% 1.0/1 [00:00<00:00, 35.36it/s]\n",
            "python-3.6.12        | 34.0 MB | : 100% 1.0/1 [00:04<00:00,  4.72s/it]               \n",
            "chardet-3.0.4        |  197 KB | : 100% 1.0/1 [00:00<00:00, 14.60it/s]\n",
            "cffi-1.14.3          |  229 KB | : 100% 1.0/1 [00:00<00:00,  3.23it/s]                \n",
            "Preparing transaction: \\ \b\b| \b\b/ \b\b- \b\bdone\n",
            "Verifying transaction: | \b\b/ \b\b- \b\b\\ \b\b| \b\b/ \b\b- \b\b\\ \b\b| \b\b/ \b\b- \b\b\\ \b\b| \b\b/ \b\b- \b\b\\ \b\bdone\n",
            "Executing transaction: / \b\b- \b\b\\ \b\b| \b\b/ \b\b- \b\b\\ \b\b| \b\b/ \b\b- \b\b\\ \b\b| \b\b/ \b\b- \b\b\\ \b\b| \b\b/ \b\b- \b\b\\ \b\b| \b\b/ \b\b- \b\b\\ \b\b| \b\b/ \b\b- \b\b\\ \b\b| \b\b/ \b\b- \b\b\\ \b\b| \b\b/ \b\b- \b\b\\ \b\b| \b\b/ \b\b- \b\b\\ \b\b| \b\b/ \b\b- \b\b\\ \b\b| \b\b/ \b\b- \b\b\\ \b\b| \b\b/ \b\b- \b\b\\ \b\b| \b\b/ \b\b- \b\b\\ \b\b| \b\b/ \b\b- \b\b\\ \b\b| \b\b/ \b\b- \b\b\\ \b\bdone\n",
            "Collecting package metadata (current_repodata.json): - \b\b\\ \b\b| \b\b/ \b\b- \b\b\\ \b\b| \b\b/ \b\b- \b\b\\ \b\b| \b\b/ \b\b- \b\b\\ \b\b| \b\b/ \b\b- \b\b\\ \b\b| \b\b/ \b\b- \b\b\\ \b\b| \b\b/ \b\b- \b\b\\ \b\b| \b\b/ \b\b- \b\b\\ \b\b| \b\b/ \b\b- \b\b\\ \b\b| \b\b/ \b\b- \b\b\\ \b\b| \b\b/ \b\b- \b\b\\ \b\b| \b\b/ \b\b- \b\b\\ \b\b| \b\b/ \b\b- \b\b\\ \b\b| \b\b/ \b\b- \b\b\\ \b\b| \b\b/ \b\b- \b\b\\ \b\bdone\n",
            "Solving environment: / \b\b- \b\b\\ \b\b| \b\b/ \b\b- \b\b\\ \b\b| \b\b/ \b\b- \b\b\\ \b\bdone\n",
            "\n",
            "## Package Plan ##\n",
            "\n",
            "  environment location: /usr/local\n",
            "\n",
            "\n",
            "The following packages will be downloaded:\n",
            "\n",
            "    package                    |            build\n",
            "    ---------------------------|-----------------\n",
            "    _libgcc_mutex-0.1          |      conda_forge           3 KB  conda-forge\n",
            "    _openmp_mutex-4.5          |            1_gnu          22 KB  conda-forge\n",
            "    brotlipy-0.7.0             |py36he6145b8_1001         347 KB  conda-forge\n",
            "    ca-certificates-2020.11.8  |       ha878542_0         145 KB  conda-forge\n",
            "    certifi-2020.11.8          |   py36h5fab9bb_0         150 KB  conda-forge\n",
            "    cffi-1.11.5                |           py36_0         406 KB  conda-forge\n",
            "    chardet-3.0.4              |py36h9880bd3_1008         194 KB  conda-forge\n",
            "    conda-4.9.2                |   py36h5fab9bb_0         3.0 MB  conda-forge\n",
            "    conda-package-handling-1.7.2|   py36he6145b8_0         925 KB  conda-forge\n",
            "    cryptography-3.2.1         |   py36h6ec43e4_0         633 KB  conda-forge\n",
            "    idna-2.10                  |     pyh9f0ad1d_0          52 KB  conda-forge\n",
            "    ld_impl_linux-64-2.35.1    |       hed1e6ac_0         617 KB  conda-forge\n",
            "    libgcc-ng-9.3.0            |      h5dbcf3e_17         7.8 MB  conda-forge\n",
            "    libgomp-9.3.0              |      h5dbcf3e_17         378 KB  conda-forge\n",
            "    libstdcxx-ng-9.3.0         |      h2ae2ef3_17         4.0 MB  conda-forge\n",
            "    ncurses-6.2                |       h58526e2_4         985 KB  conda-forge\n",
            "    openssl-1.1.1h             |       h516909a_0         2.1 MB  conda-forge\n",
            "    pip-20.2.4                 |             py_0         1.1 MB  conda-forge\n",
            "    pycosat-0.6.3              |py36he6145b8_1005         107 KB  conda-forge\n",
            "    pycparser-2.20             |     pyh9f0ad1d_2          94 KB  conda-forge\n",
            "    pyopenssl-19.1.0           |             py_1          47 KB  conda-forge\n",
            "    pysocks-1.7.1              |   py36h9880bd3_2          27 KB  conda-forge\n",
            "    python_abi-3.6             |          1_cp36m           4 KB  conda-forge\n",
            "    readline-8.0               |       he28a2e2_2         281 KB  conda-forge\n",
            "    requests-2.25.0            |     pyhd3deb0d_0          51 KB  conda-forge\n",
            "    ruamel_yaml-0.15.80        |py36he6145b8_1003         250 KB  conda-forge\n",
            "    setuptools-49.6.0          |   py36h9880bd3_2         947 KB  conda-forge\n",
            "    six-1.15.0                 |     pyh9f0ad1d_0          14 KB  conda-forge\n",
            "    sqlite-3.33.0              |       h4cf870e_1         1.4 MB  conda-forge\n",
            "    tk-8.6.10                  |       hed695b0_1         3.2 MB  conda-forge\n",
            "    tqdm-4.52.0                |     pyhd3deb0d_0          55 KB  conda-forge\n",
            "    urllib3-1.25.11            |             py_0          93 KB  conda-forge\n",
            "    wheel-0.35.1               |     pyh9f0ad1d_0          29 KB  conda-forge\n",
            "    xz-5.2.5                   |       h516909a_1         343 KB  conda-forge\n",
            "    yaml-0.2.5                 |       h516909a_0          82 KB  conda-forge\n",
            "    zlib-1.2.11                |    h516909a_1010         106 KB  conda-forge\n",
            "    ------------------------------------------------------------\n",
            "                                           Total:        29.9 MB\n",
            "\n",
            "The following NEW packages will be INSTALLED:\n",
            "\n",
            "  _openmp_mutex      conda-forge/linux-64::_openmp_mutex-4.5-1_gnu\n",
            "  libgomp            conda-forge/linux-64::libgomp-9.3.0-h5dbcf3e_17\n",
            "  python_abi         conda-forge/linux-64::python_abi-3.6-1_cp36m\n",
            "\n",
            "The following packages will be REMOVED:\n",
            "\n",
            "  asn1crypto-0.24.0-py36_0\n",
            "  conda-env-2.6.0-h36134e3_1\n",
            "  libedit-3.1.20191231-h14c3975_1\n",
            "\n",
            "The following packages will be UPDATED:\n",
            "\n",
            "  ca-certificates    pkgs/main::ca-certificates-2020.10.14~ --> conda-forge::ca-certificates-2020.11.8-ha878542_0\n",
            "  certifi            pkgs/main/noarch::certifi-2020.6.20-p~ --> conda-forge/linux-64::certifi-2020.11.8-py36h5fab9bb_0\n",
            "  chardet            pkgs/main::chardet-3.0.4-py36h06a4308~ --> conda-forge::chardet-3.0.4-py36h9880bd3_1008\n",
            "  ld_impl_linux-64   pkgs/main::ld_impl_linux-64-2.33.1-h5~ --> conda-forge::ld_impl_linux-64-2.35.1-hed1e6ac_0\n",
            "  libgcc-ng           pkgs/main::libgcc-ng-9.1.0-hdf63c60_0 --> conda-forge::libgcc-ng-9.3.0-h5dbcf3e_17\n",
            "  libstdcxx-ng       pkgs/main::libstdcxx-ng-9.1.0-hdf63c6~ --> conda-forge::libstdcxx-ng-9.3.0-h2ae2ef3_17\n",
            "  ncurses                 pkgs/main::ncurses-6.2-he6710b0_1 --> conda-forge::ncurses-6.2-h58526e2_4\n",
            "  pycosat            pkgs/main::pycosat-0.6.3-py36h27cfd23~ --> conda-forge::pycosat-0.6.3-py36he6145b8_1005\n",
            "  pysocks            pkgs/main::pysocks-1.7.1-py36h06a4308~ --> conda-forge::pysocks-1.7.1-py36h9880bd3_2\n",
            "  readline               pkgs/main::readline-8.0-h7b6447c_0 --> conda-forge::readline-8.0-he28a2e2_2\n",
            "  requests                  pkgs/main::requests-2.24.0-py_0 --> conda-forge::requests-2.25.0-pyhd3deb0d_0\n",
            "  sqlite                pkgs/main::sqlite-3.33.0-h62c20be_0 --> conda-forge::sqlite-3.33.0-h4cf870e_1\n",
            "  tk                        pkgs/main::tk-8.6.10-hbc83047_0 --> conda-forge::tk-8.6.10-hed695b0_1\n",
            "  tqdm                  pkgs/main::tqdm-4.51.0-pyhd3eb1b0_0 --> conda-forge::tqdm-4.52.0-pyhd3deb0d_0\n",
            "  xz                         pkgs/main::xz-5.2.5-h7b6447c_0 --> conda-forge::xz-5.2.5-h516909a_1\n",
            "  zlib                    pkgs/main::zlib-1.2.11-h7b6447c_3 --> conda-forge::zlib-1.2.11-h516909a_1010\n",
            "\n",
            "The following packages will be SUPERSEDED by a higher-priority channel:\n",
            "\n",
            "  _libgcc_mutex           pkgs/main::_libgcc_mutex-0.1-main --> conda-forge::_libgcc_mutex-0.1-conda_forge\n",
            "  brotlipy           pkgs/main::brotlipy-0.7.0-py36h27cfd2~ --> conda-forge::brotlipy-0.7.0-py36he6145b8_1001\n",
            "  cffi                pkgs/main::cffi-1.14.3-py36h261ae71_2 --> conda-forge::cffi-1.11.5-py36_0\n",
            "  conda               pkgs/main::conda-4.9.2-py36h06a4308_0 --> conda-forge::conda-4.9.2-py36h5fab9bb_0\n",
            "  conda-package-han~ pkgs/main::conda-package-handling-1.7~ --> conda-forge::conda-package-handling-1.7.2-py36he6145b8_0\n",
            "  cryptography       pkgs/main::cryptography-3.2.1-py36h3c~ --> conda-forge::cryptography-3.2.1-py36h6ec43e4_0\n",
            "  idna                            pkgs/main::idna-2.10-py_0 --> conda-forge::idna-2.10-pyh9f0ad1d_0\n",
            "  openssl              pkgs/main::openssl-1.1.1h-h7b6447c_0 --> conda-forge::openssl-1.1.1h-h516909a_0\n",
            "  pip                pkgs/main/linux-64::pip-20.2.4-py36h0~ --> conda-forge/noarch::pip-20.2.4-py_0\n",
            "  pycparser                  pkgs/main::pycparser-2.20-py_2 --> conda-forge::pycparser-2.20-pyh9f0ad1d_2\n",
            "  pyopenssl          pkgs/main::pyopenssl-19.1.0-pyhd3eb1b~ --> conda-forge::pyopenssl-19.1.0-py_1\n",
            "  ruamel_yaml        pkgs/main::ruamel_yaml-0.15.87-py36h7~ --> conda-forge::ruamel_yaml-0.15.80-py36he6145b8_1003\n",
            "  setuptools         pkgs/main::setuptools-50.3.1-py36h06a~ --> conda-forge::setuptools-49.6.0-py36h9880bd3_2\n",
            "  six                pkgs/main/linux-64::six-1.15.0-py36h0~ --> conda-forge/noarch::six-1.15.0-pyh9f0ad1d_0\n",
            "  urllib3                                         pkgs/main --> conda-forge\n",
            "  wheel                pkgs/main::wheel-0.35.1-pyhd3eb1b0_0 --> conda-forge::wheel-0.35.1-pyh9f0ad1d_0\n",
            "  yaml                     pkgs/main::yaml-0.2.5-h7b6447c_0 --> conda-forge::yaml-0.2.5-h516909a_0\n",
            "\n",
            "\n",
            "\n",
            "Downloading and Extracting Packages\n",
            "brotlipy-0.7.0       | 347 KB    | : 100% 1.0/1 [00:00<00:00,  5.51it/s]                \n",
            "idna-2.10            | 52 KB     | : 100% 1.0/1 [00:00<00:00, 28.04it/s]\n",
            "pip-20.2.4           | 1.1 MB    | : 100% 1.0/1 [00:00<00:00,  4.06it/s]\n",
            "zlib-1.2.11          | 106 KB    | : 100% 1.0/1 [00:00<00:00, 25.03it/s]\n",
            "six-1.15.0           | 14 KB     | : 100% 1.0/1 [00:00<00:00, 39.92it/s]\n",
            "pyopenssl-19.1.0     | 47 KB     | : 100% 1.0/1 [00:00<00:00, 33.19it/s]\n",
            "certifi-2020.11.8    | 150 KB    | : 100% 1.0/1 [00:00<00:00, 20.49it/s]\n",
            "_openmp_mutex-4.5    | 22 KB     | : 100% 1.0/1 [00:00<00:00, 31.16it/s]\n",
            "ncurses-6.2          | 985 KB    | : 100% 1.0/1 [00:00<00:00,  2.89it/s]\n",
            "pysocks-1.7.1        | 27 KB     | : 100% 1.0/1 [00:00<00:00, 42.43it/s]\n",
            "sqlite-3.33.0        | 1.4 MB    | : 100% 1.0/1 [00:00<00:00,  4.83it/s]\n",
            "cryptography-3.2.1   | 633 KB    | : 100% 1.0/1 [00:00<00:00,  5.75it/s]\n",
            "conda-4.9.2          | 3.0 MB    | : 100% 1.0/1 [00:00<00:00,  1.83it/s]\n",
            "tk-8.6.10            | 3.2 MB    | : 100% 1.0/1 [00:00<00:00,  1.92it/s]\n",
            "pycosat-0.6.3        | 107 KB    | : 100% 1.0/1 [00:00<00:00, 21.00it/s]\n",
            "openssl-1.1.1h       | 2.1 MB    | : 100% 1.0/1 [00:00<00:00,  3.21it/s]\n",
            "yaml-0.2.5           | 82 KB     | : 100% 1.0/1 [00:00<00:00, 28.27it/s]\n",
            "xz-5.2.5             | 343 KB    | : 100% 1.0/1 [00:00<00:00, 11.38it/s]\n",
            "wheel-0.35.1         | 29 KB     | : 100% 1.0/1 [00:00<00:00, 32.58it/s]\n",
            "readline-8.0         | 281 KB    | : 100% 1.0/1 [00:00<00:00, 13.52it/s]\n",
            "ca-certificates-2020 | 145 KB    | : 100% 1.0/1 [00:00<00:00, 23.82it/s]\n",
            "ld_impl_linux-64-2.3 | 617 KB    | : 100% 1.0/1 [00:00<00:00,  7.82it/s]\n",
            "requests-2.25.0      | 51 KB     | : 100% 1.0/1 [00:00<00:00, 33.81it/s]\n",
            "cffi-1.11.5          | 406 KB    | : 100% 1.0/1 [00:00<00:00, 12.73it/s]\n",
            "python_abi-3.6       | 4 KB      | : 100% 1.0/1 [00:00<00:00, 42.56it/s]\n",
            "libstdcxx-ng-9.3.0   | 4.0 MB    | : 100% 1.0/1 [00:00<00:00,  1.73it/s]\n",
            "urllib3-1.25.11      | 93 KB     | : 100% 1.0/1 [00:00<00:00, 15.71it/s]\n",
            "chardet-3.0.4        | 194 KB    | : 100% 1.0/1 [00:00<00:00, 15.69it/s]\n",
            "libgomp-9.3.0        | 378 KB    | : 100% 1.0/1 [00:00<00:00, 11.62it/s]\n",
            "libgcc-ng-9.3.0      | 7.8 MB    | : 100% 1.0/1 [00:01<00:00,  1.20s/it]\n",
            "pycparser-2.20       | 94 KB     | : 100% 1.0/1 [00:00<00:00, 18.74it/s]\n",
            "ruamel_yaml-0.15.80  | 250 KB    | : 100% 1.0/1 [00:00<00:00, 11.43it/s]\n",
            "tqdm-4.52.0          | 55 KB     | : 100% 1.0/1 [00:00<00:00, 28.44it/s]\n",
            "setuptools-49.6.0    | 947 KB    | : 100% 1.0/1 [00:00<00:00,  3.93it/s]\n",
            "conda-package-handli | 925 KB    | : 100% 1.0/1 [00:00<00:00,  6.57it/s]\n",
            "_libgcc_mutex-0.1    | 3 KB      | : 100% 1.0/1 [00:00<00:00, 39.61it/s]\n",
            "Preparing transaction: / \b\b- \b\b\\ \b\bdone\n",
            "Verifying transaction: / \b\b- \b\b\\ \b\b| \b\b/ \b\b- \b\b\\ \b\bdone\n",
            "Executing transaction: / \b\b- \b\b\\ \b\b| \b\b/ \b\b- \b\b\\ \b\b| \b\b/ \b\b- \b\b\\ \b\b| \b\b/ \b\b- \b\b\\ \b\b| \b\b/ \b\b- \b\b\\ \b\bdone\n",
            "Collecting package metadata (current_repodata.json): - \b\b\\ \b\b| \b\b/ \b\b- \b\b\\ \b\b| \b\b/ \b\b- \b\b\\ \b\b| \b\bdone\n",
            "Solving environment: - \b\b\\ \b\b| \b\b/ \b\b- \b\b\\ \b\b| \b\bdone\n",
            "\n",
            "# All requested packages already installed.\n",
            "\n",
            "Installing RAPIDS 0.14 packages from the stable release channel\n",
            "Please standby, this will take a few minutes...\n",
            "Collecting package metadata (current_repodata.json): - \b\b\\ \b\b| \b\b/ \b\b- \b\b\\ \b\b| \b\b/ \b\b- \b\b\\ \b\b| \b\b/ \b\b- \b\b\\ \b\b| \b\b/ \b\b- \b\b\\ \b\b| \b\b/ \b\b- \b\b\\ \b\b| \b\b/ \b\b- \b\b\\ \b\b| \b\b/ \b\b- \b\b\\ \b\b| \b\b/ \b\b- \b\b\\ \b\b| \b\b/ \b\b- \b\b\\ \b\b| \b\b/ \b\b- \b\b\\ \b\bdone\n",
            "Solving environment: / \b\b- \b\b\\ \b\b| \b\b/ \b\b- \b\b\\ \b\b| \b\b/ \b\b- \b\b\\ \b\b| \b\b/ \b\b- \b\b\\ \b\b| \b\b/ \b\b- \b\b\\ \b\b| \b\b/ \b\b- \b\b\\ \b\b| \b\b/ \b\b- \b\b\\ \b\b| \b\b/ \b\b- \b\b\\ \b\b| \b\b/ \b\b- \b\b\\ \b\b| \b\b/ \b\b- \b\b\\ \b\b| \b\b/ \b\b- \b\b\\ \b\b| \b\b/ \b\b- \b\b\\ \b\b| \b\b/ \b\b- \b\b\\ \b\b| \b\b/ \b\b- \b\b\\ \b\b| \b\b/ \b\b- \b\b\\ \b\b| \b\b/ \b\b- \b\b\\ \b\b| \b\b/ \b\b- \b\b\\ \b\b| \b\b/ \b\b- \b\b\\ \b\b| \b\b/ \b\b- \b\b\\ \b\b| \b\b/ \b\b- \b\b\\ \b\b| \b\b/ \b\b- \b\b\\ \b\b| \b\b/ \b\b- \b\b\\ \b\b| \b\b/ \b\b- \b\b\\ \b\b| \b\b/ \b\b- \b\b\\ \b\b| \b\b/ \b\b- \b\b\\ \b\b| \b\b/ \b\b- \b\b\\ \b\b| \b\b/ \b\b- \b\b\\ \b\b| \b\b/ \b\b- \b\b\\ \b\b| \b\b/ \b\b- \b\b\\ \b\b| \b\b/ \b\b- \b\b\\ \b\b| \b\b/ \b\bfailed with initial frozen solve. Retrying with flexible solve.\n",
            "Solving environment: \\ \b\b| \b\b/ \b\b- \b\b\\ \b\b| \b\b/ \b\b- \b\b\\ \b\b| \b\b/ \b\b- \b\b\\ \b\b| \b\b/ \b\b- \b\b\\ \b\b| \b\b/ \b\b- \b\b\\ \b\b| \b\b/ \b\b- \b\b\\ \b\b| \b\b/ \b\b- \b\b\\ \b\b| \b\b/ \b\b- \b\b\\ \b\b| \b\b/ \b\b- \b\b\\ \b\b| \b\b/ \b\b- \b\b\\ \b\b| \b\b/ \b\b- \b\b\\ \b\b| \b\b/ \b\b- \b\b\\ \b\b| \b\b/ \b\b- \b\b\\ \b\b| \b\b/ \b\b- \b\b\\ \b\b| \b\b/ \b\b- \b\b\\ \b\b| \b\b/ \b\b- \b\b\\ \b\b| \b\b/ \b\b- \b\b\\ \b\b| \b\b/ \b\b- \b\b\\ \b\b| \b\b/ \b\b- \b\b\\ \b\b| \b\b/ \b\b- \b\b\\ \b\b| \b\b/ \b\b- \b\b\\ \b\b| \b\b/ \b\b- \b\b\\ \b\b| \b\b/ \b\b- \b\b\\ \b\b| \b\b/ \b\b- \b\b\\ \b\b| \b\b/ \b\b- \b\b\\ \b\b| \b\b/ \b\b- \b\b\\ \b\b| \b\b/ \b\b- \b\b\\ \b\b| \b\b/ \b\b- \b\b\\ \b\b| \b\b/ \b\b- \b\b\\ \b\b| \b\b/ \b\b- \b\b\\ \b\b| \b\b/ \b\b- \b\b\\ \b\b| \b\b/ \b\b- \b\b\\ \b\b| \b\b/ \b\b- \b\b\\ \b\b| \b\b/ \b\b- \b\b\\ \b\b| \b\b/ \b\b- \b\b\\ \b\b| \b\b/ \b\b- \b\b\\ \b\b| \b\b/ \b\b- \b\b\\ \b\b| \b\b/ \b\b- \b\b\\ \b\b| \b\b/ \b\b- \b\b\\ \b\b| \b\b/ \b\b- \b\b\\ \b\b| \b\b/ \b\b- \b\b\\ \b\b| \b\b/ \b\b- \b\b\\ \b\b| \b\b/ \b\b- \b\b\\ \b\b| \b\b/ \b\b- \b\b\\ \b\b| \b\bfailed with repodata from current_repodata.json, will retry with next repodata source.\n",
            "Collecting package metadata (repodata.json): - \b\b\\ \b\b| \b\b/ \b\b- \b\b\\ \b\b| \b\b/ \b\b- \b\b\\ \b\b| \b\b/ \b\b- \b\b\\ \b\b| \b\b/ \b\b- \b\b\\ \b\b| \b\b/ \b\b- \b\b\\ \b\b| \b\b/ \b\b- \b\b\\ \b\b| \b\b/ \b\b- \b\b\\ \b\b| \b\b/ \b\b- \b\b\\ \b\b| \b\b/ \b\b- \b\b\\ \b\b| \b\b/ \b\b- \b\b\\ \b\b| \b\b/ \b\b- \b\b\\ \b\b| \b\b/ \b\b- \b\b\\ \b\b| \b\b/ \b\b- \b\b\\ \b\b| \b\b/ \b\b- \b\b\\ \b\b| \b\b/ \b\b- \b\b\\ \b\b| \b\b/ \b\b- \b\b\\ \b\b| \b\b/ \b\b- \b\b\\ \b\b| \b\b/ \b\b- \b\b\\ \b\b| \b\b/ \b\b- \b\b\\ \b\b| \b\b/ \b\b- \b\b\\ \b\b| \b\b/ \b\b- \b\b\\ \b\b| \b\b/ \b\b- \b\b\\ \b\b| \b\b/ \b\b- \b\b\\ \b\b| \b\b/ \b\b- \b\b\\ \b\b| \b\b/ \b\b- \b\b\\ \b\b| \b\b/ \b\b- \b\b\\ \b\b| \b\b/ \b\b- \b\b\\ \b\b| \b\b/ \b\b- \b\b\\ \b\b| \b\b/ \b\b- \b\b\\ \b\b| \b\b/ \b\b- \b\b\\ \b\b| \b\b/ \b\b- \b\b\\ \b\b| \b\b/ \b\b- \b\b\\ \b\b| \b\b/ \b\b- \b\b\\ \b\b| \b\b/ \b\b- \b\b\\ \b\b| \b\b/ \b\b- \b\b\\ \b\b| \b\b/ \b\b- \b\b\\ \b\b| \b\b/ \b\b- \b\b\\ \b\b| \b\b/ \b\b- \b\b\\ \b\b| \b\b/ \b\b- \b\b\\ \b\b| \b\b/ \b\b- \b\b\\ \b\b| \b\b/ \b\b- \b\b\\ \b\b| \b\b/ \b\b- \b\b\\ \b\b| \b\b/ \b\b- \b\b\\ \b\b| \b\b/ \b\b- \b\b\\ \b\b| \b\b/ \b\b- \b\b\\ \b\b| \b\b/ \b\b- \b\b\\ \b\b| \b\b/ \b\b- \b\b\\ \b\b| \b\b/ \b\b- \b\b\\ \b\b| \b\b/ \b\b- \b\b\\ \b\b| \b\b/ \b\b- \b\b\\ \b\b| \b\b/ \b\b- \b\b\\ \b\b| \b\b/ \b\b- \b\b\\ \b\b| \b\b/ \b\b- \b\b\\ \b\b| \b\b/ \b\b- \b\bdone\n",
            "Solving environment: | \b\b/ \b\b- \b\b\\ \b\b| \b\b/ \b\b- \b\b\\ \b\b| \b\b/ \b\b- \b\b\\ \b\b| \b\b/ \b\b- \b\b\\ \b\b| \b\b/ \b\b- \b\b\\ \b\b| \b\b/ \b\b- \b\b\\ \b\b| \b\b/ \b\b- \b\b\\ \b\b| \b\b/ \b\b- \b\b\\ \b\b| \b\b/ \b\b- \b\b\\ \b\b| \b\b/ \b\b- \b\b\\ \b\b| \b\b/ \b\b- \b\b\\ \b\b| \b\b/ \b\b- \b\b\\ \b\b| \b\b/ \b\b- \b\b\\ \b\b| \b\b/ \b\b- \b\b\\ \b\b| \b\b/ \b\b- \b\b\\ \b\b| \b\b/ \b\b- \b\b\\ \b\b| \b\b/ \b\b- \b\b\\ \b\b| \b\b/ \b\b- \b\b\\ \b\b| \b\b/ \b\b- \b\b\\ \b\b| \b\b/ \b\b- \b\b\\ \b\b| \b\b/ \b\b- \b\b\\ \b\b| \b\b/ \b\b- \b\b\\ \b\b| \b\b/ \b\b- \b\b\\ \b\b| \b\b/ \b\b- \b\b\\ \b\b| \b\b/ \b\b- \b\b\\ \b\b| \b\b/ \b\b- \b\b\\ \b\b| \b\b/ \b\b- \b\b\\ \b\b| \b\b/ \b\b- \b\b\\ \b\b| \b\b/ \b\b- \b\b\\ \b\b| \b\b/ \b\b- \b\b\\ \b\b| \b\b/ \b\b- \b\b\\ \b\b| \b\b/ \b\b- \b\b\\ \b\b| \b\b/ \b\b- \b\b\\ \b\b| \b\b/ \b\b- \b\b\\ \b\b| \b\b/ \b\b- \b\b\\ \b\b| \b\b/ \b\b- \b\b\\ \b\b| \b\b/ \b\b- \b\b\\ \b\b| \b\b/ \b\b- \b\b\\ \b\b| \b\b/ \b\b- \b\b\\ \b\b| \b\b/ \b\b- \b\b\\ \b\b| \b\b/ \b\b- \b\b\\ \b\b| \b\b/ \b\b- \b\b\\ \b\b| \b\b/ \b\b- \b\b\\ \b\b| \b\b/ \b\b- \b\b\\ \b\b| \b\b/ \b\b- \b\b\\ \b\b| \b\b/ \b\b- \b\b\\ \b\b| \b\b/ \b\b- \b\b\\ \b\b| \b\b/ \b\b- \b\b\\ \b\b| \b\b/ \b\b- \b\b\\ \b\b| \b\b/ \b\b- \b\b\\ \b\b| \b\b/ \b\b- \b\b\\ \b\b| \b\b/ \b\bdone\n",
            "\n",
            "## Package Plan ##\n",
            "\n",
            "  environment location: /usr/local\n",
            "\n",
            "  added / updated specs:\n",
            "    - cudatoolkit=10.1\n",
            "    - cudf=0.14\n",
            "    - cugraph\n",
            "    - cuml\n",
            "    - cusignal\n",
            "    - cuspatial\n",
            "    - dask-cudf\n",
            "    - gcsfs\n",
            "    - gdal=3.0.4\n",
            "    - pynvml\n",
            "    - python=3.6\n",
            "    - xgboost=1.1.0dev.rapidsai0.14\n",
            "\n",
            "\n",
            "The following packages will be downloaded:\n",
            "\n",
            "    package                    |            build\n",
            "    ---------------------------|-----------------\n",
            "    aiohttp-3.7.3              |   py36h1d69622_0         612 KB  conda-forge\n",
            "    arrow-cpp-0.15.0           |   py36h090bef1_2        18.1 MB  conda-forge\n",
            "    async-timeout-3.0.1        |          py_1000          11 KB  conda-forge\n",
            "    attrs-20.3.0               |     pyhd3deb0d_0          41 KB  conda-forge\n",
            "    blinker-1.4                |             py_1          13 KB  conda-forge\n",
            "    bokeh-2.2.3                |   py36h9f0ad1d_0         7.0 MB  conda-forge\n",
            "    boost-1.70.0               |   py36h9de70de_1         337 KB  conda-forge\n",
            "    boost-cpp-1.70.0           |       h8e57a91_2        21.1 MB  conda-forge\n",
            "    brotli-1.0.9               |       he1b5a44_3         395 KB  conda-forge\n",
            "    bzip2-1.0.8                |       h516909a_3         398 KB  conda-forge\n",
            "    c-ares-1.17.1              |       h36c2ea0_0         111 KB  conda-forge\n",
            "    cachetools-4.1.1           |             py_0          12 KB  conda-forge\n",
            "    cairo-1.16.0               |    hcf35c78_1003         1.5 MB  conda-forge\n",
            "    cfitsio-3.470              |       hb418390_7         1.3 MB  conda-forge\n",
            "    click-7.1.2                |     pyh9f0ad1d_0          64 KB  conda-forge\n",
            "    cloudpickle-1.6.0          |             py_0          22 KB  conda-forge\n",
            "    contextvars-2.4            |             py_0          11 KB  conda-forge\n",
            "    cudatoolkit-10.1.243       |       h6bb024c_0       513.2 MB  nvidia\n",
            "    cudf-0.14.0                |           py36_0        25.7 MB  rapidsai/label/main\n",
            "    cudnn-7.6.0                |       cuda10.1_0       240.9 MB  nvidia\n",
            "    cugraph-0.14.0             |           py36_0         6.9 MB  rapidsai/label/main\n",
            "    cuml-0.14.0                |  cuda10.1_py36_0         9.6 MB  rapidsai/label/main\n",
            "    cupy-7.8.0                 |   py36h5c369b2_1        20.6 MB  conda-forge\n",
            "    curl-7.71.1                |       he644dc0_8         139 KB  conda-forge\n",
            "    cusignal-0.16.0            |  py38_g61980b6_0         821 KB  rapidsai/label/main\n",
            "    cuspatial-0.14.0           |           py36_0         3.6 MB  rapidsai/label/main\n",
            "    cytoolz-0.11.0             |   py36h8c4c3a4_1         371 KB  conda-forge\n",
            "    dask-2.30.0                |             py_0           4 KB  conda-forge\n",
            "    dask-core-2.30.0           |             py_0         639 KB  conda-forge\n",
            "    dask-cudf-0.14.0           |           py36_0          81 KB  rapidsai/label/main\n",
            "    distributed-2.30.1         |   py36h5fab9bb_0         1.1 MB  conda-forge\n",
            "    dlpack-0.3                 |       he1b5a44_1          13 KB  conda-forge\n",
            "    double-conversion-3.1.5    |       he1b5a44_2          85 KB  conda-forge\n",
            "    expat-2.2.9                |       he1b5a44_2         191 KB  conda-forge\n",
            "    fastavro-1.2.0             |   py36h1d69622_0         399 KB  conda-forge\n",
            "    fastrlock-0.5              |   py36h831f99a_1          31 KB  conda-forge\n",
            "    fontconfig-2.13.1          |    h86ecdb6_1001         340 KB  conda-forge\n",
            "    freetype-2.10.4            |       h7ca028e_0         912 KB  conda-forge\n",
            "    freexl-1.0.5               |    h516909a_1002          46 KB  conda-forge\n",
            "    fsspec-0.8.4               |             py_0          65 KB  conda-forge\n",
            "    gcsfs-0.7.1                |             py_0          22 KB  conda-forge\n",
            "    gdal-3.0.4                 |  py36hd60729c_10         1.3 MB  conda-forge\n",
            "    geos-3.8.1                 |       he1b5a44_0         1.0 MB  conda-forge\n",
            "    geotiff-1.6.0              |       h05acad5_0         280 KB  conda-forge\n",
            "    gflags-2.2.2               |    he1b5a44_1004         114 KB  conda-forge\n",
            "    giflib-5.2.1               |       h36c2ea0_2          77 KB  conda-forge\n",
            "    glib-2.66.1                |       h92f7085_0         2.9 MB\n",
            "    glog-0.4.0                 |       h49b9bf7_3         104 KB  conda-forge\n",
            "    google-auth-1.23.0         |     pyhd8ed1ab_0          62 KB  conda-forge\n",
            "    google-auth-oauthlib-0.4.2 |     pyhd8ed1ab_0          19 KB  conda-forge\n",
            "    grpc-cpp-1.23.0            |       h18db393_0         4.5 MB  conda-forge\n",
            "    hdf4-4.2.13                |    hf30be14_1003         964 KB  conda-forge\n",
            "    hdf5-1.10.6                |nompi_h1022a3e_1110         3.1 MB  conda-forge\n",
            "    heapdict-1.0.1             |             py_0           7 KB  conda-forge\n",
            "    icu-64.2                   |       he1b5a44_1        12.6 MB  conda-forge\n",
            "    idna_ssl-1.1.0             |py36h9f0ad1d_1001           7 KB  conda-forge\n",
            "    immutables-0.14            |   py36h8c4c3a4_1          68 KB  conda-forge\n",
            "    jinja2-2.11.2              |     pyh9f0ad1d_0          93 KB  conda-forge\n",
            "    joblib-0.17.0              |             py_0         204 KB  conda-forge\n",
            "    jpeg-9d                    |       h36c2ea0_0         264 KB  conda-forge\n",
            "    json-c-0.13.1              |    hbfbb72e_1002          76 KB  conda-forge\n",
            "    kealib-1.4.13              |       h33137a7_1         172 KB  conda-forge\n",
            "    krb5-1.17.2                |       h926e7f8_0         1.4 MB  conda-forge\n",
            "    lcms2-2.11                 |       hcbb858e_1         434 KB  conda-forge\n",
            "    libblas-3.9.0              |       3_openblas          11 KB  conda-forge\n",
            "    libcblas-3.9.0             |       3_openblas          11 KB  conda-forge\n",
            "    libcudf-0.14.0             |       cuda10.1_0       101.5 MB  rapidsai/label/main\n",
            "    libcugraph-0.14.0          |       cuda10.1_0        14.3 MB  rapidsai/label/main\n",
            "    libcuml-0.14.0             |       cuda10.1_0        42.4 MB  rapidsai/label/main\n",
            "    libcumlprims-0.14.1        |       cuda10.1_0         6.0 MB  nvidia\n",
            "    libcurl-7.71.1             |       hcdd3856_8         312 KB  conda-forge\n",
            "    libcuspatial-0.14.0        |       cuda10.1_0         3.4 MB  rapidsai/label/main\n",
            "    libdap4-3.20.6             |       h1d1bd15_1         7.9 MB  conda-forge\n",
            "    libedit-3.1.20191231       |       he28a2e2_2         121 KB  conda-forge\n",
            "    libev-4.33                 |       h516909a_1         104 KB  conda-forge\n",
            "    libevent-2.1.10            |       hcdb4288_3         1.1 MB  conda-forge\n",
            "    libgdal-3.0.4              |      he6a97d6_10        18.8 MB  conda-forge\n",
            "    libgfortran-ng-9.3.0       |      he4bcb1c_17          22 KB  conda-forge\n",
            "    libgfortran5-9.3.0         |      he4bcb1c_17         2.0 MB  conda-forge\n",
            "    libhwloc-2.1.0             |       h3c4fd83_0         2.7 MB  conda-forge\n",
            "    libiconv-1.16              |       h516909a_0         1.4 MB  conda-forge\n",
            "    libkml-1.3.0               |    h4fcabce_1010         643 KB  conda-forge\n",
            "    liblapack-3.9.0            |       3_openblas          11 KB  conda-forge\n",
            "    libllvm9-9.0.1             |       he513fc3_1        25.1 MB  conda-forge\n",
            "    libnetcdf-4.7.4            |nompi_hefab0ff_106         1.3 MB  conda-forge\n",
            "    libnghttp2-1.41.0          |       h8cfc5f6_2         774 KB  conda-forge\n",
            "    libnvstrings-0.14.0        |       cuda10.1_0        30.1 MB  rapidsai/label/main\n",
            "    libopenblas-0.3.12         |pthreads_h4812303_1         8.9 MB  conda-forge\n",
            "    libpng-1.6.37              |       h21135ba_2         306 KB  conda-forge\n",
            "    libpq-12.3                 |       h5513abc_2         2.6 MB  conda-forge\n",
            "    libprotobuf-3.8.0          |       h8b12597_0         4.7 MB  conda-forge\n",
            "    librmm-0.14.0              |       cuda10.1_0         189 KB  rapidsai/label/main\n",
            "    libspatialite-4.3.0a       |    h2482549_1038         3.1 MB  conda-forge\n",
            "    libssh2-1.9.0              |       hab1572f_5         225 KB  conda-forge\n",
            "    libtiff-4.1.0              |       hc7e4089_6         668 KB  conda-forge\n",
            "    libuuid-2.32.1             |    h14c3975_1000          26 KB  conda-forge\n",
            "    libwebp-base-1.1.0         |       h36c2ea0_3         864 KB  conda-forge\n",
            "    libxcb-1.13                |    h14c3975_1002         396 KB  conda-forge\n",
            "    libxgboost-1.1.0dev.rapidsai0.14|       cuda10.1_0        31.1 MB  rapidsai/label/main\n",
            "    libxml2-2.9.10             |       hee79883_0         1.3 MB  conda-forge\n",
            "    llvmlite-0.33.0            |   py36hfa65bc7_1         329 KB  conda-forge\n",
            "    locket-0.2.0               |             py_2           6 KB  conda-forge\n",
            "    lz4-c-1.8.3                |    he1b5a44_1001         187 KB  conda-forge\n",
            "    markupsafe-1.1.1           |   py36he6145b8_2          27 KB  conda-forge\n",
            "    msgpack-python-1.0.0       |   py36hdb11119_2          91 KB  conda-forge\n",
            "    multidict-4.7.5            |   py36h8c4c3a4_2          69 KB  conda-forge\n",
            "    nccl-2.5.7.1               |       h51cf6c1_0        98.4 MB  conda-forge\n",
            "    numba-0.50.1               |   py36h0573a6f_1         3.1 MB\n",
            "    numpy-1.19.4               |   py36h8732dcd_1         5.2 MB  conda-forge\n",
            "    nvstrings-0.14.0           |           py36_0         129 KB  rapidsai/label/main\n",
            "    oauthlib-3.0.1             |             py_0          82 KB  conda-forge\n",
            "    olefile-0.46               |     pyh9f0ad1d_1          32 KB  conda-forge\n",
            "    openjpeg-2.3.1             |       h981e76c_3         475 KB  conda-forge\n",
            "    packaging-20.4             |     pyh9f0ad1d_0          32 KB  conda-forge\n",
            "    pandas-0.25.3              |   py36hb3f55d8_0        11.4 MB  conda-forge\n",
            "    parquet-cpp-1.5.1          |                2           3 KB  conda-forge\n",
            "    partd-1.1.0                |             py_0          17 KB  conda-forge\n",
            "    pcre-8.44                  |       he1b5a44_0         261 KB  conda-forge\n",
            "    pillow-8.0.1               |   py36h10ecd5c_0         687 KB  conda-forge\n",
            "    pixman-0.38.0              |    h516909a_1003         594 KB  conda-forge\n",
            "    poppler-0.87.0             |       h4190859_1        12.9 MB  conda-forge\n",
            "    poppler-data-0.4.10        |                0         3.8 MB  conda-forge\n",
            "    postgresql-12.3            |       h8573dbc_2         5.0 MB  conda-forge\n",
            "    proj-7.0.0                 |       h966b41f_5         3.7 MB  conda-forge\n",
            "    psutil-5.7.3               |   py36he6145b8_0         338 KB  conda-forge\n",
            "    pthread-stubs-0.4          |    h14c3975_1001           5 KB  conda-forge\n",
            "    py-xgboost-1.1.0dev.rapidsai0.14|   cuda10.1py36_0         106 KB  rapidsai/label/main\n",
            "    pyarrow-0.15.0             |   py36h8b68381_1         3.2 MB  conda-forge\n",
            "    pyasn1-0.4.8               |             py_0          53 KB  conda-forge\n",
            "    pyasn1-modules-0.2.7       |             py_0          60 KB  conda-forge\n",
            "    pyjwt-1.7.1                |             py_0          17 KB  conda-forge\n",
            "    pynvml-8.0.4               |             py_1          31 KB  conda-forge\n",
            "    pyparsing-2.4.7            |     pyh9f0ad1d_0          60 KB  conda-forge\n",
            "    python-dateutil-2.8.1      |             py_0         220 KB  conda-forge\n",
            "    pytz-2020.4                |     pyhd8ed1ab_0         229 KB  conda-forge\n",
            "    pyyaml-5.3.1               |   py36he6145b8_1         185 KB  conda-forge\n",
            "    re2-2020.04.01             |       he1b5a44_0         438 KB  conda-forge\n",
            "    requests-oauthlib-1.3.0    |     pyh9f0ad1d_0          21 KB  conda-forge\n",
            "    rmm-0.14.0                 |           py36_0         684 KB  rapidsai/label/main\n",
            "    rsa-4.6                    |     pyh9f0ad1d_0          27 KB  conda-forge\n",
            "    scikit-learn-0.23.2        |   py36hb6e6923_2         6.9 MB  conda-forge\n",
            "    scipy-1.5.3                |   py36h9e8f40b_0        19.1 MB  conda-forge\n",
            "    snappy-1.1.8               |       he1b5a44_3          32 KB  conda-forge\n",
            "    sortedcontainers-2.3.0     |     pyhd8ed1ab_0          26 KB  conda-forge\n",
            "    spdlog-1.8.1               |       hc9558a2_0         316 KB  conda-forge\n",
            "    tbb-2018.0.5               |       h2d50403_0         1.1 MB  conda-forge\n",
            "    tblib-1.6.0                |             py_0          14 KB  conda-forge\n",
            "    threadpoolctl-2.1.0        |     pyh5ca1d4c_0          15 KB  conda-forge\n",
            "    thrift-cpp-0.12.0          |    hf3afdfd_1004         2.4 MB  conda-forge\n",
            "    tiledb-1.7.7               |       hcde45ca_0         2.0 MB  conda-forge\n",
            "    toolz-0.11.1               |             py_0          46 KB  conda-forge\n",
            "    tornado-6.1                |   py36h1d69622_0         644 KB  conda-forge\n",
            "    typing-extensions-3.7.4.3  |                0           8 KB  conda-forge\n",
            "    typing_extensions-3.7.4.3  |             py_0          25 KB  conda-forge\n",
            "    tzcode-2020a               |       h516909a_0         425 KB  conda-forge\n",
            "    ucx-1.8.0+gf6ec8d4         |      cuda10.1_20         8.9 MB  rapidsai/label/main\n",
            "    ucx-py-0.14.0+gf6ec8d4     |           py36_0         137 KB  rapidsai/label/main\n",
            "    uriparser-0.9.3            |       he1b5a44_1          49 KB  conda-forge\n",
            "    xerces-c-3.2.2             |    h8412b87_1004         1.7 MB  conda-forge\n",
            "    xgboost-1.1.0dev.rapidsai0.14|   cuda10.1py36_0          12 KB  rapidsai/label/main\n",
            "    xorg-kbproto-1.0.7         |    h14c3975_1002          26 KB  conda-forge\n",
            "    xorg-libice-1.0.10         |       h516909a_0          57 KB  conda-forge\n",
            "    xorg-libsm-1.2.3           |    h84519dc_1000          25 KB  conda-forge\n",
            "    xorg-libx11-1.6.12         |       h516909a_0         917 KB  conda-forge\n",
            "    xorg-libxau-1.0.9          |       h14c3975_0          13 KB  conda-forge\n",
            "    xorg-libxdmcp-1.1.3        |       h516909a_0          18 KB  conda-forge\n",
            "    xorg-libxext-1.3.4         |       h516909a_0          51 KB  conda-forge\n",
            "    xorg-libxrender-0.9.10     |    h516909a_1002          31 KB  conda-forge\n",
            "    xorg-renderproto-0.11.1    |    h14c3975_1002           8 KB  conda-forge\n",
            "    xorg-xextproto-7.3.0       |    h14c3975_1002          27 KB  conda-forge\n",
            "    xorg-xproto-7.0.31         |    h14c3975_1007          72 KB  conda-forge\n",
            "    yarl-1.6.3                 |   py36h1d69622_0         139 KB  conda-forge\n",
            "    zict-2.0.0                 |             py_0          10 KB  conda-forge\n",
            "    zstd-1.4.4                 |       h3b9ef0a_2         982 KB  conda-forge\n",
            "    ------------------------------------------------------------\n",
            "                                           Total:        1.39 GB\n",
            "\n",
            "The following NEW packages will be INSTALLED:\n",
            "\n",
            "  aiohttp            conda-forge/linux-64::aiohttp-3.7.3-py36h1d69622_0\n",
            "  arrow-cpp          conda-forge/linux-64::arrow-cpp-0.15.0-py36h090bef1_2\n",
            "  async-timeout      conda-forge/noarch::async-timeout-3.0.1-py_1000\n",
            "  attrs              conda-forge/noarch::attrs-20.3.0-pyhd3deb0d_0\n",
            "  blinker            conda-forge/noarch::blinker-1.4-py_1\n",
            "  bokeh              conda-forge/linux-64::bokeh-2.2.3-py36h9f0ad1d_0\n",
            "  boost              conda-forge/linux-64::boost-1.70.0-py36h9de70de_1\n",
            "  boost-cpp          conda-forge/linux-64::boost-cpp-1.70.0-h8e57a91_2\n",
            "  brotli             conda-forge/linux-64::brotli-1.0.9-he1b5a44_3\n",
            "  bzip2              conda-forge/linux-64::bzip2-1.0.8-h516909a_3\n",
            "  c-ares             conda-forge/linux-64::c-ares-1.17.1-h36c2ea0_0\n",
            "  cachetools         conda-forge/noarch::cachetools-4.1.1-py_0\n",
            "  cairo              conda-forge/linux-64::cairo-1.16.0-hcf35c78_1003\n",
            "  cfitsio            conda-forge/linux-64::cfitsio-3.470-hb418390_7\n",
            "  click              conda-forge/noarch::click-7.1.2-pyh9f0ad1d_0\n",
            "  cloudpickle        conda-forge/noarch::cloudpickle-1.6.0-py_0\n",
            "  contextvars        conda-forge/noarch::contextvars-2.4-py_0\n",
            "  cudatoolkit        nvidia/linux-64::cudatoolkit-10.1.243-h6bb024c_0\n",
            "  cudf               rapidsai/label/main/linux-64::cudf-0.14.0-py36_0\n",
            "  cudnn              nvidia/linux-64::cudnn-7.6.0-cuda10.1_0\n",
            "  cugraph            rapidsai/label/main/linux-64::cugraph-0.14.0-py36_0\n",
            "  cuml               rapidsai/label/main/linux-64::cuml-0.14.0-cuda10.1_py36_0\n",
            "  cupy               conda-forge/linux-64::cupy-7.8.0-py36h5c369b2_1\n",
            "  curl               conda-forge/linux-64::curl-7.71.1-he644dc0_8\n",
            "  cusignal           rapidsai/label/main/noarch::cusignal-0.16.0-py38_g61980b6_0\n",
            "  cuspatial          rapidsai/label/main/linux-64::cuspatial-0.14.0-py36_0\n",
            "  cytoolz            conda-forge/linux-64::cytoolz-0.11.0-py36h8c4c3a4_1\n",
            "  dask               conda-forge/noarch::dask-2.30.0-py_0\n",
            "  dask-core          conda-forge/noarch::dask-core-2.30.0-py_0\n",
            "  dask-cudf          rapidsai/label/main/linux-64::dask-cudf-0.14.0-py36_0\n",
            "  distributed        conda-forge/linux-64::distributed-2.30.1-py36h5fab9bb_0\n",
            "  dlpack             conda-forge/linux-64::dlpack-0.3-he1b5a44_1\n",
            "  double-conversion  conda-forge/linux-64::double-conversion-3.1.5-he1b5a44_2\n",
            "  expat              conda-forge/linux-64::expat-2.2.9-he1b5a44_2\n",
            "  fastavro           conda-forge/linux-64::fastavro-1.2.0-py36h1d69622_0\n",
            "  fastrlock          conda-forge/linux-64::fastrlock-0.5-py36h831f99a_1\n",
            "  fontconfig         conda-forge/linux-64::fontconfig-2.13.1-h86ecdb6_1001\n",
            "  freetype           conda-forge/linux-64::freetype-2.10.4-h7ca028e_0\n",
            "  freexl             conda-forge/linux-64::freexl-1.0.5-h516909a_1002\n",
            "  fsspec             conda-forge/noarch::fsspec-0.8.4-py_0\n",
            "  gcsfs              conda-forge/noarch::gcsfs-0.7.1-py_0\n",
            "  gdal               conda-forge/linux-64::gdal-3.0.4-py36hd60729c_10\n",
            "  geos               conda-forge/linux-64::geos-3.8.1-he1b5a44_0\n",
            "  geotiff            conda-forge/linux-64::geotiff-1.6.0-h05acad5_0\n",
            "  gflags             conda-forge/linux-64::gflags-2.2.2-he1b5a44_1004\n",
            "  giflib             conda-forge/linux-64::giflib-5.2.1-h36c2ea0_2\n",
            "  glib               pkgs/main/linux-64::glib-2.66.1-h92f7085_0\n",
            "  glog               conda-forge/linux-64::glog-0.4.0-h49b9bf7_3\n",
            "  google-auth        conda-forge/noarch::google-auth-1.23.0-pyhd8ed1ab_0\n",
            "  google-auth-oauth~ conda-forge/noarch::google-auth-oauthlib-0.4.2-pyhd8ed1ab_0\n",
            "  grpc-cpp           conda-forge/linux-64::grpc-cpp-1.23.0-h18db393_0\n",
            "  hdf4               conda-forge/linux-64::hdf4-4.2.13-hf30be14_1003\n",
            "  hdf5               conda-forge/linux-64::hdf5-1.10.6-nompi_h1022a3e_1110\n",
            "  heapdict           conda-forge/noarch::heapdict-1.0.1-py_0\n",
            "  icu                conda-forge/linux-64::icu-64.2-he1b5a44_1\n",
            "  idna_ssl           conda-forge/linux-64::idna_ssl-1.1.0-py36h9f0ad1d_1001\n",
            "  immutables         conda-forge/linux-64::immutables-0.14-py36h8c4c3a4_1\n",
            "  jinja2             conda-forge/noarch::jinja2-2.11.2-pyh9f0ad1d_0\n",
            "  joblib             conda-forge/noarch::joblib-0.17.0-py_0\n",
            "  jpeg               conda-forge/linux-64::jpeg-9d-h36c2ea0_0\n",
            "  json-c             conda-forge/linux-64::json-c-0.13.1-hbfbb72e_1002\n",
            "  kealib             conda-forge/linux-64::kealib-1.4.13-h33137a7_1\n",
            "  krb5               conda-forge/linux-64::krb5-1.17.2-h926e7f8_0\n",
            "  lcms2              conda-forge/linux-64::lcms2-2.11-hcbb858e_1\n",
            "  libblas            conda-forge/linux-64::libblas-3.9.0-3_openblas\n",
            "  libcblas           conda-forge/linux-64::libcblas-3.9.0-3_openblas\n",
            "  libcudf            rapidsai/label/main/linux-64::libcudf-0.14.0-cuda10.1_0\n",
            "  libcugraph         rapidsai/label/main/linux-64::libcugraph-0.14.0-cuda10.1_0\n",
            "  libcuml            rapidsai/label/main/linux-64::libcuml-0.14.0-cuda10.1_0\n",
            "  libcumlprims       nvidia/linux-64::libcumlprims-0.14.1-cuda10.1_0\n",
            "  libcurl            conda-forge/linux-64::libcurl-7.71.1-hcdd3856_8\n",
            "  libcuspatial       rapidsai/label/main/linux-64::libcuspatial-0.14.0-cuda10.1_0\n",
            "  libdap4            conda-forge/linux-64::libdap4-3.20.6-h1d1bd15_1\n",
            "  libedit            conda-forge/linux-64::libedit-3.1.20191231-he28a2e2_2\n",
            "  libev              conda-forge/linux-64::libev-4.33-h516909a_1\n",
            "  libevent           conda-forge/linux-64::libevent-2.1.10-hcdb4288_3\n",
            "  libgdal            conda-forge/linux-64::libgdal-3.0.4-he6a97d6_10\n",
            "  libgfortran-ng     conda-forge/linux-64::libgfortran-ng-9.3.0-he4bcb1c_17\n",
            "  libgfortran5       conda-forge/linux-64::libgfortran5-9.3.0-he4bcb1c_17\n",
            "  libhwloc           conda-forge/linux-64::libhwloc-2.1.0-h3c4fd83_0\n",
            "  libiconv           conda-forge/linux-64::libiconv-1.16-h516909a_0\n",
            "  libkml             conda-forge/linux-64::libkml-1.3.0-h4fcabce_1010\n",
            "  liblapack          conda-forge/linux-64::liblapack-3.9.0-3_openblas\n",
            "  libllvm9           conda-forge/linux-64::libllvm9-9.0.1-he513fc3_1\n",
            "  libnetcdf          conda-forge/linux-64::libnetcdf-4.7.4-nompi_hefab0ff_106\n",
            "  libnghttp2         conda-forge/linux-64::libnghttp2-1.41.0-h8cfc5f6_2\n",
            "  libnvstrings       rapidsai/label/main/linux-64::libnvstrings-0.14.0-cuda10.1_0\n",
            "  libopenblas        conda-forge/linux-64::libopenblas-0.3.12-pthreads_h4812303_1\n",
            "  libpng             conda-forge/linux-64::libpng-1.6.37-h21135ba_2\n",
            "  libpq              conda-forge/linux-64::libpq-12.3-h5513abc_2\n",
            "  libprotobuf        conda-forge/linux-64::libprotobuf-3.8.0-h8b12597_0\n",
            "  librmm             rapidsai/label/main/linux-64::librmm-0.14.0-cuda10.1_0\n",
            "  libspatialite      conda-forge/linux-64::libspatialite-4.3.0a-h2482549_1038\n",
            "  libssh2            conda-forge/linux-64::libssh2-1.9.0-hab1572f_5\n",
            "  libtiff            conda-forge/linux-64::libtiff-4.1.0-hc7e4089_6\n",
            "  libuuid            conda-forge/linux-64::libuuid-2.32.1-h14c3975_1000\n",
            "  libwebp-base       conda-forge/linux-64::libwebp-base-1.1.0-h36c2ea0_3\n",
            "  libxcb             conda-forge/linux-64::libxcb-1.13-h14c3975_1002\n",
            "  libxgboost         rapidsai/label/main/linux-64::libxgboost-1.1.0dev.rapidsai0.14-cuda10.1_0\n",
            "  libxml2            conda-forge/linux-64::libxml2-2.9.10-hee79883_0\n",
            "  llvmlite           conda-forge/linux-64::llvmlite-0.33.0-py36hfa65bc7_1\n",
            "  locket             conda-forge/noarch::locket-0.2.0-py_2\n",
            "  lz4-c              conda-forge/linux-64::lz4-c-1.8.3-he1b5a44_1001\n",
            "  markupsafe         conda-forge/linux-64::markupsafe-1.1.1-py36he6145b8_2\n",
            "  msgpack-python     conda-forge/linux-64::msgpack-python-1.0.0-py36hdb11119_2\n",
            "  multidict          conda-forge/linux-64::multidict-4.7.5-py36h8c4c3a4_2\n",
            "  nccl               conda-forge/linux-64::nccl-2.5.7.1-h51cf6c1_0\n",
            "  numba              pkgs/main/linux-64::numba-0.50.1-py36h0573a6f_1\n",
            "  numpy              conda-forge/linux-64::numpy-1.19.4-py36h8732dcd_1\n",
            "  nvstrings          rapidsai/label/main/linux-64::nvstrings-0.14.0-py36_0\n",
            "  oauthlib           conda-forge/noarch::oauthlib-3.0.1-py_0\n",
            "  olefile            conda-forge/noarch::olefile-0.46-pyh9f0ad1d_1\n",
            "  openjpeg           conda-forge/linux-64::openjpeg-2.3.1-h981e76c_3\n",
            "  packaging          conda-forge/noarch::packaging-20.4-pyh9f0ad1d_0\n",
            "  pandas             conda-forge/linux-64::pandas-0.25.3-py36hb3f55d8_0\n",
            "  parquet-cpp        conda-forge/noarch::parquet-cpp-1.5.1-2\n",
            "  partd              conda-forge/noarch::partd-1.1.0-py_0\n",
            "  pcre               conda-forge/linux-64::pcre-8.44-he1b5a44_0\n",
            "  pillow             conda-forge/linux-64::pillow-8.0.1-py36h10ecd5c_0\n",
            "  pixman             conda-forge/linux-64::pixman-0.38.0-h516909a_1003\n",
            "  poppler            conda-forge/linux-64::poppler-0.87.0-h4190859_1\n",
            "  poppler-data       conda-forge/noarch::poppler-data-0.4.10-0\n",
            "  postgresql         conda-forge/linux-64::postgresql-12.3-h8573dbc_2\n",
            "  proj               conda-forge/linux-64::proj-7.0.0-h966b41f_5\n",
            "  psutil             conda-forge/linux-64::psutil-5.7.3-py36he6145b8_0\n",
            "  pthread-stubs      conda-forge/linux-64::pthread-stubs-0.4-h14c3975_1001\n",
            "  py-xgboost         rapidsai/label/main/linux-64::py-xgboost-1.1.0dev.rapidsai0.14-cuda10.1py36_0\n",
            "  pyarrow            conda-forge/linux-64::pyarrow-0.15.0-py36h8b68381_1\n",
            "  pyasn1             conda-forge/noarch::pyasn1-0.4.8-py_0\n",
            "  pyasn1-modules     conda-forge/noarch::pyasn1-modules-0.2.7-py_0\n",
            "  pyjwt              conda-forge/noarch::pyjwt-1.7.1-py_0\n",
            "  pynvml             conda-forge/noarch::pynvml-8.0.4-py_1\n",
            "  pyparsing          conda-forge/noarch::pyparsing-2.4.7-pyh9f0ad1d_0\n",
            "  python-dateutil    conda-forge/noarch::python-dateutil-2.8.1-py_0\n",
            "  pytz               conda-forge/noarch::pytz-2020.4-pyhd8ed1ab_0\n",
            "  pyyaml             conda-forge/linux-64::pyyaml-5.3.1-py36he6145b8_1\n",
            "  re2                conda-forge/linux-64::re2-2020.04.01-he1b5a44_0\n",
            "  requests-oauthlib  conda-forge/noarch::requests-oauthlib-1.3.0-pyh9f0ad1d_0\n",
            "  rmm                rapidsai/label/main/linux-64::rmm-0.14.0-py36_0\n",
            "  rsa                conda-forge/noarch::rsa-4.6-pyh9f0ad1d_0\n",
            "  scikit-learn       conda-forge/linux-64::scikit-learn-0.23.2-py36hb6e6923_2\n",
            "  scipy              conda-forge/linux-64::scipy-1.5.3-py36h9e8f40b_0\n",
            "  snappy             conda-forge/linux-64::snappy-1.1.8-he1b5a44_3\n",
            "  sortedcontainers   conda-forge/noarch::sortedcontainers-2.3.0-pyhd8ed1ab_0\n",
            "  spdlog             conda-forge/linux-64::spdlog-1.8.1-hc9558a2_0\n",
            "  tbb                conda-forge/linux-64::tbb-2018.0.5-h2d50403_0\n",
            "  tblib              conda-forge/noarch::tblib-1.6.0-py_0\n",
            "  threadpoolctl      conda-forge/noarch::threadpoolctl-2.1.0-pyh5ca1d4c_0\n",
            "  thrift-cpp         conda-forge/linux-64::thrift-cpp-0.12.0-hf3afdfd_1004\n",
            "  tiledb             conda-forge/linux-64::tiledb-1.7.7-hcde45ca_0\n",
            "  toolz              conda-forge/noarch::toolz-0.11.1-py_0\n",
            "  tornado            conda-forge/linux-64::tornado-6.1-py36h1d69622_0\n",
            "  typing-extensions  conda-forge/noarch::typing-extensions-3.7.4.3-0\n",
            "  typing_extensions  conda-forge/noarch::typing_extensions-3.7.4.3-py_0\n",
            "  tzcode             conda-forge/linux-64::tzcode-2020a-h516909a_0\n",
            "  ucx                rapidsai/label/main/linux-64::ucx-1.8.0+gf6ec8d4-cuda10.1_20\n",
            "  ucx-py             rapidsai/label/main/linux-64::ucx-py-0.14.0+gf6ec8d4-py36_0\n",
            "  uriparser          conda-forge/linux-64::uriparser-0.9.3-he1b5a44_1\n",
            "  xerces-c           conda-forge/linux-64::xerces-c-3.2.2-h8412b87_1004\n",
            "  xgboost            rapidsai/label/main/linux-64::xgboost-1.1.0dev.rapidsai0.14-cuda10.1py36_0\n",
            "  xorg-kbproto       conda-forge/linux-64::xorg-kbproto-1.0.7-h14c3975_1002\n",
            "  xorg-libice        conda-forge/linux-64::xorg-libice-1.0.10-h516909a_0\n",
            "  xorg-libsm         conda-forge/linux-64::xorg-libsm-1.2.3-h84519dc_1000\n",
            "  xorg-libx11        conda-forge/linux-64::xorg-libx11-1.6.12-h516909a_0\n",
            "  xorg-libxau        conda-forge/linux-64::xorg-libxau-1.0.9-h14c3975_0\n",
            "  xorg-libxdmcp      conda-forge/linux-64::xorg-libxdmcp-1.1.3-h516909a_0\n",
            "  xorg-libxext       conda-forge/linux-64::xorg-libxext-1.3.4-h516909a_0\n",
            "  xorg-libxrender    conda-forge/linux-64::xorg-libxrender-0.9.10-h516909a_1002\n",
            "  xorg-renderproto   conda-forge/linux-64::xorg-renderproto-0.11.1-h14c3975_1002\n",
            "  xorg-xextproto     conda-forge/linux-64::xorg-xextproto-7.3.0-h14c3975_1002\n",
            "  xorg-xproto        conda-forge/linux-64::xorg-xproto-7.0.31-h14c3975_1007\n",
            "  yarl               conda-forge/linux-64::yarl-1.6.3-py36h1d69622_0\n",
            "  zict               conda-forge/noarch::zict-2.0.0-py_0\n",
            "  zstd               conda-forge/linux-64::zstd-1.4.4-h3b9ef0a_2\n",
            "\n",
            "\n",
            "\n",
            "Downloading and Extracting Packages\n",
            "libcumlprims-0.14.1  | 6.0 MB    | : 100% 1.0/1 [00:04<00:00,  4.03s/it]\n",
            "libxgboost-1.1.0dev. | 31.1 MB   | : 100% 1.0/1 [00:10<00:00, 10.53s/it]\n",
            "ucx-1.8.0+gf6ec8d4   | 8.9 MB    | : 100% 1.0/1 [00:03<00:00,  3.96s/it]\n",
            "libkml-1.3.0         | 643 KB    | : 100% 1.0/1 [00:00<00:00,  6.87it/s]\n",
            "proj-7.0.0           | 3.7 MB    | : 100% 1.0/1 [00:00<00:00,  1.56it/s]\n",
            "parquet-cpp-1.5.1    | 3 KB      | : 100% 1.0/1 [00:00<00:00, 46.40it/s]\n",
            "cachetools-4.1.1     | 12 KB     | : 100% 1.0/1 [00:00<00:00,  2.67it/s]\n",
            "cudf-0.14.0          | 25.7 MB   | : 100% 1.0/1 [00:05<00:00,  5.46s/it]\n",
            "libwebp-base-1.1.0   | 864 KB    | : 100% 1.0/1 [00:00<00:00,  6.29it/s]\n",
            "libev-4.33           | 104 KB    | : 100% 1.0/1 [00:00<00:00, 20.99it/s]\n",
            "sortedcontainers-2.3 | 26 KB     | : 100% 1.0/1 [00:00<00:00, 35.08it/s]\n",
            "nccl-2.5.7.1         | 98.4 MB   | : 100% 1.0/1 [00:12<00:00, 12.01s/it]\n",
            "libgfortran5-9.3.0   | 2.0 MB    | : 100% 1.0/1 [00:00<00:00,  2.58it/s]\n",
            "zstd-1.4.4           | 982 KB    | : 100% 1.0/1 [00:00<00:00,  6.06it/s]\n",
            "boost-1.70.0         | 337 KB    | : 100% 1.0/1 [00:00<00:00, 10.04it/s]\n",
            "bzip2-1.0.8          | 398 KB    | : 100% 1.0/1 [00:00<00:00, 10.62it/s]\n",
            "libllvm9-9.0.1       | 25.1 MB   | : 100% 1.0/1 [00:03<00:00,  3.93s/it]              \n",
            "distributed-2.30.1   | 1.1 MB    | : 100% 1.0/1 [00:00<00:00,  4.01it/s]\n",
            "xorg-libxau-1.0.9    | 13 KB     | : 100% 1.0/1 [00:00<00:00, 35.69it/s]\n",
            "contextvars-2.4      | 11 KB     | : 100% 1.0/1 [00:00<00:00, 34.20it/s]\n",
            "fontconfig-2.13.1    | 340 KB    | : 100% 1.0/1 [00:00<00:00, 11.17it/s]\n",
            "click-7.1.2          | 64 KB     | : 100% 1.0/1 [00:00<00:00, 20.18it/s]\n",
            "google-auth-1.23.0   | 62 KB     | : 100% 1.0/1 [00:00<00:00, 20.30it/s]\n",
            "cupy-7.8.0           | 20.6 MB   | : 100% 1.0/1 [00:02<00:00,  2.98s/it]\n",
            "fastavro-1.2.0       | 399 KB    | : 100% 1.0/1 [00:00<00:00, 10.51it/s]\n",
            "zict-2.0.0           | 10 KB     | : 100% 1.0/1 [00:00<00:00, 18.33it/s]\n",
            "xorg-xextproto-7.3.0 | 27 KB     | : 100% 1.0/1 [00:00<00:00, 31.05it/s]\n",
            "msgpack-python-1.0.0 | 91 KB     | : 100% 1.0/1 [00:00<00:00, 19.54it/s]\n",
            "pcre-8.44            | 261 KB    | : 100% 1.0/1 [00:00<00:00, 13.66it/s]\n",
            "google-auth-oauthlib | 19 KB     | : 100% 1.0/1 [00:00<00:00, 33.07it/s]\n",
            "boost-cpp-1.70.0     | 21.1 MB   | : 100% 1.0/1 [00:06<00:00,  6.31s/it]               \n",
            "libiconv-1.16        | 1.4 MB    | : 100% 1.0/1 [00:00<00:00,  5.53it/s]\n",
            "cytoolz-0.11.0       | 371 KB    | : 100% 1.0/1 [00:00<00:00, 11.20it/s]\n",
            "cairo-1.16.0         | 1.5 MB    | : 100% 1.0/1 [00:00<00:00,  3.33it/s]\n",
            "xgboost-1.1.0dev.rap | 12 KB     | : 100% 1.0/1 [00:01<00:00,  1.69s/it]\n",
            "libxcb-1.13          | 396 KB    | : 100% 1.0/1 [00:00<00:00,  8.86it/s]\n",
            "libcuml-0.14.0       | 42.4 MB   | : 100% 1.0/1 [00:12<00:00, 12.52s/it]               \n",
            "arrow-cpp-0.15.0     | 18.1 MB   | : 100% 1.0/1 [00:02<00:00,  2.87s/it]\n",
            "jpeg-9d              | 264 KB    | : 100% 1.0/1 [00:00<00:00, 14.07it/s]\n",
            "uriparser-0.9.3      | 49 KB     | : 100% 1.0/1 [00:00<00:00, 29.18it/s]\n",
            "c-ares-1.17.1        | 111 KB    | : 100% 1.0/1 [00:00<00:00, 17.63it/s]\n",
            "scipy-1.5.3          | 19.1 MB   | : 100% 1.0/1 [00:03<00:00,  3.01s/it]\n",
            "xorg-libxrender-0.9. | 31 KB     | : 100% 1.0/1 [00:00<00:00, 33.94it/s]\n",
            "json-c-0.13.1        | 76 KB     | : 100% 1.0/1 [00:00<00:00, 25.33it/s]\n",
            "thrift-cpp-0.12.0    | 2.4 MB    | : 100% 1.0/1 [00:00<00:00,  2.41it/s]\n",
            "grpc-cpp-1.23.0      | 4.5 MB    | : 100% 1.0/1 [00:00<00:00,  1.09it/s]\n",
            "libssh2-1.9.0        | 225 KB    | : 100% 1.0/1 [00:00<00:00, 13.57it/s]\n",
            "pytz-2020.4          | 229 KB    | : 100% 1.0/1 [00:00<00:00,  9.28it/s]\n",
            "curl-7.71.1          | 139 KB    | : 100% 1.0/1 [00:00<00:00, 26.56it/s]\n",
            "yarl-1.6.3           | 139 KB    | : 100% 1.0/1 [00:00<00:00, 17.56it/s]\n",
            "cloudpickle-1.6.0    | 22 KB     | : 100% 1.0/1 [00:00<00:00, 38.40it/s]\n",
            "glog-0.4.0           | 104 KB    | : 100% 1.0/1 [00:00<00:00, 25.49it/s]\n",
            "librmm-0.14.0        | 189 KB    | : 100% 1.0/1 [00:02<00:00,  2.30s/it]               \n",
            "toolz-0.11.1         | 46 KB     | : 100% 1.0/1 [00:00<00:00, 30.36it/s]\n",
            "cudatoolkit-10.1.243 | 513.2 MB  | : 100% 1.0/1 [01:51<00:00, 111.13s/it]\n",
            "rmm-0.14.0           | 684 KB    | : 100% 1.0/1 [00:02<00:00,  2.24s/it]              \n",
            "gcsfs-0.7.1          | 22 KB     | : 100% 1.0/1 [00:00<00:00, 23.95it/s]\n",
            "markupsafe-1.1.1     | 27 KB     | : 100% 1.0/1 [00:00<00:00, 20.63it/s]\n",
            "blinker-1.4          | 13 KB     | : 100% 1.0/1 [00:00<00:00, 41.72it/s]\n",
            "snappy-1.1.8         | 32 KB     | : 100% 1.0/1 [00:00<00:00, 30.95it/s]\n",
            "tzcode-2020a         | 425 KB    | : 100% 1.0/1 [00:00<00:00,  5.71it/s]\n",
            "freetype-2.10.4      | 912 KB    | : 100% 1.0/1 [00:00<00:00,  6.24it/s]\n",
            "libnetcdf-4.7.4      | 1.3 MB    | : 100% 1.0/1 [00:00<00:00,  4.45it/s]\n",
            "geos-3.8.1           | 1.0 MB    | : 100% 1.0/1 [00:00<00:00,  4.38it/s]\n",
            "pynvml-8.0.4         | 31 KB     | : 100% 1.0/1 [00:00<00:00, 34.02it/s]\n",
            "libdap4-3.20.6       | 7.9 MB    | : 100% 1.0/1 [00:01<00:00,  1.12s/it]\n",
            "numpy-1.19.4         | 5.2 MB    | : 100% 1.0/1 [00:01<00:00,  1.02s/it]\n",
            "lz4-c-1.8.3          | 187 KB    | : 100% 1.0/1 [00:00<00:00, 16.38it/s]\n",
            "tornado-6.1          | 644 KB    | : 100% 1.0/1 [00:00<00:00,  6.51it/s]\n",
            "tbb-2018.0.5         | 1.1 MB    | : 100% 1.0/1 [00:00<00:00,  5.60it/s]\n",
            "hdf4-4.2.13          | 964 KB    | : 100% 1.0/1 [00:00<00:00,  5.05it/s]\n",
            "pyparsing-2.4.7      | 60 KB     | : 100% 1.0/1 [00:00<00:00, 29.84it/s]\n",
            "libevent-2.1.10      | 1.1 MB    | : 100% 1.0/1 [00:00<00:00,  3.42it/s]\n",
            "libcblas-3.9.0       | 11 KB     | : 100% 1.0/1 [00:00<00:00, 30.56it/s]\n",
            "xorg-libx11-1.6.12   | 917 KB    | : 100% 1.0/1 [00:00<00:00,  6.27it/s]\n",
            "pixman-0.38.0        | 594 KB    | : 100% 1.0/1 [00:00<00:00,  8.92it/s]\n",
            "poppler-0.87.0       | 12.9 MB   | : 100% 1.0/1 [00:01<00:00,  1.89s/it]\n",
            "dask-core-2.30.0     | 639 KB    | : 100% 1.0/1 [00:00<00:00,  5.60it/s]\n",
            "libuuid-2.32.1       | 26 KB     | : 100% 1.0/1 [00:00<00:00, 37.44it/s]\n",
            "libcudf-0.14.0       | 101.5 MB  | : 100% 1.0/1 [00:31<00:00, 31.57s/it] \n",
            "psutil-5.7.3         | 338 KB    | : 100% 1.0/1 [00:00<00:00, 11.02it/s]\n",
            "libpng-1.6.37        | 306 KB    | : 100% 1.0/1 [00:00<00:00, 12.78it/s]\n",
            "double-conversion-3. | 85 KB     | : 100% 1.0/1 [00:00<00:00, 24.93it/s]\n",
            "fsspec-0.8.4         | 65 KB     | : 100% 1.0/1 [00:00<00:00, 27.42it/s]\n",
            "threadpoolctl-2.1.0  | 15 KB     | : 100% 1.0/1 [00:00<00:00, 34.44it/s]\n",
            "cusignal-0.16.0      | 821 KB    | : 100% 1.0/1 [00:02<00:00,  2.97s/it]               \n",
            "libopenblas-0.3.12   | 8.9 MB    | : 100% 1.0/1 [00:01<00:00,  1.50s/it]\n",
            "tiledb-1.7.7         | 2.0 MB    | : 100% 1.0/1 [00:00<00:00,  2.48it/s]\n",
            "olefile-0.46         | 32 KB     | : 100% 1.0/1 [00:00<00:00, 40.12it/s]\n",
            "dask-cudf-0.14.0     | 81 KB     | : 100% 1.0/1 [00:00<00:00,  1.87it/s]               \n",
            "pandas-0.25.3        | 11.4 MB   | : 100% 1.0/1 [00:02<00:00,  2.14s/it]\n",
            "fastrlock-0.5        | 31 KB     | : 100% 1.0/1 [00:00<00:00, 35.50it/s]\n",
            "pyasn1-0.4.8         | 53 KB     | : 100% 1.0/1 [00:00<00:00, 24.76it/s]\n",
            "glib-2.66.1          | 2.9 MB    | : 100% 1.0/1 [00:00<00:00,  4.17it/s]\n",
            "rsa-4.6              | 27 KB     | : 100% 1.0/1 [00:00<00:00, 34.99it/s]\n",
            "pthread-stubs-0.4    | 5 KB      | : 100% 1.0/1 [00:00<00:00, 40.45it/s]\n",
            "xorg-libxdmcp-1.1.3  | 18 KB     | : 100% 1.0/1 [00:00<00:00, 39.39it/s]\n",
            "libedit-3.1.20191231 | 121 KB    | : 100% 1.0/1 [00:00<00:00, 22.25it/s]\n",
            "libnghttp2-1.41.0    | 774 KB    | : 100% 1.0/1 [00:00<00:00,  6.54it/s]\n",
            "xorg-libice-1.0.10   | 57 KB     | : 100% 1.0/1 [00:00<00:00, 26.98it/s]\n",
            "pyjwt-1.7.1          | 17 KB     | : 100% 1.0/1 [00:00<00:00, 36.82it/s]\n",
            "python-dateutil-2.8. | 220 KB    | : 100% 1.0/1 [00:00<00:00, 19.23it/s]\n",
            "libnvstrings-0.14.0  | 30.1 MB   | : 100% 1.0/1 [00:09<00:00,  9.18s/it]\n",
            "pyarrow-0.15.0       | 3.2 MB    | : 100% 1.0/1 [00:00<00:00,  1.27it/s]\n",
            "gflags-2.2.2         | 114 KB    | : 100% 1.0/1 [00:00<00:00, 22.50it/s]\n",
            "heapdict-1.0.1       | 7 KB      | : 100% 1.0/1 [00:00<00:00, 41.57it/s]\n",
            "locket-0.2.0         | 6 KB      | : 100% 1.0/1 [00:00<00:00, 32.19it/s]\n",
            "cudnn-7.6.0          | 240.9 MB  | : 100% 1.0/1 [00:53<00:00, 53.69s/it]\n",
            "xorg-xproto-7.0.31   | 72 KB     | : 100% 1.0/1 [00:00<00:00, 18.36it/s]\n",
            "libprotobuf-3.8.0    | 4.7 MB    | : 100% 1.0/1 [00:01<00:00,  1.05s/it]\n",
            "xorg-libxext-1.3.4   | 51 KB     | : 100% 1.0/1 [00:00<00:00, 31.94it/s]\n",
            "oauthlib-3.0.1       | 82 KB     | : 100% 1.0/1 [00:00<00:00, 20.03it/s]\n",
            "expat-2.2.9          | 191 KB    | : 100% 1.0/1 [00:00<00:00, 17.95it/s]\n",
            "typing_extensions-3. | 25 KB     | : 100% 1.0/1 [00:00<00:00, 32.59it/s]\n",
            "poppler-data-0.4.10  | 3.8 MB    | : 100% 1.0/1 [00:00<00:00,  1.68it/s]\n",
            "attrs-20.3.0         | 41 KB     | : 100% 1.0/1 [00:00<00:00, 29.45it/s]\n",
            "packaging-20.4       | 32 KB     | : 100% 1.0/1 [00:00<00:00, 35.93it/s]\n",
            "gdal-3.0.4           | 1.3 MB    | : 100% 1.0/1 [00:00<00:00,  4.20it/s]\n",
            "liblapack-3.9.0      | 11 KB     | : 100% 1.0/1 [00:00<00:00, 36.19it/s]\n",
            "krb5-1.17.2          | 1.4 MB    | : 100% 1.0/1 [00:00<00:00,  3.76it/s]\n",
            "nvstrings-0.14.0     | 129 KB    | : 100% 1.0/1 [00:01<00:00,  1.71s/it]              \n",
            "cuml-0.14.0          | 9.6 MB    | : 100% 1.0/1 [00:03<00:00,  3.79s/it]\n",
            "async-timeout-3.0.1  | 11 KB     | : 100% 1.0/1 [00:00<00:00, 41.84it/s]\n",
            "brotli-1.0.9         | 395 KB    | : 100% 1.0/1 [00:00<00:00, 13.46it/s]\n",
            "geotiff-1.6.0        | 280 KB    | : 100% 1.0/1 [00:00<00:00, 15.83it/s]\n",
            "aiohttp-3.7.3        | 612 KB    | : 100% 1.0/1 [00:00<00:00,  5.43it/s]\n",
            "py-xgboost-1.1.0dev. | 106 KB    | : 100% 1.0/1 [00:01<00:00,  1.12s/it]                \n",
            "numba-0.50.1         | 3.1 MB    | : 100% 1.0/1 [00:00<00:00,  4.24it/s]\n",
            "libspatialite-4.3.0a | 3.1 MB    | : 100% 1.0/1 [00:00<00:00,  1.91it/s]\n",
            "libhwloc-2.1.0       | 2.7 MB    | : 100% 1.0/1 [00:00<00:00,  2.87it/s]\n",
            "ucx-py-0.14.0+gf6ec8 | 137 KB    | : 100% 1.0/1 [00:00<00:00,  1.87it/s]               \n",
            "icu-64.2             | 12.6 MB   | : 100% 1.0/1 [00:01<00:00,  1.88s/it]               \n",
            "re2-2020.04.01       | 438 KB    | : 100% 1.0/1 [00:00<00:00,  8.50it/s]\n",
            "cfitsio-3.470        | 1.3 MB    | : 100% 1.0/1 [00:00<00:00,  3.71it/s]\n",
            "immutables-0.14      | 68 KB     | : 100% 1.0/1 [00:00<00:00, 26.57it/s]\n",
            "dlpack-0.3           | 13 KB     | : 100% 1.0/1 [00:00<00:00, 42.34it/s]\n",
            "xorg-kbproto-1.0.7   | 26 KB     | : 100% 1.0/1 [00:00<00:00, 37.90it/s]\n",
            "postgresql-12.3      | 5.0 MB    | : 100% 1.0/1 [00:00<00:00,  1.29it/s]\n",
            "freexl-1.0.5         | 46 KB     | : 100% 1.0/1 [00:00<00:00, 33.82it/s]\n",
            "giflib-5.2.1         | 77 KB     | : 100% 1.0/1 [00:00<00:00, 24.36it/s]\n",
            "requests-oauthlib-1. | 21 KB     | : 100% 1.0/1 [00:00<00:00, 34.45it/s]\n",
            "pyyaml-5.3.1         | 185 KB    | : 100% 1.0/1 [00:00<00:00, 19.34it/s]\n",
            "libgfortran-ng-9.3.0 | 22 KB     | : 100% 1.0/1 [00:00<00:00, 25.38it/s]\n",
            "bokeh-2.2.3          | 7.0 MB    | : 100% 1.0/1 [00:01<00:00,  1.67s/it]\n",
            "pillow-8.0.1         | 687 KB    | : 100% 1.0/1 [00:00<00:00,  6.26it/s]\n",
            "typing-extensions-3. | 8 KB      | : 100% 1.0/1 [00:00<00:00, 35.12it/s]\n",
            "jinja2-2.11.2        | 93 KB     | : 100% 1.0/1 [00:00<00:00, 19.79it/s]\n",
            "scikit-learn-0.23.2  | 6.9 MB    | : 100% 1.0/1 [00:01<00:00,  1.29s/it]\n",
            "xorg-renderproto-0.1 | 8 KB      | : 100% 1.0/1 [00:00<00:00, 40.67it/s]\n",
            "libtiff-4.1.0        | 668 KB    | : 100% 1.0/1 [00:00<00:00,  8.26it/s]\n",
            "llvmlite-0.33.0      | 329 KB    | : 100% 1.0/1 [00:00<00:00, 11.28it/s]\n",
            "libblas-3.9.0        | 11 KB     | : 100% 1.0/1 [00:00<00:00, 30.38it/s]\n",
            "openjpeg-2.3.1       | 475 KB    | : 100% 1.0/1 [00:00<00:00, 10.45it/s]\n",
            "libpq-12.3           | 2.6 MB    | : 100% 1.0/1 [00:00<00:00,  1.97it/s]\n",
            "idna_ssl-1.1.0       | 7 KB      | : 100% 1.0/1 [00:00<00:00, 32.06it/s]\n",
            "tblib-1.6.0          | 14 KB     | : 100% 1.0/1 [00:00<00:00, 36.22it/s]\n",
            "xerces-c-3.2.2       | 1.7 MB    | : 100% 1.0/1 [00:00<00:00,  2.56it/s]\n",
            "multidict-4.7.5      | 69 KB     | : 100% 1.0/1 [00:00<00:00, 26.99it/s]\n",
            "lcms2-2.11           | 434 KB    | : 100% 1.0/1 [00:00<00:00, 11.14it/s]\n",
            "kealib-1.4.13        | 172 KB    | : 100% 1.0/1 [00:00<00:00, 21.48it/s]\n",
            "spdlog-1.8.1         | 316 KB    | : 100% 1.0/1 [00:00<00:00, 10.15it/s]\n",
            "cuspatial-0.14.0     | 3.6 MB    | : 100% 1.0/1 [00:03<00:00,  3.73s/it]\n",
            "partd-1.1.0          | 17 KB     | : 100% 1.0/1 [00:00<00:00, 24.87it/s]\n",
            "pyasn1-modules-0.2.7 | 60 KB     | : 100% 1.0/1 [00:00<00:00, 24.12it/s]\n",
            "cugraph-0.14.0       | 6.9 MB    | : 100% 1.0/1 [00:01<00:00,  1.85s/it]\n",
            "joblib-0.17.0        | 204 KB    | : 100% 1.0/1 [00:00<00:00, 14.52it/s]\n",
            "libgdal-3.0.4        | 18.8 MB   | : 100% 1.0/1 [00:03<00:00,  3.23s/it]               \n",
            "hdf5-1.10.6          | 3.1 MB    | : 100% 1.0/1 [00:00<00:00,  1.86it/s]\n",
            "xorg-libsm-1.2.3     | 25 KB     | : 100% 1.0/1 [00:00<00:00, 42.83it/s]\n",
            "libcuspatial-0.14.0  | 3.4 MB    | : 100% 1.0/1 [00:02<00:00,  2.07s/it]                \n",
            "libcugraph-0.14.0    | 14.3 MB   | : 100% 1.0/1 [00:04<00:00,  4.11s/it]                \n",
            "dask-2.30.0          | 4 KB      | : 100% 1.0/1 [00:00<00:00, 27.30it/s]\n",
            "libcurl-7.71.1       | 312 KB    | : 100% 1.0/1 [00:00<00:00, 12.94it/s]\n",
            "libxml2-2.9.10       | 1.3 MB    | : 100% 1.0/1 [00:00<00:00,  3.08it/s]\n",
            "Preparing transaction: \\ \b\b| \b\b/ \b\b- \b\b\\ \b\b| \b\b/ \b\b- \b\b\\ \b\b| \b\b/ \b\b- \b\b\\ \b\b| \b\bdone\n",
            "Verifying transaction: - \b\b\\ \b\b| \b\b/ \b\b- \b\b\\ \b\b| \b\b/ \b\b- \b\b\\ \b\b| \b\b/ \b\b- \b\b\\ \b\b| \b\b/ \b\b- \b\b\\ \b\b| \b\b/ \b\b- \b\b\\ \b\b| \b\b/ \b\b- \b\b\\ \b\b| \b\b/ \b\b- \b\b\\ \b\b| \b\b/ \b\b- \b\b\\ \b\b| \b\b/ \b\b- \b\b\\ \b\b| \b\b/ \b\b- \b\b\\ \b\b| \b\b/ \b\b- \b\b\\ \b\b| \b\b/ \b\b- \b\b\\ \b\b| \b\b/ \b\b- \b\b\\ \b\b| \b\b/ \b\b- \b\b\\ \b\b| \b\b/ \b\b- \b\b\\ \b\b| \b\b/ \b\b- \b\b\\ \b\b| \b\b/ \b\b- \b\b\\ \b\b| \b\b/ \b\b- \b\b\\ \b\b| \b\b/ \b\b- \b\b\\ \b\b| \b\b/ \b\b- \b\b\\ \b\b| \b\b/ \b\b- \b\b\\ \b\b| \b\b/ \b\b- \b\b\\ \b\b| \b\b/ \b\b- \b\b\\ \b\b| \b\b/ \b\b- \b\b\\ \b\b| \b\b/ \b\b- \b\b\\ \b\b| \b\b/ \b\b- \b\b\\ \b\b| \b\b/ \b\b- \b\b\\ \b\b| \b\b/ \b\b- \b\b\\ \b\b| \b\b/ \b\b- \b\b\\ \b\b| \b\b/ \b\b- \b\b\\ \b\b| \b\b/ \b\b- \b\b\\ \b\b| \b\b/ \b\b- \b\b\\ \b\b| \b\b/ \b\b- \b\b\\ \b\b| \b\b/ \b\b- \b\b\\ \b\b| \b\b/ \b\b- \b\b\\ \b\b| \b\b/ \b\b- \b\b\\ \b\b| \b\b/ \b\b- \b\b\\ \b\b| \b\b/ \b\b- \b\b\\ \b\b| \b\b/ \b\b- \b\b\\ \b\b| \b\b/ \b\b- \b\b\\ \b\b| \b\b/ \b\b- \b\b\\ \b\b| \b\b/ \b\b- \b\b\\ \b\b| \b\b/ \b\b- \b\b\\ \b\b| \b\b/ \b\b- \b\b\\ \b\b| \b\b/ \b\b- \b\b\\ \b\b| \b\b/ \b\b- \b\b\\ \b\b| \b\b/ \b\b- \b\b\\ \b\b| \b\b/ \b\b- \b\b\\ \b\b| \b\b/ \b\b- \b\b\\ \b\b| \b\b/ \b\b- \b\b\\ \b\b| \b\b/ \b\b- \b\b\\ \b\b| \b\b/ \b\b- \b\b\\ \b\b| \b\b/ \b\b- \b\b\\ \b\b| \b\b/ \b\b- \b\b\\ \b\b| \b\b/ \b\b- \b\b\\ \b\b| \b\b/ \b\b- \b\b\\ \b\b| \b\b/ \b\b- \b\b\\ \b\b| \b\b/ \b\b- \b\b\\ \b\b| \b\b/ \b\b- \b\b\\ \b\b| \b\b/ \b\b- \b\b\\ \b\b| \b\b/ \b\b- \b\b\\ \b\b| \b\b/ \b\b- \b\b\\ \b\b| \b\b/ \b\b- \b\b\\ \b\b| \b\b/ \b\b- \b\b\\ \b\b| \b\b/ \b\b- \b\b\\ \b\b| \b\b/ \b\b- \b\b\\ \b\b| \b\b/ \b\b- \b\b\\ \b\b| \b\b/ \b\b- \b\b\\ \b\b| \b\b/ \b\b- \b\b\\ \b\b| \b\b/ \b\b- \b\b\\ \b\b| \b\b/ \b\b- \b\b\\ \b\b| \b\b/ \b\b- \b\b\\ \b\b| \b\b/ \b\b- \b\b\\ \b\b| \b\b/ \b\b- \b\b\\ \b\b| \b\b/ \b\b- \b\b\\ \b\b| \b\b/ \b\b- \b\b\\ \b\bdone\n",
            "Executing transaction: / \b\b- \b\b\\ \b\b| \b\b/ \b\b- \b\b\\ \b\b| \b\b/ \b\b- \b\b\\ \b\b| \b\b/ \b\b- \b\b\\ \b\b| \b\b/ \b\b- \b\b\\ \b\b| \b\b/ \b\b- \b\b\\ \b\b| \b\b/ \b\b- \b\b\\ \b\b| \b\b/ \b\b- \b\b\\ \b\b| \b\b/ \b\b- \b\b\\ \b\b| \b\b/ \b\b- \b\b\\ \b\b| \b\b/ \b\b- \b\b\\ \b\b| \b\b/ \b\b- \b\b\\ \b\b| \b\b/ \b\b- \b\b\\ \b\b| \b\b/ \b\b- \b\b\\ \b\bdone\n",
            "Copying shared object files to /usr/lib\n",
            "Copying RAPIDS compatible xgboost\n",
            "\n",
            "************************************************\n",
            "Your Google Colab instance has RAPIDS installed!\n",
            "************************************************\n",
            "***********************************************************************\n",
            "Let us check on those pyarrow and cffi versions...\n",
            "***********************************************************************\n",
            "\n",
            "You're don't have pyarrow.\n",
            "unloaded cffi 1.14.3\n",
            "loaded cffi 1.11.5\n"
          ],
          "name": "stdout"
        }
      ]
    },
    {
      "cell_type": "markdown",
      "metadata": {
        "id": "QVi5ohy7ENGs"
      },
      "source": [
        "## Code Demonstration"
      ]
    },
    {
      "cell_type": "code",
      "metadata": {
        "colab": {
          "base_uri": "https://localhost:8080/"
        },
        "id": "mONvGVErXUlc",
        "outputId": "958788f7-2ab6-4509-a95a-527354ef787e"
      },
      "source": [
        "from google.colab import drive\n",
        "drive.mount('/content/drive')"
      ],
      "execution_count": null,
      "outputs": [
        {
          "output_type": "stream",
          "text": [
            "Drive already mounted at /content/drive; to attempt to forcibly remount, call drive.mount(\"/content/drive\", force_remount=True).\n"
          ],
          "name": "stdout"
        }
      ]
    },
    {
      "cell_type": "code",
      "metadata": {
        "id": "pPDV2P6F8C0c"
      },
      "source": [
        "import cudf\n",
        "import pandas as pd\n",
        "import numpy as np\n",
        "import time\n",
        "import matplotlib.pyplot as plt"
      ],
      "execution_count": null,
      "outputs": []
    },
    {
      "cell_type": "code",
      "metadata": {
        "colab": {
          "base_uri": "https://localhost:8080/",
          "height": 241
        },
        "id": "LUbxFeX6YALK",
        "outputId": "50ce4af9-801e-475c-c98a-abc978e0592a"
      },
      "source": [
        "data = pd.read_csv(\"/content/drive/MyDrive/Python cudf /1K.csv\")\n",
        "data.head()"
      ],
      "execution_count": null,
      "outputs": [
        {
          "output_type": "execute_result",
          "data": {
            "text/html": [
              "<div>\n",
              "<style scoped>\n",
              "    .dataframe tbody tr th:only-of-type {\n",
              "        vertical-align: middle;\n",
              "    }\n",
              "\n",
              "    .dataframe tbody tr th {\n",
              "        vertical-align: top;\n",
              "    }\n",
              "\n",
              "    .dataframe thead th {\n",
              "        text-align: right;\n",
              "    }\n",
              "</style>\n",
              "<table border=\"1\" class=\"dataframe\">\n",
              "  <thead>\n",
              "    <tr style=\"text-align: right;\">\n",
              "      <th></th>\n",
              "      <th>Unnamed: 0</th>\n",
              "      <th>SYMBOL</th>\n",
              "      <th>SERIES</th>\n",
              "      <th>Open</th>\n",
              "      <th>HIGH</th>\n",
              "      <th>LOW</th>\n",
              "      <th>CLOSE</th>\n",
              "      <th>LAST</th>\n",
              "      <th>PREVCLOSE</th>\n",
              "      <th>TOTTRDQTY</th>\n",
              "      <th>TOTTRDVAL</th>\n",
              "      <th>TIMESTAMP</th>\n",
              "      <th>TOTALTRADES</th>\n",
              "      <th>ISIN</th>\n",
              "    </tr>\n",
              "  </thead>\n",
              "  <tbody>\n",
              "    <tr>\n",
              "      <th>0</th>\n",
              "      <td>0</td>\n",
              "      <td>20MICRONS</td>\n",
              "      <td>EQ</td>\n",
              "      <td>37.80</td>\n",
              "      <td>37.80</td>\n",
              "      <td>36.15</td>\n",
              "      <td>36.85</td>\n",
              "      <td>37.40</td>\n",
              "      <td>37.05</td>\n",
              "      <td>27130</td>\n",
              "      <td>994657.90</td>\n",
              "      <td>2017-06-28</td>\n",
              "      <td>202</td>\n",
              "      <td>INE144J01027</td>\n",
              "    </tr>\n",
              "    <tr>\n",
              "      <th>1</th>\n",
              "      <td>1</td>\n",
              "      <td>3IINFOTECH</td>\n",
              "      <td>EQ</td>\n",
              "      <td>4.10</td>\n",
              "      <td>4.85</td>\n",
              "      <td>4.00</td>\n",
              "      <td>4.55</td>\n",
              "      <td>4.65</td>\n",
              "      <td>4.05</td>\n",
              "      <td>20157058</td>\n",
              "      <td>92148517.65</td>\n",
              "      <td>2017-06-28</td>\n",
              "      <td>7353</td>\n",
              "      <td>INE748C01020</td>\n",
              "    </tr>\n",
              "    <tr>\n",
              "      <th>2</th>\n",
              "      <td>2</td>\n",
              "      <td>3MINDIA</td>\n",
              "      <td>EQ</td>\n",
              "      <td>13425.15</td>\n",
              "      <td>13469.55</td>\n",
              "      <td>12920.00</td>\n",
              "      <td>13266.70</td>\n",
              "      <td>13300.00</td>\n",
              "      <td>13460.55</td>\n",
              "      <td>2290</td>\n",
              "      <td>30304923.35</td>\n",
              "      <td>2017-06-28</td>\n",
              "      <td>748</td>\n",
              "      <td>INE470A01017</td>\n",
              "    </tr>\n",
              "    <tr>\n",
              "      <th>3</th>\n",
              "      <td>3</td>\n",
              "      <td>63MOONS</td>\n",
              "      <td>EQ</td>\n",
              "      <td>61.00</td>\n",
              "      <td>61.90</td>\n",
              "      <td>60.35</td>\n",
              "      <td>61.00</td>\n",
              "      <td>61.10</td>\n",
              "      <td>60.65</td>\n",
              "      <td>27701</td>\n",
              "      <td>1689421.00</td>\n",
              "      <td>2017-06-28</td>\n",
              "      <td>437</td>\n",
              "      <td>INE111B01023</td>\n",
              "    </tr>\n",
              "    <tr>\n",
              "      <th>4</th>\n",
              "      <td>4</td>\n",
              "      <td>8KMILES</td>\n",
              "      <td>EQ</td>\n",
              "      <td>546.10</td>\n",
              "      <td>548.00</td>\n",
              "      <td>535.00</td>\n",
              "      <td>537.45</td>\n",
              "      <td>535.20</td>\n",
              "      <td>547.45</td>\n",
              "      <td>79722</td>\n",
              "      <td>43208620.05</td>\n",
              "      <td>2017-06-28</td>\n",
              "      <td>1866</td>\n",
              "      <td>INE650K01021</td>\n",
              "    </tr>\n",
              "  </tbody>\n",
              "</table>\n",
              "</div>"
            ],
            "text/plain": [
              "   Unnamed: 0      SYMBOL SERIES  ...   TIMESTAMP  TOTALTRADES          ISIN\n",
              "0           0   20MICRONS     EQ  ...  2017-06-28          202  INE144J01027\n",
              "1           1  3IINFOTECH     EQ  ...  2017-06-28         7353  INE748C01020\n",
              "2           2     3MINDIA     EQ  ...  2017-06-28          748  INE470A01017\n",
              "3           3     63MOONS     EQ  ...  2017-06-28          437  INE111B01023\n",
              "4           4     8KMILES     EQ  ...  2017-06-28         1866  INE650K01021\n",
              "\n",
              "[5 rows x 14 columns]"
            ]
          },
          "metadata": {
            "tags": []
          },
          "execution_count": 5
        }
      ]
    },
    {
      "cell_type": "code",
      "metadata": {
        "id": "3DXgSrDT8FPv"
      },
      "source": [
        "# TEST 1 : LOADING TIMES "
      ],
      "execution_count": null,
      "outputs": []
    },
    {
      "cell_type": "code",
      "metadata": {
        "id": "9jyxKpAj8HN-"
      },
      "source": [
        "# A. PANDAS"
      ],
      "execution_count": null,
      "outputs": []
    },
    {
      "cell_type": "code",
      "metadata": {
        "id": "benV8JJb8I3L",
        "colab": {
          "base_uri": "https://localhost:8080/"
        },
        "outputId": "21f5f597-bb64-46cc-a88d-1a8969247418"
      },
      "source": [
        "datasets = ['1K.csv','10K.csv','100K.csv','1M.csv']\n",
        "pd_times = {}\n",
        "\n",
        "for i in range(len(datasets)):\n",
        "    if datasets[i] == '100K.csv' or datasets[i] == '1M.csv':\n",
        "        t0 = time.time()\n",
        "        pdf = pd.read_csv(\"/content/drive/MyDrive/Python cudf /\" + datasets[i])\n",
        "        t1 = time.time()\n",
        "        elapsed_time = t1 - t0\n",
        "        pd_times[datasets[i]]=elapsed_time\n",
        "    else:\n",
        "        elapsed_time = 0\n",
        "        for j in range(100):\n",
        "            t0 = time.time()\n",
        "            pdf = pd.read_csv(\"/content/drive/MyDrive/Python cudf /\" + datasets[i])\n",
        "            t1 = time.time()\n",
        "            elapsed_time = elapsed_time + (t1 - t0)\n",
        "        pd_times[datasets[i]]=elapsed_time/100\n",
        "        \n",
        "\n",
        "print(pd_times)\n",
        "pd_times = list(pd_times.values())\n"
      ],
      "execution_count": null,
      "outputs": [
        {
          "output_type": "stream",
          "text": [
            "{'1K.csv': 0.004988090991973877, '10K.csv': 0.018236896991729735, '100K.csv': 0.15510988235473633, '1M.csv': 1.1948351860046387}\n"
          ],
          "name": "stdout"
        }
      ]
    },
    {
      "cell_type": "code",
      "metadata": {
        "id": "xoNp4PIX8Mct"
      },
      "source": [
        "# B. cuDF"
      ],
      "execution_count": null,
      "outputs": []
    },
    {
      "cell_type": "code",
      "metadata": {
        "id": "FFWbbXQb8Pyt",
        "colab": {
          "base_uri": "https://localhost:8080/"
        },
        "outputId": "aff242ba-1be5-441b-a6de-ff1407565dc7"
      },
      "source": [
        "r_times = {}\n",
        "\n",
        "for i in range(len(datasets)):\n",
        "    if datasets[i] == '100K.csv' or datasets[i] == '1M.csv':\n",
        "        t0 = time.time()\n",
        "        rdf = cudf.read_csv(\"/content/drive/MyDrive/Python cudf /\" + datasets[i])\n",
        "        t1 = time.time()\n",
        "        elapsed_time = t1 - t0\n",
        "        r_times[datasets[i]] = elapsed_time\n",
        "    else:\n",
        "        elapsed_time = 0\n",
        "        for j in range(100):\n",
        "            t0 = time.time()\n",
        "            rdf = cudf.read_csv(\"/content/drive/MyDrive/Python cudf /\" + datasets[i])\n",
        "            t1 = time.time()\n",
        "            elapsed_time = elapsed_time + (t1 - t0)\n",
        "        r_times[datasets[i]] = elapsed_time/100\n",
        "        \n",
        "\n",
        "print(r_times)\n",
        "r_times = list(r_times.values())"
      ],
      "execution_count": null,
      "outputs": [
        {
          "output_type": "stream",
          "text": [
            "{'1K.csv': 0.008040645122528077, '10K.csv': 0.009143357276916503, '100K.csv': 0.02373647689819336, '1M.csv': 0.14206147193908691}\n"
          ],
          "name": "stdout"
        }
      ]
    },
    {
      "cell_type": "code",
      "metadata": {
        "id": "__NCSUQh8RtL",
        "colab": {
          "base_uri": "https://localhost:8080/",
          "height": 369
        },
        "outputId": "c0f99c7c-7ccb-48c8-df49-873768fdc591"
      },
      "source": [
        "plt.figure(figsize=(10,5))\n",
        "plt.plot([1,2,3,4],pd_times, label='Pandas')\n",
        "plt.plot([1,2,3,4],r_times, label='cuDF')\n",
        "plt.xticks([1, 2, 3, 4], labels=['1K','10K','100K','1M'])\n",
        "plt.legend(loc='best',fontsize=12)\n",
        "plt.title('READING TIME', size=16)\n",
        "plt.xlabel('Dataset Size')\n",
        "plt.ylabel('Time in seconds')"
      ],
      "execution_count": null,
      "outputs": [
        {
          "output_type": "execute_result",
          "data": {
            "text/plain": [
              "Text(0, 0.5, 'Time in seconds')"
            ]
          },
          "metadata": {
            "tags": []
          },
          "execution_count": 87
        },
        {
          "output_type": "display_data",
          "data": {
            "image/png": "[encoded data removed]",
            "text/plain": [
              "<Figure size 720x360 with 1 Axes>"
            ]
          },
          "metadata": {
            "tags": [],
            "needs_background": "light"
          }
        }
      ]
    },
    {
      "cell_type": "code",
      "metadata": {
        "id": "0VIwC2WU8Tf3"
      },
      "source": [
        "pdf1K = pd.read_csv('/content/drive/MyDrive/Python cudf /1K.csv')\n",
        "pdf10K = pd.read_csv('/content/drive/MyDrive/Python cudf /10K.csv')\n",
        "pdf100K = pd.read_csv('/content/drive/MyDrive/Python cudf /100K.csv')\n",
        "pdf1M = pd.read_csv('/content/drive/MyDrive/Python cudf /1M.csv')"
      ],
      "execution_count": null,
      "outputs": []
    },
    {
      "cell_type": "code",
      "metadata": {
        "id": "-2t803sr8VkY"
      },
      "source": [
        "rdf1K = cudf.read_csv('/content/drive/MyDrive/Python cudf /1K.csv')\n",
        "rdf10K = cudf.read_csv('/content/drive/MyDrive/Python cudf /10K.csv')\n",
        "rdf100K = cudf.read_csv('/content/drive/MyDrive/Python cudf /100K.csv')\n",
        "rdf1M = cudf.read_csv('/content/drive/MyDrive/Python cudf /1M.csv')"
      ],
      "execution_count": null,
      "outputs": []
    },
    {
      "cell_type": "code",
      "metadata": {
        "id": "aEl8CLbu8YBA"
      },
      "source": [
        "# TEST 2: MEAN COMPUTATION"
      ],
      "execution_count": null,
      "outputs": []
    },
    {
      "cell_type": "code",
      "metadata": {
        "id": "iRinHnSg8Zpj"
      },
      "source": [
        "# A. PANDAS"
      ],
      "execution_count": null,
      "outputs": []
    },
    {
      "cell_type": "code",
      "metadata": {
        "id": "U0vmp-yP8bB4",
        "colab": {
          "base_uri": "https://localhost:8080/"
        },
        "outputId": "d4d6316f-7ab6-4e9a-e84e-db4cd928aafa"
      },
      "source": [
        "pd_times = []\n",
        "\n",
        "\n",
        "\n",
        "#DataFrame with 1 000 lines\n",
        "elapsed_time = 0\n",
        "\n",
        "for j in range(1000):\n",
        "    t0 = time.time()\n",
        "    pdf1K['Open'].mean()\n",
        "    t1 = time.time()\n",
        "    elapsed_time = elapsed_time + (t1 - t0)\n",
        "    \n",
        "pd_times.append(elapsed_time/1000)\n",
        "\n",
        "    \n",
        "    \n",
        "#DataFrame with 10 000 lines\n",
        "elapsed_time = 0\n",
        "\n",
        "for j in range(1000):\n",
        "    t0 = time.time()\n",
        "    pdf10K['Open'].mean()\n",
        "    t1 = time.time()\n",
        "    elapsed_time = elapsed_time + (t1 - t0)\n",
        "    \n",
        "pd_times.append(elapsed_time/1000)\n",
        "\n",
        "\n",
        "    \n",
        "#DataFrame with 100 000 lines\n",
        "elapsed_time = 0\n",
        "\n",
        "for j in range(1000):\n",
        "    t0 = time.time()\n",
        "    pdf100K['Open'].mean()\n",
        "    t1 = time.time()\n",
        "    elapsed_time = elapsed_time + (t1 - t0)\n",
        "    \n",
        "pd_times.append(elapsed_time/1000)\n",
        "\n",
        "  \n",
        "    \n",
        "#DataFrame with 1 000 000 lines\n",
        "elapsed_time = 0\n",
        "\n",
        "for j in range(1000):\n",
        "    t0 = time.time()\n",
        "    pdf1M['Open'].mean()\n",
        "    t1 = time.time()\n",
        "    elapsed_time = elapsed_time + (t1 - t0)\n",
        "    \n",
        "pd_times.append(elapsed_time/1000)\n",
        "    \n",
        "    \n",
        "pd_times"
      ],
      "execution_count": null,
      "outputs": [
        {
          "output_type": "execute_result",
          "data": {
            "text/plain": [
              "[7.010388374328613e-05,\n",
              " 5.487680435180664e-05,\n",
              " 0.00019245266914367677,\n",
              " 0.001290419816970825]"
            ]
          },
          "metadata": {
            "tags": []
          },
          "execution_count": 90
        }
      ]
    },
    {
      "cell_type": "code",
      "metadata": {
        "id": "2ea5VEnW8dD5"
      },
      "source": [
        "#B. cuDF"
      ],
      "execution_count": null,
      "outputs": []
    },
    {
      "cell_type": "code",
      "metadata": {
        "id": "nsR9tvvv8ewT",
        "colab": {
          "base_uri": "https://localhost:8080/"
        },
        "outputId": "5ebd11b4-eb7c-4fef-b1f5-a450187fb999"
      },
      "source": [
        "r_times = []\n",
        "\n",
        "\n",
        "\n",
        "#DataFrame with 1 000 lines\n",
        "elapsed_time = 0\n",
        "\n",
        "for j in range(1000):\n",
        "    t0 = time.time()\n",
        "    rdf1K['Open'].mean()\n",
        "    t1 = time.time()\n",
        "    elapsed_time = elapsed_time + (t1 - t0)\n",
        "    \n",
        "r_times.append(elapsed_time/1000)\n",
        "\n",
        "    \n",
        "    \n",
        "#DataFrame with 10 000 lines\n",
        "elapsed_time = 0\n",
        "\n",
        "for j in range(1000):\n",
        "    t0 = time.time()\n",
        "    rdf10K['Open'].mean()\n",
        "    t1 = time.time()\n",
        "    elapsed_time = elapsed_time + (t1 - t0)\n",
        "    \n",
        "r_times.append(elapsed_time/1000)\n",
        "\n",
        "    \n",
        "    \n",
        "#DataFrame with 100 000 lines\n",
        "elapsed_time = 0\n",
        "\n",
        "for j in range(1000):\n",
        "    t0 = time.time()\n",
        "    rdf100K['Open'].mean()\n",
        "    t1 = time.time()\n",
        "    elapsed_time = elapsed_time + (t1 - t0)\n",
        "    \n",
        "r_times.append(elapsed_time/1000)\n",
        "\n",
        "    \n",
        "    \n",
        "#DataFrame with 1 000 000 lines\n",
        "elapsed_time = 0\n",
        "\n",
        "for j in range(1000):\n",
        "    t0 = time.time()\n",
        "    rdf1M['Open'].mean()\n",
        "    t1 = time.time()\n",
        "    elapsed_time = elapsed_time + (t1 - t0)\n",
        "    \n",
        "r_times.append(elapsed_time/1000)\n",
        "    \n",
        "    \n",
        "r_times"
      ],
      "execution_count": null,
      "outputs": [
        {
          "output_type": "execute_result",
          "data": {
            "text/plain": [
              "[0.0005440871715545654,\n",
              " 0.0005607120990753174,\n",
              " 0.0005522384643554687,\n",
              " 0.0010670771598815917]"
            ]
          },
          "metadata": {
            "tags": []
          },
          "execution_count": 91
        }
      ]
    },
    {
      "cell_type": "code",
      "metadata": {
        "id": "hwADpAae8gTJ",
        "colab": {
          "base_uri": "https://localhost:8080/",
          "height": 369
        },
        "outputId": "24c12950-26df-49d5-dece-59443e6717b5"
      },
      "source": [
        "plt.figure(figsize=(10,5))\n",
        "plt.plot([1,2,3,4],pd_times, label='Pandas')\n",
        "plt.plot([1,2,3,4],r_times, label='cuDF')\n",
        "plt.xticks([1, 2, 3, 4], labels=['1K','10K','100K','1M'])\n",
        "plt.legend(loc='best',fontsize=12)\n",
        "plt.title('MEAN COMPUTATION TIME', size=16)\n",
        "plt.xlabel('Dataset Size')\n",
        "plt.ylabel('Time in seconds')"
      ],
      "execution_count": null,
      "outputs": [
        {
          "output_type": "execute_result",
          "data": {
            "text/plain": [
              "Text(0, 0.5, 'Time in seconds')"
            ]
          },
          "metadata": {
            "tags": []
          },
          "execution_count": 92
        },
        {
          "output_type": "display_data",
          "data": {
            "image/png": "[encoded data removed]",
            "text/plain": [
              "<Figure size 720x360 with 1 Axes>"
            ]
          },
          "metadata": {
            "tags": [],
            "needs_background": "light"
          }
        }
      ]
    },
    {
      "cell_type": "code",
      "metadata": {
        "id": "IZxKK8XR8wGL"
      },
      "source": [
        "# Test 3 : Computing Returns"
      ],
      "execution_count": null,
      "outputs": []
    },
    {
      "cell_type": "code",
      "metadata": {
        "id": "i92I8D5q8x3g"
      },
      "source": [
        "# A. PANDAS"
      ],
      "execution_count": null,
      "outputs": []
    },
    {
      "cell_type": "code",
      "metadata": {
        "id": "ak1xZ9sZ8zOM",
        "colab": {
          "base_uri": "https://localhost:8080/"
        },
        "outputId": "5668ce39-b91d-4203-f6ba-a69b76c505da"
      },
      "source": [
        "pd_times = []\n",
        "\n",
        "\n",
        "\n",
        "#DataFrame with 1 000 lines\n",
        "elapsed_time = 0\n",
        "\n",
        "for j in range(1000):\n",
        "    t0 = time.time()\n",
        "    pdf1K['ReturnOC'] = pdf1K['CLOSE'] / pdf1K['Open'] - 1\n",
        "    t1 = time.time()\n",
        "    elapsed_time = elapsed_time + (t1 - t0)\n",
        "    del pdf1K[\"ReturnOC\"]\n",
        "    \n",
        "pd_times.append(elapsed_time/1000)\n",
        "\n",
        "    \n",
        "    \n",
        "#DataFrame with 10 000 lines\n",
        "elapsed_time = 0\n",
        "\n",
        "for j in range(1000):\n",
        "    t0 = time.time()\n",
        "    pdf10K['ReturnOC'] = pdf10K['CLOSE'] / pdf10K['Open'] - 1\n",
        "    t1 = time.time()\n",
        "    elapsed_time = elapsed_time + (t1 - t0)\n",
        "    del pdf10K[\"ReturnOC\"]\n",
        "    \n",
        "pd_times.append(elapsed_time/1000)\n",
        "\n",
        "\n",
        "    \n",
        "#DataFrame with 100 000 lines\n",
        "elapsed_time = 0\n",
        "\n",
        "for j in range(1000):\n",
        "    t0 = time.time()\n",
        "    pdf100K['ReturnOC'] = pdf100K['CLOSE'] / pdf100K['Open'] - 1\n",
        "    t1 = time.time()\n",
        "    elapsed_time = elapsed_time + (t1 - t0)\n",
        "    del pdf100K[\"ReturnOC\"]\n",
        "    \n",
        "pd_times.append(elapsed_time/1000)\n",
        "\n",
        "  \n",
        "    \n",
        "#DataFrame with 1 000 000 lines\n",
        "elapsed_time = 0\n",
        "\n",
        "for j in range(1000):\n",
        "    t0 = time.time()\n",
        "    pdf1M['ReturnOC'] = pdf1M['CLOSE'] / pdf1M['Open'] - 1\n",
        "    t1 = time.time()\n",
        "    elapsed_time = elapsed_time + (t1 - t0)\n",
        "    del pdf1M[\"ReturnOC\"]\n",
        "    \n",
        "pd_times.append(elapsed_time/1000)\n",
        "    \n",
        "    \n",
        "pd_times"
      ],
      "execution_count": null,
      "outputs": [
        {
          "output_type": "execute_result",
          "data": {
            "text/plain": [
              "[0.0007138957977294921,\n",
              " 0.0007302522659301758,\n",
              " 0.0016041603088378907,\n",
              " 0.004892044305801392]"
            ]
          },
          "metadata": {
            "tags": []
          },
          "execution_count": 93
        }
      ]
    },
    {
      "cell_type": "code",
      "metadata": {
        "id": "R7mwJPZu81R1"
      },
      "source": [
        "# B. cuDF"
      ],
      "execution_count": null,
      "outputs": []
    },
    {
      "cell_type": "code",
      "metadata": {
        "id": "rCcRhQ1_83Hp",
        "colab": {
          "base_uri": "https://localhost:8080/"
        },
        "outputId": "0290f891-4961-45a2-ed31-c42c496f8883"
      },
      "source": [
        "r_times = []\n",
        "\n",
        "\n",
        "\n",
        "#DataFrame with 1 000 lines\n",
        "elapsed_time = 0\n",
        "\n",
        "for j in range(1000):\n",
        "    t0 = time.time()\n",
        "    rdf1K['ReturnOC'] = rdf1K['CLOSE'] / rdf1K['Open'] - 1\n",
        "    t1 = time.time()\n",
        "    elapsed_time = elapsed_time + (t1 - t0)\n",
        "    del rdf1K[\"ReturnOC\"]\n",
        "    \n",
        "r_times.append(elapsed_time/1000)\n",
        "\n",
        "    \n",
        "    \n",
        "#DataFrame with 10 000 lines\n",
        "elapsed_time = 0\n",
        "\n",
        "for j in range(1000):\n",
        "    t0 = time.time()\n",
        "    rdf10K['ReturnOC'] = rdf10K['CLOSE'] / rdf10K['Open'] - 1\n",
        "    t1 = time.time()\n",
        "    elapsed_time = elapsed_time + (t1 - t0)\n",
        "    del rdf10K[\"ReturnOC\"]\n",
        "    \n",
        "r_times.append(elapsed_time/1000)\n",
        "\n",
        "\n",
        "    \n",
        "#DataFrame with 100 000 lines\n",
        "elapsed_time = 0\n",
        "\n",
        "for j in range(1000):\n",
        "    t0 = time.time()\n",
        "    rdf100K['ReturnOC'] = rdf100K['CLOSE'] / rdf100K['Open'] - 1\n",
        "    t1 = time.time()\n",
        "    elapsed_time = elapsed_time + (t1 - t0)\n",
        "    del rdf100K[\"ReturnOC\"]\n",
        "    \n",
        "r_times.append(elapsed_time/1000)\n",
        "\n",
        "  \n",
        "    \n",
        "#DataFrame with 1 000 000 lines\n",
        "elapsed_time = 0\n",
        "\n",
        "for j in range(1000):\n",
        "    t0 = time.time()\n",
        "    rdf1M['ReturnOC'] = rdf1M['CLOSE'] / rdf1M['Open'] - 1\n",
        "    t1 = time.time()\n",
        "    elapsed_time = elapsed_time + (t1 - t0)\n",
        "    del rdf1M[\"ReturnOC\"]\n",
        "    \n",
        "r_times.append(elapsed_time/1000)\n",
        "    \n",
        "    \n",
        "r_times"
      ],
      "execution_count": null,
      "outputs": [
        {
          "output_type": "execute_result",
          "data": {
            "text/plain": [
              "[0.0005874068737030029,\n",
              " 0.0005800879001617432,\n",
              " 0.0005847630500793457,\n",
              " 0.0010099575519561769]"
            ]
          },
          "metadata": {
            "tags": []
          },
          "execution_count": 94
        }
      ]
    },
    {
      "cell_type": "code",
      "metadata": {
        "id": "DQRr4kks85DL",
        "colab": {
          "base_uri": "https://localhost:8080/",
          "height": 369
        },
        "outputId": "e9e17806-c1a0-47e5-b559-68c88f3ee5ad"
      },
      "source": [
        "plt.figure(figsize=(10,5))\n",
        "plt.plot([1,2,3,4],pd_times, label='Pandas')\n",
        "plt.plot([1,2,3,4],r_times, label='cuDF')\n",
        "plt.xticks([1, 2, 3, 4], labels=['1K','10K','100K','1M'])\n",
        "plt.legend(loc='best',fontsize=12)\n",
        "plt.title('RETURN COMPUTATION TIME', size=16)\n",
        "plt.xlabel('Dataset Size')\n",
        "plt.ylabel('Time in seconds')"
      ],
      "execution_count": null,
      "outputs": [
        {
          "output_type": "execute_result",
          "data": {
            "text/plain": [
              "Text(0, 0.5, 'Time in seconds')"
            ]
          },
          "metadata": {
            "tags": []
          },
          "execution_count": 95
        },
        {
          "output_type": "display_data",
          "data": {
            "image/png": "[encoded data removed]",
            "text/plain": [
              "<Figure size 720x360 with 1 Axes>"
            ]
          },
          "metadata": {
            "tags": [],
            "needs_background": "light"
          }
        }
      ]
    },
    {
      "cell_type": "code",
      "metadata": {
        "id": "0ZEUjQMF87Fk"
      },
      "source": [
        "# Test 4 : SLICING DATAFRAMES"
      ],
      "execution_count": null,
      "outputs": []
    },
    {
      "cell_type": "code",
      "metadata": {
        "id": "-DjXPMEB886Q"
      },
      "source": [
        "# A: PANDAS"
      ],
      "execution_count": null,
      "outputs": []
    },
    {
      "cell_type": "code",
      "metadata": {
        "id": "Xj6xjLDI8-QS",
        "colab": {
          "base_uri": "https://localhost:8080/"
        },
        "outputId": "ef182e6f-d682-4130-991d-a7ed99570af7"
      },
      "source": [
        "pd_times = []\n",
        "\n",
        "\n",
        "\n",
        "#DataFrame with 1 000 lines\n",
        "elapsed_time = 0\n",
        "\n",
        "for j in range(100):\n",
        "    t0 = time.time()\n",
        "    dft = pdf1K[(pdf1K['Open'] > pdf1K['PREVCLOSE']) & (pdf1K['Open'] < pdf1K['CLOSE'])]\n",
        "    t1 = time.time()\n",
        "    elapsed_time = elapsed_time + (t1 - t0)\n",
        "    \n",
        "pd_times.append(elapsed_time/100)\n",
        "\n",
        "    \n",
        "    \n",
        "#DataFrame with 10 000 lines\n",
        "elapsed_time = 0\n",
        "\n",
        "for j in range(100):\n",
        "    t0 = time.time()\n",
        "    dft = pdf10K[(pdf10K['Open'] > pdf10K['PREVCLOSE']) & (pdf10K['Open'] < pdf10K['CLOSE'])]\n",
        "    t1 = time.time()\n",
        "    elapsed_time = elapsed_time + (t1 - t0)\n",
        "    \n",
        "pd_times.append(elapsed_time/100)\n",
        "\n",
        "\n",
        "    \n",
        "#DataFrame with 100 000 lines\n",
        "elapsed_time = 0\n",
        "\n",
        "for j in range(100):\n",
        "    t0 = time.time()\n",
        "    dft = pdf100K[(pdf100K['Open'] > pdf100K['PREVCLOSE']) & (pdf100K['Open'] < pdf100K['CLOSE'])]\n",
        "    t1 = time.time()\n",
        "    elapsed_time = elapsed_time + (t1 - t0)\n",
        "    \n",
        "pd_times.append(elapsed_time/100)\n",
        "\n",
        "  \n",
        "    \n",
        "#DataFrame with 1 000 000 lines\n",
        "elapsed_time = 0\n",
        "\n",
        "for j in range(100):\n",
        "    t0 = time.time()\n",
        "    dft = pdf1M[(pdf1M['Open'] > pdf1M['PREVCLOSE']) & (pdf1M['Open'] < pdf1M['CLOSE'])]\n",
        "    t1 = time.time()\n",
        "    elapsed_time = elapsed_time + (t1 - t0)\n",
        "    \n",
        "pd_times.append(elapsed_time/100)\n",
        "    \n",
        "    \n",
        "pd_times"
      ],
      "execution_count": null,
      "outputs": [
        {
          "output_type": "execute_result",
          "data": {
            "text/plain": [
              "[0.0010238909721374512,\n",
              " 0.0009887385368347167,\n",
              " 0.003186359405517578,\n",
              " 0.023781039714813233]"
            ]
          },
          "metadata": {
            "tags": []
          },
          "execution_count": 96
        }
      ]
    },
    {
      "cell_type": "code",
      "metadata": {
        "id": "_cUIz7kK8_oL"
      },
      "source": [
        "#B: cuDF"
      ],
      "execution_count": null,
      "outputs": []
    },
    {
      "cell_type": "code",
      "metadata": {
        "id": "hgv6lpd69BTm",
        "colab": {
          "base_uri": "https://localhost:8080/"
        },
        "outputId": "f26d5ea5-3964-4a7e-80bb-969dc75b1f5f"
      },
      "source": [
        "r_times = []\n",
        "\n",
        "\n",
        "\n",
        "#DataFrame with 1 000 lines\n",
        "elapsed_time = 0\n",
        "\n",
        "for j in range(100):\n",
        "    t0 = time.time()\n",
        "    dft = rdf1K[(rdf1K['Open'] > rdf1K['PREVCLOSE']) & (rdf1K['Open'] < rdf1K['CLOSE'])]\n",
        "    t1 = time.time()\n",
        "    elapsed_time = elapsed_time + (t1 - t0)\n",
        "    \n",
        "r_times.append(elapsed_time/100)\n",
        "\n",
        "    \n",
        "    \n",
        "#DataFrame with 10 000 lines\n",
        "elapsed_time = 0\n",
        "\n",
        "for j in range(100):\n",
        "    t0 = time.time()\n",
        "    dft = rdf10K[(rdf10K['Open'] > rdf10K['PREVCLOSE']) & (rdf10K['Open'] < rdf10K['CLOSE'])]\n",
        "    t1 = time.time()\n",
        "    elapsed_time = elapsed_time + (t1 - t0)\n",
        "    \n",
        "r_times.append(elapsed_time/100)\n",
        "\n",
        "\n",
        "    \n",
        "#DataFrame with 100 000 lines\n",
        "elapsed_time = 0\n",
        "\n",
        "for j in range(100):\n",
        "    t0 = time.time()\n",
        "    dft = rdf100K[(rdf100K['Open'] > rdf100K['PREVCLOSE']) & (rdf100K['Open'] < rdf100K['CLOSE'])]\n",
        "    t1 = time.time()\n",
        "    elapsed_time = elapsed_time + (t1 - t0)\n",
        "    \n",
        "r_times.append(elapsed_time/100)\n",
        "\n",
        "  \n",
        "    \n",
        "#DataFrame with 1 000 000 lines\n",
        "elapsed_time = 0\n",
        "\n",
        "for j in range(100):\n",
        "    t0 = time.time()\n",
        "    dft = rdf1M[(rdf1M['Open'] > rdf1M['PREVCLOSE']) & (rdf1M['Open'] < rdf1M['CLOSE'])]\n",
        "    t1 = time.time()\n",
        "    elapsed_time = elapsed_time + (t1 - t0)\n",
        "    \n",
        "r_times.append(elapsed_time/100)\n",
        "    \n",
        "    \n",
        "r_times"
      ],
      "execution_count": null,
      "outputs": [
        {
          "output_type": "execute_result",
          "data": {
            "text/plain": [
              "[0.003553416728973389,\n",
              " 0.0035737848281860354,\n",
              " 0.0036057496070861818,\n",
              " 0.005651528835296631]"
            ]
          },
          "metadata": {
            "tags": []
          },
          "execution_count": 97
        }
      ]
    },
    {
      "cell_type": "code",
      "metadata": {
        "id": "0GZRpP8U9Czm",
        "colab": {
          "base_uri": "https://localhost:8080/",
          "height": 369
        },
        "outputId": "4cc1bfdb-f4be-4354-d70a-eb44fccd2eac"
      },
      "source": [
        "plt.figure(figsize=(10,5))\n",
        "plt.plot([1,2,3,4],pd_times, label='Pandas')\n",
        "plt.plot([1,2,3,4],r_times, label='cuDF')\n",
        "plt.xticks([1, 2, 3, 4], labels=['1K','10K','100K','1M'])\n",
        "plt.legend(loc='best',fontsize=12)\n",
        "plt.title('SLICING TIME', size=16)\n",
        "plt.xlabel('Dataset Size')\n",
        "plt.ylabel('Time in seconds')"
      ],
      "execution_count": null,
      "outputs": [
        {
          "output_type": "execute_result",
          "data": {
            "text/plain": [
              "Text(0, 0.5, 'Time in seconds')"
            ]
          },
          "metadata": {
            "tags": []
          },
          "execution_count": 98
        },
        {
          "output_type": "display_data",
          "data": {
            "image/png": "[encoded data removed]",
            "text/plain": [
              "<Figure size 720x360 with 1 Axes>"
            ]
          },
          "metadata": {
            "tags": [],
            "needs_background": "light"
          }
        }
      ]
    },
    {
      "cell_type": "code",
      "metadata": {
        "id": "y_y7wjs1HjRv"
      },
      "source": [
        "# Test 5 : Calculation of Unique values in a column "
      ],
      "execution_count": null,
      "outputs": []
    },
    {
      "cell_type": "code",
      "metadata": {
        "id": "Euh_eizwHvQZ"
      },
      "source": [
        "#Pandas"
      ],
      "execution_count": null,
      "outputs": []
    },
    {
      "cell_type": "code",
      "metadata": {
        "colab": {
          "base_uri": "https://localhost:8080/"
        },
        "id": "6r_01QFll28b",
        "outputId": "992e3fd9-b811-4494-b665-af36ba5d6a37"
      },
      "source": [
        "pd_times = []\n",
        "\n",
        "\n",
        "\n",
        "#DataFrame with 1 000 lines\n",
        "elapsed_time = 0\n",
        "\n",
        "for j in range(100):\n",
        "    t0 = time.time()\n",
        "    unique_values1K = pdf1K[\"SERIES\"].value_counts()\n",
        "    t1 = time.time()\n",
        "    elapsed_time = elapsed_time + (t1 - t0)\n",
        "    \n",
        "pd_times.append(elapsed_time/100)\n",
        "\n",
        "    \n",
        "    \n",
        "#DataFrame with 10 000 lines\n",
        "elapsed_time = 0\n",
        "\n",
        "for j in range(100):\n",
        "    t0 = time.time()\n",
        "    unique_values10K = pdf10K['SERIES'].value_counts()\n",
        "    t1 = time.time()\n",
        "    elapsed_time = elapsed_time + (t1 - t0)\n",
        "    \n",
        "pd_times.append(elapsed_time/100)\n",
        "\n",
        "\n",
        "    \n",
        "#DataFrame with 100 000 lines\n",
        "elapsed_time = 0\n",
        "\n",
        "for j in range(100):\n",
        "    t0 = time.time()\n",
        "    unique_values100K = pdf100K['SERIES'].value_counts()\n",
        "    t1 = time.time()\n",
        "    elapsed_time = elapsed_time + (t1 - t0)\n",
        "    \n",
        "pd_times.append(elapsed_time/100)\n",
        "\n",
        "  \n",
        "    \n",
        "#DataFrame with 1 000 000 lines\n",
        "elapsed_time = 0\n",
        "\n",
        "for j in range(100):\n",
        "    t0 = time.time()\n",
        "    unique_values1M = pdf1M['SERIES'].value_counts()\n",
        "    t1 = time.time()\n",
        "    elapsed_time = elapsed_time + (t1 - t0)\n",
        "    \n",
        "pd_times.append(elapsed_time/100)\n",
        "    \n",
        "    \n",
        "pd_times"
      ],
      "execution_count": null,
      "outputs": [
        {
          "output_type": "execute_result",
          "data": {
            "text/plain": [
              "[0.000823376178741455,\n",
              " 0.001548607349395752,\n",
              " 0.008621413707733155,\n",
              " 0.07510078668594361]"
            ]
          },
          "metadata": {
            "tags": []
          },
          "execution_count": 99
        }
      ]
    },
    {
      "cell_type": "code",
      "metadata": {
        "id": "j3hbmAjQH1fz"
      },
      "source": [
        "#Cudf"
      ],
      "execution_count": null,
      "outputs": []
    },
    {
      "cell_type": "code",
      "metadata": {
        "colab": {
          "base_uri": "https://localhost:8080/"
        },
        "id": "N7-x5Y1j5-S6",
        "outputId": "f76d5fc3-ffa4-4135-c94c-608610f450e2"
      },
      "source": [
        "r_times = []\n",
        "\n",
        "\n",
        "\n",
        "#DataFrame with 1 000 lines\n",
        "elapsed_time = 0\n",
        "\n",
        "for j in range(100):\n",
        "    t0 = time.time()\n",
        "    unique_values1K = rdf1K[\"SERIES\"].unique()\n",
        "    t1 = time.time()\n",
        "    elapsed_time = elapsed_time + (t1 - t0)\n",
        "    \n",
        "r_times.append(elapsed_time/100)\n",
        "\n",
        "    \n",
        "    \n",
        "#DataFrame with 10 000 lines\n",
        "elapsed_time = 0\n",
        "\n",
        "for j in range(100):\n",
        "    t0 = time.time()\n",
        "    unique_values10K = rdf10K[\"SERIES\"].unique()\n",
        "    t1 = time.time()\n",
        "    elapsed_time = elapsed_time + (t1 - t0)\n",
        "    \n",
        "r_times.append(elapsed_time/100)\n",
        "\n",
        "\n",
        "    \n",
        "#DataFrame with 100 000 lines\n",
        "elapsed_time = 0\n",
        "\n",
        "for j in range(100):\n",
        "    t0 = time.time()\n",
        "    unique_values100K = rdf100K[\"SERIES\"].unique()\n",
        "    t1 = time.time()\n",
        "    elapsed_time = elapsed_time + (t1 - t0)\n",
        "    \n",
        "r_times.append(elapsed_time/100)\n",
        "\n",
        "  \n",
        "    \n",
        "#DataFrame with 1 000 000 lines\n",
        "elapsed_time = 0\n",
        "\n",
        "for j in range(100):\n",
        "    t0 = time.time()\n",
        "    unique_values1M = rdf1M[\"SERIES\"].unique()\n",
        "    t1 = time.time()\n",
        "    elapsed_time = elapsed_time + (t1 - t0)\n",
        "    \n",
        "r_times.append(elapsed_time/100)\n",
        "    \n",
        "    \n",
        "r_times"
      ],
      "execution_count": null,
      "outputs": [
        {
          "output_type": "execute_result",
          "data": {
            "text/plain": [
              "[0.0016188240051269532,\n",
              " 0.0019567346572875975,\n",
              " 0.002423279285430908,\n",
              " 0.007360827922821045]"
            ]
          },
          "metadata": {
            "tags": []
          },
          "execution_count": 100
        }
      ]
    },
    {
      "cell_type": "code",
      "metadata": {
        "colab": {
          "base_uri": "https://localhost:8080/",
          "height": 369
        },
        "id": "h5IxJqUd982M",
        "outputId": "3f787044-6a58-47e6-9492-41a8cae16192"
      },
      "source": [
        "plt.figure(figsize=(10,5))\n",
        "plt.plot([1,2,3,4],pd_times, label='Pandas')\n",
        "plt.plot([1,2,3,4],r_times, label='cuDF')\n",
        "plt.xticks([1, 2, 3, 4], labels=['1K','10K','100K','1M'])\n",
        "plt.legend(loc='best',fontsize=12)\n",
        "plt.title('NUMBER OF UNIQUE VALUES', size=16)\n",
        "plt.xlabel('Dataset Size')\n",
        "plt.ylabel('Time in seconds')"
      ],
      "execution_count": null,
      "outputs": [
        {
          "output_type": "execute_result",
          "data": {
            "text/plain": [
              "Text(0, 0.5, 'Time in seconds')"
            ]
          },
          "metadata": {
            "tags": []
          },
          "execution_count": 101
        },
        {
          "output_type": "display_data",
          "data": {
            "image/png": "[encoded data removed]",
            "text/plain": [
              "<Figure size 720x360 with 1 Axes>"
            ]
          },
          "metadata": {
            "tags": [],
            "needs_background": "light"
          }
        }
      ]
    },
    {
      "cell_type": "code",
      "metadata": {
        "id": "jhmZX490IEIJ"
      },
      "source": [
        "# Test 6: Fill NAN values with the mode of the Series"
      ],
      "execution_count": null,
      "outputs": []
    },
    {
      "cell_type": "code",
      "metadata": {
        "id": "bLzAZ71uILZr"
      },
      "source": [
        "#Pandas"
      ],
      "execution_count": null,
      "outputs": []
    },
    {
      "cell_type": "code",
      "metadata": {
        "colab": {
          "base_uri": "https://localhost:8080/"
        },
        "id": "spkS6TCIFLw7",
        "outputId": "5269e0ee-29b3-481f-ca5e-1ffafe493697"
      },
      "source": [
        "pd_times = []\n",
        "\n",
        "\n",
        "\n",
        "#DataFrame with 1 000 lines\n",
        "elapsed_time = 0\n",
        "\n",
        "for j in range(100):\n",
        "    t0 = time.time()\n",
        "    pdf1K[\"SERIES\"] = pdf1K[\"SERIES\"].fillna(pdf1K[\"SERIES\"].mode())\n",
        "    t1 = time.time()\n",
        "    elapsed_time = elapsed_time + (t1 - t0)\n",
        "    \n",
        "pd_times.append(elapsed_time/100)\n",
        "\n",
        "    \n",
        "    \n",
        "#DataFrame with 10 000 lines\n",
        "elapsed_time = 0\n",
        "\n",
        "for j in range(100):\n",
        "    t0 = time.time()\n",
        "    pdf10K['SERIES'] = pdf10K['SERIES'].fillna(pdf10K[\"SERIES\"].mode())\n",
        "    t1 = time.time()\n",
        "    elapsed_time = elapsed_time + (t1 - t0)\n",
        "    \n",
        "pd_times.append(elapsed_time/100)\n",
        "\n",
        "\n",
        "    \n",
        "#DataFrame with 100 000 lines\n",
        "elapsed_time = 0\n",
        "\n",
        "for j in range(100):\n",
        "    t0 = time.time()\n",
        "    pdf1K[\"SERIES\"] = pdf100K['SERIES'].fillna(pdf100K[\"SERIES\"].mode())\n",
        "    t1 = time.time()\n",
        "    elapsed_time = elapsed_time + (t1 - t0)\n",
        "    \n",
        "pd_times.append(elapsed_time/100)\n",
        "\n",
        "  \n",
        "    \n",
        "#DataFrame with 1 000 000 lines\n",
        "elapsed_time = 0\n",
        "\n",
        "for j in range(100):\n",
        "    t0 = time.time()\n",
        "    pdf1K[\"SERIES\"] = pdf1M['SERIES'].fillna(pdf1M[\"SERIES\"].mode())\n",
        "    t1 = time.time()\n",
        "    elapsed_time = elapsed_time + (t1 - t0)\n",
        "    \n",
        "pd_times.append(elapsed_time/100)\n",
        "    \n",
        "    \n",
        "pd_times"
      ],
      "execution_count": null,
      "outputs": [
        {
          "output_type": "execute_result",
          "data": {
            "text/plain": [
              "[0.0008660626411437989,\n",
              " 0.00192915678024292,\n",
              " 0.013115670680999756,\n",
              " 0.11399003505706787]"
            ]
          },
          "metadata": {
            "tags": []
          },
          "execution_count": 102
        }
      ]
    },
    {
      "cell_type": "code",
      "metadata": {
        "id": "pTLVy4OsIvKu"
      },
      "source": [
        "#Cudf"
      ],
      "execution_count": null,
      "outputs": []
    },
    {
      "cell_type": "code",
      "metadata": {
        "colab": {
          "base_uri": "https://localhost:8080/"
        },
        "id": "QtkJYHhXHap-",
        "outputId": "83ee3e65-566e-4768-c30c-9fb3d48e30d6"
      },
      "source": [
        "r_times = []\n",
        "\n",
        "\n",
        "\n",
        "#DataFrame with 1 000 lines\n",
        "elapsed_time = 0\n",
        "for j in range(100):\n",
        "    t0 = time.time()\n",
        "    rdf1K[\"SERIES\"] = rdf1K[\"SERIES\"].astype(object).fillna(rdf1K[\"SERIES\"].value_counts().index[0])\n",
        "    t1 = time.time()\n",
        "    elapsed_time = elapsed_time + (t1 - t0)\n",
        "    \n",
        "r_times.append(elapsed_time/100)\n",
        "\n",
        "    \n",
        "    \n",
        "#DataFrame with 10 000 lines\n",
        "elapsed_time = 0\n",
        "\n",
        "for j in range(100):\n",
        "    t0 = time.time()\n",
        "    rdf10K[\"SERIES\"] = rdf10K[\"SERIES\"].fillna(rdf10K[\"SERIES\"].value_counts().index[0])\n",
        "    t1 = time.time()\n",
        "    elapsed_time = elapsed_time + (t1 - t0)\n",
        "    \n",
        "r_times.append(elapsed_time/100)\n",
        "\n",
        "\n",
        "    \n",
        "#DataFrame with 100 000 lines\n",
        "elapsed_time = 0\n",
        "\n",
        "for j in range(100):\n",
        "    t0 = time.time()\n",
        "    rdf100K[\"SERIES\"] = rdf100K[\"SERIES\"].fillna(rdf100K[\"SERIES\"].value_counts().index[0])\n",
        "    #.mode() function is not implemented yet\n",
        "    t1 = time.time()\n",
        "    elapsed_time = elapsed_time + (t1 - t0)\n",
        "    \n",
        "r_times.append(elapsed_time/100)\n",
        "\n",
        "  \n",
        "    \n",
        "#DataFrame with 1 000 000 lines\n",
        "elapsed_time = 0\n",
        "\n",
        "for j in range(100):\n",
        "    t0 = time.time()\n",
        "    rdf1M[\"SERIES\"]= rdf1M[\"SERIES\"].fillna(rdf1M[\"SERIES\"].value_counts().index[0])\n",
        "    t1 = time.time()\n",
        "    elapsed_time = elapsed_time + (t1 - t0)\n",
        "    \n",
        "r_times.append(elapsed_time/100)\n",
        "    \n",
        "    \n",
        "r_times"
      ],
      "execution_count": null,
      "outputs": [
        {
          "output_type": "execute_result",
          "data": {
            "text/plain": [
              "[0.01492950201034546,\n",
              " 0.014647562503814698,\n",
              " 0.015058608055114745,\n",
              " 0.01840125322341919]"
            ]
          },
          "metadata": {
            "tags": []
          },
          "execution_count": 103
        }
      ]
    },
    {
      "cell_type": "code",
      "metadata": {
        "colab": {
          "base_uri": "https://localhost:8080/",
          "height": 369
        },
        "id": "frV-wJ1PUWcD",
        "outputId": "771aa880-9fd5-4d83-b1ee-a8a95ac5c840"
      },
      "source": [
        "plt.figure(figsize=(10,5))\n",
        "plt.plot([1,2,3,4],pd_times, label='Pandas')\n",
        "plt.plot([1,2,3,4],r_times, label='cuDF')\n",
        "plt.xticks([1, 2, 3, 4], labels=['1K','10K','100K','1M'])\n",
        "plt.legend(loc='best',fontsize=12)\n",
        "plt.title('FILLNA WITH MODE', size=16)\n",
        "plt.xlabel('Dataset Size')\n",
        "plt.ylabel('Time in seconds')"
      ],
      "execution_count": null,
      "outputs": [
        {
          "output_type": "execute_result",
          "data": {
            "text/plain": [
              "Text(0, 0.5, 'Time in seconds')"
            ]
          },
          "metadata": {
            "tags": []
          },
          "execution_count": 104
        },
        {
          "output_type": "display_data",
          "data": {
            "image/png": "[encoded data removed]",
            "text/plain": [
              "<Figure size 720x360 with 1 Axes>"
            ]
          },
          "metadata": {
            "tags": [],
            "needs_background": "light"
          }
        }
      ]
    },
    {
      "cell_type": "code",
      "metadata": {
        "id": "RjcJNvvLKqbg"
      },
      "source": [
        "#Test 7:Label Encoder"
      ],
      "execution_count": null,
      "outputs": []
    },
    {
      "cell_type": "code",
      "metadata": {
        "id": "Jlx1ynajL0Dq"
      },
      "source": [
        "#Pandas and Scikit  "
      ],
      "execution_count": null,
      "outputs": []
    },
    {
      "cell_type": "code",
      "metadata": {
        "colab": {
          "base_uri": "https://localhost:8080/"
        },
        "id": "q1xcKolzAmCw",
        "outputId": "9dfcff70-c63e-41df-e014-d875f1d29bf7"
      },
      "source": [
        "from sklearn import preprocessing \n",
        "le = preprocessing.LabelEncoder()\n",
        "\n",
        "\n",
        "\n",
        "pd_times = []\n",
        "\n",
        "\n",
        "\n",
        "#DataFrame with 1 000 lines\n",
        "elapsed_time = 0\n",
        "\n",
        "for j in range(100):\n",
        "    t0 = time.time()\n",
        "    pdf1K['SERIES'] = le.fit_transform(pdf1K['SERIES'].astype(str))\n",
        "    t1 = time.time()\n",
        "    elapsed_time = elapsed_time + (t1 - t0)\n",
        "    \n",
        "pd_times.append(elapsed_time/100)\n",
        "\n",
        "    \n",
        "    \n",
        "#DataFrame with 10 000 lines\n",
        "elapsed_time = 0\n",
        "\n",
        "for j in range(100):\n",
        "    t0 = time.time()\n",
        "    pdf10K['SERIES'] = le.fit_transform(pdf10K['SERIES'].astype(str))\n",
        "    t1 = time.time()\n",
        "    elapsed_time = elapsed_time + (t1 - t0)\n",
        "    \n",
        "pd_times.append(elapsed_time/100)\n",
        "\n",
        "\n",
        "    \n",
        "#DataFrame with 100 000 lines\n",
        "elapsed_time = 0\n",
        "\n",
        "for j in range(100):\n",
        "    t0 = time.time()\n",
        "    pdf100K['SERIES'] = le.fit_transform(pdf100K['SERIES'].astype(str))\n",
        "    t1 = time.time()\n",
        "    elapsed_time = elapsed_time + (t1 - t0)\n",
        "    \n",
        "pd_times.append(elapsed_time/100)\n",
        "\n",
        "  \n",
        "    \n",
        "#DataFrame with 1 000 000 lines\n",
        "elapsed_time = 0\n",
        "\n",
        "for j in range(100):\n",
        "    t0 = time.time()\n",
        "    pdf1M['SERIES'] = le.fit_transform(pdf1M['SERIES'].astype(str))\n",
        "    t1 = time.time()\n",
        "    elapsed_time = elapsed_time + (t1 - t0)\n",
        "    \n",
        "pd_times.append(elapsed_time/100)\n",
        "    \n",
        "    \n",
        "pd_times\n"
      ],
      "execution_count": null,
      "outputs": [
        {
          "output_type": "execute_result",
          "data": {
            "text/plain": [
              "[0.0010677504539489747,\n",
              " 0.007924542427062989,\n",
              " 0.07910123825073243,\n",
              " 0.6803741407394409]"
            ]
          },
          "metadata": {
            "tags": []
          },
          "execution_count": 105
        }
      ]
    },
    {
      "cell_type": "code",
      "metadata": {
        "id": "-ZT9INJBbU_H"
      },
      "source": [
        "#Cudf\n"
      ],
      "execution_count": null,
      "outputs": []
    },
    {
      "cell_type": "code",
      "metadata": {
        "colab": {
          "base_uri": "https://localhost:8080/"
        },
        "id": "jJ8tNtVqa1mU",
        "outputId": "a41c0a3b-ccbc-4f83-e7f9-d7d0d2ab864d"
      },
      "source": [
        "r_times = []\n",
        "\n",
        "\n",
        "\n",
        "#DataFrame with 1 000 lines\n",
        "elapsed_time = 0\n",
        "for j in range(10):\n",
        "    t0 = time.time()\n",
        "    rdf1K[\"SERIES\"] = rdf1K[\"SERIES\"].label_encoding(cats=rdf1K[\"SERIES\"].unique())\n",
        "    t1 = time.time()\n",
        "    elapsed_time = elapsed_time + (t1 - t0)\n",
        "    \n",
        "r_times.append(elapsed_time/10)\n",
        "\n",
        "    \n",
        "    \n",
        "#DataFrame with 10 000 lines\n",
        "elapsed_time = 0\n",
        "\n",
        "for j in range(10):\n",
        "    t0 = time.time()\n",
        "    rdf10K[\"SERIES\"] = rdf10K[\"SERIES\"].label_encoding(cats=rdf10K[\"SERIES\"].unique())\n",
        "    t1 = time.time()\n",
        "    elapsed_time = elapsed_time + (t1 - t0)\n",
        "    \n",
        "r_times.append(elapsed_time/10)\n",
        "\n",
        "\n",
        "    \n",
        "#DataFrame with 100 000 lines\n",
        "elapsed_time = 0\n",
        "\n",
        "for j in range(10):\n",
        "    t0 = time.time()\n",
        "    rdf100K[\"SERIES\"] = rdf100K[\"SERIES\"].label_encoding(cats=rdf100K[\"SERIES\"].unique())\n",
        "    t1 = time.time()\n",
        "    elapsed_time = elapsed_time + (t1 - t0)\n",
        "    \n",
        "r_times.append(elapsed_time/10)\n",
        "\n",
        "  \n",
        "    \n",
        "#DataFrame with 1 000 000 lines\n",
        "elapsed_time = 0\n",
        "\n",
        "for j in range(10):\n",
        "    t0 = time.time()\n",
        "    rdf1M[\"SERIES\"]= rdf1M[\"SERIES\"].label_encoding(cats=rdf1M[\"SERIES\"].unique())\n",
        "    t1 = time.time()\n",
        "    elapsed_time = elapsed_time + (t1 - t0)\n",
        "    \n",
        "r_times.append(elapsed_time/10)\n",
        "    \n",
        "    \n",
        "r_times"
      ],
      "execution_count": null,
      "outputs": [
        {
          "output_type": "execute_result",
          "data": {
            "text/plain": [
              "[0.006113195419311523,\n",
              " 0.00648651123046875,\n",
              " 0.00756220817565918,\n",
              " 0.01643812656402588]"
            ]
          },
          "metadata": {
            "tags": []
          },
          "execution_count": 106
        }
      ]
    },
    {
      "cell_type": "code",
      "metadata": {
        "colab": {
          "base_uri": "https://localhost:8080/",
          "height": 369
        },
        "id": "Xhd4I9tQLkAj",
        "outputId": "503c5120-88ae-45ce-c5bd-23c071722a6f"
      },
      "source": [
        "plt.figure(figsize=(10,5))\n",
        "plt.plot([1,2,3,4],pd_times, label='Pandas')\n",
        "plt.plot([1,2,3,4],r_times, label='cuDF')\n",
        "plt.xticks([1, 2, 3, 4], labels=['1K','10K','100K','1M'])\n",
        "plt.legend(loc='best',fontsize=12)\n",
        "plt.title('Label Encoding for SERIES', size=16)\n",
        "plt.xlabel('Dataset Size')\n",
        "plt.ylabel('Time in seconds')"
      ],
      "execution_count": null,
      "outputs": [
        {
          "output_type": "execute_result",
          "data": {
            "text/plain": [
              "Text(0, 0.5, 'Time in seconds')"
            ]
          },
          "metadata": {
            "tags": []
          },
          "execution_count": 107
        },
        {
          "output_type": "display_data",
          "data": {
            "image/png": "[encoded data removed]",
            "text/plain": [
              "<Figure size 720x360 with 1 Axes>"
            ]
          },
          "metadata": {
            "tags": [],
            "needs_background": "light"
          }
        }
      ]
    },
    {
      "cell_type": "code",
      "metadata": {
        "id": "2UQyLa-HL4lE"
      },
      "source": [
        "#Test 8: Matrix Multiplication"
      ],
      "execution_count": null,
      "outputs": []
    },
    {
      "cell_type": "code",
      "metadata": {
        "colab": {
          "base_uri": "https://localhost:8080/",
          "height": 173
        },
        "id": "VtA0QepSZrXe",
        "outputId": "de5dcf57-fe69-41c8-aaa3-0a35353e2b28"
      },
      "source": [
        "data_matrix = pdf1K[[\"Open\", 'CLOSE', 'HIGH', 'LOW']]\n",
        "data_mul = data_matrix.T.dot(data_matrix)\n",
        "data_mul"
      ],
      "execution_count": null,
      "outputs": [
        {
          "output_type": "execute_result",
          "data": {
            "text/html": [
              "<div>\n",
              "<style scoped>\n",
              "    .dataframe tbody tr th:only-of-type {\n",
              "        vertical-align: middle;\n",
              "    }\n",
              "\n",
              "    .dataframe tbody tr th {\n",
              "        vertical-align: top;\n",
              "    }\n",
              "\n",
              "    .dataframe thead th {\n",
              "        text-align: right;\n",
              "    }\n",
              "</style>\n",
              "<table border=\"1\" class=\"dataframe\">\n",
              "  <thead>\n",
              "    <tr style=\"text-align: right;\">\n",
              "      <th></th>\n",
              "      <th>Open</th>\n",
              "      <th>CLOSE</th>\n",
              "      <th>HIGH</th>\n",
              "      <th>LOW</th>\n",
              "    </tr>\n",
              "  </thead>\n",
              "  <tbody>\n",
              "    <tr>\n",
              "      <th>Open</th>\n",
              "      <td>7.457795e+09</td>\n",
              "      <td>7.499404e+09</td>\n",
              "      <td>7.550896e+09</td>\n",
              "      <td>7.378196e+09</td>\n",
              "    </tr>\n",
              "    <tr>\n",
              "      <th>CLOSE</th>\n",
              "      <td>7.499404e+09</td>\n",
              "      <td>7.541623e+09</td>\n",
              "      <td>7.593321e+09</td>\n",
              "      <td>7.419438e+09</td>\n",
              "    </tr>\n",
              "    <tr>\n",
              "      <th>HIGH</th>\n",
              "      <td>7.550896e+09</td>\n",
              "      <td>7.593321e+09</td>\n",
              "      <td>7.645500e+09</td>\n",
              "      <td>7.470306e+09</td>\n",
              "    </tr>\n",
              "    <tr>\n",
              "      <th>LOW</th>\n",
              "      <td>7.378196e+09</td>\n",
              "      <td>7.419438e+09</td>\n",
              "      <td>7.470306e+09</td>\n",
              "      <td>7.299715e+09</td>\n",
              "    </tr>\n",
              "  </tbody>\n",
              "</table>\n",
              "</div>"
            ],
            "text/plain": [
              "               Open         CLOSE          HIGH           LOW\n",
              "Open   7.457795e+09  7.499404e+09  7.550896e+09  7.378196e+09\n",
              "CLOSE  7.499404e+09  7.541623e+09  7.593321e+09  7.419438e+09\n",
              "HIGH   7.550896e+09  7.593321e+09  7.645500e+09  7.470306e+09\n",
              "LOW    7.378196e+09  7.419438e+09  7.470306e+09  7.299715e+09"
            ]
          },
          "metadata": {
            "tags": []
          },
          "execution_count": 108
        }
      ]
    },
    {
      "cell_type": "code",
      "metadata": {
        "colab": {
          "base_uri": "https://localhost:8080/"
        },
        "id": "empQ5nesZV4P",
        "outputId": "af096d08-ec15-4bce-a9e4-2989794d77f6"
      },
      "source": [
        "pd_times = []\n",
        "\n",
        "\n",
        "\n",
        "#DataFrame with 1 000 lines\n",
        "elapsed_time = 0\n",
        "\n",
        "for j in range(10):\n",
        "    t0 = time.time()\n",
        "    data_matrix1 = pdf1K[[\"Open\", 'CLOSE', 'HIGH', 'LOW']]\n",
        "    data_mul1 = data_matrix1.mul(data_matrix1)\n",
        "    t1 = time.time()\n",
        "    elapsed_time = elapsed_time + (t1 - t0)\n",
        "    \n",
        "pd_times.append(elapsed_time/10)\n",
        "\n",
        "    \n",
        "    \n",
        "#DataFrame with 10 000 lines\n",
        "elapsed_time = 0\n",
        "\n",
        "for j in range(10):\n",
        "    t0 = time.time()\n",
        "    data_matrix10 = pdf10K[[\"Open\", 'CLOSE', 'HIGH', 'LOW']]\n",
        "    data_mul10 = data_matrix10.mul(data_matrix10)\n",
        "    t1 = time.time()\n",
        "    elapsed_time = elapsed_time + (t1 - t0)\n",
        "    \n",
        "pd_times.append(elapsed_time/10)\n",
        "\n",
        "\n",
        "    \n",
        "#DataFrame with 100 000 lines\n",
        "elapsed_time = 0\n",
        "\n",
        "for j in range(10):\n",
        "    t0 = time.time()\n",
        "    data_matrix100 = pdf100K[[\"Open\", 'CLOSE', 'HIGH', 'LOW']]\n",
        "    data_mul100 = data_matrix100.mul(data_matrix100)\n",
        "    t1 = time.time()\n",
        "    elapsed_time = elapsed_time + (t1 - t0)\n",
        "    \n",
        "pd_times.append(elapsed_time/10)\n",
        "\n",
        "  \n",
        "    \n",
        "#DataFrame with 1 000 000 lines\n",
        "elapsed_time = 0\n",
        "\n",
        "for j in range(10):\n",
        "    t0 = time.time()\n",
        "    data_matrix1M = pdf1M[[\"Open\", 'CLOSE', 'HIGH', 'LOW']]\n",
        "    data_mul1M = data_matrix1M.mul(data_matrix1M)\n",
        "    t1 = time.time()\n",
        "    elapsed_time = elapsed_time + (t1 - t0)\n",
        "    \n",
        "pd_times.append(elapsed_time/10)\n",
        "    \n",
        "    \n",
        "pd_times"
      ],
      "execution_count": null,
      "outputs": [
        {
          "output_type": "execute_result",
          "data": {
            "text/plain": [
              "[0.0008264303207397461,\n",
              " 0.001129913330078125,\n",
              " 0.002606320381164551,\n",
              " 0.013277721405029298]"
            ]
          },
          "metadata": {
            "tags": []
          },
          "execution_count": 109
        }
      ]
    },
    {
      "cell_type": "code",
      "metadata": {
        "id": "fm34QzcIdGkz"
      },
      "source": [
        "#Cudf"
      ],
      "execution_count": null,
      "outputs": []
    },
    {
      "cell_type": "code",
      "metadata": {
        "colab": {
          "base_uri": "https://localhost:8080/"
        },
        "id": "kpyLdWendI-G",
        "outputId": "d5e8b2e5-3a0e-4b71-e8a1-8d2f12353712"
      },
      "source": [
        "r_times = []\n",
        "\n",
        "\n",
        "\n",
        "#DataFrame with 1 000 lines\n",
        "elapsed_time = 0\n",
        "for j in range(10):\n",
        "    t0 = time.time()\n",
        "    data_matrix1 = rdf1K[[\"Open\", 'CLOSE', 'HIGH', 'LOW']]\n",
        "    data_mul1 = data_matrix1.mul(data_matrix1)\n",
        "    t1 = time.time()\n",
        "    elapsed_time = elapsed_time + (t1 - t0)\n",
        "    \n",
        "r_times.append(elapsed_time/10)\n",
        "\n",
        "    \n",
        "    \n",
        "#DataFrame with 10 000 lines\n",
        "elapsed_time = 0\n",
        "\n",
        "for j in range(10):\n",
        "    t0 = time.time()\n",
        "    data_matrix10 = rdf10K[[\"Open\", 'CLOSE', 'HIGH', 'LOW']]\n",
        "    data_mul10 = data_matrix10.mul(data_matrix10)\n",
        "    t1 = time.time()\n",
        "    elapsed_time = elapsed_time + (t1 - t0)\n",
        "    \n",
        "r_times.append(elapsed_time/10)\n",
        "\n",
        "\n",
        "    \n",
        "#DataFrame with 100 000 lines\n",
        "elapsed_time = 0\n",
        "\n",
        "for j in range(10):\n",
        "    t0 = time.time()\n",
        "    data_matrix100 = rdf100K[[\"Open\", 'CLOSE', 'HIGH', 'LOW']]\n",
        "    data_mul100 = data_matrix100.mul(data_matrix100)\n",
        "    t1 = time.time()\n",
        "    elapsed_time = elapsed_time + (t1 - t0)\n",
        "    \n",
        "r_times.append(elapsed_time/10)\n",
        "\n",
        "  \n",
        "    \n",
        "#DataFrame with 1 000 000 lines\n",
        "elapsed_time = 0\n",
        "\n",
        "for j in range(10):\n",
        "    t0 = time.time()\n",
        "    data_matrix1M = rdf1M[[\"Open\", 'CLOSE', 'HIGH', 'LOW']]\n",
        "    data_mul1M = data_matrix1M.mul(data_matrix1M)\n",
        "    t1 = time.time()\n",
        "    elapsed_time = elapsed_time + (t1 - t0)\n",
        "    \n",
        "r_times.append(elapsed_time/10)\n",
        "    \n",
        "    \n",
        "r_times"
      ],
      "execution_count": null,
      "outputs": [
        {
          "output_type": "execute_result",
          "data": {
            "text/plain": [
              "[0.0020935773849487306,\n",
              " 0.0015236854553222657,\n",
              " 0.001528024673461914,\n",
              " 0.003165721893310547]"
            ]
          },
          "metadata": {
            "tags": []
          },
          "execution_count": 110
        }
      ]
    },
    {
      "cell_type": "code",
      "metadata": {
        "colab": {
          "base_uri": "https://localhost:8080/",
          "height": 369
        },
        "id": "Tey6VsSufv4-",
        "outputId": "ab4abb40-8d2a-4a0a-d2fe-c718ece91b6b"
      },
      "source": [
        "plt.figure(figsize=(10,5))\n",
        "plt.plot([1,2,3,4],pd_times, label='Pandas')\n",
        "plt.plot([1,2,3,4],r_times, label='cuDF')\n",
        "plt.xticks([1, 2, 3, 4], labels=['1K','10K','100K','1M'])\n",
        "plt.legend(loc='best',fontsize=12)\n",
        "plt.title('Matrix Element Multiplication', size=16)\n",
        "plt.xlabel('Dataset Size')\n",
        "plt.ylabel('Time in seconds')"
      ],
      "execution_count": null,
      "outputs": [
        {
          "output_type": "execute_result",
          "data": {
            "text/plain": [
              "Text(0, 0.5, 'Time in seconds')"
            ]
          },
          "metadata": {
            "tags": []
          },
          "execution_count": 111
        },
        {
          "output_type": "display_data",
          "data": {
            "image/png": "[encoded data removed]",
            "text/plain": [
              "<Figure size 720x360 with 1 Axes>"
            ]
          },
          "metadata": {
            "tags": [],
            "needs_background": "light"
          }
        }
      ]
    }
  ]
}