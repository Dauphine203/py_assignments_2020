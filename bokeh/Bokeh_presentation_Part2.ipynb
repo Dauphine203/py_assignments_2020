{
 "cells": [
  {
   "cell_type": "markdown",
   "metadata": {},
   "source": [
    "# Introduction to the bokeh library\n",
    "\n",
    "\n"
   ]
  },
  {
   "cell_type": "code",
   "execution_count": 6,
   "metadata": {},
   "outputs": [
    {
     "data": {
      "text/html": [
       "\n",
       "        <iframe\n",
       "            width=\"1000\"\n",
       "            height=\"450\"\n",
       "            src=\"https://bokeh.pydata.org/en/latest/\"\n",
       "            frameborder=\"0\"\n",
       "            allowfullscreen\n",
       "        ></iframe>\n",
       "        "
      ],
      "text/plain": [
       "<IPython.lib.display.IFrame at 0x1e8d67612e8>"
      ]
     },
     "metadata": {},
     "output_type": "display_data"
    },
    {
     "name": "stderr",
     "output_type": "stream",
     "text": [
      "UsageError: Line magic function `%bokeh` not found.\n"
     ]
    }
   ],
   "source": [
    "from IPython.display import IFrame\n",
    "documentation = IFrame(src='https://bokeh.pydata.org/en/latest/', width=1000, height=450)\n",
    "display(documentation)\n",
    "%bokeh inline"
   ]
  },
  {
   "cell_type": "code",
   "execution_count": 5,
   "metadata": {},
   "outputs": [],
   "source": [
    "import bokeh\n",
    "import ipywidgets\n",
    "from bokeh.io import output_notebook, show, reset_output\n",
    "from bokeh.plotting import figure\n",
    "from bokeh.models import ColumnDataSource\n",
    "from bokeh.core.properties import value\n",
    "from bokeh.transform import dodge\n",
    "\n",
    "# other imports\n",
    "import vega_datasets\n",
    "import numpy as np\n",
    "import pandas as pd"
   ]
  },
  {
   "cell_type": "code",
   "execution_count": 7,
   "metadata": {},
   "outputs": [
    {
     "data": {
      "text/html": [
       "\n",
       "    <div class=\"bk-root\">\n",
       "        <a href=\"https://bokeh.pydata.org\" target=\"_blank\" class=\"bk-logo bk-logo-small bk-logo-notebook\"></a>\n",
       "        <span id=\"1001\">Loading BokehJS ...</span>\n",
       "    </div>"
      ]
     },
     "metadata": {},
     "output_type": "display_data"
    },
    {
     "data": {
      "application/javascript": [
       "\n",
       "(function(root) {\n",
       "  function now() {\n",
       "    return new Date();\n",
       "  }\n",
       "\n",
       "  var force = true;\n",
       "\n",
       "  if (typeof root._bokeh_onload_callbacks === \"undefined\" || force === true) {\n",
       "    root._bokeh_onload_callbacks = [];\n",
       "    root._bokeh_is_loading = undefined;\n",
       "  }\n",
       "\n",
       "  var JS_MIME_TYPE = 'application/javascript';\n",
       "  var HTML_MIME_TYPE = 'text/html';\n",
       "  var EXEC_MIME_TYPE = 'application/vnd.bokehjs_exec.v0+json';\n",
       "  var CLASS_NAME = 'output_bokeh rendered_html';\n",
       "\n",
       "  /**\n",
       "   * Render data to the DOM node\n",
       "   */\n",
       "  function render(props, node) {\n",
       "    var script = document.createElement(\"script\");\n",
       "    node.appendChild(script);\n",
       "  }\n",
       "\n",
       "  /**\n",
       "   * Handle when an output is cleared or removed\n",
       "   */\n",
       "  function handleClearOutput(event, handle) {\n",
       "    var cell = handle.cell;\n",
       "\n",
       "    var id = cell.output_area._bokeh_element_id;\n",
       "    var server_id = cell.output_area._bokeh_server_id;\n",
       "    // Clean up Bokeh references\n",
       "    if (id != null && id in Bokeh.index) {\n",
       "      Bokeh.index[id].model.document.clear();\n",
       "      delete Bokeh.index[id];\n",
       "    }\n",
       "\n",
       "    if (server_id !== undefined) {\n",
       "      // Clean up Bokeh references\n",
       "      var cmd = \"from bokeh.io.state import curstate; print(curstate().uuid_to_server['\" + server_id + \"'].get_sessions()[0].document.roots[0]._id)\";\n",
       "      cell.notebook.kernel.execute(cmd, {\n",
       "        iopub: {\n",
       "          output: function(msg) {\n",
       "            var id = msg.content.text.trim();\n",
       "            if (id in Bokeh.index) {\n",
       "              Bokeh.index[id].model.document.clear();\n",
       "              delete Bokeh.index[id];\n",
       "            }\n",
       "          }\n",
       "        }\n",
       "      });\n",
       "      // Destroy server and session\n",
       "      var cmd = \"import bokeh.io.notebook as ion; ion.destroy_server('\" + server_id + \"')\";\n",
       "      cell.notebook.kernel.execute(cmd);\n",
       "    }\n",
       "  }\n",
       "\n",
       "  /**\n",
       "   * Handle when a new output is added\n",
       "   */\n",
       "  function handleAddOutput(event, handle) {\n",
       "    var output_area = handle.output_area;\n",
       "    var output = handle.output;\n",
       "\n",
       "    // limit handleAddOutput to display_data with EXEC_MIME_TYPE content only\n",
       "    if ((output.output_type != \"display_data\") || (!output.data.hasOwnProperty(EXEC_MIME_TYPE))) {\n",
       "      return\n",
       "    }\n",
       "\n",
       "    var toinsert = output_area.element.find(\".\" + CLASS_NAME.split(' ')[0]);\n",
       "\n",
       "    if (output.metadata[EXEC_MIME_TYPE][\"id\"] !== undefined) {\n",
       "      toinsert[toinsert.length - 1].firstChild.textContent = output.data[JS_MIME_TYPE];\n",
       "      // store reference to embed id on output_area\n",
       "      output_area._bokeh_element_id = output.metadata[EXEC_MIME_TYPE][\"id\"];\n",
       "    }\n",
       "    if (output.metadata[EXEC_MIME_TYPE][\"server_id\"] !== undefined) {\n",
       "      var bk_div = document.createElement(\"div\");\n",
       "      bk_div.innerHTML = output.data[HTML_MIME_TYPE];\n",
       "      var script_attrs = bk_div.children[0].attributes;\n",
       "      for (var i = 0; i < script_attrs.length; i++) {\n",
       "        toinsert[toinsert.length - 1].firstChild.setAttribute(script_attrs[i].name, script_attrs[i].value);\n",
       "      }\n",
       "      // store reference to server id on output_area\n",
       "      output_area._bokeh_server_id = output.metadata[EXEC_MIME_TYPE][\"server_id\"];\n",
       "    }\n",
       "  }\n",
       "\n",
       "  function register_renderer(events, OutputArea) {\n",
       "\n",
       "    function append_mime(data, metadata, element) {\n",
       "      // create a DOM node to render to\n",
       "      var toinsert = this.create_output_subarea(\n",
       "        metadata,\n",
       "        CLASS_NAME,\n",
       "        EXEC_MIME_TYPE\n",
       "      );\n",
       "      this.keyboard_manager.register_events(toinsert);\n",
       "      // Render to node\n",
       "      var props = {data: data, metadata: metadata[EXEC_MIME_TYPE]};\n",
       "      render(props, toinsert[toinsert.length - 1]);\n",
       "      element.append(toinsert);\n",
       "      return toinsert\n",
       "    }\n",
       "\n",
       "    /* Handle when an output is cleared or removed */\n",
       "    events.on('clear_output.CodeCell', handleClearOutput);\n",
       "    events.on('delete.Cell', handleClearOutput);\n",
       "\n",
       "    /* Handle when a new output is added */\n",
       "    events.on('output_added.OutputArea', handleAddOutput);\n",
       "\n",
       "    /**\n",
       "     * Register the mime type and append_mime function with output_area\n",
       "     */\n",
       "    OutputArea.prototype.register_mime_type(EXEC_MIME_TYPE, append_mime, {\n",
       "      /* Is output safe? */\n",
       "      safe: true,\n",
       "      /* Index of renderer in `output_area.display_order` */\n",
       "      index: 0\n",
       "    });\n",
       "  }\n",
       "\n",
       "  // register the mime type if in Jupyter Notebook environment and previously unregistered\n",
       "  if (root.Jupyter !== undefined) {\n",
       "    var events = require('base/js/events');\n",
       "    var OutputArea = require('notebook/js/outputarea').OutputArea;\n",
       "\n",
       "    if (OutputArea.prototype.mime_types().indexOf(EXEC_MIME_TYPE) == -1) {\n",
       "      register_renderer(events, OutputArea);\n",
       "    }\n",
       "  }\n",
       "\n",
       "  \n",
       "  if (typeof (root._bokeh_timeout) === \"undefined\" || force === true) {\n",
       "    root._bokeh_timeout = Date.now() + 5000;\n",
       "    root._bokeh_failed_load = false;\n",
       "  }\n",
       "\n",
       "  var NB_LOAD_WARNING = {'data': {'text/html':\n",
       "     \"<div style='background-color: #fdd'>\\n\"+\n",
       "     \"<p>\\n\"+\n",
       "     \"BokehJS does not appear to have successfully loaded. If loading BokehJS from CDN, this \\n\"+\n",
       "     \"may be due to a slow or bad network connection. Possible fixes:\\n\"+\n",
       "     \"</p>\\n\"+\n",
       "     \"<ul>\\n\"+\n",
       "     \"<li>re-rerun `output_notebook()` to attempt to load from CDN again, or</li>\\n\"+\n",
       "     \"<li>use INLINE resources instead, as so:</li>\\n\"+\n",
       "     \"</ul>\\n\"+\n",
       "     \"<code>\\n\"+\n",
       "     \"from bokeh.resources import INLINE\\n\"+\n",
       "     \"output_notebook(resources=INLINE)\\n\"+\n",
       "     \"</code>\\n\"+\n",
       "     \"</div>\"}};\n",
       "\n",
       "  function display_loaded() {\n",
       "    var el = document.getElementById(\"1001\");\n",
       "    if (el != null) {\n",
       "      el.textContent = \"BokehJS is loading...\";\n",
       "    }\n",
       "    if (root.Bokeh !== undefined) {\n",
       "      if (el != null) {\n",
       "        el.textContent = \"BokehJS \" + root.Bokeh.version + \" successfully loaded.\";\n",
       "      }\n",
       "    } else if (Date.now() < root._bokeh_timeout) {\n",
       "      setTimeout(display_loaded, 100)\n",
       "    }\n",
       "  }\n",
       "\n",
       "\n",
       "  function run_callbacks() {\n",
       "    try {\n",
       "      root._bokeh_onload_callbacks.forEach(function(callback) {\n",
       "        if (callback != null)\n",
       "          callback();\n",
       "      });\n",
       "    } finally {\n",
       "      delete root._bokeh_onload_callbacks\n",
       "    }\n",
       "    console.debug(\"Bokeh: all callbacks have finished\");\n",
       "  }\n",
       "\n",
       "  function load_libs(css_urls, js_urls, callback) {\n",
       "    if (css_urls == null) css_urls = [];\n",
       "    if (js_urls == null) js_urls = [];\n",
       "\n",
       "    root._bokeh_onload_callbacks.push(callback);\n",
       "    if (root._bokeh_is_loading > 0) {\n",
       "      console.debug(\"Bokeh: BokehJS is being loaded, scheduling callback at\", now());\n",
       "      return null;\n",
       "    }\n",
       "    if (js_urls == null || js_urls.length === 0) {\n",
       "      run_callbacks();\n",
       "      return null;\n",
       "    }\n",
       "    console.debug(\"Bokeh: BokehJS not loaded, scheduling load and callback at\", now());\n",
       "    root._bokeh_is_loading = css_urls.length + js_urls.length;\n",
       "\n",
       "    function on_load() {\n",
       "      root._bokeh_is_loading--;\n",
       "      if (root._bokeh_is_loading === 0) {\n",
       "        console.debug(\"Bokeh: all BokehJS libraries/stylesheets loaded\");\n",
       "        run_callbacks()\n",
       "      }\n",
       "    }\n",
       "\n",
       "    function on_error() {\n",
       "      console.error(\"failed to load \" + url);\n",
       "    }\n",
       "\n",
       "    for (var i = 0; i < css_urls.length; i++) {\n",
       "      var url = css_urls[i];\n",
       "      const element = document.createElement(\"link\");\n",
       "      element.onload = on_load;\n",
       "      element.onerror = on_error;\n",
       "      element.rel = \"stylesheet\";\n",
       "      element.type = \"text/css\";\n",
       "      element.href = url;\n",
       "      console.debug(\"Bokeh: injecting link tag for BokehJS stylesheet: \", url);\n",
       "      document.body.appendChild(element);\n",
       "    }\n",
       "\n",
       "    for (var i = 0; i < js_urls.length; i++) {\n",
       "      var url = js_urls[i];\n",
       "      var element = document.createElement('script');\n",
       "      element.onload = on_load;\n",
       "      element.onerror = on_error;\n",
       "      element.async = false;\n",
       "      element.src = url;\n",
       "      console.debug(\"Bokeh: injecting script tag for BokehJS library: \", url);\n",
       "      document.head.appendChild(element);\n",
       "    }\n",
       "  };var element = document.getElementById(\"1001\");\n",
       "  if (element == null) {\n",
       "    console.error(\"Bokeh: ERROR: autoload.js configured with elementid '1001' but no matching script tag was found. \")\n",
       "    return false;\n",
       "  }\n",
       "\n",
       "  function inject_raw_css(css) {\n",
       "    const element = document.createElement(\"style\");\n",
       "    element.appendChild(document.createTextNode(css));\n",
       "    document.body.appendChild(element);\n",
       "  }\n",
       "\n",
       "  var js_urls = [\"https://cdn.pydata.org/bokeh/release/bokeh-1.2.0.min.js\", \"https://cdn.pydata.org/bokeh/release/bokeh-widgets-1.2.0.min.js\", \"https://cdn.pydata.org/bokeh/release/bokeh-tables-1.2.0.min.js\", \"https://cdn.pydata.org/bokeh/release/bokeh-gl-1.2.0.min.js\"];\n",
       "  var css_urls = [\"https://cdn.pydata.org/bokeh/release/bokeh-1.2.0.min.css\", \"https://cdn.pydata.org/bokeh/release/bokeh-widgets-1.2.0.min.css\", \"https://cdn.pydata.org/bokeh/release/bokeh-tables-1.2.0.min.css\"];\n",
       "\n",
       "  var inline_js = [\n",
       "    function(Bokeh) {\n",
       "      Bokeh.set_log_level(\"info\");\n",
       "    },\n",
       "    \n",
       "    function(Bokeh) {\n",
       "      \n",
       "    },\n",
       "    function(Bokeh) {} // ensure no trailing comma for IE\n",
       "  ];\n",
       "\n",
       "  function run_inline_js() {\n",
       "    \n",
       "    if ((root.Bokeh !== undefined) || (force === true)) {\n",
       "      for (var i = 0; i < inline_js.length; i++) {\n",
       "        inline_js[i].call(root, root.Bokeh);\n",
       "      }if (force === true) {\n",
       "        display_loaded();\n",
       "      }} else if (Date.now() < root._bokeh_timeout) {\n",
       "      setTimeout(run_inline_js, 100);\n",
       "    } else if (!root._bokeh_failed_load) {\n",
       "      console.log(\"Bokeh: BokehJS failed to load within specified timeout.\");\n",
       "      root._bokeh_failed_load = true;\n",
       "    } else if (force !== true) {\n",
       "      var cell = $(document.getElementById(\"1001\")).parents('.cell').data().cell;\n",
       "      cell.output_area.append_execute_result(NB_LOAD_WARNING)\n",
       "    }\n",
       "\n",
       "  }\n",
       "\n",
       "  if (root._bokeh_is_loading === 0) {\n",
       "    console.debug(\"Bokeh: BokehJS loaded, going straight to plotting\");\n",
       "    run_inline_js();\n",
       "  } else {\n",
       "    load_libs(css_urls, js_urls, function() {\n",
       "      console.debug(\"Bokeh: BokehJS plotting callback run at\", now());\n",
       "      run_inline_js();\n",
       "    });\n",
       "  }\n",
       "}(window));"
      ],
      "application/vnd.bokehjs_load.v0+json": "\n(function(root) {\n  function now() {\n    return new Date();\n  }\n\n  var force = true;\n\n  if (typeof root._bokeh_onload_callbacks === \"undefined\" || force === true) {\n    root._bokeh_onload_callbacks = [];\n    root._bokeh_is_loading = undefined;\n  }\n\n  \n\n  \n  if (typeof (root._bokeh_timeout) === \"undefined\" || force === true) {\n    root._bokeh_timeout = Date.now() + 5000;\n    root._bokeh_failed_load = false;\n  }\n\n  var NB_LOAD_WARNING = {'data': {'text/html':\n     \"<div style='background-color: #fdd'>\\n\"+\n     \"<p>\\n\"+\n     \"BokehJS does not appear to have successfully loaded. If loading BokehJS from CDN, this \\n\"+\n     \"may be due to a slow or bad network connection. Possible fixes:\\n\"+\n     \"</p>\\n\"+\n     \"<ul>\\n\"+\n     \"<li>re-rerun `output_notebook()` to attempt to load from CDN again, or</li>\\n\"+\n     \"<li>use INLINE resources instead, as so:</li>\\n\"+\n     \"</ul>\\n\"+\n     \"<code>\\n\"+\n     \"from bokeh.resources import INLINE\\n\"+\n     \"output_notebook(resources=INLINE)\\n\"+\n     \"</code>\\n\"+\n     \"</div>\"}};\n\n  function display_loaded() {\n    var el = document.getElementById(\"1001\");\n    if (el != null) {\n      el.textContent = \"BokehJS is loading...\";\n    }\n    if (root.Bokeh !== undefined) {\n      if (el != null) {\n        el.textContent = \"BokehJS \" + root.Bokeh.version + \" successfully loaded.\";\n      }\n    } else if (Date.now() < root._bokeh_timeout) {\n      setTimeout(display_loaded, 100)\n    }\n  }\n\n\n  function run_callbacks() {\n    try {\n      root._bokeh_onload_callbacks.forEach(function(callback) {\n        if (callback != null)\n          callback();\n      });\n    } finally {\n      delete root._bokeh_onload_callbacks\n    }\n    console.debug(\"Bokeh: all callbacks have finished\");\n  }\n\n  function load_libs(css_urls, js_urls, callback) {\n    if (css_urls == null) css_urls = [];\n    if (js_urls == null) js_urls = [];\n\n    root._bokeh_onload_callbacks.push(callback);\n    if (root._bokeh_is_loading > 0) {\n      console.debug(\"Bokeh: BokehJS is being loaded, scheduling callback at\", now());\n      return null;\n    }\n    if (js_urls == null || js_urls.length === 0) {\n      run_callbacks();\n      return null;\n    }\n    console.debug(\"Bokeh: BokehJS not loaded, scheduling load and callback at\", now());\n    root._bokeh_is_loading = css_urls.length + js_urls.length;\n\n    function on_load() {\n      root._bokeh_is_loading--;\n      if (root._bokeh_is_loading === 0) {\n        console.debug(\"Bokeh: all BokehJS libraries/stylesheets loaded\");\n        run_callbacks()\n      }\n    }\n\n    function on_error() {\n      console.error(\"failed to load \" + url);\n    }\n\n    for (var i = 0; i < css_urls.length; i++) {\n      var url = css_urls[i];\n      const element = document.createElement(\"link\");\n      element.onload = on_load;\n      element.onerror = on_error;\n      element.rel = \"stylesheet\";\n      element.type = \"text/css\";\n      element.href = url;\n      console.debug(\"Bokeh: injecting link tag for BokehJS stylesheet: \", url);\n      document.body.appendChild(element);\n    }\n\n    for (var i = 0; i < js_urls.length; i++) {\n      var url = js_urls[i];\n      var element = document.createElement('script');\n      element.onload = on_load;\n      element.onerror = on_error;\n      element.async = false;\n      element.src = url;\n      console.debug(\"Bokeh: injecting script tag for BokehJS library: \", url);\n      document.head.appendChild(element);\n    }\n  };var element = document.getElementById(\"1001\");\n  if (element == null) {\n    console.error(\"Bokeh: ERROR: autoload.js configured with elementid '1001' but no matching script tag was found. \")\n    return false;\n  }\n\n  function inject_raw_css(css) {\n    const element = document.createElement(\"style\");\n    element.appendChild(document.createTextNode(css));\n    document.body.appendChild(element);\n  }\n\n  var js_urls = [\"https://cdn.pydata.org/bokeh/release/bokeh-1.2.0.min.js\", \"https://cdn.pydata.org/bokeh/release/bokeh-widgets-1.2.0.min.js\", \"https://cdn.pydata.org/bokeh/release/bokeh-tables-1.2.0.min.js\", \"https://cdn.pydata.org/bokeh/release/bokeh-gl-1.2.0.min.js\"];\n  var css_urls = [\"https://cdn.pydata.org/bokeh/release/bokeh-1.2.0.min.css\", \"https://cdn.pydata.org/bokeh/release/bokeh-widgets-1.2.0.min.css\", \"https://cdn.pydata.org/bokeh/release/bokeh-tables-1.2.0.min.css\"];\n\n  var inline_js = [\n    function(Bokeh) {\n      Bokeh.set_log_level(\"info\");\n    },\n    \n    function(Bokeh) {\n      \n    },\n    function(Bokeh) {} // ensure no trailing comma for IE\n  ];\n\n  function run_inline_js() {\n    \n    if ((root.Bokeh !== undefined) || (force === true)) {\n      for (var i = 0; i < inline_js.length; i++) {\n        inline_js[i].call(root, root.Bokeh);\n      }if (force === true) {\n        display_loaded();\n      }} else if (Date.now() < root._bokeh_timeout) {\n      setTimeout(run_inline_js, 100);\n    } else if (!root._bokeh_failed_load) {\n      console.log(\"Bokeh: BokehJS failed to load within specified timeout.\");\n      root._bokeh_failed_load = true;\n    } else if (force !== true) {\n      var cell = $(document.getElementById(\"1001\")).parents('.cell').data().cell;\n      cell.output_area.append_execute_result(NB_LOAD_WARNING)\n    }\n\n  }\n\n  if (root._bokeh_is_loading === 0) {\n    console.debug(\"Bokeh: BokehJS loaded, going straight to plotting\");\n    run_inline_js();\n  } else {\n    load_libs(css_urls, js_urls, function() {\n      console.debug(\"Bokeh: BokehJS plotting callback run at\", now());\n      run_inline_js();\n    });\n  }\n}(window));"
     },
     "metadata": {},
     "output_type": "display_data"
    }
   ],
   "source": [
    "# configure the default output state to generate output in notebook cells when show() is called\n",
    "# in colab, output_notebook() is called in each cell (this is not always the case)\n",
    "output_notebook()"
   ]
  },
  {
   "cell_type": "markdown",
   "metadata": {},
   "source": [
    "# Basic plot with Bokeh "
   ]
  },
  {
   "cell_type": "code",
   "execution_count": 8,
   "metadata": {},
   "outputs": [
    {
     "data": {
      "text/plain": [
       "{'A': [1, 2, 3, 4, 5], 'B': [5, 4, 3, 2, 1], 'C': [1, 3, 5, 1, 2]}"
      ]
     },
     "execution_count": 8,
     "metadata": {},
     "output_type": "execute_result"
    }
   ],
   "source": [
    "from bokeh.models import ColumnDataSource\n",
    "\n",
    "column_data_source = ColumnDataSource({'A': [1, 2, 3, 4, 5],\n",
    "                                       'B': [5, 4, 3, 2, 1],\n",
    "                                       'C': [1, 3, 5, 1, 2]})\n",
    "\n",
    "column_data_source.data"
   ]
  },
  {
   "cell_type": "code",
   "execution_count": 9,
   "metadata": {},
   "outputs": [
    {
     "data": {
      "text/plain": [
       "bokeh.models.sources.ColumnDataSource"
      ]
     },
     "execution_count": 9,
     "metadata": {},
     "output_type": "execute_result"
    }
   ],
   "source": [
    "type(column_data_source)"
   ]
  },
  {
   "cell_type": "markdown",
   "metadata": {},
   "source": [
    "### Line Plot\n",
    "\n",
    "We can plot simple graphs from array using numpy:"
   ]
  },
  {
   "cell_type": "code",
   "execution_count": 10,
   "metadata": {},
   "outputs": [
    {
     "ename": "AttributeError",
     "evalue": "unexpected attribute 'legend_label' to Line, possible attributes are js_event_callbacks, js_property_callbacks, line_alpha, line_cap, line_color, line_dash, line_dash_offset, line_join, line_width, name, subscribed_events, tags, x or y",
     "output_type": "error",
     "traceback": [
      "\u001b[1;31m---------------------------------------------------------------------------\u001b[0m",
      "\u001b[1;31mAttributeError\u001b[0m                            Traceback (most recent call last)",
      "\u001b[1;32m<ipython-input-10-cb39fcdaf243>\u001b[0m in \u001b[0;36m<module>\u001b[1;34m\u001b[0m\n\u001b[0;32m      6\u001b[0m \u001b[1;31m# line plot\u001b[0m\u001b[1;33m\u001b[0m\u001b[1;33m\u001b[0m\u001b[1;33m\u001b[0m\u001b[0m\n\u001b[0;32m      7\u001b[0m \u001b[0mline_plot\u001b[0m \u001b[1;33m=\u001b[0m \u001b[0mfigure\u001b[0m\u001b[1;33m(\u001b[0m\u001b[0mplot_width\u001b[0m\u001b[1;33m=\u001b[0m\u001b[1;36m500\u001b[0m\u001b[1;33m,\u001b[0m \u001b[0mplot_height\u001b[0m\u001b[1;33m=\u001b[0m\u001b[1;36m325\u001b[0m\u001b[1;33m,\u001b[0m \u001b[0mtitle\u001b[0m\u001b[1;33m=\u001b[0m\u001b[1;34m'Line Plot'\u001b[0m\u001b[1;33m,\u001b[0m \u001b[0mx_axis_label\u001b[0m\u001b[1;33m=\u001b[0m\u001b[1;34m'x'\u001b[0m\u001b[1;33m,\u001b[0m \u001b[0my_axis_label\u001b[0m\u001b[1;33m=\u001b[0m\u001b[1;34m'y'\u001b[0m\u001b[1;33m)\u001b[0m\u001b[1;33m\u001b[0m\u001b[1;33m\u001b[0m\u001b[0m\n\u001b[1;32m----> 8\u001b[1;33m \u001b[0mline_plot\u001b[0m\u001b[1;33m.\u001b[0m\u001b[0mline\u001b[0m\u001b[1;33m(\u001b[0m\u001b[0mx_line\u001b[0m\u001b[1;33m,\u001b[0m \u001b[0my_line\u001b[0m\u001b[1;33m,\u001b[0m \u001b[0mlegend_label\u001b[0m\u001b[1;33m=\u001b[0m\u001b[1;34m'line'\u001b[0m\u001b[1;33m,\u001b[0m \u001b[0mline_width\u001b[0m\u001b[1;33m=\u001b[0m\u001b[1;36m2\u001b[0m\u001b[1;33m)\u001b[0m\u001b[1;33m\u001b[0m\u001b[1;33m\u001b[0m\u001b[0m\n\u001b[0m\u001b[0;32m      9\u001b[0m \u001b[1;33m\u001b[0m\u001b[0m\n\u001b[0;32m     10\u001b[0m \u001b[1;33m\u001b[0m\u001b[0m\n",
      "\u001b[1;32mfakesource\u001b[0m in \u001b[0;36mline\u001b[1;34m(self, x, y, **kwargs)\u001b[0m\n",
      "\u001b[1;32m~\\Anaconda3\\lib\\site-packages\\bokeh\\plotting\\helpers.py\u001b[0m in \u001b[0;36mfunc\u001b[1;34m(self, **kwargs)\u001b[0m\n\u001b[0;32m    855\u001b[0m             \u001b[0mmglyph_ca\u001b[0m \u001b[1;33m=\u001b[0m \u001b[1;32mNone\u001b[0m\u001b[1;33m\u001b[0m\u001b[1;33m\u001b[0m\u001b[0m\n\u001b[0;32m    856\u001b[0m \u001b[1;33m\u001b[0m\u001b[0m\n\u001b[1;32m--> 857\u001b[1;33m         \u001b[0mglyph\u001b[0m \u001b[1;33m=\u001b[0m \u001b[0m_make_glyph\u001b[0m\u001b[1;33m(\u001b[0m\u001b[0mglyphclass\u001b[0m\u001b[1;33m,\u001b[0m \u001b[0mkwargs\u001b[0m\u001b[1;33m,\u001b[0m \u001b[0mglyph_ca\u001b[0m\u001b[1;33m)\u001b[0m\u001b[1;33m\u001b[0m\u001b[1;33m\u001b[0m\u001b[0m\n\u001b[0m\u001b[0;32m    858\u001b[0m         \u001b[0mnsglyph\u001b[0m \u001b[1;33m=\u001b[0m \u001b[0m_make_glyph\u001b[0m\u001b[1;33m(\u001b[0m\u001b[0mglyphclass\u001b[0m\u001b[1;33m,\u001b[0m \u001b[0mkwargs\u001b[0m\u001b[1;33m,\u001b[0m \u001b[0mnsglyph_ca\u001b[0m\u001b[1;33m)\u001b[0m\u001b[1;33m\u001b[0m\u001b[1;33m\u001b[0m\u001b[0m\n\u001b[0;32m    859\u001b[0m         \u001b[0msglyph\u001b[0m \u001b[1;33m=\u001b[0m \u001b[0m_make_glyph\u001b[0m\u001b[1;33m(\u001b[0m\u001b[0mglyphclass\u001b[0m\u001b[1;33m,\u001b[0m \u001b[0mkwargs\u001b[0m\u001b[1;33m,\u001b[0m \u001b[0msglyph_ca\u001b[0m\u001b[1;33m)\u001b[0m\u001b[1;33m\u001b[0m\u001b[1;33m\u001b[0m\u001b[0m\n",
      "\u001b[1;32m~\\Anaconda3\\lib\\site-packages\\bokeh\\plotting\\helpers.py\u001b[0m in \u001b[0;36m_make_glyph\u001b[1;34m(glyphclass, kws, extra)\u001b[0m\n\u001b[0;32m    396\u001b[0m     \u001b[0mkws\u001b[0m \u001b[1;33m=\u001b[0m \u001b[0mkws\u001b[0m\u001b[1;33m.\u001b[0m\u001b[0mcopy\u001b[0m\u001b[1;33m(\u001b[0m\u001b[1;33m)\u001b[0m\u001b[1;33m\u001b[0m\u001b[1;33m\u001b[0m\u001b[0m\n\u001b[0;32m    397\u001b[0m     \u001b[0mkws\u001b[0m\u001b[1;33m.\u001b[0m\u001b[0mupdate\u001b[0m\u001b[1;33m(\u001b[0m\u001b[0mextra\u001b[0m\u001b[1;33m)\u001b[0m\u001b[1;33m\u001b[0m\u001b[1;33m\u001b[0m\u001b[0m\n\u001b[1;32m--> 398\u001b[1;33m     \u001b[1;32mreturn\u001b[0m \u001b[0mglyphclass\u001b[0m\u001b[1;33m(\u001b[0m\u001b[1;33m**\u001b[0m\u001b[0mkws\u001b[0m\u001b[1;33m)\u001b[0m\u001b[1;33m\u001b[0m\u001b[1;33m\u001b[0m\u001b[0m\n\u001b[0m\u001b[0;32m    399\u001b[0m \u001b[1;33m\u001b[0m\u001b[0m\n\u001b[0;32m    400\u001b[0m \u001b[1;33m\u001b[0m\u001b[0m\n",
      "\u001b[1;32m~\\Anaconda3\\lib\\site-packages\\bokeh\\model.py\u001b[0m in \u001b[0;36m__init__\u001b[1;34m(self, **kwargs)\u001b[0m\n\u001b[0;32m    305\u001b[0m         \u001b[0mkwargs\u001b[0m\u001b[1;33m.\u001b[0m\u001b[0mpop\u001b[0m\u001b[1;33m(\u001b[0m\u001b[1;34m\"id\"\u001b[0m\u001b[1;33m,\u001b[0m \u001b[1;32mNone\u001b[0m\u001b[1;33m)\u001b[0m\u001b[1;33m\u001b[0m\u001b[1;33m\u001b[0m\u001b[0m\n\u001b[0;32m    306\u001b[0m \u001b[1;33m\u001b[0m\u001b[0m\n\u001b[1;32m--> 307\u001b[1;33m         \u001b[0msuper\u001b[0m\u001b[1;33m(\u001b[0m\u001b[0mModel\u001b[0m\u001b[1;33m,\u001b[0m \u001b[0mself\u001b[0m\u001b[1;33m)\u001b[0m\u001b[1;33m.\u001b[0m\u001b[0m__init__\u001b[0m\u001b[1;33m(\u001b[0m\u001b[1;33m**\u001b[0m\u001b[0mkwargs\u001b[0m\u001b[1;33m)\u001b[0m\u001b[1;33m\u001b[0m\u001b[1;33m\u001b[0m\u001b[0m\n\u001b[0m\u001b[0;32m    308\u001b[0m         \u001b[0mdefault_theme\u001b[0m\u001b[1;33m.\u001b[0m\u001b[0mapply_to_model\u001b[0m\u001b[1;33m(\u001b[0m\u001b[0mself\u001b[0m\u001b[1;33m)\u001b[0m\u001b[1;33m\u001b[0m\u001b[1;33m\u001b[0m\u001b[0m\n\u001b[0;32m    309\u001b[0m \u001b[1;33m\u001b[0m\u001b[0m\n",
      "\u001b[1;32m~\\Anaconda3\\lib\\site-packages\\bokeh\\core\\has_props.py\u001b[0m in \u001b[0;36m__init__\u001b[1;34m(self, **properties)\u001b[0m\n\u001b[0;32m    251\u001b[0m \u001b[1;33m\u001b[0m\u001b[0m\n\u001b[0;32m    252\u001b[0m         \u001b[1;32mfor\u001b[0m \u001b[0mname\u001b[0m\u001b[1;33m,\u001b[0m \u001b[0mvalue\u001b[0m \u001b[1;32min\u001b[0m \u001b[0mproperties\u001b[0m\u001b[1;33m.\u001b[0m\u001b[0mitems\u001b[0m\u001b[1;33m(\u001b[0m\u001b[1;33m)\u001b[0m\u001b[1;33m:\u001b[0m\u001b[1;33m\u001b[0m\u001b[1;33m\u001b[0m\u001b[0m\n\u001b[1;32m--> 253\u001b[1;33m             \u001b[0msetattr\u001b[0m\u001b[1;33m(\u001b[0m\u001b[0mself\u001b[0m\u001b[1;33m,\u001b[0m \u001b[0mname\u001b[0m\u001b[1;33m,\u001b[0m \u001b[0mvalue\u001b[0m\u001b[1;33m)\u001b[0m\u001b[1;33m\u001b[0m\u001b[1;33m\u001b[0m\u001b[0m\n\u001b[0m\u001b[0;32m    254\u001b[0m \u001b[1;33m\u001b[0m\u001b[0m\n\u001b[0;32m    255\u001b[0m     \u001b[1;32mdef\u001b[0m \u001b[0m__setattr__\u001b[0m\u001b[1;33m(\u001b[0m\u001b[0mself\u001b[0m\u001b[1;33m,\u001b[0m \u001b[0mname\u001b[0m\u001b[1;33m,\u001b[0m \u001b[0mvalue\u001b[0m\u001b[1;33m)\u001b[0m\u001b[1;33m:\u001b[0m\u001b[1;33m\u001b[0m\u001b[1;33m\u001b[0m\u001b[0m\n",
      "\u001b[1;32m~\\Anaconda3\\lib\\site-packages\\bokeh\\core\\has_props.py\u001b[0m in \u001b[0;36m__setattr__\u001b[1;34m(self, name, value)\u001b[0m\n\u001b[0;32m    286\u001b[0m \u001b[1;33m\u001b[0m\u001b[0m\n\u001b[0;32m    287\u001b[0m             raise AttributeError(\"unexpected attribute '%s' to %s, %s attributes are %s\" %\n\u001b[1;32m--> 288\u001b[1;33m                 (name, self.__class__.__name__, text, nice_join(matches)))\n\u001b[0m\u001b[0;32m    289\u001b[0m \u001b[1;33m\u001b[0m\u001b[0m\n\u001b[0;32m    290\u001b[0m     \u001b[1;32mdef\u001b[0m \u001b[0m__str__\u001b[0m\u001b[1;33m(\u001b[0m\u001b[0mself\u001b[0m\u001b[1;33m)\u001b[0m\u001b[1;33m:\u001b[0m\u001b[1;33m\u001b[0m\u001b[1;33m\u001b[0m\u001b[0m\n",
      "\u001b[1;31mAttributeError\u001b[0m: unexpected attribute 'legend_label' to Line, possible attributes are js_event_callbacks, js_property_callbacks, line_alpha, line_cap, line_color, line_dash, line_dash_offset, line_join, line_width, name, subscribed_events, tags, x or y"
     ]
    }
   ],
   "source": [
    "# data\n",
    "x_line = np.arange(10)\n",
    "y_line = np.random.rand(10)\n",
    "\n",
    "\n",
    "# line plot\n",
    "line_plot = figure(plot_width=500, plot_height=325, title='Line Plot', x_axis_label='x', y_axis_label='y')\n",
    "line_plot.line(x_line, y_line, legend_label='line', line_width=2)\n",
    "\n",
    "\n",
    "# another way to set axis labels\n",
    "# line_plot.xaxis.axis_label = 'x-axis'\n",
    "# line_plot.yaxis.axis_label = 'y-axis'\n",
    "\n",
    "show(line_plot)"
   ]
  },
  {
   "cell_type": "markdown",
   "metadata": {},
   "source": [
    "Multiple lines plots ("
   ]
  },
  {
   "cell_type": "code",
   "execution_count": 22,
   "metadata": {},
   "outputs": [
    {
     "data": {
      "text/html": [
       "\n",
       "\n",
       "\n",
       "\n",
       "\n",
       "\n",
       "  <div class=\"bk-root\" id=\"210b0278-fe3e-40a7-9b03-3cbede02a7a0\" data-root-id=\"1444\"></div>\n"
      ]
     },
     "metadata": {},
     "output_type": "display_data"
    },
    {
     "data": {
      "application/javascript": [
       "(function(root) {\n",
       "  function embed_document(root) {\n",
       "    \n",
       "  var docs_json = {\"ceef199d-1672-4073-b13f-507029320475\":{\"roots\":{\"references\":[{\"attributes\":{\"below\":[{\"id\":\"1453\",\"type\":\"LinearAxis\"}],\"center\":[{\"id\":\"1457\",\"type\":\"Grid\"},{\"id\":\"1462\",\"type\":\"Grid\"},{\"id\":\"1488\",\"type\":\"Legend\"}],\"left\":[{\"id\":\"1458\",\"type\":\"LinearAxis\"}],\"plot_height\":300,\"plot_width\":500,\"renderers\":[{\"id\":\"1479\",\"type\":\"GlyphRenderer\"},{\"id\":\"1493\",\"type\":\"GlyphRenderer\"},{\"id\":\"1508\",\"type\":\"GlyphRenderer\"}],\"title\":{\"id\":\"1481\",\"type\":\"Title\"},\"toolbar\":{\"id\":\"1469\",\"type\":\"Toolbar\"},\"toolbar_location\":\"below\",\"x_range\":{\"id\":\"1445\",\"type\":\"DataRange1d\"},\"x_scale\":{\"id\":\"1449\",\"type\":\"LinearScale\"},\"y_range\":{\"id\":\"1447\",\"type\":\"DataRange1d\"},\"y_scale\":{\"id\":\"1451\",\"type\":\"LinearScale\"}},\"id\":\"1444\",\"subtype\":\"Figure\",\"type\":\"Plot\"},{\"attributes\":{\"source\":{\"id\":\"1505\",\"type\":\"ColumnDataSource\"}},\"id\":\"1509\",\"type\":\"CDSView\"},{\"attributes\":{},\"id\":\"1486\",\"type\":\"BasicTickFormatter\"},{\"attributes\":{\"line_color\":\"red\",\"line_width\":3,\"x\":{\"field\":\"x\"},\"y\":{\"field\":\"y\"}},\"id\":\"1477\",\"type\":\"Line\"},{\"attributes\":{},\"id\":\"1518\",\"type\":\"UnionRenderers\"},{\"attributes\":{\"source\":{\"id\":\"1476\",\"type\":\"ColumnDataSource\"}},\"id\":\"1480\",\"type\":\"CDSView\"},{\"attributes\":{},\"id\":\"1519\",\"type\":\"Selection\"},{\"attributes\":{\"label\":{\"value\":\"3\"},\"renderers\":[{\"id\":\"1508\",\"type\":\"GlyphRenderer\"}]},\"id\":\"1521\",\"type\":\"LegendItem\"},{\"attributes\":{\"bottom_units\":\"screen\",\"fill_alpha\":{\"value\":0.5},\"fill_color\":{\"value\":\"lightgrey\"},\"left_units\":\"screen\",\"level\":\"overlay\",\"line_alpha\":{\"value\":1.0},\"line_color\":{\"value\":\"black\"},\"line_dash\":[4,4],\"line_width\":{\"value\":2},\"render_mode\":\"css\",\"right_units\":\"screen\",\"top_units\":\"screen\"},\"id\":\"1487\",\"type\":\"BoxAnnotation\"},{\"attributes\":{},\"id\":\"1484\",\"type\":\"BasicTickFormatter\"},{\"attributes\":{},\"id\":\"1463\",\"type\":\"PanTool\"},{\"attributes\":{\"data_source\":{\"id\":\"1476\",\"type\":\"ColumnDataSource\"},\"glyph\":{\"id\":\"1477\",\"type\":\"Line\"},\"hover_glyph\":null,\"muted_glyph\":null,\"nonselection_glyph\":{\"id\":\"1478\",\"type\":\"Line\"},\"selection_glyph\":null,\"view\":{\"id\":\"1480\",\"type\":\"CDSView\"}},\"id\":\"1479\",\"type\":\"GlyphRenderer\"},{\"attributes\":{\"items\":[{\"id\":\"1489\",\"type\":\"LegendItem\"},{\"id\":\"1504\",\"type\":\"LegendItem\"},{\"id\":\"1521\",\"type\":\"LegendItem\"}]},\"id\":\"1488\",\"type\":\"Legend\"},{\"attributes\":{},\"id\":\"1451\",\"type\":\"LinearScale\"},{\"attributes\":{},\"id\":\"1561\",\"type\":\"UnionRenderers\"},{\"attributes\":{\"label\":{\"value\":\"1\"},\"renderers\":[{\"id\":\"1479\",\"type\":\"GlyphRenderer\"}]},\"id\":\"1489\",\"type\":\"LegendItem\"},{\"attributes\":{\"callback\":null},\"id\":\"1447\",\"type\":\"DataRange1d\"},{\"attributes\":{\"formatter\":{\"id\":\"1486\",\"type\":\"BasicTickFormatter\"},\"ticker\":{\"id\":\"1454\",\"type\":\"BasicTicker\"}},\"id\":\"1453\",\"type\":\"LinearAxis\"},{\"attributes\":{},\"id\":\"1562\",\"type\":\"Selection\"},{\"attributes\":{\"callback\":null,\"data\":{\"x\":{\"__ndarray__\":\"AAAAAAEAAAACAAAAAwAAAAQAAAAFAAAABgAAAAcAAAAIAAAACQAAAA==\",\"dtype\":\"int32\",\"shape\":[10]},\"y\":{\"__ndarray__\":\"sCrfqR6+3z/I3Eq4fIrIP6IwiGRquuc/Dq6aXsBg1j8YLBOnndTPP5DDPO7AENw/kwh8Ot+z4z9A39P1fRmmPwRpXwU++8w/HkH5awBn1z8=\",\"dtype\":\"float64\",\"shape\":[10]}},\"selected\":{\"id\":\"1562\",\"type\":\"Selection\"},\"selection_policy\":{\"id\":\"1561\",\"type\":\"UnionRenderers\"}},\"id\":\"1505\",\"type\":\"ColumnDataSource\"},{\"attributes\":{},\"id\":\"1466\",\"type\":\"SaveTool\"},{\"attributes\":{\"line_color\":\"blue\",\"line_width\":5,\"x\":{\"field\":\"x\"},\"y\":{\"field\":\"y\"}},\"id\":\"1491\",\"type\":\"Line\"},{\"attributes\":{},\"id\":\"1449\",\"type\":\"LinearScale\"},{\"attributes\":{},\"id\":\"1468\",\"type\":\"HelpTool\"},{\"attributes\":{\"line_alpha\":0.1,\"line_color\":\"#1f77b4\",\"line_width\":5,\"x\":{\"field\":\"x\"},\"y\":{\"field\":\"y\"}},\"id\":\"1492\",\"type\":\"Line\"},{\"attributes\":{},\"id\":\"1464\",\"type\":\"WheelZoomTool\"},{\"attributes\":{\"formatter\":{\"id\":\"1484\",\"type\":\"BasicTickFormatter\"},\"ticker\":{\"id\":\"1459\",\"type\":\"BasicTicker\"}},\"id\":\"1458\",\"type\":\"LinearAxis\"},{\"attributes\":{\"callback\":null},\"id\":\"1445\",\"type\":\"DataRange1d\"},{\"attributes\":{\"data_source\":{\"id\":\"1490\",\"type\":\"ColumnDataSource\"},\"glyph\":{\"id\":\"1491\",\"type\":\"Line\"},\"hover_glyph\":null,\"muted_glyph\":null,\"nonselection_glyph\":{\"id\":\"1492\",\"type\":\"Line\"},\"selection_glyph\":null,\"view\":{\"id\":\"1494\",\"type\":\"CDSView\"}},\"id\":\"1493\",\"type\":\"GlyphRenderer\"},{\"attributes\":{},\"id\":\"1454\",\"type\":\"BasicTicker\"},{\"attributes\":{\"source\":{\"id\":\"1490\",\"type\":\"ColumnDataSource\"}},\"id\":\"1494\",\"type\":\"CDSView\"},{\"attributes\":{},\"id\":\"1467\",\"type\":\"ResetTool\"},{\"attributes\":{\"text\":\"\"},\"id\":\"1481\",\"type\":\"Title\"},{\"attributes\":{},\"id\":\"1501\",\"type\":\"UnionRenderers\"},{\"attributes\":{\"overlay\":{\"id\":\"1487\",\"type\":\"BoxAnnotation\"}},\"id\":\"1465\",\"type\":\"BoxZoomTool\"},{\"attributes\":{},\"id\":\"1502\",\"type\":\"Selection\"},{\"attributes\":{\"label\":{\"value\":\"2\"},\"renderers\":[{\"id\":\"1493\",\"type\":\"GlyphRenderer\"}]},\"id\":\"1504\",\"type\":\"LegendItem\"},{\"attributes\":{\"ticker\":{\"id\":\"1454\",\"type\":\"BasicTicker\"}},\"id\":\"1457\",\"type\":\"Grid\"},{\"attributes\":{\"line_color\":\"green\",\"line_width\":0.5,\"x\":{\"field\":\"x\"},\"y\":{\"field\":\"y\"}},\"id\":\"1506\",\"type\":\"Line\"},{\"attributes\":{},\"id\":\"1459\",\"type\":\"BasicTicker\"},{\"attributes\":{\"active_drag\":\"auto\",\"active_inspect\":\"auto\",\"active_multi\":null,\"active_scroll\":\"auto\",\"active_tap\":\"auto\",\"tools\":[{\"id\":\"1463\",\"type\":\"PanTool\"},{\"id\":\"1464\",\"type\":\"WheelZoomTool\"},{\"id\":\"1465\",\"type\":\"BoxZoomTool\"},{\"id\":\"1466\",\"type\":\"SaveTool\"},{\"id\":\"1467\",\"type\":\"ResetTool\"},{\"id\":\"1468\",\"type\":\"HelpTool\"}]},\"id\":\"1469\",\"type\":\"Toolbar\"},{\"attributes\":{\"callback\":null,\"data\":{\"x\":{\"__ndarray__\":\"AAAAAAEAAAACAAAAAwAAAAQAAAAFAAAABgAAAAcAAAAIAAAACQAAAA==\",\"dtype\":\"int32\",\"shape\":[10]},\"y\":{\"__ndarray__\":\"iiYP6+V/4z8m6hRpVEjYP0YHisEuQ+Q/0G+rweEfxT+pu0r73dThP/BxWxfI6Kg/zisWmWKO1D9Opb7RsofRPyiTs1dDdsY/J8PELKAm6z8=\",\"dtype\":\"float64\",\"shape\":[10]}},\"selected\":{\"id\":\"1502\",\"type\":\"Selection\"},\"selection_policy\":{\"id\":\"1501\",\"type\":\"UnionRenderers\"}},\"id\":\"1476\",\"type\":\"ColumnDataSource\"},{\"attributes\":{\"callback\":null,\"data\":{\"x\":{\"__ndarray__\":\"AAAAAAEAAAACAAAAAwAAAAQAAAAFAAAABgAAAAcAAAAIAAAACQAAAA==\",\"dtype\":\"int32\",\"shape\":[10]},\"y\":{\"__ndarray__\":\"bCxc4EMmwj+mHj1e7rbbP/WB51Y5BeU//LS5jpZh3j8MZLCOnjnMP0Xy6994Bu4/ZUn8J+Pn4z+Ui5osqtfjP+F8ehzbNOw/fZ8qYbzO7z8=\",\"dtype\":\"float64\",\"shape\":[10]}},\"selected\":{\"id\":\"1519\",\"type\":\"Selection\"},\"selection_policy\":{\"id\":\"1518\",\"type\":\"UnionRenderers\"}},\"id\":\"1490\",\"type\":\"ColumnDataSource\"},{\"attributes\":{\"line_alpha\":0.1,\"line_color\":\"#1f77b4\",\"line_width\":0.5,\"x\":{\"field\":\"x\"},\"y\":{\"field\":\"y\"}},\"id\":\"1507\",\"type\":\"Line\"},{\"attributes\":{\"line_alpha\":0.1,\"line_color\":\"#1f77b4\",\"line_width\":3,\"x\":{\"field\":\"x\"},\"y\":{\"field\":\"y\"}},\"id\":\"1478\",\"type\":\"Line\"},{\"attributes\":{\"data_source\":{\"id\":\"1505\",\"type\":\"ColumnDataSource\"},\"glyph\":{\"id\":\"1506\",\"type\":\"Line\"},\"hover_glyph\":null,\"muted_glyph\":null,\"nonselection_glyph\":{\"id\":\"1507\",\"type\":\"Line\"},\"selection_glyph\":null,\"view\":{\"id\":\"1509\",\"type\":\"CDSView\"}},\"id\":\"1508\",\"type\":\"GlyphRenderer\"},{\"attributes\":{\"dimension\":1,\"ticker\":{\"id\":\"1459\",\"type\":\"BasicTicker\"}},\"id\":\"1462\",\"type\":\"Grid\"}],\"root_ids\":[\"1444\"]},\"title\":\"Bokeh Application\",\"version\":\"1.2.0\"}};\n",
       "  var render_items = [{\"docid\":\"ceef199d-1672-4073-b13f-507029320475\",\"roots\":{\"1444\":\"210b0278-fe3e-40a7-9b03-3cbede02a7a0\"}}];\n",
       "  root.Bokeh.embed.embed_items_notebook(docs_json, render_items);\n",
       "\n",
       "  }\n",
       "  if (root.Bokeh !== undefined) {\n",
       "    embed_document(root);\n",
       "  } else {\n",
       "    var attempts = 0;\n",
       "    var timer = setInterval(function(root) {\n",
       "      if (root.Bokeh !== undefined) {\n",
       "        embed_document(root);\n",
       "        clearInterval(timer);\n",
       "      }\n",
       "      attempts++;\n",
       "      if (attempts > 100) {\n",
       "        console.log(\"Bokeh: ERROR: Unable to run BokehJS code because BokehJS library is missing\");\n",
       "        clearInterval(timer);\n",
       "      }\n",
       "    }, 10, root)\n",
       "  }\n",
       "})(window);"
      ],
      "application/vnd.bokehjs_exec.v0+json": ""
     },
     "metadata": {
      "application/vnd.bokehjs_exec.v0+json": {
       "id": "1444"
      }
     },
     "output_type": "display_data"
    }
   ],
   "source": [
    "# data\n",
    "multi_line_x = np.arange(10)\n",
    "multi_line_y1 = np.random.rand(10)\n",
    "multi_line_y2 = np.random.rand(10)\n",
    "multi_line_y3 = np.random.rand(10)\n",
    "\n",
    "# plot \n",
    "multi_line_plot = figure(plot_width=500, plot_height=300, toolbar_location='below')\n",
    "multi_line_plot.line(multi_line_x, multi_line_y1, legend = '1', color='red', line_width=3)\n",
    "multi_line_plot.line(multi_line_x, multi_line_y2, legend = '2', color='blue', line_width=5)\n",
    "multi_line_plot.line(multi_line_x, multi_line_y3, legend = '3', color='green', line_width=0.5)\n",
    "show(multi_line_plot)"
   ]
  },
  {
   "cell_type": "markdown",
   "metadata": {},
   "source": [
    "### Stacked Bar Charts\n",
    "\n",
    "It is possible to convert dataframe into ColumnDataSource to plot chart.\n",
    "(appears to work fine with dataframe or column data source converted dataframe but if dataframe does not work, use column data source)"
   ]
  },
  {
   "cell_type": "code",
   "execution_count": 23,
   "metadata": {},
   "outputs": [
    {
     "data": {
      "text/html": [
       "\n",
       "\n",
       "\n",
       "\n",
       "\n",
       "\n",
       "  <div class=\"bk-root\" id=\"19a0c2c9-6619-4487-be1f-de7f94268cd8\" data-root-id=\"1643\"></div>\n"
      ]
     },
     "metadata": {},
     "output_type": "display_data"
    },
    {
     "data": {
      "application/javascript": [
       "(function(root) {\n",
       "  function embed_document(root) {\n",
       "    \n",
       "  var docs_json = {\"2a315f03-87e6-4859-9608-8157227fe8d3\":{\"roots\":{\"references\":[{\"attributes\":{\"below\":[{\"id\":\"1654\",\"type\":\"LinearAxis\"}],\"center\":[{\"id\":\"1658\",\"type\":\"Grid\"},{\"id\":\"1663\",\"type\":\"Grid\"}],\"left\":[{\"id\":\"1659\",\"type\":\"LinearAxis\"}],\"plot_height\":300,\"renderers\":[{\"id\":\"1684\",\"type\":\"GlyphRenderer\"},{\"id\":\"1689\",\"type\":\"GlyphRenderer\"}],\"title\":{\"id\":\"1644\",\"type\":\"Title\"},\"toolbar\":{\"id\":\"1670\",\"type\":\"Toolbar\"},\"x_range\":{\"id\":\"1646\",\"type\":\"DataRange1d\"},\"x_scale\":{\"id\":\"1650\",\"type\":\"LinearScale\"},\"y_range\":{\"id\":\"1648\",\"type\":\"DataRange1d\"},\"y_scale\":{\"id\":\"1652\",\"type\":\"LinearScale\"}},\"id\":\"1643\",\"subtype\":\"Figure\",\"type\":\"Plot\"},{\"attributes\":{\"data_source\":{\"id\":\"1642\",\"type\":\"ColumnDataSource\"},\"glyph\":{\"id\":\"1687\",\"type\":\"HBar\"},\"hover_glyph\":null,\"muted_glyph\":null,\"name\":\"x2\",\"nonselection_glyph\":{\"id\":\"1688\",\"type\":\"HBar\"},\"selection_glyph\":null,\"view\":{\"id\":\"1690\",\"type\":\"CDSView\"}},\"id\":\"1689\",\"type\":\"GlyphRenderer\"},{\"attributes\":{\"fields\":[\"x1\"]},\"id\":\"1679\",\"type\":\"Stack\"},{\"attributes\":{\"source\":{\"id\":\"1642\",\"type\":\"ColumnDataSource\"}},\"id\":\"1690\",\"type\":\"CDSView\"},{\"attributes\":{\"fields\":[\"x1\"]},\"id\":\"1678\",\"type\":\"Stack\"},{\"attributes\":{\"fields\":[\"x1\",\"x2\"]},\"id\":\"1680\",\"type\":\"Stack\"},{\"attributes\":{},\"id\":\"1664\",\"type\":\"PanTool\"},{\"attributes\":{\"callback\":null},\"id\":\"1646\",\"type\":\"DataRange1d\"},{\"attributes\":{},\"id\":\"1665\",\"type\":\"WheelZoomTool\"},{\"attributes\":{},\"id\":\"1738\",\"type\":\"UnionRenderers\"},{\"attributes\":{\"overlay\":{\"id\":\"1740\",\"type\":\"BoxAnnotation\"}},\"id\":\"1666\",\"type\":\"BoxZoomTool\"},{\"attributes\":{},\"id\":\"1739\",\"type\":\"Selection\"},{\"attributes\":{},\"id\":\"1667\",\"type\":\"SaveTool\"},{\"attributes\":{\"bottom_units\":\"screen\",\"fill_alpha\":{\"value\":0.5},\"fill_color\":{\"value\":\"lightgrey\"},\"left_units\":\"screen\",\"level\":\"overlay\",\"line_alpha\":{\"value\":1.0},\"line_color\":{\"value\":\"black\"},\"line_dash\":[4,4],\"line_width\":{\"value\":2},\"render_mode\":\"css\",\"right_units\":\"screen\",\"top_units\":\"screen\"},\"id\":\"1740\",\"type\":\"BoxAnnotation\"},{\"attributes\":{\"dimension\":1,\"ticker\":{\"id\":\"1660\",\"type\":\"BasicTicker\"}},\"id\":\"1663\",\"type\":\"Grid\"},{\"attributes\":{},\"id\":\"1668\",\"type\":\"ResetTool\"},{\"attributes\":{\"formatter\":{\"id\":\"1737\",\"type\":\"BasicTickFormatter\"},\"ticker\":{\"id\":\"1655\",\"type\":\"BasicTicker\"}},\"id\":\"1654\",\"type\":\"LinearAxis\"},{\"attributes\":{},\"id\":\"1655\",\"type\":\"BasicTicker\"},{\"attributes\":{},\"id\":\"1660\",\"type\":\"BasicTicker\"},{\"attributes\":{},\"id\":\"1669\",\"type\":\"HelpTool\"},{\"attributes\":{\"active_drag\":\"auto\",\"active_inspect\":\"auto\",\"active_multi\":null,\"active_scroll\":\"auto\",\"active_tap\":\"auto\",\"tools\":[{\"id\":\"1664\",\"type\":\"PanTool\"},{\"id\":\"1665\",\"type\":\"WheelZoomTool\"},{\"id\":\"1666\",\"type\":\"BoxZoomTool\"},{\"id\":\"1667\",\"type\":\"SaveTool\"},{\"id\":\"1668\",\"type\":\"ResetTool\"},{\"id\":\"1669\",\"type\":\"HelpTool\"}]},\"id\":\"1670\",\"type\":\"Toolbar\"},{\"attributes\":{\"fields\":[]},\"id\":\"1677\",\"type\":\"Stack\"},{\"attributes\":{\"text\":\"stacked bar chart\"},\"id\":\"1644\",\"type\":\"Title\"},{\"attributes\":{\"callback\":null},\"id\":\"1648\",\"type\":\"DataRange1d\"},{\"attributes\":{\"fill_alpha\":{\"value\":0.1},\"fill_color\":{\"value\":\"#1f77b4\"},\"height\":{\"value\":0.8},\"left\":{\"expr\":{\"id\":\"1677\",\"type\":\"Stack\"}},\"line_alpha\":{\"value\":0.1},\"line_color\":{\"value\":\"#1f77b4\"},\"right\":{\"expr\":{\"id\":\"1678\",\"type\":\"Stack\"}},\"y\":{\"field\":\"y\"}},\"id\":\"1683\",\"type\":\"HBar\"},{\"attributes\":{\"ticker\":{\"id\":\"1655\",\"type\":\"BasicTicker\"}},\"id\":\"1658\",\"type\":\"Grid\"},{\"attributes\":{\"fill_color\":{\"value\":\"grey\"},\"height\":{\"value\":0.8},\"left\":{\"expr\":{\"id\":\"1677\",\"type\":\"Stack\"}},\"line_color\":{\"value\":\"grey\"},\"right\":{\"expr\":{\"id\":\"1678\",\"type\":\"Stack\"}},\"y\":{\"field\":\"y\"}},\"id\":\"1682\",\"type\":\"HBar\"},{\"attributes\":{},\"id\":\"1650\",\"type\":\"LinearScale\"},{\"attributes\":{},\"id\":\"1737\",\"type\":\"BasicTickFormatter\"},{\"attributes\":{\"data_source\":{\"id\":\"1642\",\"type\":\"ColumnDataSource\"},\"glyph\":{\"id\":\"1682\",\"type\":\"HBar\"},\"hover_glyph\":null,\"muted_glyph\":null,\"name\":\"x1\",\"nonselection_glyph\":{\"id\":\"1683\",\"type\":\"HBar\"},\"selection_glyph\":null,\"view\":{\"id\":\"1685\",\"type\":\"CDSView\"}},\"id\":\"1684\",\"type\":\"GlyphRenderer\"},{\"attributes\":{\"callback\":null,\"data\":{\"index\":[0,1,2,3,4],\"x1\":[1,2,4,3,4],\"x2\":[1,4,2,2,3],\"y\":[1,2,3,4,5]},\"selected\":{\"id\":\"1739\",\"type\":\"Selection\"},\"selection_policy\":{\"id\":\"1738\",\"type\":\"UnionRenderers\"}},\"id\":\"1642\",\"type\":\"ColumnDataSource\"},{\"attributes\":{\"formatter\":{\"id\":\"1735\",\"type\":\"BasicTickFormatter\"},\"ticker\":{\"id\":\"1660\",\"type\":\"BasicTicker\"}},\"id\":\"1659\",\"type\":\"LinearAxis\"},{\"attributes\":{},\"id\":\"1652\",\"type\":\"LinearScale\"},{\"attributes\":{},\"id\":\"1735\",\"type\":\"BasicTickFormatter\"},{\"attributes\":{\"source\":{\"id\":\"1642\",\"type\":\"ColumnDataSource\"}},\"id\":\"1685\",\"type\":\"CDSView\"},{\"attributes\":{\"fill_color\":{\"value\":\"lightgrey\"},\"height\":{\"value\":0.8},\"left\":{\"expr\":{\"id\":\"1679\",\"type\":\"Stack\"}},\"line_color\":{\"value\":\"lightgrey\"},\"right\":{\"expr\":{\"id\":\"1680\",\"type\":\"Stack\"}},\"y\":{\"field\":\"y\"}},\"id\":\"1687\",\"type\":\"HBar\"},{\"attributes\":{\"fill_alpha\":{\"value\":0.1},\"fill_color\":{\"value\":\"#1f77b4\"},\"height\":{\"value\":0.8},\"left\":{\"expr\":{\"id\":\"1679\",\"type\":\"Stack\"}},\"line_alpha\":{\"value\":0.1},\"line_color\":{\"value\":\"#1f77b4\"},\"right\":{\"expr\":{\"id\":\"1680\",\"type\":\"Stack\"}},\"y\":{\"field\":\"y\"}},\"id\":\"1688\",\"type\":\"HBar\"}],\"root_ids\":[\"1643\"]},\"title\":\"Bokeh Application\",\"version\":\"1.2.0\"}};\n",
       "  var render_items = [{\"docid\":\"2a315f03-87e6-4859-9608-8157227fe8d3\",\"roots\":{\"1643\":\"19a0c2c9-6619-4487-be1f-de7f94268cd8\"}}];\n",
       "  root.Bokeh.embed.embed_items_notebook(docs_json, render_items);\n",
       "\n",
       "  }\n",
       "  if (root.Bokeh !== undefined) {\n",
       "    embed_document(root);\n",
       "  } else {\n",
       "    var attempts = 0;\n",
       "    var timer = setInterval(function(root) {\n",
       "      if (root.Bokeh !== undefined) {\n",
       "        embed_document(root);\n",
       "        clearInterval(timer);\n",
       "      }\n",
       "      attempts++;\n",
       "      if (attempts > 100) {\n",
       "        console.log(\"Bokeh: ERROR: Unable to run BokehJS code because BokehJS library is missing\");\n",
       "        clearInterval(timer);\n",
       "      }\n",
       "    }, 10, root)\n",
       "  }\n",
       "})(window);"
      ],
      "application/vnd.bokehjs_exec.v0+json": ""
     },
     "metadata": {
      "application/vnd.bokehjs_exec.v0+json": {
       "id": "1643"
      }
     },
     "output_type": "display_data"
    }
   ],
   "source": [
    "stacked_bar_df = pd.DataFrame({'y': [1, 2, 3, 4, 5],\n",
    "                               'x1': [1, 2, 4, 3, 4],\n",
    "                               'x2': [1, 4, 2, 2, 3]})\n",
    "\n",
    "cds_stacked_bar_df = ColumnDataSource(stacked_bar_df)\n",
    "\n",
    "stacked_bar_chart = figure(plot_width=600, plot_height=300, title='stacked bar chart')\n",
    "\n",
    "stacked_bar_chart.hbar_stack(['x1', 'x2'], \n",
    "                             y='y', \n",
    "                             height=0.8, \n",
    "                             color=('grey', 'lightgrey'), \n",
    "                             source=cds_stacked_bar_df)\n",
    "\n",
    "show(stacked_bar_chart)"
   ]
  },
  {
   "cell_type": "markdown",
   "metadata": {},
   "source": [
    "### Grouped bar chart"
   ]
  },
  {
   "cell_type": "code",
   "execution_count": 24,
   "metadata": {},
   "outputs": [
    {
     "data": {
      "text/html": [
       "\n",
       "\n",
       "\n",
       "\n",
       "\n",
       "\n",
       "  <div class=\"bk-root\" id=\"080e170a-0826-4db3-b637-2280f3b0a3ee\" data-root-id=\"1789\"></div>\n"
      ]
     },
     "metadata": {},
     "output_type": "display_data"
    },
    {
     "data": {
      "application/javascript": [
       "(function(root) {\n",
       "  function embed_document(root) {\n",
       "    \n",
       "  var docs_json = {\"94ba49b6-6fd4-4f3b-87f7-3f2045b1b587\":{\"roots\":{\"references\":[{\"attributes\":{\"below\":[{\"id\":\"1798\",\"type\":\"CategoricalAxis\"}],\"center\":[{\"id\":\"1801\",\"type\":\"Grid\"},{\"id\":\"1806\",\"type\":\"Grid\"},{\"id\":\"1836\",\"type\":\"Legend\"}],\"left\":[{\"id\":\"1802\",\"type\":\"LinearAxis\"}],\"plot_height\":250,\"renderers\":[{\"id\":\"1827\",\"type\":\"GlyphRenderer\"},{\"id\":\"1842\",\"type\":\"GlyphRenderer\"},{\"id\":\"1858\",\"type\":\"GlyphRenderer\"}],\"title\":{\"id\":\"1829\",\"type\":\"Title\"},\"toolbar\":{\"id\":\"1813\",\"type\":\"Toolbar\"},\"x_range\":{\"id\":\"1790\",\"type\":\"FactorRange\"},\"x_scale\":{\"id\":\"1794\",\"type\":\"CategoricalScale\"},\"y_range\":{\"id\":\"1792\",\"type\":\"Range1d\"},\"y_scale\":{\"id\":\"1796\",\"type\":\"LinearScale\"}},\"id\":\"1789\",\"subtype\":\"Figure\",\"type\":\"Plot\"},{\"attributes\":{},\"id\":\"1832\",\"type\":\"BasicTickFormatter\"},{\"attributes\":{\"fill_alpha\":{\"value\":0.1},\"fill_color\":{\"value\":\"#1f77b4\"},\"line_alpha\":{\"value\":0.1},\"line_color\":{\"value\":\"#1f77b4\"},\"top\":{\"field\":\"SX5E\"},\"width\":{\"value\":0.2},\"x\":{\"field\":\"categories\",\"transform\":{\"id\":\"1822\",\"type\":\"Dodge\"}}},\"id\":\"1857\",\"type\":\"VBar\"},{\"attributes\":{\"formatter\":{\"id\":\"1832\",\"type\":\"BasicTickFormatter\"},\"ticker\":{\"id\":\"1803\",\"type\":\"BasicTicker\"}},\"id\":\"1802\",\"type\":\"LinearAxis\"},{\"attributes\":{},\"id\":\"1834\",\"type\":\"CategoricalTickFormatter\"},{\"attributes\":{\"data_source\":{\"id\":\"1854\",\"type\":\"ColumnDataSource\"},\"glyph\":{\"id\":\"1856\",\"type\":\"VBar\"},\"hover_glyph\":null,\"muted_glyph\":null,\"nonselection_glyph\":{\"id\":\"1857\",\"type\":\"VBar\"},\"selection_glyph\":null,\"view\":{\"id\":\"1859\",\"type\":\"CDSView\"}},\"id\":\"1858\",\"type\":\"GlyphRenderer\"},{\"attributes\":{},\"id\":\"1803\",\"type\":\"BasicTicker\"},{\"attributes\":{\"bottom_units\":\"screen\",\"fill_alpha\":{\"value\":0.5},\"fill_color\":{\"value\":\"lightgrey\"},\"left_units\":\"screen\",\"level\":\"overlay\",\"line_alpha\":{\"value\":1.0},\"line_color\":{\"value\":\"black\"},\"line_dash\":[4,4],\"line_width\":{\"value\":2},\"render_mode\":\"css\",\"right_units\":\"screen\",\"top_units\":\"screen\"},\"id\":\"1835\",\"type\":\"BoxAnnotation\"},{\"attributes\":{\"source\":{\"id\":\"1854\",\"type\":\"ColumnDataSource\"}},\"id\":\"1859\",\"type\":\"CDSView\"},{\"attributes\":{\"range\":{\"id\":\"1790\",\"type\":\"FactorRange\"}},\"id\":\"1821\",\"type\":\"Dodge\"},{\"attributes\":{\"dimension\":1,\"ticker\":{\"id\":\"1803\",\"type\":\"BasicTicker\"}},\"id\":\"1806\",\"type\":\"Grid\"},{\"attributes\":{\"fill_alpha\":{\"value\":0.1},\"fill_color\":{\"value\":\"#1f77b4\"},\"line_alpha\":{\"value\":0.1},\"line_color\":{\"value\":\"#1f77b4\"},\"top\":{\"field\":\"SP500\"},\"width\":{\"value\":0.2},\"x\":{\"field\":\"categories\",\"transform\":{\"id\":\"1820\",\"type\":\"Dodge\"}}},\"id\":\"1826\",\"type\":\"VBar\"},{\"attributes\":{},\"id\":\"1869\",\"type\":\"Selection\"},{\"attributes\":{\"fill_color\":{\"value\":\"blue\"},\"line_color\":{\"value\":\"blue\"},\"top\":{\"field\":\"CAC40\"},\"width\":{\"value\":0.2},\"x\":{\"field\":\"categories\",\"transform\":{\"id\":\"1821\",\"type\":\"Dodge\"}}},\"id\":\"1840\",\"type\":\"VBar\"},{\"attributes\":{\"data_source\":{\"id\":\"1838\",\"type\":\"ColumnDataSource\"},\"glyph\":{\"id\":\"1840\",\"type\":\"VBar\"},\"hover_glyph\":null,\"muted_glyph\":null,\"nonselection_glyph\":{\"id\":\"1841\",\"type\":\"VBar\"},\"selection_glyph\":null,\"view\":{\"id\":\"1843\",\"type\":\"CDSView\"}},\"id\":\"1842\",\"type\":\"GlyphRenderer\"},{\"attributes\":{\"label\":{\"field\":\"SP500\"},\"renderers\":[{\"id\":\"1827\",\"type\":\"GlyphRenderer\"}]},\"id\":\"1837\",\"type\":\"LegendItem\"},{\"attributes\":{},\"id\":\"1850\",\"type\":\"UnionRenderers\"},{\"attributes\":{\"label\":{\"field\":\"SX5E\"},\"renderers\":[{\"id\":\"1858\",\"type\":\"GlyphRenderer\"}]},\"id\":\"1871\",\"type\":\"LegendItem\"},{\"attributes\":{},\"id\":\"1807\",\"type\":\"PanTool\"},{\"attributes\":{\"range\":{\"id\":\"1790\",\"type\":\"FactorRange\"},\"value\":0.25},\"id\":\"1822\",\"type\":\"Dodge\"},{\"attributes\":{},\"id\":\"1933\",\"type\":\"Selection\"},{\"attributes\":{},\"id\":\"1808\",\"type\":\"WheelZoomTool\"},{\"attributes\":{\"fill_alpha\":{\"value\":0.1},\"fill_color\":{\"value\":\"#1f77b4\"},\"line_alpha\":{\"value\":0.1},\"line_color\":{\"value\":\"#1f77b4\"},\"top\":{\"field\":\"CAC40\"},\"width\":{\"value\":0.2},\"x\":{\"field\":\"categories\",\"transform\":{\"id\":\"1821\",\"type\":\"Dodge\"}}},\"id\":\"1841\",\"type\":\"VBar\"},{\"attributes\":{\"callback\":null,\"data\":{\"CAC40\":{\"__ndarray__\":\"AAAAAAAAEECamZmZmZkFQHsUrkfhehRA\",\"dtype\":\"float64\",\"shape\":[3]},\"SP500\":{\"__ndarray__\":\"XI/C9ShcKUAfhetRuB4SQHE9CtejcP0/\",\"dtype\":\"float64\",\"shape\":[3]},\"SX5E\":{\"__ndarray__\":\"PQrXo3A9FEC4HoXrUbgQQB+F61G4HhhA\",\"dtype\":\"float64\",\"shape\":[3]},\"categories\":[\"Avril 2020\",\"Mai 2020\",\"Juin 2020\"],\"index\":[0,1,2]},\"selected\":{\"id\":\"1869\",\"type\":\"Selection\"},\"selection_policy\":{\"id\":\"1868\",\"type\":\"UnionRenderers\"}},\"id\":\"1838\",\"type\":\"ColumnDataSource\"},{\"attributes\":{\"overlay\":{\"id\":\"1835\",\"type\":\"BoxAnnotation\"}},\"id\":\"1809\",\"type\":\"BoxZoomTool\"},{\"attributes\":{\"callback\":null,\"factors\":[\"Avril 2020\",\"Mai 2020\",\"Juin 2020\"]},\"id\":\"1790\",\"type\":\"FactorRange\"},{\"attributes\":{\"source\":{\"id\":\"1838\",\"type\":\"ColumnDataSource\"}},\"id\":\"1843\",\"type\":\"CDSView\"},{\"attributes\":{},\"id\":\"1810\",\"type\":\"SaveTool\"},{\"attributes\":{},\"id\":\"1811\",\"type\":\"ResetTool\"},{\"attributes\":{},\"id\":\"1851\",\"type\":\"Selection\"},{\"attributes\":{},\"id\":\"1812\",\"type\":\"HelpTool\"},{\"attributes\":{\"label\":{\"field\":\"CAC40\"},\"renderers\":[{\"id\":\"1842\",\"type\":\"GlyphRenderer\"}]},\"id\":\"1853\",\"type\":\"LegendItem\"},{\"attributes\":{\"callback\":null,\"data\":{\"CAC40\":{\"__ndarray__\":\"AAAAAAAAEECamZmZmZkFQHsUrkfhehRA\",\"dtype\":\"float64\",\"shape\":[3]},\"SP500\":{\"__ndarray__\":\"XI/C9ShcKUAfhetRuB4SQHE9CtejcP0/\",\"dtype\":\"float64\",\"shape\":[3]},\"SX5E\":{\"__ndarray__\":\"PQrXo3A9FEC4HoXrUbgQQB+F61G4HhhA\",\"dtype\":\"float64\",\"shape\":[3]},\"categories\":[\"Avril 2020\",\"Mai 2020\",\"Juin 2020\"],\"index\":[0,1,2]},\"selected\":{\"id\":\"1933\",\"type\":\"Selection\"},\"selection_policy\":{\"id\":\"1932\",\"type\":\"UnionRenderers\"}},\"id\":\"1854\",\"type\":\"ColumnDataSource\"},{\"attributes\":{\"active_drag\":\"auto\",\"active_inspect\":\"auto\",\"active_multi\":null,\"active_scroll\":\"auto\",\"active_tap\":\"auto\",\"tools\":[{\"id\":\"1807\",\"type\":\"PanTool\"},{\"id\":\"1808\",\"type\":\"WheelZoomTool\"},{\"id\":\"1809\",\"type\":\"BoxZoomTool\"},{\"id\":\"1810\",\"type\":\"SaveTool\"},{\"id\":\"1811\",\"type\":\"ResetTool\"},{\"id\":\"1812\",\"type\":\"HelpTool\"}]},\"id\":\"1813\",\"type\":\"Toolbar\"},{\"attributes\":{\"callback\":null,\"end\":20},\"id\":\"1792\",\"type\":\"Range1d\"},{\"attributes\":{},\"id\":\"1932\",\"type\":\"UnionRenderers\"},{\"attributes\":{},\"id\":\"1794\",\"type\":\"CategoricalScale\"},{\"attributes\":{\"callback\":null,\"data\":{\"CAC40\":{\"__ndarray__\":\"AAAAAAAAEECamZmZmZkFQHsUrkfhehRA\",\"dtype\":\"float64\",\"shape\":[3]},\"SP500\":{\"__ndarray__\":\"XI/C9ShcKUAfhetRuB4SQHE9CtejcP0/\",\"dtype\":\"float64\",\"shape\":[3]},\"SX5E\":{\"__ndarray__\":\"PQrXo3A9FEC4HoXrUbgQQB+F61G4HhhA\",\"dtype\":\"float64\",\"shape\":[3]},\"categories\":[\"Avril 2020\",\"Mai 2020\",\"Juin 2020\"],\"index\":[0,1,2]},\"selected\":{\"id\":\"1851\",\"type\":\"Selection\"},\"selection_policy\":{\"id\":\"1850\",\"type\":\"UnionRenderers\"}},\"id\":\"1823\",\"type\":\"ColumnDataSource\"},{\"attributes\":{\"source\":{\"id\":\"1823\",\"type\":\"ColumnDataSource\"}},\"id\":\"1828\",\"type\":\"CDSView\"},{\"attributes\":{\"items\":[{\"id\":\"1837\",\"type\":\"LegendItem\"},{\"id\":\"1853\",\"type\":\"LegendItem\"},{\"id\":\"1871\",\"type\":\"LegendItem\"}],\"location\":\"top_left\",\"orientation\":\"horizontal\"},\"id\":\"1836\",\"type\":\"Legend\"},{\"attributes\":{},\"id\":\"1796\",\"type\":\"LinearScale\"},{\"attributes\":{\"data_source\":{\"id\":\"1823\",\"type\":\"ColumnDataSource\"},\"glyph\":{\"id\":\"1825\",\"type\":\"VBar\"},\"hover_glyph\":null,\"muted_glyph\":null,\"nonselection_glyph\":{\"id\":\"1826\",\"type\":\"VBar\"},\"selection_glyph\":null,\"view\":{\"id\":\"1828\",\"type\":\"CDSView\"}},\"id\":\"1827\",\"type\":\"GlyphRenderer\"},{\"attributes\":{\"fill_color\":{\"value\":\"green\"},\"line_color\":{\"value\":\"green\"},\"top\":{\"field\":\"SX5E\"},\"width\":{\"value\":0.2},\"x\":{\"field\":\"categories\",\"transform\":{\"id\":\"1822\",\"type\":\"Dodge\"}}},\"id\":\"1856\",\"type\":\"VBar\"},{\"attributes\":{\"range\":{\"id\":\"1790\",\"type\":\"FactorRange\"},\"value\":-0.25},\"id\":\"1820\",\"type\":\"Dodge\"},{\"attributes\":{\"formatter\":{\"id\":\"1834\",\"type\":\"CategoricalTickFormatter\"},\"ticker\":{\"id\":\"1799\",\"type\":\"CategoricalTicker\"}},\"id\":\"1798\",\"type\":\"CategoricalAxis\"},{\"attributes\":{},\"id\":\"1868\",\"type\":\"UnionRenderers\"},{\"attributes\":{\"line_color\":{\"value\":\"gray\"},\"top\":{\"field\":\"SP500\"},\"width\":{\"value\":0.2},\"x\":{\"field\":\"categories\",\"transform\":{\"id\":\"1820\",\"type\":\"Dodge\"}}},\"id\":\"1825\",\"type\":\"VBar\"},{\"attributes\":{},\"id\":\"1799\",\"type\":\"CategoricalTicker\"},{\"attributes\":{\"text\":\"\"},\"id\":\"1829\",\"type\":\"Title\"},{\"attributes\":{\"ticker\":{\"id\":\"1799\",\"type\":\"CategoricalTicker\"}},\"id\":\"1801\",\"type\":\"Grid\"}],\"root_ids\":[\"1789\"]},\"title\":\"Bokeh Application\",\"version\":\"1.2.0\"}};\n",
       "  var render_items = [{\"docid\":\"94ba49b6-6fd4-4f3b-87f7-3f2045b1b587\",\"roots\":{\"1789\":\"080e170a-0826-4db3-b637-2280f3b0a3ee\"}}];\n",
       "  root.Bokeh.embed.embed_items_notebook(docs_json, render_items);\n",
       "\n",
       "  }\n",
       "  if (root.Bokeh !== undefined) {\n",
       "    embed_document(root);\n",
       "  } else {\n",
       "    var attempts = 0;\n",
       "    var timer = setInterval(function(root) {\n",
       "      if (root.Bokeh !== undefined) {\n",
       "        embed_document(root);\n",
       "        clearInterval(timer);\n",
       "      }\n",
       "      attempts++;\n",
       "      if (attempts > 100) {\n",
       "        console.log(\"Bokeh: ERROR: Unable to run BokehJS code because BokehJS library is missing\");\n",
       "        clearInterval(timer);\n",
       "      }\n",
       "    }, 10, root)\n",
       "  }\n",
       "})(window);"
      ],
      "application/vnd.bokehjs_exec.v0+json": ""
     },
     "metadata": {
      "application/vnd.bokehjs_exec.v0+json": {
       "id": "1789"
      }
     },
     "output_type": "display_data"
    }
   ],
   "source": [
    "from bokeh.core.properties import value\n",
    "from bokeh.transform import dodge\n",
    "\n",
    "# data\n",
    "categories = ['Avril 2020', 'Mai 2020', 'Juin 2020']\n",
    "grouped_bar_df = pd.DataFrame({'categories' : categories,\n",
    "                               'SP500': [12.68, 4.53, 1.84],\n",
    "                               'CAC40': [4, 2.70, 5.12],\n",
    "                               'SX5E': [5.06, 4.18, 6.03]})\n",
    "\n",
    "\n",
    "# plot\n",
    "grouped_bar = figure(x_range=categories, y_range=(0, 20), plot_height=250)\n",
    "\n",
    "# offsets bars / bar locations on axis\n",
    "dodge1 = dodge('categories', -0.25, range=grouped_bar.x_range)\n",
    "dodge2 = dodge('categories',  0.0,  range=grouped_bar.x_range)\n",
    "dodge3 = dodge('categories',  0.25, range=grouped_bar.x_range)\n",
    "\n",
    "grouped_bar.vbar(x=dodge1, top='SP500', width=0.2, source=grouped_bar_df, color='gray', legend='SP500')\n",
    "grouped_bar.vbar(x=dodge2, top='CAC40', width=0.2, source=grouped_bar_df, color='blue', legend='CAC40')\n",
    "grouped_bar.vbar(x=dodge3, top='SX5E', width=0.2, source=grouped_bar_df, color='green', legend='SX5E')\n",
    "\n",
    "# format legend\n",
    "grouped_bar.legend.location = 'top_left'\n",
    "grouped_bar.legend.orientation = 'horizontal'\n",
    "\n",
    "show(grouped_bar)"
   ]
  },
  {
   "cell_type": "code",
   "execution_count": 25,
   "metadata": {},
   "outputs": [
    {
     "data": {
      "text/html": [
       "\n",
       "\n",
       "\n",
       "\n",
       "\n",
       "\n",
       "  <div class=\"bk-root\" id=\"a1fe2bf9-8f42-40e3-befc-b6caf220983a\" data-root-id=\"2013\"></div>\n"
      ]
     },
     "metadata": {},
     "output_type": "display_data"
    },
    {
     "data": {
      "application/javascript": [
       "(function(root) {\n",
       "  function embed_document(root) {\n",
       "    \n",
       "  var docs_json = {\"b7bab0d8-80ff-4101-8b05-7a7a4e4af5d1\":{\"roots\":{\"references\":[{\"attributes\":{\"below\":[{\"id\":\"2022\",\"type\":\"CategoricalAxis\"}],\"center\":[{\"id\":\"2025\",\"type\":\"Grid\"},{\"id\":\"2030\",\"type\":\"Grid\"},{\"id\":\"2060\",\"type\":\"Legend\"}],\"left\":[{\"id\":\"2026\",\"type\":\"LinearAxis\"}],\"plot_height\":250,\"renderers\":[{\"id\":\"2051\",\"type\":\"GlyphRenderer\"},{\"id\":\"2066\",\"type\":\"GlyphRenderer\"},{\"id\":\"2082\",\"type\":\"GlyphRenderer\"}],\"title\":{\"id\":\"2053\",\"type\":\"Title\"},\"toolbar\":{\"id\":\"2037\",\"type\":\"Toolbar\"},\"x_range\":{\"id\":\"2014\",\"type\":\"FactorRange\"},\"x_scale\":{\"id\":\"2018\",\"type\":\"CategoricalScale\"},\"y_range\":{\"id\":\"2016\",\"type\":\"Range1d\"},\"y_scale\":{\"id\":\"2020\",\"type\":\"LinearScale\"}},\"id\":\"2013\",\"subtype\":\"Figure\",\"type\":\"Plot\"},{\"attributes\":{\"ticker\":{\"id\":\"2023\",\"type\":\"CategoricalTicker\"}},\"id\":\"2025\",\"type\":\"Grid\"},{\"attributes\":{},\"id\":\"2092\",\"type\":\"UnionRenderers\"},{\"attributes\":{\"source\":{\"id\":\"2047\",\"type\":\"ColumnDataSource\"}},\"id\":\"2052\",\"type\":\"CDSView\"},{\"attributes\":{\"formatter\":{\"id\":\"2056\",\"type\":\"BasicTickFormatter\"},\"ticker\":{\"id\":\"2027\",\"type\":\"BasicTicker\"}},\"id\":\"2026\",\"type\":\"LinearAxis\"},{\"attributes\":{\"data_source\":{\"id\":\"2047\",\"type\":\"ColumnDataSource\"},\"glyph\":{\"id\":\"2049\",\"type\":\"VBar\"},\"hover_glyph\":null,\"muted_glyph\":null,\"nonselection_glyph\":{\"id\":\"2050\",\"type\":\"VBar\"},\"selection_glyph\":null,\"view\":{\"id\":\"2052\",\"type\":\"CDSView\"}},\"id\":\"2051\",\"type\":\"GlyphRenderer\"},{\"attributes\":{\"fill_alpha\":{\"value\":0.1},\"fill_color\":{\"value\":\"#1f77b4\"},\"line_alpha\":{\"value\":0.1},\"line_color\":{\"value\":\"#1f77b4\"},\"top\":{\"field\":\"SX5E\"},\"width\":{\"value\":0.2},\"x\":{\"field\":\"categories\",\"transform\":{\"id\":\"2046\",\"type\":\"Dodge\"}}},\"id\":\"2081\",\"type\":\"VBar\"},{\"attributes\":{\"text\":\"\"},\"id\":\"2053\",\"type\":\"Title\"},{\"attributes\":{\"callback\":null,\"data\":{\"CAC40\":{\"__ndarray__\":\"mpmZmZkZIcD2KFyPwjUxwHsUrkfhehRA\",\"dtype\":\"float64\",\"shape\":[3]},\"SP500\":{\"__ndarray__\":\"UrgehevRIMCF61G4HgUpwFyPwvUoXClA\",\"dtype\":\"float64\",\"shape\":[3]},\"SX5E\":{\"__ndarray__\":\"mpmZmZkZIcDNzMzMzEwwwD0K16NwPRRA\",\"dtype\":\"float64\",\"shape\":[3]},\"categories\":[\"F\\u00e9vr 2020\",\"Mars 2020\",\"Avril 2020\"],\"index\":[0,1,2]},\"selected\":{\"id\":\"2075\",\"type\":\"Selection\"},\"selection_policy\":{\"id\":\"2074\",\"type\":\"UnionRenderers\"}},\"id\":\"2047\",\"type\":\"ColumnDataSource\"},{\"attributes\":{\"bottom_units\":\"screen\",\"fill_alpha\":{\"value\":0.5},\"fill_color\":{\"value\":\"lightgrey\"},\"left_units\":\"screen\",\"level\":\"overlay\",\"line_alpha\":{\"value\":1.0},\"line_color\":{\"value\":\"black\"},\"line_dash\":[4,4],\"line_width\":{\"value\":2},\"render_mode\":\"css\",\"right_units\":\"screen\",\"top_units\":\"screen\"},\"id\":\"2059\",\"type\":\"BoxAnnotation\"},{\"attributes\":{\"line_color\":{\"value\":\"gray\"},\"top\":{\"field\":\"SP500\"},\"width\":{\"value\":0.2},\"x\":{\"field\":\"categories\",\"transform\":{\"id\":\"2044\",\"type\":\"Dodge\"}}},\"id\":\"2049\",\"type\":\"VBar\"},{\"attributes\":{\"dimension\":1,\"ticker\":{\"id\":\"2027\",\"type\":\"BasicTicker\"}},\"id\":\"2030\",\"type\":\"Grid\"},{\"attributes\":{\"source\":{\"id\":\"2078\",\"type\":\"ColumnDataSource\"}},\"id\":\"2083\",\"type\":\"CDSView\"},{\"attributes\":{\"label\":{\"field\":\"SX5E\"},\"renderers\":[{\"id\":\"2082\",\"type\":\"GlyphRenderer\"}]},\"id\":\"2095\",\"type\":\"LegendItem\"},{\"attributes\":{\"range\":{\"id\":\"2014\",\"type\":\"FactorRange\"},\"value\":0.25},\"id\":\"2046\",\"type\":\"Dodge\"},{\"attributes\":{\"items\":[{\"id\":\"2061\",\"type\":\"LegendItem\"},{\"id\":\"2077\",\"type\":\"LegendItem\"},{\"id\":\"2095\",\"type\":\"LegendItem\"}],\"location\":\"top_left\",\"orientation\":\"horizontal\"},\"id\":\"2060\",\"type\":\"Legend\"},{\"attributes\":{},\"id\":\"2031\",\"type\":\"PanTool\"},{\"attributes\":{},\"id\":\"2093\",\"type\":\"Selection\"},{\"attributes\":{\"label\":{\"field\":\"SP500\"},\"renderers\":[{\"id\":\"2051\",\"type\":\"GlyphRenderer\"}]},\"id\":\"2061\",\"type\":\"LegendItem\"},{\"attributes\":{\"range\":{\"id\":\"2014\",\"type\":\"FactorRange\"}},\"id\":\"2045\",\"type\":\"Dodge\"},{\"attributes\":{},\"id\":\"2032\",\"type\":\"WheelZoomTool\"},{\"attributes\":{\"fill_color\":{\"value\":\"blue\"},\"line_color\":{\"value\":\"blue\"},\"top\":{\"field\":\"CAC40\"},\"width\":{\"value\":0.2},\"x\":{\"field\":\"categories\",\"transform\":{\"id\":\"2045\",\"type\":\"Dodge\"}}},\"id\":\"2064\",\"type\":\"VBar\"},{\"attributes\":{\"overlay\":{\"id\":\"2059\",\"type\":\"BoxAnnotation\"}},\"id\":\"2033\",\"type\":\"BoxZoomTool\"},{\"attributes\":{},\"id\":\"2036\",\"type\":\"HelpTool\"},{\"attributes\":{\"data_source\":{\"id\":\"2062\",\"type\":\"ColumnDataSource\"},\"glyph\":{\"id\":\"2064\",\"type\":\"VBar\"},\"hover_glyph\":null,\"muted_glyph\":null,\"nonselection_glyph\":{\"id\":\"2065\",\"type\":\"VBar\"},\"selection_glyph\":null,\"view\":{\"id\":\"2067\",\"type\":\"CDSView\"}},\"id\":\"2066\",\"type\":\"GlyphRenderer\"},{\"attributes\":{},\"id\":\"2034\",\"type\":\"SaveTool\"},{\"attributes\":{},\"id\":\"2170\",\"type\":\"Selection\"},{\"attributes\":{\"callback\":null,\"factors\":[\"F\\u00e9vr 2020\",\"Mars 2020\",\"Avril 2020\"]},\"id\":\"2014\",\"type\":\"FactorRange\"},{\"attributes\":{\"fill_alpha\":{\"value\":0.1},\"fill_color\":{\"value\":\"#1f77b4\"},\"line_alpha\":{\"value\":0.1},\"line_color\":{\"value\":\"#1f77b4\"},\"top\":{\"field\":\"SP500\"},\"width\":{\"value\":0.2},\"x\":{\"field\":\"categories\",\"transform\":{\"id\":\"2044\",\"type\":\"Dodge\"}}},\"id\":\"2050\",\"type\":\"VBar\"},{\"attributes\":{\"range\":{\"id\":\"2014\",\"type\":\"FactorRange\"},\"value\":-0.25},\"id\":\"2044\",\"type\":\"Dodge\"},{\"attributes\":{},\"id\":\"2074\",\"type\":\"UnionRenderers\"},{\"attributes\":{},\"id\":\"2169\",\"type\":\"UnionRenderers\"},{\"attributes\":{\"callback\":null,\"data\":{\"CAC40\":{\"__ndarray__\":\"mpmZmZkZIcD2KFyPwjUxwHsUrkfhehRA\",\"dtype\":\"float64\",\"shape\":[3]},\"SP500\":{\"__ndarray__\":\"UrgehevRIMCF61G4HgUpwFyPwvUoXClA\",\"dtype\":\"float64\",\"shape\":[3]},\"SX5E\":{\"__ndarray__\":\"mpmZmZkZIcDNzMzMzEwwwD0K16NwPRRA\",\"dtype\":\"float64\",\"shape\":[3]},\"categories\":[\"F\\u00e9vr 2020\",\"Mars 2020\",\"Avril 2020\"],\"index\":[0,1,2]},\"selected\":{\"id\":\"2093\",\"type\":\"Selection\"},\"selection_policy\":{\"id\":\"2092\",\"type\":\"UnionRenderers\"}},\"id\":\"2062\",\"type\":\"ColumnDataSource\"},{\"attributes\":{\"fill_alpha\":{\"value\":0.1},\"fill_color\":{\"value\":\"#1f77b4\"},\"line_alpha\":{\"value\":0.1},\"line_color\":{\"value\":\"#1f77b4\"},\"top\":{\"field\":\"CAC40\"},\"width\":{\"value\":0.2},\"x\":{\"field\":\"categories\",\"transform\":{\"id\":\"2045\",\"type\":\"Dodge\"}}},\"id\":\"2065\",\"type\":\"VBar\"},{\"attributes\":{\"callback\":null,\"data\":{\"CAC40\":{\"__ndarray__\":\"mpmZmZkZIcD2KFyPwjUxwHsUrkfhehRA\",\"dtype\":\"float64\",\"shape\":[3]},\"SP500\":{\"__ndarray__\":\"UrgehevRIMCF61G4HgUpwFyPwvUoXClA\",\"dtype\":\"float64\",\"shape\":[3]},\"SX5E\":{\"__ndarray__\":\"mpmZmZkZIcDNzMzMzEwwwD0K16NwPRRA\",\"dtype\":\"float64\",\"shape\":[3]},\"categories\":[\"F\\u00e9vr 2020\",\"Mars 2020\",\"Avril 2020\"],\"index\":[0,1,2]},\"selected\":{\"id\":\"2170\",\"type\":\"Selection\"},\"selection_policy\":{\"id\":\"2169\",\"type\":\"UnionRenderers\"}},\"id\":\"2078\",\"type\":\"ColumnDataSource\"},{\"attributes\":{},\"id\":\"2056\",\"type\":\"BasicTickFormatter\"},{\"attributes\":{\"callback\":null,\"end\":20,\"start\":-20},\"id\":\"2016\",\"type\":\"Range1d\"},{\"attributes\":{\"source\":{\"id\":\"2062\",\"type\":\"ColumnDataSource\"}},\"id\":\"2067\",\"type\":\"CDSView\"},{\"attributes\":{},\"id\":\"2035\",\"type\":\"ResetTool\"},{\"attributes\":{},\"id\":\"2027\",\"type\":\"BasicTicker\"},{\"attributes\":{},\"id\":\"2058\",\"type\":\"CategoricalTickFormatter\"},{\"attributes\":{},\"id\":\"2075\",\"type\":\"Selection\"},{\"attributes\":{\"active_drag\":\"auto\",\"active_inspect\":\"auto\",\"active_multi\":null,\"active_scroll\":\"auto\",\"active_tap\":\"auto\",\"tools\":[{\"id\":\"2031\",\"type\":\"PanTool\"},{\"id\":\"2032\",\"type\":\"WheelZoomTool\"},{\"id\":\"2033\",\"type\":\"BoxZoomTool\"},{\"id\":\"2034\",\"type\":\"SaveTool\"},{\"id\":\"2035\",\"type\":\"ResetTool\"},{\"id\":\"2036\",\"type\":\"HelpTool\"}]},\"id\":\"2037\",\"type\":\"Toolbar\"},{\"attributes\":{},\"id\":\"2018\",\"type\":\"CategoricalScale\"},{\"attributes\":{\"label\":{\"field\":\"CAC40\"},\"renderers\":[{\"id\":\"2066\",\"type\":\"GlyphRenderer\"}]},\"id\":\"2077\",\"type\":\"LegendItem\"},{\"attributes\":{},\"id\":\"2020\",\"type\":\"LinearScale\"},{\"attributes\":{\"formatter\":{\"id\":\"2058\",\"type\":\"CategoricalTickFormatter\"},\"ticker\":{\"id\":\"2023\",\"type\":\"CategoricalTicker\"}},\"id\":\"2022\",\"type\":\"CategoricalAxis\"},{\"attributes\":{\"data_source\":{\"id\":\"2078\",\"type\":\"ColumnDataSource\"},\"glyph\":{\"id\":\"2080\",\"type\":\"VBar\"},\"hover_glyph\":null,\"muted_glyph\":null,\"nonselection_glyph\":{\"id\":\"2081\",\"type\":\"VBar\"},\"selection_glyph\":null,\"view\":{\"id\":\"2083\",\"type\":\"CDSView\"}},\"id\":\"2082\",\"type\":\"GlyphRenderer\"},{\"attributes\":{},\"id\":\"2023\",\"type\":\"CategoricalTicker\"},{\"attributes\":{\"fill_color\":{\"value\":\"green\"},\"line_color\":{\"value\":\"green\"},\"top\":{\"field\":\"SX5E\"},\"width\":{\"value\":0.2},\"x\":{\"field\":\"categories\",\"transform\":{\"id\":\"2046\",\"type\":\"Dodge\"}}},\"id\":\"2080\",\"type\":\"VBar\"}],\"root_ids\":[\"2013\"]},\"title\":\"Bokeh Application\",\"version\":\"1.2.0\"}};\n",
       "  var render_items = [{\"docid\":\"b7bab0d8-80ff-4101-8b05-7a7a4e4af5d1\",\"roots\":{\"2013\":\"a1fe2bf9-8f42-40e3-befc-b6caf220983a\"}}];\n",
       "  root.Bokeh.embed.embed_items_notebook(docs_json, render_items);\n",
       "\n",
       "  }\n",
       "  if (root.Bokeh !== undefined) {\n",
       "    embed_document(root);\n",
       "  } else {\n",
       "    var attempts = 0;\n",
       "    var timer = setInterval(function(root) {\n",
       "      if (root.Bokeh !== undefined) {\n",
       "        embed_document(root);\n",
       "        clearInterval(timer);\n",
       "      }\n",
       "      attempts++;\n",
       "      if (attempts > 100) {\n",
       "        console.log(\"Bokeh: ERROR: Unable to run BokehJS code because BokehJS library is missing\");\n",
       "        clearInterval(timer);\n",
       "      }\n",
       "    }, 10, root)\n",
       "  }\n",
       "})(window);"
      ],
      "application/vnd.bokehjs_exec.v0+json": ""
     },
     "metadata": {
      "application/vnd.bokehjs_exec.v0+json": {
       "id": "2013"
      }
     },
     "output_type": "display_data"
    }
   ],
   "source": [
    "# grouped bar chart\n",
    "\n",
    "from bokeh.core.properties import value\n",
    "from bokeh.transform import dodge\n",
    "\n",
    "# data\n",
    "categories = ['Févr 2020', 'Mars 2020', 'Avril 2020']\n",
    "grouped_bar_df = pd.DataFrame({'categories' : categories,\n",
    "                               'SP500': [-8.41, -12.51, 12.68],\n",
    "                               'CAC40': [-8.55, -17.21, 5.12],\n",
    "                               'SX5E': [-8.55, -16.30, 5.06]})\n",
    "\n",
    "\n",
    "# plot\n",
    "grouped_bar = figure(x_range=categories, y_range=(-20, 20), plot_height=250)\n",
    "\n",
    "# offsets bars / bar locations on axis\n",
    "dodge1 = dodge('categories', -0.25, range=grouped_bar.x_range)\n",
    "dodge2 = dodge('categories',  0.0,  range=grouped_bar.x_range)\n",
    "dodge3 = dodge('categories',  0.25, range=grouped_bar.x_range)\n",
    "\n",
    "grouped_bar.vbar(x=dodge1, top='SP500', width=0.2, source=grouped_bar_df, color='gray', legend='SP500')\n",
    "grouped_bar.vbar(x=dodge2, top='CAC40', width=0.2, source=grouped_bar_df, color='blue', legend='CAC40')\n",
    "grouped_bar.vbar(x=dodge3, top='SX5E', width=0.2, source=grouped_bar_df, color='green', legend='SX5E')\n",
    "\n",
    "# format legend\n",
    "grouped_bar.legend.location = 'top_left'\n",
    "grouped_bar.legend.orientation = 'horizontal'\n",
    "\n",
    "show(grouped_bar)"
   ]
  },
  {
   "cell_type": "markdown",
   "metadata": {},
   "source": [
    "# External data visualization\n",
    "\n",
    "### Download data"
   ]
  },
  {
   "cell_type": "code",
   "execution_count": 26,
   "metadata": {},
   "outputs": [
    {
     "name": "stdout",
     "output_type": "stream",
     "text": [
      "Using data directory: C:\\Users\\user\\.bokeh\\data\n",
      "Downloading: CGM.csv (1589982 bytes)\n",
      "   1589982 [100.00%]\n",
      "Downloading: US_Counties.zip (3171836 bytes)\n",
      "   3171836 [100.00%]\n",
      "Unpacking: US_Counties.csv\n",
      "Downloading: us_cities.json (713565 bytes)\n",
      "    713565 [100.00%]\n",
      "Downloading: unemployment09.csv (253301 bytes)\n",
      "    253301 [100.00%]\n",
      "Downloading: AAPL.csv (166698 bytes)\n",
      "    166698 [100.00%]\n",
      "Downloading: FB.csv (9706 bytes)\n",
      "      9706 [100.00%]\n",
      "Downloading: GOOG.csv (113894 bytes)\n",
      "    113894 [100.00%]\n",
      "Downloading: IBM.csv (165625 bytes)\n",
      "    165625 [100.00%]\n",
      "Downloading: MSFT.csv (161614 bytes)\n",
      "    161614 [100.00%]\n",
      "Downloading: WPP2012_SA_DB03_POPULATION_QUINQUENNIAL.zip (4816256 bytes)\n",
      "   4816256 [100.00%]\n",
      "Unpacking: WPP2012_SA_DB03_POPULATION_QUINQUENNIAL.csv\n",
      "Downloading: gapminder_fertility.csv (64346 bytes)\n",
      "     64346 [100.00%]\n",
      "Downloading: gapminder_population.csv (94509 bytes)\n",
      "     94509 [100.00%]\n",
      "Downloading: gapminder_life_expectancy.csv (73243 bytes)\n",
      "     73243 [100.00%]\n",
      "Downloading: gapminder_regions.csv (7781 bytes)\n",
      "      7781 [100.00%]\n",
      "Downloading: world_cities.zip (645274 bytes)\n",
      "    645274 [100.00%]\n",
      "Unpacking: world_cities.csv\n",
      "Downloading: airports.json (6373 bytes)\n",
      "      6373 [100.00%]\n",
      "Downloading: movies.db.zip (5053420 bytes)\n",
      "   5053420 [100.00%]\n",
      "Unpacking: movies.db\n",
      "Downloading: airports.csv (203190 bytes)\n",
      "    203190 [100.00%]\n",
      "Downloading: routes.csv (377280 bytes)\n",
      "    377280 [100.00%]\n",
      "Downloading: haarcascade_frontalface_default.xml (930127 bytes)\n",
      "    930127 [100.00%]\n"
     ]
    }
   ],
   "source": [
    "bokeh.sampledata.download()"
   ]
  },
  {
   "cell_type": "code",
   "execution_count": 27,
   "metadata": {},
   "outputs": [
    {
     "data": {
      "text/plain": [
       "dict"
      ]
     },
     "execution_count": 27,
     "metadata": {},
     "output_type": "execute_result"
    }
   ],
   "source": [
    "from bokeh.sampledata.stocks import AAPL\n",
    "\n",
    "type(AAPL)"
   ]
  },
  {
   "cell_type": "code",
   "execution_count": 28,
   "metadata": {},
   "outputs": [
    {
     "data": {
      "text/html": [
       "\n",
       "\n",
       "\n",
       "\n",
       "\n",
       "\n",
       "  <div class=\"bk-root\" id=\"d1a31277-09f8-46cd-9015-8636dc7bf9c9\" data-root-id=\"2250\"></div>\n"
      ]
     },
     "metadata": {},
     "output_type": "display_data"
    },
    {
     "data": {
      "application/javascript": [
       "(function(root) {\n",
       "  function embed_document(root) {\n",
       "    \n",
       "  var docs_json = {\"2d4eefae-683a-4a89-a503-fe8323a48ae1\":{\"roots\":{\"references\":[{\"attributes\":{\"below\":[{\"id\":\"2259\",\"type\":\"DatetimeAxis\"}],\"center\":[{\"id\":\"2263\",\"type\":\"Grid\"},{\"id\":\"2268\",\"type\":\"Grid\"}],\"left\":[{\"id\":\"2264\",\"type\":\"LinearAxis\"}],\"plot_height\":250,\"plot_width\":800,\"renderers\":[{\"id\":\"2285\",\"type\":\"GlyphRenderer\"}],\"title\":{\"id\":\"2363\",\"type\":\"Title\"},\"toolbar\":{\"id\":\"2275\",\"type\":\"Toolbar\"},\"x_range\":{\"id\":\"2251\",\"type\":\"DataRange1d\"},\"x_scale\":{\"id\":\"2255\",\"type\":\"LinearScale\"},\"y_range\":{\"id\":\"2253\",\"type\":\"DataRange1d\"},\"y_scale\":{\"id\":\"2257\",\"type\":\"LinearScale\"}},\"id\":\"2250\",\"subtype\":\"Figure\",\"type\":\"Plot\"},{\"attributes\":{},\"id\":\"2257\",\"type\":\"LinearScale\"},{\"attributes\":{\"months\":[0,1,2,3,4,5,6,7,8,9,10,11]},\"id\":\"2378\",\"type\":\"MonthsTicker\"},{\"attributes\":{},\"id\":\"2269\",\"type\":\"PanTool\"},{\"attributes\":{},\"id\":\"2255\",\"type\":\"LinearScale\"},{\"attributes\":{\"overlay\":{\"id\":\"2383\",\"type\":\"BoxAnnotation\"}},\"id\":\"2271\",\"type\":\"BoxZoomTool\"},{\"attributes\":{\"days\":[1,8,15,22]},\"id\":\"2376\",\"type\":\"DaysTicker\"},{\"attributes\":{},\"id\":\"2265\",\"type\":\"BasicTicker\"},{\"attributes\":{\"days\":[1,4,7,10,13,16,19,22,25,28]},\"id\":\"2375\",\"type\":\"DaysTicker\"},{\"attributes\":{\"days\":[1,2,3,4,5,6,7,8,9,10,11,12,13,14,15,16,17,18,19,20,21,22,23,24,25,26,27,28,29,30,31]},\"id\":\"2374\",\"type\":\"DaysTicker\"},{\"attributes\":{\"formatter\":{\"id\":\"2368\",\"type\":\"DatetimeTickFormatter\"},\"ticker\":{\"id\":\"2260\",\"type\":\"DatetimeTicker\"}},\"id\":\"2259\",\"type\":\"DatetimeAxis\"},{\"attributes\":{},\"id\":\"2369\",\"type\":\"UnionRenderers\"},{\"attributes\":{\"base\":24,\"mantissas\":[1,2,4,6,8,12],\"max_interval\":43200000.0,\"min_interval\":3600000.0,\"num_minor_ticks\":0},\"id\":\"2373\",\"type\":\"AdaptiveTicker\"},{\"attributes\":{},\"id\":\"2270\",\"type\":\"WheelZoomTool\"},{\"attributes\":{\"mantissas\":[1,2,5],\"max_interval\":500.0,\"num_minor_ticks\":0},\"id\":\"2371\",\"type\":\"AdaptiveTicker\"},{\"attributes\":{},\"id\":\"2273\",\"type\":\"ResetTool\"},{\"attributes\":{\"base\":60,\"mantissas\":[1,2,5,10,15,20,30],\"max_interval\":1800000.0,\"min_interval\":1000.0,\"num_minor_ticks\":0},\"id\":\"2372\",\"type\":\"AdaptiveTicker\"},{\"attributes\":{\"formatter\":{\"id\":\"2366\",\"type\":\"BasicTickFormatter\"},\"ticker\":{\"id\":\"2265\",\"type\":\"BasicTicker\"}},\"id\":\"2264\",\"type\":\"LinearAxis\"},{\"attributes\":{},\"id\":\"2366\",\"type\":\"BasicTickFormatter\"},{\"attributes\":{\"bottom_units\":\"screen\",\"fill_alpha\":{\"value\":0.5},\"fill_color\":{\"value\":\"lightgrey\"},\"left_units\":\"screen\",\"level\":\"overlay\",\"line_alpha\":{\"value\":1.0},\"line_color\":{\"value\":\"black\"},\"line_dash\":[4,4],\"line_width\":{\"value\":2},\"render_mode\":\"css\",\"right_units\":\"screen\",\"top_units\":\"screen\"},\"id\":\"2383\",\"type\":\"BoxAnnotation\"},{\"attributes\":{\"days\":[1,15]},\"id\":\"2377\",\"type\":\"DaysTicker\"},{\"attributes\":{\"dimension\":1,\"ticker\":{\"id\":\"2265\",\"type\":\"BasicTicker\"}},\"id\":\"2268\",\"type\":\"Grid\"},{\"attributes\":{},\"id\":\"2370\",\"type\":\"Selection\"},{\"attributes\":{\"months\":[0,6]},\"id\":\"2381\",\"type\":\"MonthsTicker\"},{\"attributes\":{\"text\":\"\"},\"id\":\"2363\",\"type\":\"Title\"},{\"attributes\":{\"callback\":null},\"id\":\"2251\",\"type\":\"DataRange1d\"},{\"attributes\":{},\"id\":\"2368\",\"type\":\"DatetimeTickFormatter\"},{\"attributes\":{\"data_source\":{\"id\":\"2282\",\"type\":\"ColumnDataSource\"},\"glyph\":{\"id\":\"2283\",\"type\":\"Line\"},\"hover_glyph\":null,\"muted_glyph\":null,\"nonselection_glyph\":{\"id\":\"2284\",\"type\":\"Line\"},\"selection_glyph\":null,\"view\":{\"id\":\"2286\",\"type\":\"CDSView\"}},\"id\":\"2285\",\"type\":\"GlyphRenderer\"},{\"attributes\":{\"line_alpha\":0.1,\"line_color\":\"#1f77b4\",\"x\":{\"field\":\"x\"},\"y\":{\"field\":\"y\"}},\"id\":\"2284\",\"type\":\"Line\"},{\"attributes\":{},\"id\":\"2274\",\"type\":\"HelpTool\"},{\"attributes\":{},\"id\":\"2272\",\"type\":\"SaveTool\"},{\"attributes\":{\"source\":{\"id\":\"2282\",\"type\":\"ColumnDataSource\"}},\"id\":\"2286\",\"type\":\"CDSView\"},{\"attributes\":{\"active_drag\":\"auto\",\"active_inspect\":\"auto\",\"active_multi\":null,\"active_scroll\":\"auto\",\"active_tap\":\"auto\",\"tools\":[{\"id\":\"2269\",\"type\":\"PanTool\"},{\"id\":\"2270\",\"type\":\"WheelZoomTool\"},{\"id\":\"2271\",\"type\":\"BoxZoomTool\"},{\"id\":\"2272\",\"type\":\"SaveTool\"},{\"id\":\"2273\",\"type\":\"ResetTool\"},{\"id\":\"2274\",\"type\":\"HelpTool\"}]},\"id\":\"2275\",\"type\":\"Toolbar\"},{\"attributes\":{\"months\":[0,4,8]},\"id\":\"2380\",\"type\":\"MonthsTicker\"},{\"attributes\":{\"callback\":null},\"id\":\"2253\",\"type\":\"DataRange1d\"},{\"attributes\":{},\"id\":\"2382\",\"type\":\"YearsTicker\"},{\"attributes\":{\"months\":[0,2,4,6,8,10]},\"id\":\"2379\",\"type\":\"MonthsTicker\"},{\"attributes\":{\"line_alpha\":0.5,\"line_color\":\"navy\",\"x\":{\"field\":\"x\"},\"y\":{\"field\":\"y\"}},\"id\":\"2283\",\"type\":\"Line\"},{\"attributes\":{\"ticker\":{\"id\":\"2260\",\"type\":\"DatetimeTicker\"}},\"id\":\"2263\",\"type\":\"Grid\"},{\"attributes\":{\"callback\":null,\"data\":{\"x\":{\"__ndarray__\":\"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\",\"dtype\":\"float64\",\"shape\":[3270]},\"y\":{\"__ndarray__\":\"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\",\"dtype\":\"float64\",\"shape\":[3270]}},\"selected\":{\"id\":\"2370\",\"type\":\"Selection\"},\"selection_policy\":{\"id\":\"2369\",\"type\":\"UnionRenderers\"}},\"id\":\"2282\",\"type\":\"ColumnDataSource\"},{\"attributes\":{\"num_minor_ticks\":5,\"tickers\":[{\"id\":\"2371\",\"type\":\"AdaptiveTicker\"},{\"id\":\"2372\",\"type\":\"AdaptiveTicker\"},{\"id\":\"2373\",\"type\":\"AdaptiveTicker\"},{\"id\":\"2374\",\"type\":\"DaysTicker\"},{\"id\":\"2375\",\"type\":\"DaysTicker\"},{\"id\":\"2376\",\"type\":\"DaysTicker\"},{\"id\":\"2377\",\"type\":\"DaysTicker\"},{\"id\":\"2378\",\"type\":\"MonthsTicker\"},{\"id\":\"2379\",\"type\":\"MonthsTicker\"},{\"id\":\"2380\",\"type\":\"MonthsTicker\"},{\"id\":\"2381\",\"type\":\"MonthsTicker\"},{\"id\":\"2382\",\"type\":\"YearsTicker\"}]},\"id\":\"2260\",\"type\":\"DatetimeTicker\"}],\"root_ids\":[\"2250\"]},\"title\":\"Bokeh Application\",\"version\":\"1.2.0\"}};\n",
       "  var render_items = [{\"docid\":\"2d4eefae-683a-4a89-a503-fe8323a48ae1\",\"roots\":{\"2250\":\"d1a31277-09f8-46cd-9015-8636dc7bf9c9\"}}];\n",
       "  root.Bokeh.embed.embed_items_notebook(docs_json, render_items);\n",
       "\n",
       "  }\n",
       "  if (root.Bokeh !== undefined) {\n",
       "    embed_document(root);\n",
       "  } else {\n",
       "    var attempts = 0;\n",
       "    var timer = setInterval(function(root) {\n",
       "      if (root.Bokeh !== undefined) {\n",
       "        embed_document(root);\n",
       "        clearInterval(timer);\n",
       "      }\n",
       "      attempts++;\n",
       "      if (attempts > 100) {\n",
       "        console.log(\"Bokeh: ERROR: Unable to run BokehJS code because BokehJS library is missing\");\n",
       "        clearInterval(timer);\n",
       "      }\n",
       "    }, 10, root)\n",
       "  }\n",
       "})(window);"
      ],
      "application/vnd.bokehjs_exec.v0+json": ""
     },
     "metadata": {
      "application/vnd.bokehjs_exec.v0+json": {
       "id": "2250"
      }
     },
     "output_type": "display_data"
    }
   ],
   "source": [
    "#Convert to dataframe\n",
    "df = pd.DataFrame(AAPL)\n",
    "df['date'] = pd.to_datetime(df['date'])\n",
    "\n",
    "#output_file(\"datetime.html\")\n",
    "\n",
    "# create a new plot with a datetime axis type\n",
    "p = figure(plot_width=800, plot_height=250, x_axis_type=\"datetime\")\n",
    "p.line(df['date'], df['close'], color='navy', alpha=0.5)\n",
    "\n",
    "show(p)"
   ]
  },
  {
   "cell_type": "markdown",
   "metadata": {},
   "source": [
    "### Import excel data"
   ]
  },
  {
   "cell_type": "code",
   "execution_count": 29,
   "metadata": {},
   "outputs": [
    {
     "data": {
      "text/html": [
       "<div>\n",
       "<style scoped>\n",
       "    .dataframe tbody tr th:only-of-type {\n",
       "        vertical-align: middle;\n",
       "    }\n",
       "\n",
       "    .dataframe tbody tr th {\n",
       "        vertical-align: top;\n",
       "    }\n",
       "\n",
       "    .dataframe thead th {\n",
       "        text-align: right;\n",
       "    }\n",
       "</style>\n",
       "<table border=\"1\" class=\"dataframe\">\n",
       "  <thead>\n",
       "    <tr style=\"text-align: right;\">\n",
       "      <th></th>\n",
       "      <th>Unnamed: 0</th>\n",
       "      <th>KONINKLIJKE AHOLD DELHAIZE N</th>\n",
       "      <th>ADIDAS AG</th>\n",
       "      <th>AIR LIQUIDE SA</th>\n",
       "      <th>ALLIANZ SE-REG</th>\n",
       "      <th>ASML HOLDING NV</th>\n",
       "      <th>BASF SE</th>\n",
       "      <th>BAYER AG-REG</th>\n",
       "      <th>BANCO BILBAO VIZCAYA ARGENTA</th>\n",
       "      <th>BAYERISCHE MOTOREN WERKE AG</th>\n",
       "      <th>...</th>\n",
       "      <th>SAFRAN SA</th>\n",
       "      <th>SANOFI</th>\n",
       "      <th>BANCO SANTANDER SA</th>\n",
       "      <th>SAP SE</th>\n",
       "      <th>SIEMENS AG-REG</th>\n",
       "      <th>SCHNEIDER ELECTRIC SE</th>\n",
       "      <th>TELEFONICA SA</th>\n",
       "      <th>UNILEVER NV</th>\n",
       "      <th>VIVENDI</th>\n",
       "      <th>VOLKSWAGEN AG-PREF</th>\n",
       "    </tr>\n",
       "  </thead>\n",
       "  <tbody>\n",
       "    <tr>\n",
       "      <th>0</th>\n",
       "      <td>2000-01-04</td>\n",
       "      <td>33.0765</td>\n",
       "      <td>17.500</td>\n",
       "      <td>30.5762</td>\n",
       "      <td>285.934</td>\n",
       "      <td>36.350</td>\n",
       "      <td>23.925</td>\n",
       "      <td>40.560</td>\n",
       "      <td>13.2678</td>\n",
       "      <td>28.30</td>\n",
       "      <td>...</td>\n",
       "      <td>31.4286</td>\n",
       "      <td>37.70</td>\n",
       "      <td>10.1881</td>\n",
       "      <td>39.292</td>\n",
       "      <td>69.297</td>\n",
       "      <td>37.7151</td>\n",
       "      <td>20.8609</td>\n",
       "      <td>17.9000</td>\n",
       "      <td>80.3224</td>\n",
       "      <td>29.819</td>\n",
       "    </tr>\n",
       "    <tr>\n",
       "      <th>1</th>\n",
       "      <td>2000-01-05</td>\n",
       "      <td>33.3564</td>\n",
       "      <td>17.500</td>\n",
       "      <td>30.2922</td>\n",
       "      <td>294.078</td>\n",
       "      <td>32.883</td>\n",
       "      <td>23.375</td>\n",
       "      <td>39.537</td>\n",
       "      <td>12.9700</td>\n",
       "      <td>27.74</td>\n",
       "      <td>...</td>\n",
       "      <td>29.0714</td>\n",
       "      <td>36.11</td>\n",
       "      <td>9.9405</td>\n",
       "      <td>34.550</td>\n",
       "      <td>66.952</td>\n",
       "      <td>36.1313</td>\n",
       "      <td>19.8862</td>\n",
       "      <td>18.3333</td>\n",
       "      <td>78.3869</td>\n",
       "      <td>30.018</td>\n",
       "    </tr>\n",
       "    <tr>\n",
       "      <th>2</th>\n",
       "      <td>2000-01-06</td>\n",
       "      <td>34.6828</td>\n",
       "      <td>18.250</td>\n",
       "      <td>32.4695</td>\n",
       "      <td>297.698</td>\n",
       "      <td>30.583</td>\n",
       "      <td>24.015</td>\n",
       "      <td>40.699</td>\n",
       "      <td>12.9700</td>\n",
       "      <td>27.65</td>\n",
       "      <td>...</td>\n",
       "      <td>30.1667</td>\n",
       "      <td>37.50</td>\n",
       "      <td>9.9405</td>\n",
       "      <td>35.671</td>\n",
       "      <td>66.134</td>\n",
       "      <td>37.9626</td>\n",
       "      <td>19.8862</td>\n",
       "      <td>18.8333</td>\n",
       "      <td>77.4676</td>\n",
       "      <td>30.664</td>\n",
       "    </tr>\n",
       "    <tr>\n",
       "      <th>3</th>\n",
       "      <td>2000-01-07</td>\n",
       "      <td>36.2040</td>\n",
       "      <td>18.000</td>\n",
       "      <td>32.0719</td>\n",
       "      <td>305.977</td>\n",
       "      <td>32.867</td>\n",
       "      <td>25.000</td>\n",
       "      <td>42.395</td>\n",
       "      <td>13.1333</td>\n",
       "      <td>27.60</td>\n",
       "      <td>...</td>\n",
       "      <td>30.9524</td>\n",
       "      <td>39.50</td>\n",
       "      <td>10.3807</td>\n",
       "      <td>43.250</td>\n",
       "      <td>68.794</td>\n",
       "      <td>38.6555</td>\n",
       "      <td>19.9210</td>\n",
       "      <td>19.4833</td>\n",
       "      <td>78.0966</td>\n",
       "      <td>31.440</td>\n",
       "    </tr>\n",
       "    <tr>\n",
       "      <th>4</th>\n",
       "      <td>2000-01-10</td>\n",
       "      <td>35.1696</td>\n",
       "      <td>18.273</td>\n",
       "      <td>30.9549</td>\n",
       "      <td>307.742</td>\n",
       "      <td>35.233</td>\n",
       "      <td>25.110</td>\n",
       "      <td>43.934</td>\n",
       "      <td>13.0250</td>\n",
       "      <td>28.70</td>\n",
       "      <td>...</td>\n",
       "      <td>32.0952</td>\n",
       "      <td>38.65</td>\n",
       "      <td>10.2890</td>\n",
       "      <td>45.017</td>\n",
       "      <td>72.887</td>\n",
       "      <td>38.0121</td>\n",
       "      <td>20.5215</td>\n",
       "      <td>19.0667</td>\n",
       "      <td>85.1127</td>\n",
       "      <td>31.658</td>\n",
       "    </tr>\n",
       "  </tbody>\n",
       "</table>\n",
       "<p>5 rows × 43 columns</p>\n",
       "</div>"
      ],
      "text/plain": [
       "  Unnamed: 0  KONINKLIJKE AHOLD DELHAIZE N  ADIDAS AG  AIR LIQUIDE SA  \\\n",
       "0 2000-01-04                       33.0765     17.500         30.5762   \n",
       "1 2000-01-05                       33.3564     17.500         30.2922   \n",
       "2 2000-01-06                       34.6828     18.250         32.4695   \n",
       "3 2000-01-07                       36.2040     18.000         32.0719   \n",
       "4 2000-01-10                       35.1696     18.273         30.9549   \n",
       "\n",
       "   ALLIANZ SE-REG  ASML HOLDING NV  BASF SE  BAYER AG-REG  \\\n",
       "0         285.934           36.350   23.925        40.560   \n",
       "1         294.078           32.883   23.375        39.537   \n",
       "2         297.698           30.583   24.015        40.699   \n",
       "3         305.977           32.867   25.000        42.395   \n",
       "4         307.742           35.233   25.110        43.934   \n",
       "\n",
       "   BANCO BILBAO VIZCAYA ARGENTA  BAYERISCHE MOTOREN WERKE AG  ...  SAFRAN SA  \\\n",
       "0                       13.2678                        28.30  ...    31.4286   \n",
       "1                       12.9700                        27.74  ...    29.0714   \n",
       "2                       12.9700                        27.65  ...    30.1667   \n",
       "3                       13.1333                        27.60  ...    30.9524   \n",
       "4                       13.0250                        28.70  ...    32.0952   \n",
       "\n",
       "   SANOFI  BANCO SANTANDER SA  SAP SE  SIEMENS AG-REG  SCHNEIDER ELECTRIC SE  \\\n",
       "0   37.70             10.1881  39.292          69.297                37.7151   \n",
       "1   36.11              9.9405  34.550          66.952                36.1313   \n",
       "2   37.50              9.9405  35.671          66.134                37.9626   \n",
       "3   39.50             10.3807  43.250          68.794                38.6555   \n",
       "4   38.65             10.2890  45.017          72.887                38.0121   \n",
       "\n",
       "   TELEFONICA SA  UNILEVER NV  VIVENDI  VOLKSWAGEN AG-PREF  \n",
       "0        20.8609      17.9000  80.3224              29.819  \n",
       "1        19.8862      18.3333  78.3869              30.018  \n",
       "2        19.8862      18.8333  77.4676              30.664  \n",
       "3        19.9210      19.4833  78.0966              31.440  \n",
       "4        20.5215      19.0667  85.1127              31.658  \n",
       "\n",
       "[5 rows x 43 columns]"
      ]
     },
     "execution_count": 29,
     "metadata": {},
     "output_type": "execute_result"
    }
   ],
   "source": [
    "data_eu_stocks = pd.read_excel('data_1_bis.xlsx')\n",
    "data_eu_stocks.head()"
   ]
  },
  {
   "cell_type": "markdown",
   "metadata": {},
   "source": [
    "### The pandas-bokeh library\n",
    "\n",
    "It allows us to plot multiple graph easily from a dataframe"
   ]
  },
  {
   "cell_type": "code",
   "execution_count": 35,
   "metadata": {},
   "outputs": [
    {
     "ename": "AttributeError",
     "evalue": "unexpected attribute 'legend_label' to Line, possible attributes are js_event_callbacks, js_property_callbacks, line_alpha, line_cap, line_color, line_dash, line_dash_offset, line_join, line_width, name, subscribed_events, tags, x or y",
     "output_type": "error",
     "traceback": [
      "\u001b[1;31m---------------------------------------------------------------------------\u001b[0m",
      "\u001b[1;31mAttributeError\u001b[0m                            Traceback (most recent call last)",
      "\u001b[1;32m<ipython-input-35-8e2d4f7ee26d>\u001b[0m in \u001b[0;36m<module>\u001b[1;34m\u001b[0m\n\u001b[0;32m      3\u001b[0m \u001b[1;33m\u001b[0m\u001b[0m\n\u001b[0;32m      4\u001b[0m \u001b[0mdata_eu_stocks_2\u001b[0m \u001b[1;33m=\u001b[0m \u001b[0mdata_eu_stocks\u001b[0m\u001b[1;33m[\u001b[0m\u001b[0mlist\u001b[0m\u001b[1;33m(\u001b[0m\u001b[0mdata_eu_stocks\u001b[0m\u001b[1;33m)\u001b[0m\u001b[1;33m[\u001b[0m\u001b[1;36m1\u001b[0m\u001b[1;33m:\u001b[0m\u001b[1;36m6\u001b[0m\u001b[1;33m]\u001b[0m\u001b[1;33m]\u001b[0m \u001b[1;31m#select the first 5 stocks\u001b[0m\u001b[1;33m\u001b[0m\u001b[1;33m\u001b[0m\u001b[0m\n\u001b[1;32m----> 5\u001b[1;33m \u001b[0mdata_eu_stocks_2\u001b[0m\u001b[1;33m.\u001b[0m\u001b[0mplot_bokeh\u001b[0m\u001b[1;33m(\u001b[0m\u001b[0mkind\u001b[0m \u001b[1;33m=\u001b[0m \u001b[1;34m'line'\u001b[0m\u001b[1;33m,\u001b[0m \u001b[0mfigsize\u001b[0m \u001b[1;33m=\u001b[0m \u001b[1;33m(\u001b[0m\u001b[1;36m900\u001b[0m\u001b[1;33m,\u001b[0m \u001b[1;36m600\u001b[0m\u001b[1;33m)\u001b[0m\u001b[1;33m,\u001b[0m \u001b[0mtitle\u001b[0m \u001b[1;33m=\u001b[0m \u001b[1;34m'European Stocks between 2000 and 2015'\u001b[0m\u001b[1;33m,\u001b[0m \u001b[0mlegend\u001b[0m \u001b[1;33m=\u001b[0m \u001b[1;34m\"1\"\u001b[0m\u001b[1;33m)\u001b[0m\u001b[1;33m\u001b[0m\u001b[1;33m\u001b[0m\u001b[0m\n\u001b[0m",
      "\u001b[1;32m~\\Anaconda3\\lib\\site-packages\\pandas_bokeh\\plot.py\u001b[0m in \u001b[0;36m__call__\u001b[1;34m(self, *args, **kwargs)\u001b[0m\n\u001b[0;32m   1785\u001b[0m \u001b[1;33m\u001b[0m\u001b[0m\n\u001b[0;32m   1786\u001b[0m     \u001b[1;32mdef\u001b[0m \u001b[0m__call__\u001b[0m\u001b[1;33m(\u001b[0m\u001b[0mself\u001b[0m\u001b[1;33m,\u001b[0m \u001b[1;33m*\u001b[0m\u001b[0margs\u001b[0m\u001b[1;33m,\u001b[0m \u001b[1;33m**\u001b[0m\u001b[0mkwargs\u001b[0m\u001b[1;33m)\u001b[0m\u001b[1;33m:\u001b[0m\u001b[1;33m\u001b[0m\u001b[1;33m\u001b[0m\u001b[0m\n\u001b[1;32m-> 1787\u001b[1;33m         \u001b[1;32mreturn\u001b[0m \u001b[0mplot\u001b[0m\u001b[1;33m(\u001b[0m\u001b[0mself\u001b[0m\u001b[1;33m.\u001b[0m\u001b[0mdf\u001b[0m\u001b[1;33m,\u001b[0m \u001b[1;33m*\u001b[0m\u001b[0margs\u001b[0m\u001b[1;33m,\u001b[0m \u001b[1;33m**\u001b[0m\u001b[0mkwargs\u001b[0m\u001b[1;33m)\u001b[0m\u001b[1;33m\u001b[0m\u001b[1;33m\u001b[0m\u001b[0m\n\u001b[0m\u001b[0;32m   1788\u001b[0m \u001b[1;33m\u001b[0m\u001b[0m\n\u001b[0;32m   1789\u001b[0m     \u001b[1;33m@\u001b[0m\u001b[0mproperty\u001b[0m\u001b[1;33m\u001b[0m\u001b[1;33m\u001b[0m\u001b[0m\n",
      "\u001b[1;32m~\\Anaconda3\\lib\\site-packages\\pandas_bokeh\\plot.py\u001b[0m in \u001b[0;36mplot\u001b[1;34m(df_in, x, y, kind, figsize, use_index, title, legend, logx, logy, xlabel, ylabel, xticks, yticks, xlim, ylim, fontsize_title, fontsize_label, fontsize_ticks, fontsize_legend, color, colormap, category, histogram_type, stacked, weights, bins, normed, cumulative, show_average, plot_data_points, plot_data_points_size, number_format, disable_scientific_axes, show_figure, return_html, panning, zooming, sizing_mode, toolbar_location, hovertool, hovertool_string, rangetool, vertical_xlabel, x_axis_location, webgl, reuse_plot, **kwargs)\u001b[0m\n\u001b[0;32m    506\u001b[0m             \u001b[0mnumber_format\u001b[0m\u001b[1;33m,\u001b[0m\u001b[1;33m\u001b[0m\u001b[1;33m\u001b[0m\u001b[0m\n\u001b[0;32m    507\u001b[0m             \u001b[0mrangetool\u001b[0m\u001b[1;33m,\u001b[0m\u001b[1;33m\u001b[0m\u001b[1;33m\u001b[0m\u001b[0m\n\u001b[1;32m--> 508\u001b[1;33m             \u001b[1;33m**\u001b[0m\u001b[0mkwargs\u001b[0m\u001b[1;33m,\u001b[0m\u001b[1;33m\u001b[0m\u001b[1;33m\u001b[0m\u001b[0m\n\u001b[0m\u001b[0;32m    509\u001b[0m         )\n\u001b[0;32m    510\u001b[0m \u001b[1;33m\u001b[0m\u001b[0m\n",
      "\u001b[1;32m~\\Anaconda3\\lib\\site-packages\\pandas_bokeh\\plot.py\u001b[0m in \u001b[0;36mlineplot\u001b[1;34m(p, source, data_cols, colormap, hovertool, xlabelname, x_axis_type, plot_data_points, plot_data_points_size, hovertool_string, number_format, rangetool, **kwargs)\u001b[0m\n\u001b[0;32m   1059\u001b[0m         \u001b[0mnumber_format\u001b[0m\u001b[1;33m=\u001b[0m\u001b[0mnumber_format\u001b[0m\u001b[1;33m,\u001b[0m\u001b[1;33m\u001b[0m\u001b[1;33m\u001b[0m\u001b[0m\n\u001b[0;32m   1060\u001b[0m         \u001b[0mrangetool\u001b[0m\u001b[1;33m=\u001b[0m\u001b[0mrangetool\u001b[0m\u001b[1;33m,\u001b[0m\u001b[1;33m\u001b[0m\u001b[1;33m\u001b[0m\u001b[0m\n\u001b[1;32m-> 1061\u001b[1;33m         \u001b[1;33m**\u001b[0m\u001b[0mkwargs\u001b[0m\u001b[1;33m,\u001b[0m\u001b[1;33m\u001b[0m\u001b[1;33m\u001b[0m\u001b[0m\n\u001b[0m\u001b[0;32m   1062\u001b[0m     )\n\u001b[0;32m   1063\u001b[0m \u001b[1;33m\u001b[0m\u001b[0m\n",
      "\u001b[1;32m~\\Anaconda3\\lib\\site-packages\\pandas_bokeh\\plot.py\u001b[0m in \u001b[0;36m_base_lineplot\u001b[1;34m(linetype, p, source, data_cols, colormap, hovertool, xlabelname, x_axis_type, plot_data_points, plot_data_points_size, hovertool_string, number_format, rangetool, **kwargs)\u001b[0m\n\u001b[0;32m    991\u001b[0m             \u001b[0msource\u001b[0m\u001b[1;33m=\u001b[0m\u001b[0msource\u001b[0m\u001b[1;33m,\u001b[0m\u001b[1;33m\u001b[0m\u001b[1;33m\u001b[0m\u001b[0m\n\u001b[0;32m    992\u001b[0m             \u001b[0mcolor\u001b[0m\u001b[1;33m=\u001b[0m\u001b[0mcolor\u001b[0m\u001b[1;33m,\u001b[0m\u001b[1;33m\u001b[0m\u001b[1;33m\u001b[0m\u001b[0m\n\u001b[1;32m--> 993\u001b[1;33m             \u001b[1;33m**\u001b[0m\u001b[0mkwargs\u001b[0m\u001b[1;33m,\u001b[0m\u001b[1;33m\u001b[0m\u001b[1;33m\u001b[0m\u001b[0m\n\u001b[0m\u001b[0;32m    994\u001b[0m         )\n\u001b[0;32m    995\u001b[0m \u001b[1;33m\u001b[0m\u001b[0m\n",
      "\u001b[1;32mfakesource\u001b[0m in \u001b[0;36mline\u001b[1;34m(self, x, y, **kwargs)\u001b[0m\n",
      "\u001b[1;32m~\\Anaconda3\\lib\\site-packages\\bokeh\\plotting\\helpers.py\u001b[0m in \u001b[0;36mfunc\u001b[1;34m(self, **kwargs)\u001b[0m\n",
      "\u001b[1;32m~\\Anaconda3\\lib\\site-packages\\bokeh\\plotting\\helpers.py\u001b[0m in \u001b[0;36m_make_glyph\u001b[1;34m(glyphclass, kws, extra)\u001b[0m\n",
      "\u001b[1;32m~\\Anaconda3\\lib\\site-packages\\bokeh\\model.py\u001b[0m in \u001b[0;36m__init__\u001b[1;34m(self, **kwargs)\u001b[0m\n\u001b[0;32m    305\u001b[0m     \u001b[0mthe\u001b[0m \u001b[0mset\u001b[0m \u001b[0mof\u001b[0m \u001b[0mevents\u001b[0m \u001b[0mthat\u001b[0m \u001b[0mwill\u001b[0m \u001b[0mbe\u001b[0m \u001b[0mcommunicated\u001b[0m \u001b[1;32mfrom\u001b[0m \u001b[0mBokehJS\u001b[0m \u001b[0mback\u001b[0m \u001b[0mto\u001b[0m\u001b[1;33m\u001b[0m\u001b[1;33m\u001b[0m\u001b[0m\n\u001b[0;32m    306\u001b[0m     \u001b[0mPython\u001b[0m \u001b[1;32mfor\u001b[0m \u001b[0mthis\u001b[0m \u001b[0mmodel\u001b[0m\u001b[1;33m.\u001b[0m\u001b[1;33m\u001b[0m\u001b[1;33m\u001b[0m\u001b[0m\n\u001b[1;32m--> 307\u001b[1;33m     \"\"\")\n\u001b[0m\u001b[0;32m    308\u001b[0m \u001b[1;33m\u001b[0m\u001b[0m\n\u001b[0;32m    309\u001b[0m     js_property_callbacks = Dict(String, List(Instance(\"bokeh.models.callbacks.CustomJS\")), help=\"\"\"\n",
      "\u001b[1;32m~\\Anaconda3\\lib\\site-packages\\bokeh\\core\\has_props.py\u001b[0m in \u001b[0;36m__init__\u001b[1;34m(self, **properties)\u001b[0m\n\u001b[0;32m    251\u001b[0m         \u001b[0mself\u001b[0m\u001b[1;33m.\u001b[0m\u001b[0m_initialized\u001b[0m \u001b[1;33m=\u001b[0m \u001b[1;32mTrue\u001b[0m\u001b[1;33m\u001b[0m\u001b[1;33m\u001b[0m\u001b[0m\n\u001b[0;32m    252\u001b[0m \u001b[1;33m\u001b[0m\u001b[0m\n\u001b[1;32m--> 253\u001b[1;33m     \u001b[1;32mdef\u001b[0m \u001b[0m__setattr__\u001b[0m\u001b[1;33m(\u001b[0m\u001b[0mself\u001b[0m\u001b[1;33m,\u001b[0m \u001b[0mname\u001b[0m\u001b[1;33m,\u001b[0m \u001b[0mvalue\u001b[0m\u001b[1;33m)\u001b[0m\u001b[1;33m:\u001b[0m\u001b[1;33m\u001b[0m\u001b[1;33m\u001b[0m\u001b[0m\n\u001b[0m\u001b[0;32m    254\u001b[0m         ''' Intercept attribute setting on HasProps in order to special case\n\u001b[0;32m    255\u001b[0m         \u001b[0ma\u001b[0m \u001b[0mfew\u001b[0m \u001b[0msituations\u001b[0m\u001b[1;33m:\u001b[0m\u001b[1;33m\u001b[0m\u001b[1;33m\u001b[0m\u001b[0m\n",
      "\u001b[1;32m~\\Anaconda3\\lib\\site-packages\\bokeh\\core\\has_props.py\u001b[0m in \u001b[0;36m__setattr__\u001b[1;34m(self, name, value)\u001b[0m\n\u001b[0;32m    286\u001b[0m                 (name, self.__class__.__name__, text, nice_join(matches)))\n\u001b[0;32m    287\u001b[0m \u001b[1;33m\u001b[0m\u001b[0m\n\u001b[1;32m--> 288\u001b[1;33m     \u001b[1;32mdef\u001b[0m \u001b[0m__str__\u001b[0m\u001b[1;33m(\u001b[0m\u001b[0mself\u001b[0m\u001b[1;33m)\u001b[0m\u001b[1;33m:\u001b[0m\u001b[1;33m\u001b[0m\u001b[1;33m\u001b[0m\u001b[0m\n\u001b[0m\u001b[0;32m    289\u001b[0m         \u001b[1;32mreturn\u001b[0m \u001b[1;34m\"%s(...)\"\u001b[0m \u001b[1;33m%\u001b[0m \u001b[0mself\u001b[0m\u001b[1;33m.\u001b[0m\u001b[0m__class__\u001b[0m\u001b[1;33m.\u001b[0m\u001b[0m__name__\u001b[0m\u001b[1;33m\u001b[0m\u001b[1;33m\u001b[0m\u001b[0m\n\u001b[0;32m    290\u001b[0m \u001b[1;33m\u001b[0m\u001b[0m\n",
      "\u001b[1;31mAttributeError\u001b[0m: unexpected attribute 'legend_label' to Line, possible attributes are js_event_callbacks, js_property_callbacks, line_alpha, line_cap, line_color, line_dash, line_dash_offset, line_join, line_width, name, subscribed_events, tags, x or y"
     ]
    }
   ],
   "source": [
    "#Plot a dataframe using the pandas-bokeh library in 2 lines\n",
    "import pandas_bokeh\n",
    "\n",
    "data_eu_stocks_2 = data_eu_stocks[list(data_eu_stocks)[1:6]] #select the first 5 stocks\n",
    "data_eu_stocks_2.plot_bokeh(kind = 'line', figsize = (900, 600), title = 'European Stocks between 2000 and 2015')"
   ]
  },
  {
   "cell_type": "markdown",
   "metadata": {},
   "source": [
    "We can add tools such as rangetool:"
   ]
  },
  {
   "cell_type": "code",
   "execution_count": 34,
   "metadata": {},
   "outputs": [
    {
     "ename": "AttributeError",
     "evalue": "unexpected attribute 'legend_label' to Line, possible attributes are js_event_callbacks, js_property_callbacks, line_alpha, line_cap, line_color, line_dash, line_dash_offset, line_join, line_width, name, subscribed_events, tags, x or y",
     "output_type": "error",
     "traceback": [
      "\u001b[1;31m---------------------------------------------------------------------------\u001b[0m",
      "\u001b[1;31mAttributeError\u001b[0m                            Traceback (most recent call last)",
      "\u001b[1;32m<ipython-input-34-c64b5eab1bf9>\u001b[0m in \u001b[0;36m<module>\u001b[1;34m\u001b[0m\n\u001b[1;32m----> 1\u001b[1;33m \u001b[0mdata_eu_stocks_2\u001b[0m\u001b[1;33m.\u001b[0m\u001b[0mplot_bokeh\u001b[0m\u001b[1;33m(\u001b[0m\u001b[0mkind\u001b[0m \u001b[1;33m=\u001b[0m \u001b[1;34m'line'\u001b[0m\u001b[1;33m,\u001b[0m \u001b[0mfigsize\u001b[0m \u001b[1;33m=\u001b[0m \u001b[1;33m(\u001b[0m\u001b[1;36m900\u001b[0m\u001b[1;33m,\u001b[0m \u001b[1;36m400\u001b[0m\u001b[1;33m)\u001b[0m\u001b[1;33m,\u001b[0m \u001b[0mtitle\u001b[0m \u001b[1;33m=\u001b[0m \u001b[1;34m'European Stocks between 2000 and 2015'\u001b[0m\u001b[1;33m,\u001b[0m \u001b[0mrangetool\u001b[0m \u001b[1;33m=\u001b[0m \u001b[1;34m'True'\u001b[0m\u001b[1;33m)\u001b[0m\u001b[1;33m\u001b[0m\u001b[1;33m\u001b[0m\u001b[0m\n\u001b[0m",
      "\u001b[1;32m~\\Anaconda3\\lib\\site-packages\\pandas_bokeh\\plot.py\u001b[0m in \u001b[0;36m__call__\u001b[1;34m(self, *args, **kwargs)\u001b[0m\n\u001b[0;32m   1785\u001b[0m \u001b[1;33m\u001b[0m\u001b[0m\n\u001b[0;32m   1786\u001b[0m     \u001b[1;32mdef\u001b[0m \u001b[0m__call__\u001b[0m\u001b[1;33m(\u001b[0m\u001b[0mself\u001b[0m\u001b[1;33m,\u001b[0m \u001b[1;33m*\u001b[0m\u001b[0margs\u001b[0m\u001b[1;33m,\u001b[0m \u001b[1;33m**\u001b[0m\u001b[0mkwargs\u001b[0m\u001b[1;33m)\u001b[0m\u001b[1;33m:\u001b[0m\u001b[1;33m\u001b[0m\u001b[1;33m\u001b[0m\u001b[0m\n\u001b[1;32m-> 1787\u001b[1;33m         \u001b[1;32mreturn\u001b[0m \u001b[0mplot\u001b[0m\u001b[1;33m(\u001b[0m\u001b[0mself\u001b[0m\u001b[1;33m.\u001b[0m\u001b[0mdf\u001b[0m\u001b[1;33m,\u001b[0m \u001b[1;33m*\u001b[0m\u001b[0margs\u001b[0m\u001b[1;33m,\u001b[0m \u001b[1;33m**\u001b[0m\u001b[0mkwargs\u001b[0m\u001b[1;33m)\u001b[0m\u001b[1;33m\u001b[0m\u001b[1;33m\u001b[0m\u001b[0m\n\u001b[0m\u001b[0;32m   1788\u001b[0m \u001b[1;33m\u001b[0m\u001b[0m\n\u001b[0;32m   1789\u001b[0m     \u001b[1;33m@\u001b[0m\u001b[0mproperty\u001b[0m\u001b[1;33m\u001b[0m\u001b[1;33m\u001b[0m\u001b[0m\n",
      "\u001b[1;32m~\\Anaconda3\\lib\\site-packages\\pandas_bokeh\\plot.py\u001b[0m in \u001b[0;36mplot\u001b[1;34m(df_in, x, y, kind, figsize, use_index, title, legend, logx, logy, xlabel, ylabel, xticks, yticks, xlim, ylim, fontsize_title, fontsize_label, fontsize_ticks, fontsize_legend, color, colormap, category, histogram_type, stacked, weights, bins, normed, cumulative, show_average, plot_data_points, plot_data_points_size, number_format, disable_scientific_axes, show_figure, return_html, panning, zooming, sizing_mode, toolbar_location, hovertool, hovertool_string, rangetool, vertical_xlabel, x_axis_location, webgl, reuse_plot, **kwargs)\u001b[0m\n\u001b[0;32m    506\u001b[0m             \u001b[0mnumber_format\u001b[0m\u001b[1;33m,\u001b[0m\u001b[1;33m\u001b[0m\u001b[1;33m\u001b[0m\u001b[0m\n\u001b[0;32m    507\u001b[0m             \u001b[0mrangetool\u001b[0m\u001b[1;33m,\u001b[0m\u001b[1;33m\u001b[0m\u001b[1;33m\u001b[0m\u001b[0m\n\u001b[1;32m--> 508\u001b[1;33m             \u001b[1;33m**\u001b[0m\u001b[0mkwargs\u001b[0m\u001b[1;33m,\u001b[0m\u001b[1;33m\u001b[0m\u001b[1;33m\u001b[0m\u001b[0m\n\u001b[0m\u001b[0;32m    509\u001b[0m         )\n\u001b[0;32m    510\u001b[0m \u001b[1;33m\u001b[0m\u001b[0m\n",
      "\u001b[1;32m~\\Anaconda3\\lib\\site-packages\\pandas_bokeh\\plot.py\u001b[0m in \u001b[0;36mlineplot\u001b[1;34m(p, source, data_cols, colormap, hovertool, xlabelname, x_axis_type, plot_data_points, plot_data_points_size, hovertool_string, number_format, rangetool, **kwargs)\u001b[0m\n\u001b[0;32m   1059\u001b[0m         \u001b[0mnumber_format\u001b[0m\u001b[1;33m=\u001b[0m\u001b[0mnumber_format\u001b[0m\u001b[1;33m,\u001b[0m\u001b[1;33m\u001b[0m\u001b[1;33m\u001b[0m\u001b[0m\n\u001b[0;32m   1060\u001b[0m         \u001b[0mrangetool\u001b[0m\u001b[1;33m=\u001b[0m\u001b[0mrangetool\u001b[0m\u001b[1;33m,\u001b[0m\u001b[1;33m\u001b[0m\u001b[1;33m\u001b[0m\u001b[0m\n\u001b[1;32m-> 1061\u001b[1;33m         \u001b[1;33m**\u001b[0m\u001b[0mkwargs\u001b[0m\u001b[1;33m,\u001b[0m\u001b[1;33m\u001b[0m\u001b[1;33m\u001b[0m\u001b[0m\n\u001b[0m\u001b[0;32m   1062\u001b[0m     )\n\u001b[0;32m   1063\u001b[0m \u001b[1;33m\u001b[0m\u001b[0m\n",
      "\u001b[1;32m~\\Anaconda3\\lib\\site-packages\\pandas_bokeh\\plot.py\u001b[0m in \u001b[0;36m_base_lineplot\u001b[1;34m(linetype, p, source, data_cols, colormap, hovertool, xlabelname, x_axis_type, plot_data_points, plot_data_points_size, hovertool_string, number_format, rangetool, **kwargs)\u001b[0m\n\u001b[0;32m    991\u001b[0m             \u001b[0msource\u001b[0m\u001b[1;33m=\u001b[0m\u001b[0msource\u001b[0m\u001b[1;33m,\u001b[0m\u001b[1;33m\u001b[0m\u001b[1;33m\u001b[0m\u001b[0m\n\u001b[0;32m    992\u001b[0m             \u001b[0mcolor\u001b[0m\u001b[1;33m=\u001b[0m\u001b[0mcolor\u001b[0m\u001b[1;33m,\u001b[0m\u001b[1;33m\u001b[0m\u001b[1;33m\u001b[0m\u001b[0m\n\u001b[1;32m--> 993\u001b[1;33m             \u001b[1;33m**\u001b[0m\u001b[0mkwargs\u001b[0m\u001b[1;33m,\u001b[0m\u001b[1;33m\u001b[0m\u001b[1;33m\u001b[0m\u001b[0m\n\u001b[0m\u001b[0;32m    994\u001b[0m         )\n\u001b[0;32m    995\u001b[0m \u001b[1;33m\u001b[0m\u001b[0m\n",
      "\u001b[1;32mfakesource\u001b[0m in \u001b[0;36mline\u001b[1;34m(self, x, y, **kwargs)\u001b[0m\n",
      "\u001b[1;32m~\\Anaconda3\\lib\\site-packages\\bokeh\\plotting\\helpers.py\u001b[0m in \u001b[0;36mfunc\u001b[1;34m(self, **kwargs)\u001b[0m\n",
      "\u001b[1;32m~\\Anaconda3\\lib\\site-packages\\bokeh\\plotting\\helpers.py\u001b[0m in \u001b[0;36m_make_glyph\u001b[1;34m(glyphclass, kws, extra)\u001b[0m\n",
      "\u001b[1;32m~\\Anaconda3\\lib\\site-packages\\bokeh\\model.py\u001b[0m in \u001b[0;36m__init__\u001b[1;34m(self, **kwargs)\u001b[0m\n\u001b[0;32m    305\u001b[0m     \u001b[0mthe\u001b[0m \u001b[0mset\u001b[0m \u001b[0mof\u001b[0m \u001b[0mevents\u001b[0m \u001b[0mthat\u001b[0m \u001b[0mwill\u001b[0m \u001b[0mbe\u001b[0m \u001b[0mcommunicated\u001b[0m \u001b[1;32mfrom\u001b[0m \u001b[0mBokehJS\u001b[0m \u001b[0mback\u001b[0m \u001b[0mto\u001b[0m\u001b[1;33m\u001b[0m\u001b[1;33m\u001b[0m\u001b[0m\n\u001b[0;32m    306\u001b[0m     \u001b[0mPython\u001b[0m \u001b[1;32mfor\u001b[0m \u001b[0mthis\u001b[0m \u001b[0mmodel\u001b[0m\u001b[1;33m.\u001b[0m\u001b[1;33m\u001b[0m\u001b[1;33m\u001b[0m\u001b[0m\n\u001b[1;32m--> 307\u001b[1;33m     \"\"\")\n\u001b[0m\u001b[0;32m    308\u001b[0m \u001b[1;33m\u001b[0m\u001b[0m\n\u001b[0;32m    309\u001b[0m     js_property_callbacks = Dict(String, List(Instance(\"bokeh.models.callbacks.CustomJS\")), help=\"\"\"\n",
      "\u001b[1;32m~\\Anaconda3\\lib\\site-packages\\bokeh\\core\\has_props.py\u001b[0m in \u001b[0;36m__init__\u001b[1;34m(self, **properties)\u001b[0m\n\u001b[0;32m    251\u001b[0m         \u001b[0mself\u001b[0m\u001b[1;33m.\u001b[0m\u001b[0m_initialized\u001b[0m \u001b[1;33m=\u001b[0m \u001b[1;32mTrue\u001b[0m\u001b[1;33m\u001b[0m\u001b[1;33m\u001b[0m\u001b[0m\n\u001b[0;32m    252\u001b[0m \u001b[1;33m\u001b[0m\u001b[0m\n\u001b[1;32m--> 253\u001b[1;33m     \u001b[1;32mdef\u001b[0m \u001b[0m__setattr__\u001b[0m\u001b[1;33m(\u001b[0m\u001b[0mself\u001b[0m\u001b[1;33m,\u001b[0m \u001b[0mname\u001b[0m\u001b[1;33m,\u001b[0m \u001b[0mvalue\u001b[0m\u001b[1;33m)\u001b[0m\u001b[1;33m:\u001b[0m\u001b[1;33m\u001b[0m\u001b[1;33m\u001b[0m\u001b[0m\n\u001b[0m\u001b[0;32m    254\u001b[0m         ''' Intercept attribute setting on HasProps in order to special case\n\u001b[0;32m    255\u001b[0m         \u001b[0ma\u001b[0m \u001b[0mfew\u001b[0m \u001b[0msituations\u001b[0m\u001b[1;33m:\u001b[0m\u001b[1;33m\u001b[0m\u001b[1;33m\u001b[0m\u001b[0m\n",
      "\u001b[1;32m~\\Anaconda3\\lib\\site-packages\\bokeh\\core\\has_props.py\u001b[0m in \u001b[0;36m__setattr__\u001b[1;34m(self, name, value)\u001b[0m\n\u001b[0;32m    286\u001b[0m                 (name, self.__class__.__name__, text, nice_join(matches)))\n\u001b[0;32m    287\u001b[0m \u001b[1;33m\u001b[0m\u001b[0m\n\u001b[1;32m--> 288\u001b[1;33m     \u001b[1;32mdef\u001b[0m \u001b[0m__str__\u001b[0m\u001b[1;33m(\u001b[0m\u001b[0mself\u001b[0m\u001b[1;33m)\u001b[0m\u001b[1;33m:\u001b[0m\u001b[1;33m\u001b[0m\u001b[1;33m\u001b[0m\u001b[0m\n\u001b[0m\u001b[0;32m    289\u001b[0m         \u001b[1;32mreturn\u001b[0m \u001b[1;34m\"%s(...)\"\u001b[0m \u001b[1;33m%\u001b[0m \u001b[0mself\u001b[0m\u001b[1;33m.\u001b[0m\u001b[0m__class__\u001b[0m\u001b[1;33m.\u001b[0m\u001b[0m__name__\u001b[0m\u001b[1;33m\u001b[0m\u001b[1;33m\u001b[0m\u001b[0m\n\u001b[0;32m    290\u001b[0m \u001b[1;33m\u001b[0m\u001b[0m\n",
      "\u001b[1;31mAttributeError\u001b[0m: unexpected attribute 'legend_label' to Line, possible attributes are js_event_callbacks, js_property_callbacks, line_alpha, line_cap, line_color, line_dash, line_dash_offset, line_join, line_width, name, subscribed_events, tags, x or y"
     ]
    }
   ],
   "source": [
    "data_eu_stocks_2.plot_bokeh(kind = 'line', figsize = (900, 400), title = 'European Stocks between 2000 and 2015', rangetool = 'True')"
   ]
  },
  {
   "cell_type": "markdown",
   "metadata": {},
   "source": [
    "# Linked plot\n",
    "\n",
    "Visualize and manipulate several figures simultaneaously"
   ]
  },
  {
   "cell_type": "code",
   "execution_count": 17,
   "metadata": {
    "scrolled": true
   },
   "outputs": [
    {
     "data": {
      "text/html": [
       "\n",
       "\n",
       "\n",
       "\n",
       "\n",
       "\n",
       "  <div class=\"bk-root\" id=\"da552071-7a77-4715-ab53-5029b32b65f7\" data-root-id=\"3260\"></div>\n"
      ]
     },
     "metadata": {},
     "output_type": "display_data"
    },
    {
     "data": {
      "application/javascript": [
       "(function(root) {\n",
       "  function embed_document(root) {\n",
       "    \n",
       "  var docs_json = {\"0c1e25a0-b967-48b5-907f-b12ed676a49f\":{\"roots\":{\"references\":[{\"attributes\":{\"children\":[{\"id\":\"3259\"},{\"id\":\"3257\"}]},\"id\":\"3260\",\"type\":\"Column\"},{\"attributes\":{\"active_drag\":\"auto\",\"active_inspect\":\"auto\",\"active_multi\":null,\"active_scroll\":\"auto\",\"active_tap\":\"auto\",\"tools\":[{\"id\":\"3174\"},{\"id\":\"3175\"},{\"id\":\"3176\"},{\"id\":\"3177\"},{\"id\":\"3178\"},{\"id\":\"3179\"}]},\"id\":\"3181\",\"type\":\"Toolbar\"},{\"attributes\":{\"bottom_units\":\"screen\",\"fill_alpha\":0.5,\"fill_color\":\"lightgrey\",\"left_units\":\"screen\",\"level\":\"overlay\",\"line_alpha\":1.0,\"line_color\":\"black\",\"line_dash\":[4,4],\"line_width\":2,\"right_units\":\"screen\",\"top_units\":\"screen\"},\"id\":\"3180\",\"type\":\"BoxAnnotation\"},{\"attributes\":{\"source\":{\"id\":\"3188\"}},\"id\":\"3192\",\"type\":\"CDSView\"},{\"attributes\":{\"data_source\":{\"id\":\"3188\"},\"glyph\":{\"id\":\"3189\"},\"hover_glyph\":null,\"muted_glyph\":null,\"nonselection_glyph\":{\"id\":\"3190\"},\"selection_glyph\":null,\"view\":{\"id\":\"3192\"}},\"id\":\"3191\",\"type\":\"GlyphRenderer\"},{\"attributes\":{\"data\":{\"top\":{\"__ndarray__\":\"8KfIkIujwT+4etYyleHtP/zojb3NxMM/ZIzlV2kM2z9eCxxQZdDaP/o539LAQds/kM4JpA173T9VqHG5ayrrP4DcfeUh+r8/NcW34T+h6z+I6Qc4BOXCPw0ySdN33uI/kj2R00GN6z+qDVGNeVXaPy6FBFQ6Q+Q/gBbsS1tk0D8AvvZj5lyEP8h1BpUZpuw/KsvKunfO6z89beCqyqjnP4s4C5OawOc/QMUihygavz95bMwYZJ3mP1Cz1mya2b8/aMeNOL1u5D8iq7XSCF/VP+BCSGzdQMA/sPhExvcvwz8rXvWWEW3rP76ptJQTO94/x2hwSmUf6z9YTxu/Zr+8P6Y2IKp6nu4/txVaXDWn7T/ozZNifZq0P5eAiIAjVOM/Z/6m+mMD5D9ZiNJEpwXmPzjEPvZIyNE/vqjwGP7U5j8=\",\"dtype\":\"float64\",\"order\":\"little\",\"shape\":[40]},\"x\":{\"__ndarray__\":\"AAAAAAEAAAACAAAAAwAAAAQAAAAFAAAABgAAAAcAAAAIAAAACQAAAAoAAAALAAAADAAAAA0AAAAOAAAADwAAABAAAAARAAAAEgAAABMAAAAUAAAAFQAAABYAAAAXAAAAGAAAABkAAAAaAAAAGwAAABwAAAAdAAAAHgAAAB8AAAAgAAAAIQAAACIAAAAjAAAAJAAAACUAAAAmAAAAJwAAAA==\",\"dtype\":\"int32\",\"order\":\"little\",\"shape\":[40]}},\"selected\":{\"id\":\"3253\"},\"selection_policy\":{\"id\":\"3254\"}},\"id\":\"3222\",\"type\":\"ColumnDataSource\"},{\"attributes\":{},\"id\":\"3196\",\"type\":\"LinearScale\"},{\"attributes\":{\"line_alpha\":0.1,\"line_color\":\"#1f77b4\",\"x\":{\"field\":\"x\"},\"y\":{\"field\":\"y\"}},\"id\":\"3190\",\"type\":\"Line\"},{\"attributes\":{},\"id\":\"3198\",\"type\":\"LinearScale\"},{\"attributes\":{\"formatter\":{\"id\":\"3250\"},\"ticker\":{\"id\":\"3201\"}},\"id\":\"3200\",\"type\":\"LinearAxis\"},{\"attributes\":{},\"id\":\"3201\",\"type\":\"BasicTicker\"},{\"attributes\":{\"axis\":{\"id\":\"3200\"},\"ticker\":null},\"id\":\"3203\",\"type\":\"Grid\"},{\"attributes\":{\"formatter\":{\"id\":\"3252\"},\"ticker\":{\"id\":\"3205\"}},\"id\":\"3204\",\"type\":\"LinearAxis\"},{\"attributes\":{},\"id\":\"3205\",\"type\":\"BasicTicker\"},{\"attributes\":{\"axis\":{\"id\":\"3204\"},\"dimension\":1,\"ticker\":null},\"id\":\"3207\",\"type\":\"Grid\"},{\"attributes\":{\"source\":{\"id\":\"3222\"}},\"id\":\"3226\",\"type\":\"CDSView\"},{\"attributes\":{\"children\":[[{\"id\":\"3123\"},0,0],[{\"id\":\"3159\"},0,1],[{\"id\":\"3193\"},0,2]]},\"id\":\"3257\",\"type\":\"GridBox\"},{\"attributes\":{},\"id\":\"3234\",\"type\":\"UnionRenderers\"},{\"attributes\":{},\"id\":\"3208\",\"type\":\"PanTool\"},{\"attributes\":{},\"id\":\"3209\",\"type\":\"WheelZoomTool\"},{\"attributes\":{\"overlay\":{\"id\":\"3214\"}},\"id\":\"3210\",\"type\":\"BoxZoomTool\"},{\"attributes\":{},\"id\":\"3211\",\"type\":\"SaveTool\"},{\"attributes\":{},\"id\":\"3212\",\"type\":\"ResetTool\"},{\"attributes\":{},\"id\":\"3213\",\"type\":\"HelpTool\"},{\"attributes\":{\"fill_color\":{\"value\":\"#1f77b4\"},\"line_color\":{\"value\":\"#1f77b4\"},\"top\":{\"field\":\"top\"},\"width\":{\"value\":0.5},\"x\":{\"field\":\"x\"}},\"id\":\"3223\",\"type\":\"VBar\"},{\"attributes\":{\"active_drag\":\"auto\",\"active_inspect\":\"auto\",\"active_multi\":null,\"active_scroll\":\"auto\",\"active_tap\":\"auto\",\"tools\":[{\"id\":\"3208\"},{\"id\":\"3209\"},{\"id\":\"3210\"},{\"id\":\"3211\"},{\"id\":\"3212\"},{\"id\":\"3213\"}]},\"id\":\"3215\",\"type\":\"Toolbar\"},{\"attributes\":{\"bottom_units\":\"screen\",\"fill_alpha\":0.5,\"fill_color\":\"lightgrey\",\"left_units\":\"screen\",\"level\":\"overlay\",\"line_alpha\":1.0,\"line_color\":\"black\",\"line_dash\":[4,4],\"line_width\":2,\"right_units\":\"screen\",\"top_units\":\"screen\"},\"id\":\"3214\",\"type\":\"BoxAnnotation\"},{\"attributes\":{},\"id\":\"3130\",\"type\":\"LinearScale\"},{\"attributes\":{},\"id\":\"3124\",\"type\":\"DataRange1d\"},{\"attributes\":{\"fill_alpha\":{\"value\":0.1},\"fill_color\":{\"value\":\"#1f77b4\"},\"line_alpha\":{\"value\":0.1},\"line_color\":{\"value\":\"#1f77b4\"},\"top\":{\"field\":\"top\"},\"width\":{\"value\":0.5},\"x\":{\"field\":\"x\"}},\"id\":\"3224\",\"type\":\"VBar\"},{\"attributes\":{\"data_source\":{\"id\":\"3222\"},\"glyph\":{\"id\":\"3223\"},\"hover_glyph\":null,\"muted_glyph\":null,\"nonselection_glyph\":{\"id\":\"3224\"},\"selection_glyph\":null,\"view\":{\"id\":\"3226\"}},\"id\":\"3225\",\"type\":\"GlyphRenderer\"},{\"attributes\":{\"text\":\"\"},\"id\":\"3227\",\"type\":\"Title\"},{\"attributes\":{},\"id\":\"3230\",\"type\":\"BasicTickFormatter\"},{\"attributes\":{},\"id\":\"3232\",\"type\":\"BasicTickFormatter\"},{\"attributes\":{},\"id\":\"3128\",\"type\":\"LinearScale\"},{\"attributes\":{},\"id\":\"3126\",\"type\":\"DataRange1d\"},{\"attributes\":{\"text\":\"\"},\"id\":\"3237\",\"type\":\"Title\"},{\"attributes\":{},\"id\":\"3240\",\"type\":\"BasicTickFormatter\"},{\"attributes\":{\"data\":{\"x\":{\"__ndarray__\":\"AAAAAAEAAAACAAAAAwAAAAQAAAAFAAAABgAAAAcAAAAIAAAACQAAAAoAAAALAAAADAAAAA0AAAAOAAAADwAAABAAAAARAAAAEgAAABMAAAAUAAAAFQAAABYAAAAXAAAAGAAAABkAAAAaAAAAGwAAABwAAAAdAAAAHgAAAB8AAAAgAAAAIQAAACIAAAAjAAAAJAAAACUAAAAmAAAAJwAAAA==\",\"dtype\":\"int32\",\"order\":\"little\",\"shape\":[40]},\"y\":{\"__ndarray__\":\"8KfIkIujwT+4etYyleHtP/zojb3NxMM/ZIzlV2kM2z9eCxxQZdDaP/o539LAQds/kM4JpA173T9VqHG5ayrrP4DcfeUh+r8/NcW34T+h6z+I6Qc4BOXCPw0ySdN33uI/kj2R00GN6z+qDVGNeVXaPy6FBFQ6Q+Q/gBbsS1tk0D8AvvZj5lyEP8h1BpUZpuw/KsvKunfO6z89beCqyqjnP4s4C5OawOc/QMUihygavz95bMwYZJ3mP1Cz1mya2b8/aMeNOL1u5D8iq7XSCF/VP+BCSGzdQMA/sPhExvcvwz8rXvWWEW3rP76ptJQTO94/x2hwSmUf6z9YTxu/Zr+8P6Y2IKp6nu4/txVaXDWn7T/ozZNifZq0P5eAiIAjVOM/Z/6m+mMD5D9ZiNJEpwXmPzjEPvZIyNE/vqjwGP7U5j8=\",\"dtype\":\"float64\",\"order\":\"little\",\"shape\":[40]}},\"selected\":{\"id\":\"3233\"},\"selection_policy\":{\"id\":\"3234\"}},\"id\":\"3154\",\"type\":\"ColumnDataSource\"},{\"attributes\":{},\"id\":\"3242\",\"type\":\"BasicTickFormatter\"},{\"attributes\":{\"below\":[{\"id\":\"3132\"}],\"center\":[{\"id\":\"3135\"},{\"id\":\"3139\"}],\"left\":[{\"id\":\"3136\"}],\"plot_height\":250,\"plot_width\":250,\"renderers\":[{\"id\":\"3157\"}],\"title\":{\"id\":\"3227\"},\"toolbar\":{\"id\":\"3147\"},\"toolbar_location\":null,\"x_range\":{\"id\":\"3124\"},\"x_scale\":{\"id\":\"3128\"},\"y_range\":{\"id\":\"3126\"},\"y_scale\":{\"id\":\"3130\"}},\"id\":\"3123\",\"subtype\":\"Figure\",\"type\":\"Plot\"},{\"attributes\":{},\"id\":\"3243\",\"type\":\"Selection\"},{\"attributes\":{},\"id\":\"3244\",\"type\":\"UnionRenderers\"},{\"attributes\":{\"formatter\":{\"id\":\"3230\"},\"ticker\":{\"id\":\"3133\"}},\"id\":\"3132\",\"type\":\"LinearAxis\"},{\"attributes\":{\"text\":\"\"},\"id\":\"3247\",\"type\":\"Title\"},{\"attributes\":{},\"id\":\"3133\",\"type\":\"BasicTicker\"},{\"attributes\":{},\"id\":\"3250\",\"type\":\"BasicTickFormatter\"},{\"attributes\":{\"axis\":{\"id\":\"3132\"},\"ticker\":null},\"id\":\"3135\",\"type\":\"Grid\"},{\"attributes\":{},\"id\":\"3252\",\"type\":\"BasicTickFormatter\"},{\"attributes\":{\"formatter\":{\"id\":\"3232\"},\"ticker\":{\"id\":\"3137\"}},\"id\":\"3136\",\"type\":\"LinearAxis\"},{\"attributes\":{},\"id\":\"3253\",\"type\":\"Selection\"},{\"attributes\":{},\"id\":\"3137\",\"type\":\"BasicTicker\"},{\"attributes\":{},\"id\":\"3254\",\"type\":\"UnionRenderers\"},{\"attributes\":{\"axis\":{\"id\":\"3136\"},\"dimension\":1,\"ticker\":null},\"id\":\"3139\",\"type\":\"Grid\"},{\"attributes\":{\"toolbars\":[{\"id\":\"3147\"},{\"id\":\"3181\"},{\"id\":\"3215\"}],\"tools\":[{\"id\":\"3140\"},{\"id\":\"3141\"},{\"id\":\"3142\"},{\"id\":\"3143\"},{\"id\":\"3144\"},{\"id\":\"3145\"},{\"id\":\"3174\"},{\"id\":\"3175\"},{\"id\":\"3176\"},{\"id\":\"3177\"},{\"id\":\"3178\"},{\"id\":\"3179\"},{\"id\":\"3208\"},{\"id\":\"3209\"},{\"id\":\"3210\"},{\"id\":\"3211\"},{\"id\":\"3212\"},{\"id\":\"3213\"}]},\"id\":\"3258\",\"type\":\"ProxyToolbar\"},{\"attributes\":{\"data_source\":{\"id\":\"3154\"},\"glyph\":{\"id\":\"3155\"},\"hover_glyph\":null,\"muted_glyph\":null,\"nonselection_glyph\":{\"id\":\"3156\"},\"selection_glyph\":null,\"view\":{\"id\":\"3158\"}},\"id\":\"3157\",\"type\":\"GlyphRenderer\"},{\"attributes\":{\"toolbar\":{\"id\":\"3258\"},\"toolbar_location\":\"above\"},\"id\":\"3259\",\"type\":\"ToolbarBox\"},{\"attributes\":{\"below\":[{\"id\":\"3166\"}],\"center\":[{\"id\":\"3169\"},{\"id\":\"3173\"}],\"left\":[{\"id\":\"3170\"}],\"plot_height\":250,\"plot_width\":250,\"renderers\":[{\"id\":\"3191\"}],\"title\":{\"id\":\"3237\"},\"toolbar\":{\"id\":\"3181\"},\"toolbar_location\":null,\"x_range\":{\"id\":\"3124\"},\"x_scale\":{\"id\":\"3162\"},\"y_range\":{\"id\":\"3126\"},\"y_scale\":{\"id\":\"3164\"}},\"id\":\"3159\",\"subtype\":\"Figure\",\"type\":\"Plot\"},{\"attributes\":{\"fill_color\":{\"value\":\"#1f77b4\"},\"line_color\":{\"value\":\"#1f77b4\"},\"x\":{\"field\":\"x\"},\"y\":{\"field\":\"y\"}},\"id\":\"3155\",\"type\":\"Circle\"},{\"attributes\":{\"data\":{\"x\":{\"__ndarray__\":\"AAAAAAEAAAACAAAAAwAAAAQAAAAFAAAABgAAAAcAAAAIAAAACQAAAAoAAAALAAAADAAAAA0AAAAOAAAADwAAABAAAAARAAAAEgAAABMAAAAUAAAAFQAAABYAAAAXAAAAGAAAABkAAAAaAAAAGwAAABwAAAAdAAAAHgAAAB8AAAAgAAAAIQAAACIAAAAjAAAAJAAAACUAAAAmAAAAJwAAAA==\",\"dtype\":\"int32\",\"order\":\"little\",\"shape\":[40]},\"y\":{\"__ndarray__\":\"8KfIkIujwT+4etYyleHtP/zojb3NxMM/ZIzlV2kM2z9eCxxQZdDaP/o539LAQds/kM4JpA173T9VqHG5ayrrP4DcfeUh+r8/NcW34T+h6z+I6Qc4BOXCPw0ySdN33uI/kj2R00GN6z+qDVGNeVXaPy6FBFQ6Q+Q/gBbsS1tk0D8AvvZj5lyEP8h1BpUZpuw/KsvKunfO6z89beCqyqjnP4s4C5OawOc/QMUihygavz95bMwYZJ3mP1Cz1mya2b8/aMeNOL1u5D8iq7XSCF/VP+BCSGzdQMA/sPhExvcvwz8rXvWWEW3rP76ptJQTO94/x2hwSmUf6z9YTxu/Zr+8P6Y2IKp6nu4/txVaXDWn7T/ozZNifZq0P5eAiIAjVOM/Z/6m+mMD5D9ZiNJEpwXmPzjEPvZIyNE/vqjwGP7U5j8=\",\"dtype\":\"float64\",\"order\":\"little\",\"shape\":[40]}},\"selected\":{\"id\":\"3243\"},\"selection_policy\":{\"id\":\"3244\"}},\"id\":\"3188\",\"type\":\"ColumnDataSource\"},{\"attributes\":{},\"id\":\"3140\",\"type\":\"PanTool\"},{\"attributes\":{},\"id\":\"3141\",\"type\":\"WheelZoomTool\"},{\"attributes\":{\"overlay\":{\"id\":\"3146\"}},\"id\":\"3142\",\"type\":\"BoxZoomTool\"},{\"attributes\":{},\"id\":\"3143\",\"type\":\"SaveTool\"},{\"attributes\":{},\"id\":\"3144\",\"type\":\"ResetTool\"},{\"attributes\":{},\"id\":\"3145\",\"type\":\"HelpTool\"},{\"attributes\":{\"source\":{\"id\":\"3154\"}},\"id\":\"3158\",\"type\":\"CDSView\"},{\"attributes\":{\"active_drag\":\"auto\",\"active_inspect\":\"auto\",\"active_multi\":null,\"active_scroll\":\"auto\",\"active_tap\":\"auto\",\"tools\":[{\"id\":\"3140\"},{\"id\":\"3141\"},{\"id\":\"3142\"},{\"id\":\"3143\"},{\"id\":\"3144\"},{\"id\":\"3145\"}]},\"id\":\"3147\",\"type\":\"Toolbar\"},{\"attributes\":{\"bottom_units\":\"screen\",\"fill_alpha\":0.5,\"fill_color\":\"lightgrey\",\"left_units\":\"screen\",\"level\":\"overlay\",\"line_alpha\":1.0,\"line_color\":\"black\",\"line_dash\":[4,4],\"line_width\":2,\"right_units\":\"screen\",\"top_units\":\"screen\"},\"id\":\"3146\",\"type\":\"BoxAnnotation\"},{\"attributes\":{\"fill_alpha\":{\"value\":0.1},\"fill_color\":{\"value\":\"#1f77b4\"},\"line_alpha\":{\"value\":0.1},\"line_color\":{\"value\":\"#1f77b4\"},\"x\":{\"field\":\"x\"},\"y\":{\"field\":\"y\"}},\"id\":\"3156\",\"type\":\"Circle\"},{\"attributes\":{},\"id\":\"3162\",\"type\":\"LinearScale\"},{\"attributes\":{},\"id\":\"3164\",\"type\":\"LinearScale\"},{\"attributes\":{\"formatter\":{\"id\":\"3240\"},\"ticker\":{\"id\":\"3167\"}},\"id\":\"3166\",\"type\":\"LinearAxis\"},{\"attributes\":{},\"id\":\"3167\",\"type\":\"BasicTicker\"},{\"attributes\":{\"axis\":{\"id\":\"3166\"},\"ticker\":null},\"id\":\"3169\",\"type\":\"Grid\"},{\"attributes\":{\"formatter\":{\"id\":\"3242\"},\"ticker\":{\"id\":\"3171\"}},\"id\":\"3170\",\"type\":\"LinearAxis\"},{\"attributes\":{},\"id\":\"3171\",\"type\":\"BasicTicker\"},{\"attributes\":{\"axis\":{\"id\":\"3170\"},\"dimension\":1,\"ticker\":null},\"id\":\"3173\",\"type\":\"Grid\"},{\"attributes\":{\"line_color\":\"#1f77b4\",\"x\":{\"field\":\"x\"},\"y\":{\"field\":\"y\"}},\"id\":\"3189\",\"type\":\"Line\"},{\"attributes\":{\"below\":[{\"id\":\"3200\"}],\"center\":[{\"id\":\"3203\"},{\"id\":\"3207\"}],\"left\":[{\"id\":\"3204\"}],\"plot_height\":250,\"plot_width\":250,\"renderers\":[{\"id\":\"3225\"}],\"title\":{\"id\":\"3247\"},\"toolbar\":{\"id\":\"3215\"},\"toolbar_location\":null,\"x_range\":{\"id\":\"3124\"},\"x_scale\":{\"id\":\"3196\"},\"y_range\":{\"id\":\"3126\"},\"y_scale\":{\"id\":\"3198\"}},\"id\":\"3193\",\"subtype\":\"Figure\",\"type\":\"Plot\"},{\"attributes\":{},\"id\":\"3233\",\"type\":\"Selection\"},{\"attributes\":{},\"id\":\"3174\",\"type\":\"PanTool\"},{\"attributes\":{},\"id\":\"3175\",\"type\":\"WheelZoomTool\"},{\"attributes\":{\"overlay\":{\"id\":\"3180\"}},\"id\":\"3176\",\"type\":\"BoxZoomTool\"},{\"attributes\":{},\"id\":\"3177\",\"type\":\"SaveTool\"},{\"attributes\":{},\"id\":\"3178\",\"type\":\"ResetTool\"},{\"attributes\":{},\"id\":\"3179\",\"type\":\"HelpTool\"}],\"root_ids\":[\"3260\"]},\"title\":\"Bokeh Application\",\"version\":\"2.2.3\"}};\n",
       "  var render_items = [{\"docid\":\"0c1e25a0-b967-48b5-907f-b12ed676a49f\",\"root_ids\":[\"3260\"],\"roots\":{\"3260\":\"da552071-7a77-4715-ab53-5029b32b65f7\"}}];\n",
       "  root.Bokeh.embed.embed_items_notebook(docs_json, render_items);\n",
       "\n",
       "  }\n",
       "  if (root.Bokeh !== undefined) {\n",
       "    embed_document(root);\n",
       "  } else {\n",
       "    var attempts = 0;\n",
       "    var timer = setInterval(function(root) {\n",
       "      if (root.Bokeh !== undefined) {\n",
       "        clearInterval(timer);\n",
       "        embed_document(root);\n",
       "      } else {\n",
       "        attempts++;\n",
       "        if (attempts > 100) {\n",
       "          clearInterval(timer);\n",
       "          console.log(\"Bokeh: ERROR: Unable to run BokehJS code because BokehJS library is missing\");\n",
       "        }\n",
       "      }\n",
       "    }, 10, root)\n",
       "  }\n",
       "})(window);"
      ],
      "application/vnd.bokehjs_exec.v0+json": ""
     },
     "metadata": {
      "application/vnd.bokehjs_exec.v0+json": {
       "id": "3260"
      }
     },
     "output_type": "display_data"
    }
   ],
   "source": [
    "from bokeh.layouts import gridplot\n",
    "from bokeh.models import BoxSelectTool\n",
    "\n",
    "\n",
    "linked_data_x = np.arange(40)\n",
    "linked_data_y = np.random.rand(40)\n",
    "\n",
    "# linked plot 1\n",
    "linked_plot1 = figure(width=250, height=250)\n",
    "linked_plot1.circle(linked_data_x, linked_data_y)\n",
    "\n",
    "# create new plots and share both ranges\n",
    "linked_plot2 = figure(width=250, height=250, x_range=linked_plot1.x_range, y_range=linked_plot1.y_range)\n",
    "linked_plot2.line(linked_data_x, linked_data_y)\n",
    "\n",
    "linked_plot3 = figure(width=250, height=250, x_range=linked_plot1.x_range, y_range=linked_plot1.y_range)\n",
    "linked_plot3.vbar(linked_data_x, top=linked_data_y, width=0.5)\n",
    "\n",
    "\n",
    "# the subplots in a gridplot\n",
    "linked_gridplot = gridplot([[linked_plot1, linked_plot2, linked_plot3]])\n",
    "\n",
    "\n",
    "# show the results\n",
    "show(linked_gridplot)"
   ]
  },
  {
   "cell_type": "markdown",
   "metadata": {},
   "source": [
    "We can also add tools and changes the features of the figures such as the size etc:"
   ]
  },
  {
   "cell_type": "code",
   "execution_count": 18,
   "metadata": {
    "scrolled": true
   },
   "outputs": [
    {
     "data": {
      "text/html": [
       "\n",
       "\n",
       "\n",
       "\n",
       "\n",
       "\n",
       "  <div class=\"bk-root\" id=\"7ec7590f-d457-4000-b299-c00ebcfb874e\" data-root-id=\"3675\"></div>\n"
      ]
     },
     "metadata": {},
     "output_type": "display_data"
    },
    {
     "data": {
      "application/javascript": [
       "(function(root) {\n",
       "  function embed_document(root) {\n",
       "    \n",
       "  var docs_json = {\"58493f9c-5067-44cb-9aa4-e9aa2c3543b4\":{\"roots\":{\"references\":[{\"attributes\":{\"children\":[{\"id\":\"3674\"},{\"id\":\"3672\"}]},\"id\":\"3675\",\"type\":\"Column\"},{\"attributes\":{},\"id\":\"3635\",\"type\":\"HelpTool\"},{\"attributes\":{},\"id\":\"3584\",\"type\":\"LinearScale\"},{\"attributes\":{},\"id\":\"3668\",\"type\":\"Selection\"},{\"attributes\":{},\"id\":\"3601\",\"type\":\"HelpTool\"},{\"attributes\":{},\"id\":\"3586\",\"type\":\"LinearScale\"},{\"attributes\":{},\"id\":\"3669\",\"type\":\"UnionRenderers\"},{\"attributes\":{\"children\":[[{\"id\":\"3579\"},0,0],[{\"id\":\"3615\"},0,1]]},\"id\":\"3672\",\"type\":\"GridBox\"},{\"attributes\":{},\"id\":\"3597\",\"type\":\"WheelZoomTool\"},{\"attributes\":{\"axis\":{\"id\":\"3592\"},\"dimension\":1,\"ticker\":null},\"id\":\"3595\",\"type\":\"Grid\"},{\"attributes\":{\"active_drag\":\"auto\",\"active_inspect\":\"auto\",\"active_multi\":null,\"active_scroll\":\"auto\",\"active_tap\":\"auto\",\"tools\":[{\"id\":\"3630\"},{\"id\":\"3631\"},{\"id\":\"3632\"},{\"id\":\"3633\"},{\"id\":\"3634\"},{\"id\":\"3635\"}]},\"id\":\"3637\",\"type\":\"Toolbar\"},{\"attributes\":{\"toolbars\":[{\"id\":\"3603\"},{\"id\":\"3637\"}],\"tools\":[{\"id\":\"3596\"},{\"id\":\"3597\"},{\"id\":\"3598\"},{\"id\":\"3599\"},{\"id\":\"3600\"},{\"id\":\"3601\"},{\"id\":\"3649\"},{\"id\":\"3630\"},{\"id\":\"3631\"},{\"id\":\"3632\"},{\"id\":\"3633\"},{\"id\":\"3634\"},{\"id\":\"3635\"}]},\"id\":\"3673\",\"type\":\"ProxyToolbar\"},{\"attributes\":{\"fill_color\":{\"value\":\"#1f77b4\"},\"line_color\":{\"value\":\"#1f77b4\"},\"x\":{\"field\":\"x\"},\"y\":{\"field\":\"y\"}},\"id\":\"3611\",\"type\":\"Circle\"},{\"attributes\":{\"bottom_units\":\"screen\",\"fill_alpha\":0.5,\"fill_color\":\"lightgrey\",\"left_units\":\"screen\",\"level\":\"overlay\",\"line_alpha\":1.0,\"line_color\":\"black\",\"line_dash\":[4,4],\"line_width\":2,\"right_units\":\"screen\",\"top_units\":\"screen\"},\"id\":\"3636\",\"type\":\"BoxAnnotation\"},{\"attributes\":{\"formatter\":{\"id\":\"3667\"},\"ticker\":{\"id\":\"3627\"}},\"id\":\"3626\",\"type\":\"LinearAxis\"},{\"attributes\":{\"toolbar\":{\"id\":\"3673\"},\"toolbar_location\":\"above\"},\"id\":\"3674\",\"type\":\"ToolbarBox\"},{\"attributes\":{},\"id\":\"3618\",\"type\":\"LinearScale\"},{\"attributes\":{\"data\":{\"x\":{\"__ndarray__\":\"AAAAAAEAAAACAAAAAwAAAAQAAAAFAAAABgAAAAcAAAAIAAAACQAAAAoAAAALAAAADAAAAA0AAAAOAAAADwAAABAAAAARAAAAEgAAABMAAAAUAAAAFQAAABYAAAAXAAAAGAAAABkAAAAaAAAAGwAAABwAAAAdAAAAHgAAAB8AAAAgAAAAIQAAACIAAAAjAAAAJAAAACUAAAAmAAAAJwAAAA==\",\"dtype\":\"int32\",\"order\":\"little\",\"shape\":[40]},\"y\":{\"__ndarray__\":\"8KfIkIujwT+4etYyleHtP/zojb3NxMM/ZIzlV2kM2z9eCxxQZdDaP/o539LAQds/kM4JpA173T9VqHG5ayrrP4DcfeUh+r8/NcW34T+h6z+I6Qc4BOXCPw0ySdN33uI/kj2R00GN6z+qDVGNeVXaPy6FBFQ6Q+Q/gBbsS1tk0D8AvvZj5lyEP8h1BpUZpuw/KsvKunfO6z89beCqyqjnP4s4C5OawOc/QMUihygavz95bMwYZJ3mP1Cz1mya2b8/aMeNOL1u5D8iq7XSCF/VP+BCSGzdQMA/sPhExvcvwz8rXvWWEW3rP76ptJQTO94/x2hwSmUf6z9YTxu/Zr+8P6Y2IKp6nu4/txVaXDWn7T/ozZNifZq0P5eAiIAjVOM/Z/6m+mMD5D9ZiNJEpwXmPzjEPvZIyNE/vqjwGP7U5j8=\",\"dtype\":\"float64\",\"order\":\"little\",\"shape\":[40]}},\"selected\":{\"id\":\"3657\"},\"selection_policy\":{\"id\":\"3658\"}},\"id\":\"3610\",\"type\":\"ColumnDataSource\"},{\"attributes\":{\"formatter\":{\"id\":\"3654\"},\"ticker\":{\"id\":\"3589\"}},\"id\":\"3588\",\"type\":\"LinearAxis\"},{\"attributes\":{},\"id\":\"3580\",\"type\":\"DataRange1d\"},{\"attributes\":{\"data\":{\"x\":{\"__ndarray__\":\"AAAAAAEAAAACAAAAAwAAAAQAAAAFAAAABgAAAAcAAAAIAAAACQAAAAoAAAALAAAADAAAAA0AAAAOAAAADwAAABAAAAARAAAAEgAAABMAAAAUAAAAFQAAABYAAAAXAAAAGAAAABkAAAAaAAAAGwAAABwAAAAdAAAAHgAAAB8AAAAgAAAAIQAAACIAAAAjAAAAJAAAACUAAAAmAAAAJwAAAA==\",\"dtype\":\"int32\",\"order\":\"little\",\"shape\":[40]},\"y\":{\"__ndarray__\":\"8KfIkIujwT+4etYyleHtP/zojb3NxMM/ZIzlV2kM2z9eCxxQZdDaP/o539LAQds/kM4JpA173T9VqHG5ayrrP4DcfeUh+r8/NcW34T+h6z+I6Qc4BOXCPw0ySdN33uI/kj2R00GN6z+qDVGNeVXaPy6FBFQ6Q+Q/gBbsS1tk0D8AvvZj5lyEP8h1BpUZpuw/KsvKunfO6z89beCqyqjnP4s4C5OawOc/QMUihygavz95bMwYZJ3mP1Cz1mya2b8/aMeNOL1u5D8iq7XSCF/VP+BCSGzdQMA/sPhExvcvwz8rXvWWEW3rP76ptJQTO94/x2hwSmUf6z9YTxu/Zr+8P6Y2IKp6nu4/txVaXDWn7T/ozZNifZq0P5eAiIAjVOM/Z/6m+mMD5D9ZiNJEpwXmPzjEPvZIyNE/vqjwGP7U5j8=\",\"dtype\":\"float64\",\"order\":\"little\",\"shape\":[40]}},\"selected\":{\"id\":\"3668\"},\"selection_policy\":{\"id\":\"3669\"}},\"id\":\"3644\",\"type\":\"ColumnDataSource\"},{\"attributes\":{\"fill_alpha\":{\"value\":0.1},\"fill_color\":{\"value\":\"#1f77b4\"},\"line_alpha\":{\"value\":0.1},\"line_color\":{\"value\":\"#1f77b4\"},\"x\":{\"field\":\"x\"},\"y\":{\"field\":\"y\"}},\"id\":\"3612\",\"type\":\"Circle\"},{\"attributes\":{\"source\":{\"id\":\"3644\"}},\"id\":\"3648\",\"type\":\"CDSView\"},{\"attributes\":{\"data_source\":{\"id\":\"3644\"},\"glyph\":{\"id\":\"3645\"},\"hover_glyph\":null,\"muted_glyph\":null,\"nonselection_glyph\":{\"id\":\"3646\"},\"selection_glyph\":null,\"view\":{\"id\":\"3648\"}},\"id\":\"3647\",\"type\":\"GlyphRenderer\"},{\"attributes\":{\"data_source\":{\"id\":\"3610\"},\"glyph\":{\"id\":\"3611\"},\"hover_glyph\":null,\"muted_glyph\":null,\"nonselection_glyph\":{\"id\":\"3612\"},\"selection_glyph\":null,\"view\":{\"id\":\"3614\"}},\"id\":\"3613\",\"type\":\"GlyphRenderer\"},{\"attributes\":{\"formatter\":{\"id\":\"3665\"},\"ticker\":{\"id\":\"3623\"}},\"id\":\"3622\",\"type\":\"LinearAxis\"},{\"attributes\":{\"text\":\"\"},\"id\":\"3651\",\"type\":\"Title\"},{\"attributes\":{},\"id\":\"3620\",\"type\":\"LinearScale\"},{\"attributes\":{},\"id\":\"3593\",\"type\":\"BasicTicker\"},{\"attributes\":{},\"id\":\"3634\",\"type\":\"ResetTool\"},{\"attributes\":{},\"id\":\"3654\",\"type\":\"BasicTickFormatter\"},{\"attributes\":{},\"id\":\"3633\",\"type\":\"SaveTool\"},{\"attributes\":{},\"id\":\"3630\",\"type\":\"PanTool\"},{\"attributes\":{},\"id\":\"3656\",\"type\":\"BasicTickFormatter\"},{\"attributes\":{\"axis\":{\"id\":\"3622\"},\"ticker\":null},\"id\":\"3625\",\"type\":\"Grid\"},{\"attributes\":{},\"id\":\"3596\",\"type\":\"PanTool\"},{\"attributes\":{},\"id\":\"3657\",\"type\":\"Selection\"},{\"attributes\":{},\"id\":\"3623\",\"type\":\"BasicTicker\"},{\"attributes\":{\"overlay\":{\"id\":\"3602\"}},\"id\":\"3598\",\"type\":\"BoxZoomTool\"},{\"attributes\":{},\"id\":\"3658\",\"type\":\"UnionRenderers\"},{\"attributes\":{},\"id\":\"3631\",\"type\":\"WheelZoomTool\"},{\"attributes\":{\"overlay\":{\"id\":\"3636\"}},\"id\":\"3632\",\"type\":\"BoxZoomTool\"},{\"attributes\":{},\"id\":\"3665\",\"type\":\"BasicTickFormatter\"},{\"attributes\":{},\"id\":\"3667\",\"type\":\"BasicTickFormatter\"},{\"attributes\":{\"below\":[{\"id\":\"3622\"}],\"center\":[{\"id\":\"3625\"},{\"id\":\"3629\"}],\"left\":[{\"id\":\"3626\"}],\"plot_height\":250,\"plot_width\":450,\"renderers\":[{\"id\":\"3647\"}],\"title\":{\"id\":\"3662\"},\"toolbar\":{\"id\":\"3637\"},\"toolbar_location\":null,\"x_range\":{\"id\":\"3580\"},\"x_scale\":{\"id\":\"3618\"},\"y_range\":{\"id\":\"3582\"},\"y_scale\":{\"id\":\"3620\"}},\"id\":\"3615\",\"subtype\":\"Figure\",\"type\":\"Plot\"},{\"attributes\":{\"bottom_units\":\"screen\",\"fill_alpha\":0.5,\"fill_color\":\"lightgrey\",\"left_units\":\"screen\",\"level\":\"overlay\",\"line_alpha\":1.0,\"line_color\":\"black\",\"line_dash\":[4,4],\"line_width\":2,\"right_units\":\"screen\",\"top_units\":\"screen\"},\"id\":\"3660\",\"type\":\"BoxAnnotation\"},{\"attributes\":{\"line_alpha\":0.1,\"line_color\":\"#1f77b4\",\"x\":{\"field\":\"x\"},\"y\":{\"field\":\"y\"}},\"id\":\"3646\",\"type\":\"Line\"},{\"attributes\":{\"formatter\":{\"id\":\"3656\"},\"ticker\":{\"id\":\"3593\"}},\"id\":\"3592\",\"type\":\"LinearAxis\"},{\"attributes\":{\"text\":\"\"},\"id\":\"3662\",\"type\":\"Title\"},{\"attributes\":{},\"id\":\"3599\",\"type\":\"SaveTool\"},{\"attributes\":{},\"id\":\"3589\",\"type\":\"BasicTicker\"},{\"attributes\":{\"line_color\":\"#1f77b4\",\"x\":{\"field\":\"x\"},\"y\":{\"field\":\"y\"}},\"id\":\"3645\",\"type\":\"Line\"},{\"attributes\":{\"axis\":{\"id\":\"3626\"},\"dimension\":1,\"ticker\":null},\"id\":\"3629\",\"type\":\"Grid\"},{\"attributes\":{\"axis\":{\"id\":\"3588\"},\"ticker\":null},\"id\":\"3591\",\"type\":\"Grid\"},{\"attributes\":{\"bottom_units\":\"screen\",\"fill_alpha\":0.5,\"fill_color\":\"lightgrey\",\"left_units\":\"screen\",\"level\":\"overlay\",\"line_alpha\":1.0,\"line_color\":\"black\",\"line_dash\":[4,4],\"line_width\":2,\"right_units\":\"screen\",\"top_units\":\"screen\"},\"id\":\"3602\",\"type\":\"BoxAnnotation\"},{\"attributes\":{\"below\":[{\"id\":\"3588\"}],\"center\":[{\"id\":\"3591\"},{\"id\":\"3595\"}],\"left\":[{\"id\":\"3592\"}],\"plot_height\":250,\"plot_width\":450,\"renderers\":[{\"id\":\"3613\"}],\"title\":{\"id\":\"3651\"},\"toolbar\":{\"id\":\"3603\"},\"toolbar_location\":null,\"x_range\":{\"id\":\"3580\"},\"x_scale\":{\"id\":\"3584\"},\"y_range\":{\"id\":\"3582\"},\"y_scale\":{\"id\":\"3586\"}},\"id\":\"3579\",\"subtype\":\"Figure\",\"type\":\"Plot\"},{\"attributes\":{\"active_drag\":\"auto\",\"active_inspect\":\"auto\",\"active_multi\":null,\"active_scroll\":\"auto\",\"active_tap\":\"auto\",\"tools\":[{\"id\":\"3596\"},{\"id\":\"3597\"},{\"id\":\"3598\"},{\"id\":\"3599\"},{\"id\":\"3600\"},{\"id\":\"3601\"},{\"id\":\"3649\"}]},\"id\":\"3603\",\"type\":\"Toolbar\"},{\"attributes\":{\"dimensions\":\"width\",\"overlay\":{\"id\":\"3660\"}},\"id\":\"3649\",\"type\":\"BoxSelectTool\"},{\"attributes\":{\"source\":{\"id\":\"3610\"}},\"id\":\"3614\",\"type\":\"CDSView\"},{\"attributes\":{},\"id\":\"3582\",\"type\":\"DataRange1d\"},{\"attributes\":{},\"id\":\"3627\",\"type\":\"BasicTicker\"},{\"attributes\":{},\"id\":\"3600\",\"type\":\"ResetTool\"}],\"root_ids\":[\"3675\"]},\"title\":\"Bokeh Application\",\"version\":\"2.2.3\"}};\n",
       "  var render_items = [{\"docid\":\"58493f9c-5067-44cb-9aa4-e9aa2c3543b4\",\"root_ids\":[\"3675\"],\"roots\":{\"3675\":\"7ec7590f-d457-4000-b299-c00ebcfb874e\"}}];\n",
       "  root.Bokeh.embed.embed_items_notebook(docs_json, render_items);\n",
       "\n",
       "  }\n",
       "  if (root.Bokeh !== undefined) {\n",
       "    embed_document(root);\n",
       "  } else {\n",
       "    var attempts = 0;\n",
       "    var timer = setInterval(function(root) {\n",
       "      if (root.Bokeh !== undefined) {\n",
       "        clearInterval(timer);\n",
       "        embed_document(root);\n",
       "      } else {\n",
       "        attempts++;\n",
       "        if (attempts > 100) {\n",
       "          clearInterval(timer);\n",
       "          console.log(\"Bokeh: ERROR: Unable to run BokehJS code because BokehJS library is missing\");\n",
       "        }\n",
       "      }\n",
       "    }, 10, root)\n",
       "  }\n",
       "})(window);"
      ],
      "application/vnd.bokehjs_exec.v0+json": ""
     },
     "metadata": {
      "application/vnd.bokehjs_exec.v0+json": {
       "id": "3675"
      }
     },
     "output_type": "display_data"
    }
   ],
   "source": [
    "# linked plot 1\n",
    "linked_plot1 = figure(width=450, height=250)\n",
    "linked_plot1.circle(linked_data_x, linked_data_y)\n",
    "\n",
    "# create new plots and share both ranges\n",
    "linked_plot2 = figure(width=450, height=250, x_range=linked_plot1.x_range, y_range=linked_plot1.y_range)\n",
    "linked_plot2.line(linked_data_x, linked_data_y)\n",
    "\n",
    "\n",
    "linked_plot1.add_tools(BoxSelectTool(dimensions=\"width\"))\n",
    "\n",
    "# the subplots in a gridplot\n",
    "linked_gridplot = gridplot([[linked_plot1, linked_plot2]])\n",
    "\n",
    "# show the results\n",
    "show(linked_gridplot)\n",
    "\n"
   ]
  },
  {
   "cell_type": "markdown",
   "metadata": {},
   "source": [
    "# Widgets\n"
   ]
  },
  {
   "cell_type": "code",
   "execution_count": 36,
   "metadata": {},
   "outputs": [
    {
     "data": {
      "text/html": [
       "\n",
       "\n",
       "\n",
       "\n",
       "\n",
       "\n",
       "  <div class=\"bk-root\" id=\"3661a970-eaf3-4a3e-9ca6-1d7a4984bf83\" data-root-id=\"2758\"></div>\n"
      ]
     },
     "metadata": {},
     "output_type": "display_data"
    },
    {
     "data": {
      "application/javascript": [
       "(function(root) {\n",
       "  function embed_document(root) {\n",
       "    \n",
       "  var docs_json = {\"579f2b47-8051-48c2-b442-854099c2eb07\":{\"roots\":{\"references\":[{\"attributes\":{\"children\":[{\"id\":\"2756\",\"type\":\"Row\"},{\"id\":\"2757\",\"type\":\"Row\"}]},\"id\":\"2758\",\"type\":\"Column\"},{\"attributes\":{\"active\":true,\"button_type\":\"success\",\"callback\":null,\"icon\":null,\"js_property_callbacks\":{\"change:active\":[{\"id\":\"2755\",\"type\":\"CustomJS\"}]},\"label\":\"line of best fit\"},\"id\":\"2754\",\"type\":\"Toggle\"},{\"attributes\":{\"ticker\":{\"id\":\"2722\",\"type\":\"BasicTicker\"}},\"id\":\"2725\",\"type\":\"Grid\"},{\"attributes\":{\"source\":{\"id\":\"2749\",\"type\":\"ColumnDataSource\"}},\"id\":\"2753\",\"type\":\"CDSView\"},{\"attributes\":{\"args\":{\"other\":{\"id\":\"2752\",\"type\":\"GlyphRenderer\"}},\"code\":\"other.visible = this.active\"},\"id\":\"2755\",\"type\":\"CustomJS\"},{\"attributes\":{\"below\":[{\"id\":\"2721\",\"type\":\"LinearAxis\"}],\"center\":[{\"id\":\"2725\",\"type\":\"Grid\"},{\"id\":\"2730\",\"type\":\"Grid\"}],\"left\":[{\"id\":\"2726\",\"type\":\"LinearAxis\"}],\"plot_height\":300,\"plot_width\":500,\"renderers\":[{\"id\":\"2747\",\"type\":\"GlyphRenderer\"},{\"id\":\"2752\",\"type\":\"GlyphRenderer\"}],\"title\":{\"id\":\"2856\",\"type\":\"Title\"},\"toolbar\":{\"id\":\"2737\",\"type\":\"Toolbar\"},\"x_range\":{\"id\":\"2713\",\"type\":\"DataRange1d\"},\"x_scale\":{\"id\":\"2717\",\"type\":\"LinearScale\"},\"y_range\":{\"id\":\"2715\",\"type\":\"DataRange1d\"},\"y_scale\":{\"id\":\"2719\",\"type\":\"LinearScale\"}},\"id\":\"2712\",\"subtype\":\"Figure\",\"type\":\"Plot\"},{\"attributes\":{\"children\":[{\"id\":\"2712\",\"subtype\":\"Figure\",\"type\":\"Plot\"}]},\"id\":\"2756\",\"type\":\"Row\"},{\"attributes\":{\"text\":\"\"},\"id\":\"2856\",\"type\":\"Title\"},{\"attributes\":{\"children\":[{\"id\":\"2754\",\"type\":\"Toggle\"}]},\"id\":\"2757\",\"type\":\"Row\"},{\"attributes\":{\"source\":{\"id\":\"2744\",\"type\":\"ColumnDataSource\"}},\"id\":\"2748\",\"type\":\"CDSView\"},{\"attributes\":{},\"id\":\"2734\",\"type\":\"SaveTool\"},{\"attributes\":{\"active_drag\":\"auto\",\"active_inspect\":\"auto\",\"active_multi\":null,\"active_scroll\":\"auto\",\"active_tap\":\"auto\",\"tools\":[{\"id\":\"2731\",\"type\":\"PanTool\"},{\"id\":\"2732\",\"type\":\"WheelZoomTool\"},{\"id\":\"2733\",\"type\":\"BoxZoomTool\"},{\"id\":\"2734\",\"type\":\"SaveTool\"},{\"id\":\"2735\",\"type\":\"ResetTool\"},{\"id\":\"2736\",\"type\":\"HelpTool\"}]},\"id\":\"2737\",\"type\":\"Toolbar\"},{\"attributes\":{\"dimension\":1,\"ticker\":{\"id\":\"2727\",\"type\":\"BasicTicker\"}},\"id\":\"2730\",\"type\":\"Grid\"},{\"attributes\":{\"overlay\":{\"id\":\"2866\",\"type\":\"BoxAnnotation\"}},\"id\":\"2733\",\"type\":\"BoxZoomTool\"},{\"attributes\":{\"callback\":null,\"data\":{\"x\":{\"__ndarray__\":\"irDh6ZW2UkA2zTtO0TFTQKYKRiV1qlNAvHSTGAT6U0CL/WX35B1UQEOtad5xrlRA8fRKWYbkVEAu/yH99tVUQFD8GHPXBlVAyxDHurgdVUArhxbZzrdUQBB6Nqs+91RAYTJVMCopVUDV52or9ldVQEOtad5xrlRAwTkjSnsXVUA8TtGRXC5VQDJ3LSEfKFVAHcnlP6QbVUCHFtnO97tUQKkT0ETYIFVA4L4OnDP2VECY3ZOHhf5UQG+BBMWPTVVA/kP67es8VUAgQfFjzDlVQB3J5T+kg1VAGeJYF7ftVUAkufyH9CdWQEku/yH9qlZA1XjpJjFIVkAqqRPQRGRWQLMMcayL01ZAO3DOiNJCV0CeXinLEPtWQELPZtXnKldAjSjtDb5AV0CNKO0NvkBXQI0o7Q2+QFdAg1FJnYA6V0BTliGOdW1XQCo6kst/iFdAveMUHclBV0B4eqUsQ2hXQJf/kH77EldAJsKGp1c2V0B1ApoIG+JWQKwcWmQ7Y1ZAnl4pyxDHVkD+1HjpJpVWQOJYF7fRkFdA4lgXt9GQV0A0ETY8vfZXQKFns+pzCVhASL99HTjPV0BxGw3gLUxXQAskKH6M7VZACyQofoztVkC94xQdyQ1XQHKKjuTyW1ZAQs9m1efCVkAjSnuDL+RWQHzysFBrUldAodY07zgZV0D67evAOctWQOY/pN++vlZA/mX35GEdV0CNKO0NvgxXQFZ9rrZiA1dAfPKwUGtSV0BxGw3gLbRXQFYOLbKdi1dAGsBbIEHFV0Cn6Egu/3FXQGQ730+NK1dAVg4tsp2LV0BTliGOdWlXQF5LyAc951ZACfmgZ7PeVkA6kst/SCdXQB3J5T+kq1dA4JwRpb19V0CC4seYuw5XQJeQD3o2x1ZAmpmZmZmtVkBtxf6yeypXQN0kBoGVW1dAguLHmLsOV0BdbcX+sn9WQI0o7Q2+YFZAwOyePCwoVkCoV8oyxCFWQCfChqdXWlZA8rBQa5p7V0ACmggbnupXQGiR7Xw/tVdACKwcWmTHV0Dl8h/SbwdYQC0hH/Rs2lZA63O1FfuTVkA=\",\"dtype\":\"float64\",\"shape\":[100]},\"y\":{\"__ndarray__\":\"PQrXo7CNuEBSuB6Fq964QOF6FK6HFrlAZmZmZub7uEAfhetReAW5QD0K16NwOLlAKVyPwvVhuUDsUbgehWa5QHE9CtejnLlAZmZmZubPuUAK16Nw/cW5QPYoXI/CA7pApHA9CpcwukCamZmZ2SG6QGZmZmam07lApHA9CpcTukB7FK5HYVS6QOxRuB5FU7pApHA9CpdFukA9CtejcPW5QBSuR+G6jrpAUrgehWt/ukBcj8L1KJu6QLgehetR+bpAexSuR+G4ukCamZmZGbK6QClcj8I1trpAw/UoXE8du0Bcj8L16O26QKRwPQoXK7tAUrgehevSukCamZmZWbi6QLgeheuRybpAZmZmZmYmu0A9CtejsO26QK5H4XpUDrtAw/UoXE8Uu0DD9ShcTxS7QMP1KFxPFLtA4XoUrgd4u0CPwvUoXEe7QEjhehRukLtAUrgehavRu0CPwvUoHOi7QClcj8J1mrtAFK5H4fq9u0AzMzMzM127QFK4HoUrzLpAuB6F61Eeu0DXo3A9iiS7QKRwPQoXLrtAzczMzIz9ukCF61G43h+7QDMzMzOzjLtAUrgehesju0CuR+F6FGy6QDMzMzMzbbpAMzMzMzNtukCuR+F6VJe6QM3MzMzM9rlACtejcP0OukAUrkfhOhS6QMP1KFyPxbpA9ihcj4KjukDhehSuB0e6QIXrUbgeI7pAuB6F6xGBukBcj8L1KEq6QDMzMzMzc7pAw/UoXA8Nu0AAAAAAACm7QD0K16MwNbtAzczMzMwpu0AzMzMz8/y6QD0K16OwurpAhetRuN4yu0AAAAAAgPy6QPYoXI9CZbpAzczMzAxvukBI4XoULla6QEjhehSuf7pAFK5H4bpLukAfhetR+PO5QJqZmZmZqblA16NwPcqTuUCkcD0KFxm6QNejcD1KSbpAPQrXozDsuUCamZmZmXG5QClcj8L1j7lAmpmZmdlguUCF61G4Hou5QAAAAABAlblArkfhelShukDsUbgeBdq6QNejcD2KvbpAH4XrUXi9ukDNzMzMTNG6QAAAAABAsLlAKVyPwrVbuUA=\",\"dtype\":\"float64\",\"shape\":[100]}},\"selected\":{\"id\":\"2863\",\"type\":\"Selection\"},\"selection_policy\":{\"id\":\"2862\",\"type\":\"UnionRenderers\"}},\"id\":\"2744\",\"type\":\"ColumnDataSource\"},{\"attributes\":{},\"id\":\"2727\",\"type\":\"BasicTicker\"},{\"attributes\":{},\"id\":\"2859\",\"type\":\"BasicTickFormatter\"},{\"attributes\":{\"formatter\":{\"id\":\"2859\",\"type\":\"BasicTickFormatter\"},\"ticker\":{\"id\":\"2727\",\"type\":\"BasicTicker\"}},\"id\":\"2726\",\"type\":\"LinearAxis\"},{\"attributes\":{},\"id\":\"2861\",\"type\":\"BasicTickFormatter\"},{\"attributes\":{\"callback\":null},\"id\":\"2713\",\"type\":\"DataRange1d\"},{\"attributes\":{},\"id\":\"2735\",\"type\":\"ResetTool\"},{\"attributes\":{},\"id\":\"2862\",\"type\":\"UnionRenderers\"},{\"attributes\":{},\"id\":\"2863\",\"type\":\"Selection\"},{\"attributes\":{\"data_source\":{\"id\":\"2749\",\"type\":\"ColumnDataSource\"},\"glyph\":{\"id\":\"2750\",\"type\":\"Line\"},\"hover_glyph\":null,\"muted_glyph\":null,\"nonselection_glyph\":{\"id\":\"2751\",\"type\":\"Line\"},\"selection_glyph\":null,\"view\":{\"id\":\"2753\",\"type\":\"CDSView\"}},\"id\":\"2752\",\"type\":\"GlyphRenderer\"},{\"attributes\":{},\"id\":\"2864\",\"type\":\"UnionRenderers\"},{\"attributes\":{\"callback\":null},\"id\":\"2715\",\"type\":\"DataRange1d\"},{\"attributes\":{},\"id\":\"2865\",\"type\":\"Selection\"},{\"attributes\":{},\"id\":\"2719\",\"type\":\"LinearScale\"},{\"attributes\":{\"bottom_units\":\"screen\",\"fill_alpha\":{\"value\":0.5},\"fill_color\":{\"value\":\"lightgrey\"},\"left_units\":\"screen\",\"level\":\"overlay\",\"line_alpha\":{\"value\":1.0},\"line_color\":{\"value\":\"black\"},\"line_dash\":[4,4],\"line_width\":{\"value\":2},\"render_mode\":\"css\",\"right_units\":\"screen\",\"top_units\":\"screen\"},\"id\":\"2866\",\"type\":\"BoxAnnotation\"},{\"attributes\":{},\"id\":\"2717\",\"type\":\"LinearScale\"},{\"attributes\":{},\"id\":\"2736\",\"type\":\"HelpTool\"},{\"attributes\":{},\"id\":\"2731\",\"type\":\"PanTool\"},{\"attributes\":{\"formatter\":{\"id\":\"2861\",\"type\":\"BasicTickFormatter\"},\"ticker\":{\"id\":\"2722\",\"type\":\"BasicTicker\"}},\"id\":\"2721\",\"type\":\"LinearAxis\"},{\"attributes\":{\"line_alpha\":0.1,\"line_color\":\"#1f77b4\",\"x\":{\"field\":\"x\"},\"y\":{\"field\":\"y\"}},\"id\":\"2751\",\"type\":\"Line\"},{\"attributes\":{\"data_source\":{\"id\":\"2744\",\"type\":\"ColumnDataSource\"},\"glyph\":{\"id\":\"2745\",\"type\":\"Scatter\"},\"hover_glyph\":null,\"muted_glyph\":null,\"nonselection_glyph\":{\"id\":\"2746\",\"type\":\"Scatter\"},\"selection_glyph\":null,\"view\":{\"id\":\"2748\",\"type\":\"CDSView\"}},\"id\":\"2747\",\"type\":\"GlyphRenderer\"},{\"attributes\":{},\"id\":\"2722\",\"type\":\"BasicTicker\"},{\"attributes\":{\"callback\":null,\"data\":{\"x\":{\"__ndarray__\":\"irDh6ZW2UkA2zTtO0TFTQKYKRiV1qlNAvHSTGAT6U0CL/WX35B1UQEOtad5xrlRA8fRKWYbkVEAu/yH99tVUQFD8GHPXBlVAyxDHurgdVUArhxbZzrdUQBB6Nqs+91RAYTJVMCopVUDV52or9ldVQEOtad5xrlRAwTkjSnsXVUA8TtGRXC5VQDJ3LSEfKFVAHcnlP6QbVUCHFtnO97tUQKkT0ETYIFVA4L4OnDP2VECY3ZOHhf5UQG+BBMWPTVVA/kP67es8VUAgQfFjzDlVQB3J5T+kg1VAGeJYF7ftVUAkufyH9CdWQEku/yH9qlZA1XjpJjFIVkAqqRPQRGRWQLMMcayL01ZAO3DOiNJCV0CeXinLEPtWQELPZtXnKldAjSjtDb5AV0CNKO0NvkBXQI0o7Q2+QFdAg1FJnYA6V0BTliGOdW1XQCo6kst/iFdAveMUHclBV0B4eqUsQ2hXQJf/kH77EldAJsKGp1c2V0B1ApoIG+JWQKwcWmQ7Y1ZAnl4pyxDHVkD+1HjpJpVWQOJYF7fRkFdA4lgXt9GQV0A0ETY8vfZXQKFns+pzCVhASL99HTjPV0BxGw3gLUxXQAskKH6M7VZACyQofoztVkC94xQdyQ1XQHKKjuTyW1ZAQs9m1efCVkAjSnuDL+RWQHzysFBrUldAodY07zgZV0D67evAOctWQOY/pN++vlZA/mX35GEdV0CNKO0NvgxXQFZ9rrZiA1dAfPKwUGtSV0BxGw3gLbRXQFYOLbKdi1dAGsBbIEHFV0Cn6Egu/3FXQGQ730+NK1dAVg4tsp2LV0BTliGOdWlXQF5LyAc951ZACfmgZ7PeVkA6kst/SCdXQB3J5T+kq1dA4JwRpb19V0CC4seYuw5XQJeQD3o2x1ZAmpmZmZmtVkBtxf6yeypXQN0kBoGVW1dAguLHmLsOV0BdbcX+sn9WQI0o7Q2+YFZAwOyePCwoVkCoV8oyxCFWQCfChqdXWlZA8rBQa5p7V0ACmggbnupXQGiR7Xw/tVdACKwcWmTHV0Dl8h/SbwdYQC0hH/Rs2lZA63O1FfuTVkA=\",\"dtype\":\"float64\",\"shape\":[100]},\"y\":{\"__ndarray__\":\"GRku3ZHuuECk6M5kAyG5QMyij05lUrlAjOhPQ/ZyuUCmXX/5pYG5QGoHynfRvLlA1I9MiPTSuUDy9MbI/sy5QA5+eJoA4blAJ98lNV7quUDV6S6kpsC5QNINZjWe2rlAILNUWA3vuUCuSjwzNQK6QGoHynfRvLlAfgrIUNDnuUCXa3XrLfG5QO2WFweg7rlAmu1bPoTpuUDxzMKRWsK5QOjsLH2l67lAnvEo5DDauUDWt1C/mN25QOiSSmHz/blAeAb7qiP3uUC3+PNi3PW5QFIbzXEWFLpAwPNX8IE/ukBIX27uWFe6QF2KcP77jLpA81vQCYtkukCCdZ43CXC6QEBN+vSVnbpA/iRWsiLLukDJOvdFw626QIruG3JYwbpAcDOMu0jKukBwM4y7SMq6QHAzjLtIyrpAxl4u17rHukBv2amflty6QKQd6yeo57pApE/JDLbKukD4IIkMdtq6QD1xMYaNt7pAqnua6QbGukAi6H+0i6O6QCigEZKcb7pA7KM+LHqYukB3RQC1C4S6QNzjEgMQ67pA3OMSAxDrukAIILo/yBS7QCxXI0FxHLtAfjK97poEu0CQwAoz9866QBu8rtc6qLpAG7yu1zqoukDGuBDzbLW6QEuvdlyhbLpA0MCqPsaWukCw2UmrZaS6QDqVaBeF0bpA5kWPahu6ukAIh9IZLpq6QLXdFlESlbpAAykjWM+7ukCTnNOh/7S6QAABHyErsbpAOpVoF4XRukBJ7ntmifm6QIzkQcTu6LpAYEyet4YAu0CREN4ect66QCzipy6cwbpAjORBxO7oukCG4Ux289q6QB7cvZKlpbpAEq0s6iaiukCmSl/a3L+6QD6/6r0K9rpAZOZpx0DjukBCrvk00LW6QG0BFZmJmLpASnRhnw2OukCUqqkuLMG6QFzjdHlF1bpAQq75NNC1ukBwm+CoQ3u6QFf4Na+XbrpAG8jXu29XukBmwZJn0FS6QHs4oQb5a7pANHdtx2DiukAu9o0F0g+7QOAlemb5+bpAkLuat2YBu0AYKjz/nRu7QLPOM+pmoLpATqD9+ZCDukA=\",\"dtype\":\"float64\",\"shape\":[100]}},\"selected\":{\"id\":\"2865\",\"type\":\"Selection\"},\"selection_policy\":{\"id\":\"2864\",\"type\":\"UnionRenderers\"}},\"id\":\"2749\",\"type\":\"ColumnDataSource\"},{\"attributes\":{},\"id\":\"2732\",\"type\":\"WheelZoomTool\"},{\"attributes\":{\"fill_color\":{\"value\":\"#1f77b4\"},\"line_color\":{\"value\":\"#1f77b4\"},\"size\":{\"units\":\"screen\",\"value\":10},\"x\":{\"field\":\"x\"},\"y\":{\"field\":\"y\"}},\"id\":\"2745\",\"type\":\"Scatter\"},{\"attributes\":{\"line_color\":\"red\",\"x\":{\"field\":\"x\"},\"y\":{\"field\":\"y\"}},\"id\":\"2750\",\"type\":\"Line\"},{\"attributes\":{\"fill_alpha\":{\"value\":0.1},\"fill_color\":{\"value\":\"#1f77b4\"},\"line_alpha\":{\"value\":0.1},\"line_color\":{\"value\":\"#1f77b4\"},\"size\":{\"units\":\"screen\",\"value\":10},\"x\":{\"field\":\"x\"},\"y\":{\"field\":\"y\"}},\"id\":\"2746\",\"type\":\"Scatter\"}],\"root_ids\":[\"2758\"]},\"title\":\"Bokeh Application\",\"version\":\"1.2.0\"}};\n",
       "  var render_items = [{\"docid\":\"579f2b47-8051-48c2-b442-854099c2eb07\",\"roots\":{\"2758\":\"3661a970-eaf3-4a3e-9ca6-1d7a4984bf83\"}}];\n",
       "  root.Bokeh.embed.embed_items_notebook(docs_json, render_items);\n",
       "\n",
       "  }\n",
       "  if (root.Bokeh !== undefined) {\n",
       "    embed_document(root);\n",
       "  } else {\n",
       "    var attempts = 0;\n",
       "    var timer = setInterval(function(root) {\n",
       "      if (root.Bokeh !== undefined) {\n",
       "        clearInterval(timer);\n",
       "        embed_document(root);\n",
       "      } else {\n",
       "        attempts++;\n",
       "        if (attempts > 100) {\n",
       "          clearInterval(timer);\n",
       "          console.log(\"Bokeh: ERROR: Unable to run BokehJS code because BokehJS library is missing\");\n",
       "        }\n",
       "      }\n",
       "    }, 10, root)\n",
       "  }\n",
       "})(window);"
      ],
      "application/vnd.bokehjs_exec.v0+json": ""
     },
     "metadata": {
      "application/vnd.bokehjs_exec.v0+json": {
       "id": "2758"
      }
     },
     "output_type": "display_data"
    }
   ],
   "source": [
    "#regression\n",
    "import ipywidgets\n",
    "from sklearn import linear_model\n",
    "from bokeh.layouts import layout\n",
    "from bokeh.models import Toggle\n",
    "import numpy as np\n",
    "\n",
    "# data\n",
    "\n",
    "data_stocks = pd.read_excel('data_1.xlsx').tail(100)\n",
    "sx5e = data_stocks[list(data_stocks)[1]]\n",
    "bnp = data_stocks[list(data_stocks)[12]]\n",
    "\n",
    "\n",
    "x = bnp\n",
    "X = np.array(x).reshape(-1, 1)\n",
    "y = sx5e\n",
    "Y = np.array(y).reshape(-1, 1)\n",
    "\n",
    "# linear regression object\n",
    "regr = linear_model.LinearRegression()\n",
    "\n",
    "# fit linear model\n",
    "regr.fit(X, Y)\n",
    "\n",
    "# make predictions\n",
    "pred = regr.predict(X)\n",
    "\n",
    "# plot with regression line\n",
    "regr_plot = figure(plot_width=500, plot_height=300)\n",
    "regr_plot.scatter(x, y, size=10)\n",
    "regr_line = regr_plot.line(x, pred.flatten(), line_color='red')\n",
    "\n",
    "toggle_button = Toggle(label='line of best fit', button_type='success', active=True)\n",
    "toggle_button.js_link('active', regr_line, 'visible')\n",
    "\n",
    "show(layout([regr_plot], [toggle_button]))\n",
    "\n"
   ]
  },
  {
   "cell_type": "code",
   "execution_count": 37,
   "metadata": {},
   "outputs": [
    {
     "data": {
      "text/html": [
       "\n",
       "\n",
       "\n",
       "\n",
       "\n",
       "\n",
       "  <div class=\"bk-root\" id=\"3f106ef0-c83b-4f0a-ba2d-4ea421501f4d\" data-root-id=\"2933\"></div>\n"
      ]
     },
     "metadata": {},
     "output_type": "display_data"
    },
    {
     "data": {
      "application/javascript": [
       "(function(root) {\n",
       "  function embed_document(root) {\n",
       "    \n",
       "  var docs_json = {\"93883f0b-9042-4260-a9a5-5a068d829492\":{\"roots\":{\"references\":[{\"attributes\":{\"below\":[{\"id\":\"2944\",\"type\":\"DatetimeAxis\"}],\"center\":[{\"id\":\"2948\",\"type\":\"Grid\"},{\"id\":\"2953\",\"type\":\"Grid\"}],\"left\":[{\"id\":\"2949\",\"type\":\"LinearAxis\"}],\"plot_height\":250,\"plot_width\":800,\"renderers\":[{\"id\":\"2970\",\"type\":\"GlyphRenderer\"}],\"title\":{\"id\":\"2934\",\"type\":\"Title\"},\"toolbar\":{\"id\":\"2960\",\"type\":\"Toolbar\"},\"x_range\":{\"id\":\"2936\",\"type\":\"DataRange1d\"},\"x_scale\":{\"id\":\"2940\",\"type\":\"LinearScale\"},\"y_range\":{\"id\":\"2938\",\"type\":\"DataRange1d\"},\"y_scale\":{\"id\":\"2942\",\"type\":\"LinearScale\"}},\"id\":\"2933\",\"subtype\":\"Figure\",\"type\":\"Plot\"},{\"attributes\":{},\"id\":\"2950\",\"type\":\"BasicTicker\"},{\"attributes\":{},\"id\":\"3086\",\"type\":\"Selection\"},{\"attributes\":{\"mantissas\":[1,2,5],\"max_interval\":500.0,\"num_minor_ticks\":0},\"id\":\"3087\",\"type\":\"AdaptiveTicker\"},{\"attributes\":{\"line_alpha\":0.1,\"line_color\":\"#1f77b4\",\"x\":{\"field\":\"x\"},\"y\":{\"field\":\"y\"}},\"id\":\"2969\",\"type\":\"Line\"},{\"attributes\":{},\"id\":\"2954\",\"type\":\"PanTool\"},{\"attributes\":{\"base\":60,\"mantissas\":[1,2,5,10,15,20,30],\"max_interval\":1800000.0,\"min_interval\":1000.0,\"num_minor_ticks\":0},\"id\":\"3088\",\"type\":\"AdaptiveTicker\"},{\"attributes\":{},\"id\":\"2955\",\"type\":\"WheelZoomTool\"},{\"attributes\":{\"text\":\"Apple and Google Stock Prices\"},\"id\":\"2934\",\"type\":\"Title\"},{\"attributes\":{\"base\":24,\"mantissas\":[1,2,4,6,8,12],\"max_interval\":43200000.0,\"min_interval\":3600000.0,\"num_minor_ticks\":0},\"id\":\"3089\",\"type\":\"AdaptiveTicker\"},{\"attributes\":{\"overlay\":{\"id\":\"3099\",\"type\":\"BoxAnnotation\"}},\"id\":\"2956\",\"type\":\"BoxZoomTool\"},{\"attributes\":{\"callback\":null},\"id\":\"2936\",\"type\":\"DataRange1d\"},{\"attributes\":{\"days\":[1,2,3,4,5,6,7,8,9,10,11,12,13,14,15,16,17,18,19,20,21,22,23,24,25,26,27,28,29,30,31]},\"id\":\"3090\",\"type\":\"DaysTicker\"},{\"attributes\":{},\"id\":\"2957\",\"type\":\"SaveTool\"},{\"attributes\":{\"days\":[1,4,7,10,13,16,19,22,25,28]},\"id\":\"3091\",\"type\":\"DaysTicker\"},{\"attributes\":{},\"id\":\"3085\",\"type\":\"UnionRenderers\"},{\"attributes\":{},\"id\":\"2958\",\"type\":\"ResetTool\"},{\"attributes\":{\"dimension\":1,\"ticker\":{\"id\":\"2950\",\"type\":\"BasicTicker\"}},\"id\":\"2953\",\"type\":\"Grid\"},{\"attributes\":{\"days\":[1,8,15,22]},\"id\":\"3092\",\"type\":\"DaysTicker\"},{\"attributes\":{\"formatter\":{\"id\":\"3082\",\"type\":\"BasicTickFormatter\"},\"ticker\":{\"id\":\"2950\",\"type\":\"BasicTicker\"}},\"id\":\"2949\",\"type\":\"LinearAxis\"},{\"attributes\":{},\"id\":\"2959\",\"type\":\"HelpTool\"},{\"attributes\":{\"days\":[1,15]},\"id\":\"3093\",\"type\":\"DaysTicker\"},{\"attributes\":{\"active_drag\":\"auto\",\"active_inspect\":\"auto\",\"active_multi\":null,\"active_scroll\":\"auto\",\"active_tap\":\"auto\",\"tools\":[{\"id\":\"2954\",\"type\":\"PanTool\"},{\"id\":\"2955\",\"type\":\"WheelZoomTool\"},{\"id\":\"2956\",\"type\":\"BoxZoomTool\"},{\"id\":\"2957\",\"type\":\"SaveTool\"},{\"id\":\"2958\",\"type\":\"ResetTool\"},{\"id\":\"2959\",\"type\":\"HelpTool\"}]},\"id\":\"2960\",\"type\":\"Toolbar\"},{\"attributes\":{\"months\":[0,1,2,3,4,5,6,7,8,9,10,11]},\"id\":\"3094\",\"type\":\"MonthsTicker\"},{\"attributes\":{\"months\":[0,2,4,6,8,10]},\"id\":\"3095\",\"type\":\"MonthsTicker\"},{\"attributes\":{\"months\":[0,4,8]},\"id\":\"3096\",\"type\":\"MonthsTicker\"},{\"attributes\":{\"ticker\":{\"id\":\"2945\",\"type\":\"DatetimeTicker\"}},\"id\":\"2948\",\"type\":\"Grid\"},{\"attributes\":{\"data_source\":{\"id\":\"2967\",\"type\":\"ColumnDataSource\"},\"glyph\":{\"id\":\"2968\",\"type\":\"Line\"},\"hover_glyph\":null,\"muted_glyph\":null,\"nonselection_glyph\":{\"id\":\"2969\",\"type\":\"Line\"},\"selection_glyph\":null,\"view\":{\"id\":\"2971\",\"type\":\"CDSView\"}},\"id\":\"2970\",\"type\":\"GlyphRenderer\"},{\"attributes\":{\"months\":[0,6]},\"id\":\"3097\",\"type\":\"MonthsTicker\"},{\"attributes\":{\"source\":{\"id\":\"2967\",\"type\":\"ColumnDataSource\"}},\"id\":\"2971\",\"type\":\"CDSView\"},{\"attributes\":{\"callback\":null,\"data\":{\"x\":{\"__ndarray__\":\"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\",\"dtype\":\"float64\",\"shape\":[2000]},\"y\":{\"__ndarray__\":\"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\",\"dtype\":\"float64\",\"shape\":[2000]}},\"selected\":{\"id\":\"3086\",\"type\":\"Selection\"},\"selection_policy\":{\"id\":\"3085\",\"type\":\"UnionRenderers\"}},\"id\":\"2967\",\"type\":\"ColumnDataSource\"},{\"attributes\":{},\"id\":\"3098\",\"type\":\"YearsTicker\"},{\"attributes\":{},\"id\":\"2940\",\"type\":\"LinearScale\"},{\"attributes\":{\"num_minor_ticks\":5,\"tickers\":[{\"id\":\"3087\",\"type\":\"AdaptiveTicker\"},{\"id\":\"3088\",\"type\":\"AdaptiveTicker\"},{\"id\":\"3089\",\"type\":\"AdaptiveTicker\"},{\"id\":\"3090\",\"type\":\"DaysTicker\"},{\"id\":\"3091\",\"type\":\"DaysTicker\"},{\"id\":\"3092\",\"type\":\"DaysTicker\"},{\"id\":\"3093\",\"type\":\"DaysTicker\"},{\"id\":\"3094\",\"type\":\"MonthsTicker\"},{\"id\":\"3095\",\"type\":\"MonthsTicker\"},{\"id\":\"3096\",\"type\":\"MonthsTicker\"},{\"id\":\"3097\",\"type\":\"MonthsTicker\"},{\"id\":\"3098\",\"type\":\"YearsTicker\"}]},\"id\":\"2945\",\"type\":\"DatetimeTicker\"},{\"attributes\":{},\"id\":\"3082\",\"type\":\"BasicTickFormatter\"},{\"attributes\":{\"bottom_units\":\"screen\",\"fill_alpha\":{\"value\":0.5},\"fill_color\":{\"value\":\"lightgrey\"},\"left_units\":\"screen\",\"level\":\"overlay\",\"line_alpha\":{\"value\":1.0},\"line_color\":{\"value\":\"black\"},\"line_dash\":[4,4],\"line_width\":{\"value\":2},\"render_mode\":\"css\",\"right_units\":\"screen\",\"top_units\":\"screen\"},\"id\":\"3099\",\"type\":\"BoxAnnotation\"},{\"attributes\":{},\"id\":\"2942\",\"type\":\"LinearScale\"},{\"attributes\":{\"formatter\":{\"id\":\"3084\",\"type\":\"DatetimeTickFormatter\"},\"ticker\":{\"id\":\"2945\",\"type\":\"DatetimeTicker\"}},\"id\":\"2944\",\"type\":\"DatetimeAxis\"},{\"attributes\":{},\"id\":\"3084\",\"type\":\"DatetimeTickFormatter\"},{\"attributes\":{\"line_alpha\":0.5,\"line_color\":\"green\",\"x\":{\"field\":\"x\"},\"y\":{\"field\":\"y\"}},\"id\":\"2968\",\"type\":\"Line\"},{\"attributes\":{\"callback\":null},\"id\":\"2938\",\"type\":\"DataRange1d\"}],\"root_ids\":[\"2933\"]},\"title\":\"Bokeh Application\",\"version\":\"1.2.0\"}};\n",
       "  var render_items = [{\"docid\":\"93883f0b-9042-4260-a9a5-5a068d829492\",\"notebook_comms_target\":\"3100\",\"roots\":{\"2933\":\"3f106ef0-c83b-4f0a-ba2d-4ea421501f4d\"}}];\n",
       "  root.Bokeh.embed.embed_items_notebook(docs_json, render_items);\n",
       "\n",
       "  }\n",
       "  if (root.Bokeh !== undefined) {\n",
       "    embed_document(root);\n",
       "  } else {\n",
       "    var attempts = 0;\n",
       "    var timer = setInterval(function(root) {\n",
       "      if (root.Bokeh !== undefined) {\n",
       "        clearInterval(timer);\n",
       "        embed_document(root);\n",
       "      } else {\n",
       "        attempts++;\n",
       "        if (attempts > 100) {\n",
       "          clearInterval(timer);\n",
       "          console.log(\"Bokeh: ERROR: Unable to run BokehJS code because BokehJS library is missing\");\n",
       "        }\n",
       "      }\n",
       "    }, 10, root)\n",
       "  }\n",
       "})(window);"
      ],
      "application/vnd.bokehjs_exec.v0+json": ""
     },
     "metadata": {
      "application/vnd.bokehjs_exec.v0+json": {
       "id": "2933"
      }
     },
     "output_type": "display_data"
    },
    {
     "data": {
      "application/vnd.jupyter.widget-view+json": {
       "model_id": "89d5076edc434bc9abb798e023d89102",
       "version_major": 2,
       "version_minor": 0
      },
      "text/plain": [
       "interactive(children=(Dropdown(description='Compagnies:', options=('GOOG', 'AAPL'), value='GOOG'), Output()), …"
      ]
     },
     "metadata": {},
     "output_type": "display_data"
    },
    {
     "data": {
      "text/plain": [
       "<function __main__.stock_price(stock)>"
      ]
     },
     "execution_count": 37,
     "metadata": {},
     "output_type": "execute_result"
    }
   ],
   "source": [
    "import ipywidgets\n",
    "from bokeh.io import push_notebook\n",
    "from bokeh.models import Range1d\n",
    "from bokeh.sampledata.stocks import AAPL, GOOG, MSFT\n",
    "\n",
    "\n",
    "\n",
    "# widget\n",
    "drop_down = ipywidgets.Dropdown(options=[ 'GOOG', 'AAPL'],\n",
    "                                description='Compagnies:',\n",
    "                                disabled=False)\n",
    "\n",
    "# data\n",
    "\n",
    "df_aapl = pd.DataFrame(AAPL).tail(2000)\n",
    "df_goog = pd.DataFrame(GOOG).tail(2000)\n",
    "\n",
    "\n",
    "# create a new plot with a datetime axis type\n",
    "df_aapl['date'] = pd.to_datetime(df_aapl['date'])\n",
    "plot_stock = figure(plot_width=800, plot_height=250, x_axis_type=\"datetime\", title = 'Apple and Google Stock Prices')\n",
    "plot_ipw = plot_stock.line(x = df_aapl['date'], y = df_aapl['close'], color='green', alpha=0.5)\n",
    "\n",
    "\n",
    "# function\n",
    "\n",
    "def stock_price(stock):\n",
    "    if stock == 'AAPL':\n",
    "        plot_ipw.data_source.data['y'] = df_aapl['close']\n",
    "    \n",
    "    \n",
    "    elif stock == 'GOOG':\n",
    "        plot_ipw.data_source.data['y'] = df_goog['close']\n",
    "        \n",
    "        \n",
    "    push_notebook()\n",
    "\n",
    "show(plot_stock, notebook_handle=True)\n",
    "        \n",
    "# interaction\n",
    "ipywidgets.interact(stock_price, stock=drop_down)"
   ]
  },
  {
   "cell_type": "markdown",
   "metadata": {},
   "source": [
    "# Maps visualization"
   ]
  },
  {
   "cell_type": "code",
   "execution_count": 38,
   "metadata": {},
   "outputs": [
    {
     "ename": "ModuleNotFoundError",
     "evalue": "No module named 'pyproj'",
     "output_type": "error",
     "traceback": [
      "\u001b[1;31m---------------------------------------------------------------------------\u001b[0m",
      "\u001b[1;31mModuleNotFoundError\u001b[0m                       Traceback (most recent call last)",
      "\u001b[1;32m<ipython-input-38-02657c6a675c>\u001b[0m in \u001b[0;36m<module>\u001b[1;34m\u001b[0m\n\u001b[0;32m      2\u001b[0m \u001b[1;31m# example - Detroit Michigan 42.334197, -83.047752\u001b[0m\u001b[1;33m\u001b[0m\u001b[1;33m\u001b[0m\u001b[1;33m\u001b[0m\u001b[0m\n\u001b[0;32m      3\u001b[0m \u001b[1;33m\u001b[0m\u001b[0m\n\u001b[1;32m----> 4\u001b[1;33m \u001b[1;32mfrom\u001b[0m \u001b[0mpyproj\u001b[0m \u001b[1;32mimport\u001b[0m \u001b[0mProj\u001b[0m\u001b[1;33m,\u001b[0m \u001b[0mtransform\u001b[0m\u001b[1;33m\u001b[0m\u001b[1;33m\u001b[0m\u001b[0m\n\u001b[0m\u001b[0;32m      5\u001b[0m \u001b[1;33m\u001b[0m\u001b[0m\n\u001b[0;32m      6\u001b[0m \u001b[1;32mdef\u001b[0m \u001b[0mcreate_coordinates\u001b[0m\u001b[1;33m(\u001b[0m\u001b[0mlong_arg\u001b[0m\u001b[1;33m,\u001b[0m\u001b[0mlat_arg\u001b[0m\u001b[1;33m)\u001b[0m\u001b[1;33m:\u001b[0m\u001b[1;33m\u001b[0m\u001b[1;33m\u001b[0m\u001b[0m\n",
      "\u001b[1;31mModuleNotFoundError\u001b[0m: No module named 'pyproj'"
     ]
    }
   ],
   "source": [
    "# convert longitude, latitude to mercator coordinates\n",
    "# example - Detroit Michigan 42.334197, -83.047752\n",
    "\n",
    "from pyproj import Proj, transform\n",
    "\n",
    "def create_coordinates(long_arg,lat_arg):\n",
    "    in_wgs = Proj(init='epsg:4326')\n",
    "    out_mercator = Proj(init='epsg:3857')\n",
    "    long, lat = long_arg, lat_arg\n",
    "    mercator_x, mercator_y = transform(in_wgs, out_mercator, long, lat)\n",
    "    print(mercator_x, mercator_y)\n",
    "    \n",
    "# # Detroit\n",
    "# create_coordinates(-83.047752,42.334197)\n",
    "# # Cleveland\n",
    "# create_coordinates(-81.694703,41.499437)\n",
    "# # Chicago \n",
    "# create_coordinates(-87.629849,41.878111)\n",
    "# #Paris\n",
    "# create_coordinates(48.8534, 2.3488)\n",
    "# #London\n",
    "# create_coordinates(51.5073509, -0.1277583)\n",
    "\n",
    "from bokeh.tile_providers import get_provider, Vendors\n",
    "\n",
    "tile_provider = get_provider(Vendors.CARTODBPOSITRON)\n",
    "# tile_provider = get_provider(Vendors.STAMEN_TONER_BACKGROUND)\n",
    "\n",
    "# range bounds supplied in web mercator coordinates\n",
    "m = figure(plot_width=800, \n",
    "           plot_height=400,\n",
    "           x_range=(-12000000, 9000000), \n",
    "           y_range=(-1000000, 7000000), \n",
    "           x_axis_type='mercator', \n",
    "           y_axis_type='mercator')\n",
    "\n",
    "m.add_tile(tile_provider)\n",
    "\n",
    "m.circle(x=-9244833, y=5211172, size=10, color='red')\n",
    "m.circle(x=-9094212, y=5086289, size=10, color='blue')\n",
    "m.circle(x=-9754910, y=5142738, size=10, color='orange')\n",
    "m.circle(x=261540, y=6249735, size=10, color='green')\n",
    "m.circle(x=-14222, y=6706672, size=10, color='black')\n",
    "\n",
    "show(m)"
   ]
  },
  {
   "cell_type": "code",
   "execution_count": null,
   "metadata": {},
   "outputs": [],
   "source": []
  }
 ],
 "metadata": {
  "kernelspec": {
   "display_name": "Python 3",
   "language": "python",
   "name": "python3"
  },
  "language_info": {
   "codemirror_mode": {
    "name": "ipython",
    "version": 3
   },
   "file_extension": ".py",
   "mimetype": "text/x-python",
   "name": "python",
   "nbconvert_exporter": "python",
   "pygments_lexer": "ipython3",
   "version": "3.7.3"
  }
 },
 "nbformat": 4,
 "nbformat_minor": 2
}
