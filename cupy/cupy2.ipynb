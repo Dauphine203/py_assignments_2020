{
 "cells": [
  {
   "cell_type": "code",
   "execution_count": 1,
   "metadata": {},
   "outputs": [],
   "source": [
    "import time\n",
    "import numpy as np\n",
    "import pandas as pd\n",
    "import matplotlib.pyplot as plt\n",
    "import cupy as cp"
   ]
  },
  {
   "cell_type": "markdown",
   "metadata": {},
   "source": [
    "## We start by defining the parameters for our test"
   ]
  },
  {
   "cell_type": "markdown",
   "metadata": {},
   "source": [
    "Our comparaisons here are based on the average time to complete a task on a given number of simulation\n",
    "Simul corresponds to the number of simulation we will compute\n",
    "\n",
    "Most of our tests are based on creating or filling/modifying arrays of 10^i size. We work on these arrays using \"for loops\" in order to increase again the number of data processed\n",
    "Start_task here corresponds to the smallest array of size 10^(start_task) we will start filling\n",
    "End_task here corresponds to the biggest array of size 10^(end_task) we will start filling\n",
    "We created 5 different examples here. The value of example can be modified from 1 to 5 (int) in order to choose the test performed"
   ]
  },
  {
   "cell_type": "code",
   "execution_count": 13,
   "metadata": {},
   "outputs": [],
   "source": [
    "simul = 30\n",
    "start_task = 2\n",
    "end_task = 7\n",
    "tasks = end_task-start_task+1\n",
    "table_index = [10**i for i in range(start_task,end_task+1)]\n",
    "\n",
    "example = 5"
   ]
  },
  {
   "cell_type": "markdown",
   "metadata": {},
   "source": [
    "We create the matrices that we will compute tests on as well as the ones where we will store our times calculations"
   ]
  },
  {
   "cell_type": "code",
   "execution_count": 14,
   "metadata": {},
   "outputs": [],
   "source": [
    "avg_timesN = np.zeros(tasks)\n",
    "avg_timesC = np.zeros(tasks)\n",
    "\n",
    "AN=[]\n",
    "ANprime=[]\n",
    "\n",
    "AC=[]\n",
    "ACprime=[]"
   ]
  },
  {
   "cell_type": "markdown",
   "metadata": {},
   "source": [
    "We start by asking python to compute different tasks (among 5 options) on a high number of simulation\n",
    "We store the time used to compute these tasks and then compute the average "
   ]
  },
  {
   "cell_type": "code",
   "execution_count": 15,
   "metadata": {},
   "outputs": [
    {
     "name": "stdout",
     "output_type": "stream",
     "text": [
      "Wall time: 29.7 s\n"
     ]
    },
    {
     "data": {
      "text/plain": [
       "array([1.32918358e-04, 6.64790471e-05, 6.33136431e-04, 6.11550808e-03,\n",
       "       7.21299807e-02, 9.09312693e-01])"
      ]
     },
     "execution_count": 15,
     "metadata": {},
     "output_type": "execute_result"
    }
   ],
   "source": [
    "%%time\n",
    "simul = 30\n",
    "for i in range (start_task,end_task+1):\n",
    "    \n",
    "    timesN = np.zeros(simul)\n",
    "    \n",
    "    for y in range(simul):\n",
    "        AC = 0\n",
    "        start_time = time.time()\n",
    "        \n",
    "        if example == 1:\n",
    "            AN = np.arange(10**i)\n",
    "            legend = \"Creation of a list of variables from 1 to...\"\n",
    "            \n",
    "        elif example ==2:  \n",
    "            AN = np.random.rand(10**i) \n",
    "            legend = \"Size of a list of random variables\"\n",
    "            \n",
    "        elif example ==3:\n",
    "            AN = np.random.rand(10**i)\n",
    "            ANprime = np.transpose(AN)\n",
    "            legend = \"Size of a transposed list of random variables\"\n",
    "            \n",
    "        elif example ==4:\n",
    "            AN=np.zeros(10**i)\n",
    "            AN[i] = AN[i-1]*np.random.rand()\n",
    "            legend = \"Size of a list of random variables created by iteration\"\n",
    "            \n",
    "        elif example ==5:\n",
    "            AN=np.random. randint(10**i, size=(10**i))\n",
    "            ANprime = np.unique(AN)\n",
    "            legend = \"Size of the range with random variables between 1 and the size of the range from which we pick only unque values\"\n",
    "      \n",
    "        timesN[y]=(time.time() - start_time)\n",
    "        \n",
    "    avg_timesN[i-start_task]=np.sum(timesN) / simul\n",
    "avg_timesN\n",
    "\n",
    "#time.time()"
   ]
  },
  {
   "cell_type": "markdown",
   "metadata": {},
   "source": [
    "We then ask cupy to compute the same tasks on the same number of simulation\n",
    "Again we store the time used to compute these tasks and then compute the average "
   ]
  },
  {
   "cell_type": "code",
   "execution_count": 16,
   "metadata": {},
   "outputs": [
    {
     "name": "stdout",
     "output_type": "stream",
     "text": [
      "Wall time: 1.87 s\n"
     ]
    },
    {
     "data": {
      "text/plain": [
       "array([0.00804672, 0.00206186, 0.00202795, 0.00149595, 0.0062167 ,\n",
       "       0.04241023])"
      ]
     },
     "execution_count": 16,
     "metadata": {},
     "output_type": "execute_result"
    }
   ],
   "source": [
    "%%time\n",
    "t1 = time.time()\n",
    "simul = 30\n",
    "\n",
    "for i in range (start_task, end_task+1):\n",
    "        \n",
    "    timesC = cp.zeros(simul)\n",
    "    \n",
    "    for y in range(simul):\n",
    "        AC = 0\n",
    "        start_time = time.time()\n",
    "        \n",
    "        if example == 1:\n",
    "            AC = cp.arange(10**i)\n",
    "            \n",
    "        elif example ==2:  \n",
    "            AC = cp.random.rand(10**i) \n",
    "            \n",
    "        elif example ==3:\n",
    "            AC = cp.random.rand(10**i)\n",
    "            ACprime = cp.transpose(AC)\n",
    "            \n",
    "        elif example ==4:\n",
    "            AC=cp.zeros(10**i)\n",
    "            AC[i] = AC[i-1]*cp.random.rand()\n",
    "            \n",
    "        elif example ==5:\n",
    "            AC=cp.random. randint(10**i, size=(10**i))\n",
    "            ACprime = cp.unique(AC)\n",
    "        cp.cuda.Stream.null.synchronize() \n",
    "        \n",
    "        timesC[y]=(time.time() - start_time)\n",
    "    avg_timesC[i-start_task]=cp.sum(timesC) / simul\n",
    "avg_timesC"
   ]
  },
  {
   "cell_type": "markdown",
   "metadata": {},
   "source": [
    "We compute the difference in average time between cupy and numpy "
   ]
  },
  {
   "cell_type": "code",
   "execution_count": 17,
   "metadata": {},
   "outputs": [],
   "source": [
    "avg_dif = np.zeros(tasks)\n",
    "\n",
    "for i in range(tasks):\n",
    "    avg_dif[i]=avg_timesN[i]/avg_timesC[i]"
   ]
  },
  {
   "cell_type": "markdown",
   "metadata": {},
   "source": [
    "We create a dataframe with the result of the above experience"
   ]
  },
  {
   "cell_type": "code",
   "execution_count": 18,
   "metadata": {},
   "outputs": [
    {
     "data": {
      "text/html": [
       "<div>\n",
       "<style scoped>\n",
       "    .dataframe tbody tr th:only-of-type {\n",
       "        vertical-align: middle;\n",
       "    }\n",
       "\n",
       "    .dataframe tbody tr th {\n",
       "        vertical-align: top;\n",
       "    }\n",
       "\n",
       "    .dataframe thead th {\n",
       "        text-align: right;\n",
       "    }\n",
       "</style>\n",
       "<table border=\"1\" class=\"dataframe\">\n",
       "  <thead>\n",
       "    <tr style=\"text-align: right;\">\n",
       "      <th></th>\n",
       "      <th>Speedup Cupy to Python</th>\n",
       "    </tr>\n",
       "    <tr>\n",
       "      <th>Size of the range with random variables between 1 and the size of the range from which we pick only unque values</th>\n",
       "      <th></th>\n",
       "    </tr>\n",
       "  </thead>\n",
       "  <tbody>\n",
       "    <tr>\n",
       "      <th>100</th>\n",
       "      <td>0.016518</td>\n",
       "    </tr>\n",
       "    <tr>\n",
       "      <th>1000</th>\n",
       "      <td>0.032242</td>\n",
       "    </tr>\n",
       "    <tr>\n",
       "      <th>10000</th>\n",
       "      <td>0.312205</td>\n",
       "    </tr>\n",
       "    <tr>\n",
       "      <th>100000</th>\n",
       "      <td>4.088045</td>\n",
       "    </tr>\n",
       "    <tr>\n",
       "      <th>1000000</th>\n",
       "      <td>11.602614</td>\n",
       "    </tr>\n",
       "    <tr>\n",
       "      <th>10000000</th>\n",
       "      <td>21.440881</td>\n",
       "    </tr>\n",
       "  </tbody>\n",
       "</table>\n",
       "</div>"
      ],
      "text/plain": [
       "                                                    Speedup Cupy to Python\n",
       "Size of the range with random variables between...                        \n",
       "100                                                               0.016518\n",
       "1000                                                              0.032242\n",
       "10000                                                             0.312205\n",
       "100000                                                            4.088045\n",
       "1000000                                                          11.602614\n",
       "10000000                                                         21.440881"
      ]
     },
     "execution_count": 18,
     "metadata": {},
     "output_type": "execute_result"
    }
   ],
   "source": [
    "results = {legend: table_index, 'Speedup Cupy to Python': avg_dif}\n",
    "resultdf = pd.DataFrame(data=results)\n",
    "resultdf=resultdf.set_index([legend])\n",
    "resultdf\n"
   ]
  },
  {
   "cell_type": "code",
   "execution_count": 20,
   "metadata": {},
   "outputs": [
    {
     "data": {
      "text/plain": [
       "Text(0, 0.5, 'Time in seconds')"
      ]
     },
     "execution_count": 20,
     "metadata": {},
     "output_type": "execute_result"
    },
    {
     "data": {
      "image/png": "[encoded data removed]",
      "text/plain": [
       "<Figure size 720x360 with 1 Axes>"
      ]
     },
     "metadata": {
      "needs_background": "light"
     },
     "output_type": "display_data"
    }
   ],
   "source": [
    "plt.figure(figsize=(10,5))\n",
    "plt.plot(np.log(table_index) / np.log(10), np.log(avg_timesN) / np.log(10), c='r')\n",
    "plt.plot(np.log(table_index) / np.log(10), np.log(avg_timesC) / np.log(10), c='b')\n",
    "plt.xlabel(\"Log Transformation of \"+ legend, fontsize=18)\n",
    "plt.ylabel(\"Time in seconds\", fontsize=18)"
   ]
  },
  {
   "cell_type": "code",
   "execution_count": 19,
   "metadata": {},
   "outputs": [
    {
     "data": {
      "text/plain": [
       "Text(0, 0.5, 'Time in seconds')"
      ]
     },
     "execution_count": 19,
     "metadata": {},
     "output_type": "execute_result"
    },
    {
     "data": {
      "image/png": "[encoded data removed]",
      "text/plain": [
       "<Figure size 720x360 with 1 Axes>"
      ]
     },
     "metadata": {
      "needs_background": "light"
     },
     "output_type": "display_data"
    }
   ],
   "source": [
    "plt.figure(figsize=(10,5))\n",
    "plt.plot(np.log(table_index) / np.log(10), (avg_timesN), c='r')\n",
    "plt.plot(np.log(table_index) / np.log(10), (avg_timesC), c='b')\n",
    "plt.xlabel(\"Log Transformation of \"+ legend, fontsize=18)\n",
    "plt.ylabel(\"Time in seconds\", fontsize=18)"
   ]
  },
  {
   "cell_type": "markdown",
   "metadata": {},
   "source": [
    "### Example of the Brute Force Optimization seen in class"
   ]
  },
  {
   "cell_type": "markdown",
   "metadata": {},
   "source": [
    "We first define the function from which we want to identify the minimum"
   ]
  },
  {
   "cell_type": "code",
   "execution_count": 21,
   "metadata": {},
   "outputs": [],
   "source": [
    "def fm1(x,y):\n",
    "    z = np.sin(x) + 1/20.0*x**2 + np.sin(y) + 1/20.0*y**2\n",
    "    return z"
   ]
  },
  {
   "cell_type": "markdown",
   "metadata": {},
   "source": [
    "Unfortunately, the optimize.brute does not exist under numpy and cupy.\n",
    "As a result, we rewrote a program for the function.\n",
    "\n",
    "We perform the identification of the minimum using numpy.\n",
    "The grid of points on which the function will be computed will have a step of 1/Size_Test"
   ]
  },
  {
   "cell_type": "code",
   "execution_count": 22,
   "metadata": {},
   "outputs": [
    {
     "name": "stdout",
     "output_type": "stream",
     "text": [
      "(array([429], dtype=int64), array([429], dtype=int64))\n",
      "Numpy completed this task in 4.13 seconds\n"
     ]
    }
   ],
   "source": [
    "Size_Test= 5 * 10**1\n",
    "\n",
    "start_time = time.time()\n",
    "\n",
    "ip= np.arange(-10,10,1/Size_Test)\n",
    "resultsp = np.zeros((len(ip),len(ip)))\n",
    "\n",
    "for a in range(len(ip)):\n",
    "    for b in range(len(ip)):\n",
    "        resultsp[a,b]=fm1(ip[a],ip[b])\n",
    "\n",
    "coordinates=np.where(resultsp==resultsp.min()) \n",
    "time_taken = (time.time() - start_time)\n",
    "\n",
    "print(coordinates)\n",
    "print (\"Numpy completed this task in\", round(time_taken, 2), \"seconds\")"
   ]
  },
  {
   "cell_type": "markdown",
   "metadata": {},
   "source": [
    "We also compute this under Cupy"
   ]
  },
  {
   "cell_type": "code",
   "execution_count": 23,
   "metadata": {},
   "outputs": [
    {
     "name": "stdout",
     "output_type": "stream",
     "text": [
      "Cupy completed this task in 126.72 seconds\n"
     ]
    }
   ],
   "source": [
    "Size_Test = 5 * 10**1\n",
    "\n",
    "start_time = time.time()\n",
    "\n",
    "ic= cp.arange(-10,10,1/Size_Test)\n",
    "resultsc = cp.zeros((len(ic),len(ic)))\n",
    "\n",
    "for a in range(len(ic)):\n",
    "    for b in range(len(ic)):\n",
    "        resultsc[a,b]=fm1(ic[a],ic[b])\n",
    "\n",
    "coordinates=cp.where(resultsc==resultsc.min()) \n",
    "time_taken = (time.time() - start_time)\n",
    "\n",
    "#print(coordinates)\n",
    "#print(time_taken)\n",
    "\n",
    "print (\"Cupy completed this task in\", round(time_taken, 2), \"seconds\")"
   ]
  }
 ],
 "metadata": {
  "kernelspec": {
   "display_name": "Python 3",
   "language": "python",
   "name": "python3"
  },
  "language_info": {
   "codemirror_mode": {
    "name": "ipython",
    "version": 3
   },
   "file_extension": ".py",
   "mimetype": "text/x-python",
   "name": "python",
   "nbconvert_exporter": "python",
   "pygments_lexer": "ipython3",
   "version": "3.8.3"
  }
 },
 "nbformat": 4,
 "nbformat_minor": 4
}
